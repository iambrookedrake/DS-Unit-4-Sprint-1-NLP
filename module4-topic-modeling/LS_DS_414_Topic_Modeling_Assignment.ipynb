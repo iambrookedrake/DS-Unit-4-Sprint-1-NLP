{
 "cells": [
  {
   "cell_type": "markdown",
   "metadata": {},
   "source": [
    "<img align=\"left\" src=\"https://lever-client-logos.s3.amazonaws.com/864372b1-534c-480e-acd5-9711f850815c-1524247202159.png\" width=200>\n",
    "<br></br>\n",
    "<br></br>\n",
    "\n",
    "# Topic Modeling\n",
    "## *Data Science Unit 4 Sprint 1 Assignment 4*\n",
    "\n",
    "Analyze a corpus of Amazon reviews from Unit 4 Sprint 1 Module 1's lecture using topic modeling: \n",
    "\n",
    "- Fit a Gensim LDA topic model on Amazon Reviews\n",
    "- Select appropriate number of topics\n",
    "- Create some dope visualization of the topics\n",
    "- Write a few bullets on your findings in markdown at the end\n",
    "- **Note**: You don't *have* to use generators for this assignment"
   ]
  },
  {
   "cell_type": "code",
   "execution_count": 3,
   "metadata": {},
   "outputs": [
    {
     "data": {
      "text/html": [
       "<div>\n",
       "<style scoped>\n",
       "    .dataframe tbody tr th:only-of-type {\n",
       "        vertical-align: middle;\n",
       "    }\n",
       "\n",
       "    .dataframe tbody tr th {\n",
       "        vertical-align: top;\n",
       "    }\n",
       "\n",
       "    .dataframe thead th {\n",
       "        text-align: right;\n",
       "    }\n",
       "</style>\n",
       "<table border=\"1\" class=\"dataframe\">\n",
       "  <thead>\n",
       "    <tr style=\"text-align: right;\">\n",
       "      <th></th>\n",
       "      <th>id</th>\n",
       "      <th>dateAdded</th>\n",
       "      <th>dateUpdated</th>\n",
       "      <th>name</th>\n",
       "      <th>asins</th>\n",
       "      <th>brand</th>\n",
       "      <th>categories</th>\n",
       "      <th>primaryCategories</th>\n",
       "      <th>imageURLs</th>\n",
       "      <th>keys</th>\n",
       "      <th>...</th>\n",
       "      <th>reviews.didPurchase</th>\n",
       "      <th>reviews.doRecommend</th>\n",
       "      <th>reviews.id</th>\n",
       "      <th>reviews.numHelpful</th>\n",
       "      <th>reviews.rating</th>\n",
       "      <th>reviews.sourceURLs</th>\n",
       "      <th>reviews.text</th>\n",
       "      <th>reviews.title</th>\n",
       "      <th>reviews.username</th>\n",
       "      <th>sourceURLs</th>\n",
       "    </tr>\n",
       "  </thead>\n",
       "  <tbody>\n",
       "    <tr>\n",
       "      <th>0</th>\n",
       "      <td>AVpgNzjwLJeJML43Kpxn</td>\n",
       "      <td>2015-10-30T08:59:32Z</td>\n",
       "      <td>2019-04-25T09:08:16Z</td>\n",
       "      <td>AmazonBasics AAA Performance Alkaline Batterie...</td>\n",
       "      <td>B00QWO9P0O,B00LH3DMUO</td>\n",
       "      <td>Amazonbasics</td>\n",
       "      <td>AA,AAA,Health,Electronics,Health &amp; Household,C...</td>\n",
       "      <td>Health &amp; Beauty</td>\n",
       "      <td>https://images-na.ssl-images-amazon.com/images...</td>\n",
       "      <td>amazonbasics/hl002619,amazonbasicsaaaperforman...</td>\n",
       "      <td>...</td>\n",
       "      <td>NaN</td>\n",
       "      <td>NaN</td>\n",
       "      <td>NaN</td>\n",
       "      <td>NaN</td>\n",
       "      <td>3</td>\n",
       "      <td>https://www.amazon.com/product-reviews/B00QWO9...</td>\n",
       "      <td>I order 3 of them and one of the item is bad q...</td>\n",
       "      <td>... 3 of them and one of the item is bad quali...</td>\n",
       "      <td>Byger yang</td>\n",
       "      <td>https://www.barcodable.com/upc/841710106442,ht...</td>\n",
       "    </tr>\n",
       "    <tr>\n",
       "      <th>1</th>\n",
       "      <td>AVpgNzjwLJeJML43Kpxn</td>\n",
       "      <td>2015-10-30T08:59:32Z</td>\n",
       "      <td>2019-04-25T09:08:16Z</td>\n",
       "      <td>AmazonBasics AAA Performance Alkaline Batterie...</td>\n",
       "      <td>B00QWO9P0O,B00LH3DMUO</td>\n",
       "      <td>Amazonbasics</td>\n",
       "      <td>AA,AAA,Health,Electronics,Health &amp; Household,C...</td>\n",
       "      <td>Health &amp; Beauty</td>\n",
       "      <td>https://images-na.ssl-images-amazon.com/images...</td>\n",
       "      <td>amazonbasics/hl002619,amazonbasicsaaaperforman...</td>\n",
       "      <td>...</td>\n",
       "      <td>NaN</td>\n",
       "      <td>NaN</td>\n",
       "      <td>NaN</td>\n",
       "      <td>NaN</td>\n",
       "      <td>4</td>\n",
       "      <td>https://www.amazon.com/product-reviews/B00QWO9...</td>\n",
       "      <td>Bulk is always the less expensive way to go fo...</td>\n",
       "      <td>... always the less expensive way to go for pr...</td>\n",
       "      <td>ByMG</td>\n",
       "      <td>https://www.barcodable.com/upc/841710106442,ht...</td>\n",
       "    </tr>\n",
       "    <tr>\n",
       "      <th>2</th>\n",
       "      <td>AVpgNzjwLJeJML43Kpxn</td>\n",
       "      <td>2015-10-30T08:59:32Z</td>\n",
       "      <td>2019-04-25T09:08:16Z</td>\n",
       "      <td>AmazonBasics AAA Performance Alkaline Batterie...</td>\n",
       "      <td>B00QWO9P0O,B00LH3DMUO</td>\n",
       "      <td>Amazonbasics</td>\n",
       "      <td>AA,AAA,Health,Electronics,Health &amp; Household,C...</td>\n",
       "      <td>Health &amp; Beauty</td>\n",
       "      <td>https://images-na.ssl-images-amazon.com/images...</td>\n",
       "      <td>amazonbasics/hl002619,amazonbasicsaaaperforman...</td>\n",
       "      <td>...</td>\n",
       "      <td>NaN</td>\n",
       "      <td>NaN</td>\n",
       "      <td>NaN</td>\n",
       "      <td>NaN</td>\n",
       "      <td>5</td>\n",
       "      <td>https://www.amazon.com/product-reviews/B00QWO9...</td>\n",
       "      <td>Well they are not Duracell but for the price i...</td>\n",
       "      <td>... are not Duracell but for the price i am ha...</td>\n",
       "      <td>BySharon Lambert</td>\n",
       "      <td>https://www.barcodable.com/upc/841710106442,ht...</td>\n",
       "    </tr>\n",
       "    <tr>\n",
       "      <th>3</th>\n",
       "      <td>AVpgNzjwLJeJML43Kpxn</td>\n",
       "      <td>2015-10-30T08:59:32Z</td>\n",
       "      <td>2019-04-25T09:08:16Z</td>\n",
       "      <td>AmazonBasics AAA Performance Alkaline Batterie...</td>\n",
       "      <td>B00QWO9P0O,B00LH3DMUO</td>\n",
       "      <td>Amazonbasics</td>\n",
       "      <td>AA,AAA,Health,Electronics,Health &amp; Household,C...</td>\n",
       "      <td>Health &amp; Beauty</td>\n",
       "      <td>https://images-na.ssl-images-amazon.com/images...</td>\n",
       "      <td>amazonbasics/hl002619,amazonbasicsaaaperforman...</td>\n",
       "      <td>...</td>\n",
       "      <td>NaN</td>\n",
       "      <td>NaN</td>\n",
       "      <td>NaN</td>\n",
       "      <td>NaN</td>\n",
       "      <td>5</td>\n",
       "      <td>https://www.amazon.com/product-reviews/B00QWO9...</td>\n",
       "      <td>Seem to work as well as name brand batteries a...</td>\n",
       "      <td>... as well as name brand batteries at a much ...</td>\n",
       "      <td>Bymark sexson</td>\n",
       "      <td>https://www.barcodable.com/upc/841710106442,ht...</td>\n",
       "    </tr>\n",
       "    <tr>\n",
       "      <th>4</th>\n",
       "      <td>AVpgNzjwLJeJML43Kpxn</td>\n",
       "      <td>2015-10-30T08:59:32Z</td>\n",
       "      <td>2019-04-25T09:08:16Z</td>\n",
       "      <td>AmazonBasics AAA Performance Alkaline Batterie...</td>\n",
       "      <td>B00QWO9P0O,B00LH3DMUO</td>\n",
       "      <td>Amazonbasics</td>\n",
       "      <td>AA,AAA,Health,Electronics,Health &amp; Household,C...</td>\n",
       "      <td>Health &amp; Beauty</td>\n",
       "      <td>https://images-na.ssl-images-amazon.com/images...</td>\n",
       "      <td>amazonbasics/hl002619,amazonbasicsaaaperforman...</td>\n",
       "      <td>...</td>\n",
       "      <td>NaN</td>\n",
       "      <td>NaN</td>\n",
       "      <td>NaN</td>\n",
       "      <td>NaN</td>\n",
       "      <td>5</td>\n",
       "      <td>https://www.amazon.com/product-reviews/B00QWO9...</td>\n",
       "      <td>These batteries are very long lasting the pric...</td>\n",
       "      <td>... batteries are very long lasting the price ...</td>\n",
       "      <td>Bylinda</td>\n",
       "      <td>https://www.barcodable.com/upc/841710106442,ht...</td>\n",
       "    </tr>\n",
       "  </tbody>\n",
       "</table>\n",
       "<p>5 rows × 24 columns</p>\n",
       "</div>"
      ],
      "text/plain": [
       "                     id             dateAdded           dateUpdated  \\\n",
       "0  AVpgNzjwLJeJML43Kpxn  2015-10-30T08:59:32Z  2019-04-25T09:08:16Z   \n",
       "1  AVpgNzjwLJeJML43Kpxn  2015-10-30T08:59:32Z  2019-04-25T09:08:16Z   \n",
       "2  AVpgNzjwLJeJML43Kpxn  2015-10-30T08:59:32Z  2019-04-25T09:08:16Z   \n",
       "3  AVpgNzjwLJeJML43Kpxn  2015-10-30T08:59:32Z  2019-04-25T09:08:16Z   \n",
       "4  AVpgNzjwLJeJML43Kpxn  2015-10-30T08:59:32Z  2019-04-25T09:08:16Z   \n",
       "\n",
       "                                                name                  asins  \\\n",
       "0  AmazonBasics AAA Performance Alkaline Batterie...  B00QWO9P0O,B00LH3DMUO   \n",
       "1  AmazonBasics AAA Performance Alkaline Batterie...  B00QWO9P0O,B00LH3DMUO   \n",
       "2  AmazonBasics AAA Performance Alkaline Batterie...  B00QWO9P0O,B00LH3DMUO   \n",
       "3  AmazonBasics AAA Performance Alkaline Batterie...  B00QWO9P0O,B00LH3DMUO   \n",
       "4  AmazonBasics AAA Performance Alkaline Batterie...  B00QWO9P0O,B00LH3DMUO   \n",
       "\n",
       "          brand                                         categories  \\\n",
       "0  Amazonbasics  AA,AAA,Health,Electronics,Health & Household,C...   \n",
       "1  Amazonbasics  AA,AAA,Health,Electronics,Health & Household,C...   \n",
       "2  Amazonbasics  AA,AAA,Health,Electronics,Health & Household,C...   \n",
       "3  Amazonbasics  AA,AAA,Health,Electronics,Health & Household,C...   \n",
       "4  Amazonbasics  AA,AAA,Health,Electronics,Health & Household,C...   \n",
       "\n",
       "  primaryCategories                                          imageURLs  \\\n",
       "0   Health & Beauty  https://images-na.ssl-images-amazon.com/images...   \n",
       "1   Health & Beauty  https://images-na.ssl-images-amazon.com/images...   \n",
       "2   Health & Beauty  https://images-na.ssl-images-amazon.com/images...   \n",
       "3   Health & Beauty  https://images-na.ssl-images-amazon.com/images...   \n",
       "4   Health & Beauty  https://images-na.ssl-images-amazon.com/images...   \n",
       "\n",
       "                                                keys  ... reviews.didPurchase  \\\n",
       "0  amazonbasics/hl002619,amazonbasicsaaaperforman...  ...                 NaN   \n",
       "1  amazonbasics/hl002619,amazonbasicsaaaperforman...  ...                 NaN   \n",
       "2  amazonbasics/hl002619,amazonbasicsaaaperforman...  ...                 NaN   \n",
       "3  amazonbasics/hl002619,amazonbasicsaaaperforman...  ...                 NaN   \n",
       "4  amazonbasics/hl002619,amazonbasicsaaaperforman...  ...                 NaN   \n",
       "\n",
       "  reviews.doRecommend reviews.id reviews.numHelpful reviews.rating  \\\n",
       "0                 NaN        NaN                NaN              3   \n",
       "1                 NaN        NaN                NaN              4   \n",
       "2                 NaN        NaN                NaN              5   \n",
       "3                 NaN        NaN                NaN              5   \n",
       "4                 NaN        NaN                NaN              5   \n",
       "\n",
       "                                  reviews.sourceURLs  \\\n",
       "0  https://www.amazon.com/product-reviews/B00QWO9...   \n",
       "1  https://www.amazon.com/product-reviews/B00QWO9...   \n",
       "2  https://www.amazon.com/product-reviews/B00QWO9...   \n",
       "3  https://www.amazon.com/product-reviews/B00QWO9...   \n",
       "4  https://www.amazon.com/product-reviews/B00QWO9...   \n",
       "\n",
       "                                        reviews.text  \\\n",
       "0  I order 3 of them and one of the item is bad q...   \n",
       "1  Bulk is always the less expensive way to go fo...   \n",
       "2  Well they are not Duracell but for the price i...   \n",
       "3  Seem to work as well as name brand batteries a...   \n",
       "4  These batteries are very long lasting the pric...   \n",
       "\n",
       "                                       reviews.title  reviews.username  \\\n",
       "0  ... 3 of them and one of the item is bad quali...        Byger yang   \n",
       "1  ... always the less expensive way to go for pr...              ByMG   \n",
       "2  ... are not Duracell but for the price i am ha...  BySharon Lambert   \n",
       "3  ... as well as name brand batteries at a much ...     Bymark sexson   \n",
       "4  ... batteries are very long lasting the price ...           Bylinda   \n",
       "\n",
       "                                          sourceURLs  \n",
       "0  https://www.barcodable.com/upc/841710106442,ht...  \n",
       "1  https://www.barcodable.com/upc/841710106442,ht...  \n",
       "2  https://www.barcodable.com/upc/841710106442,ht...  \n",
       "3  https://www.barcodable.com/upc/841710106442,ht...  \n",
       "4  https://www.barcodable.com/upc/841710106442,ht...  \n",
       "\n",
       "[5 rows x 24 columns]"
      ]
     },
     "execution_count": 3,
     "metadata": {},
     "output_type": "execute_result"
    }
   ],
   "source": [
    "import pandas as pd\n",
    "reviews = pd.read_csv('Datafiniti_Amazon_Consumer_Reviews_of_Amazon_Products_May19.csv')\n",
    "reviews.head()"
   ]
  },
  {
   "cell_type": "code",
   "execution_count": 9,
   "metadata": {},
   "outputs": [
    {
     "data": {
      "text/plain": [
       "(28332, 24)"
      ]
     },
     "execution_count": 9,
     "metadata": {},
     "output_type": "execute_result"
    }
   ],
   "source": [
    "reviews.shape"
   ]
  },
  {
   "cell_type": "code",
   "execution_count": 17,
   "metadata": {},
   "outputs": [
    {
     "name": "stdout",
     "output_type": "stream",
     "text": [
      "3\n"
     ]
    },
    {
     "data": {
      "text/plain": [
       "'I order 3 of them and one of the item is bad quality. Is missing backup spring so I have to put a pcs of aluminum to make the battery work.'"
      ]
     },
     "execution_count": 17,
     "metadata": {},
     "output_type": "execute_result"
    }
   ],
   "source": [
    "revs = reviews['reviews.text']\n",
    "rating = reviews['reviews.rating']\n",
    "print(rating[0])\n",
    "revs[0]"
   ]
  },
  {
   "cell_type": "code",
   "execution_count": 21,
   "metadata": {},
   "outputs": [],
   "source": [
    "import re\n",
    "import numpy as np\n",
    "import pandas as pd\n",
    "from pprint import pprint\n",
    "\n",
    "import gensim\n",
    "import gensim.corpora as corpora\n",
    "from gensim.utils import simple_preprocess\n",
    "from gensim.models import CoherenceModel\n",
    "\n",
    "import spacy\n",
    "import pyLDAvis\n",
    "import pyLDAvis.gensim \n",
    "import matplotlib.pyplot as plt\n",
    "%matplotlib inline\n",
    "\n",
    "from sklearn.model_selection import train_test_split\n",
    "from sklearn.ensemble import RandomForestClassifier\n",
    "from sklearn.model_selection import GridSearchCV\n",
    "from sklearn.feature_extraction.text import TfidfVectorizer"
   ]
  },
  {
   "cell_type": "code",
   "execution_count": 12,
   "metadata": {},
   "outputs": [],
   "source": [
    "import warnings\n",
    "warnings.filterwarnings(\"ignore\")"
   ]
  },
  {
   "cell_type": "code",
   "execution_count": null,
   "metadata": {},
   "outputs": [],
   "source": []
  },
  {
   "cell_type": "code",
   "execution_count": 31,
   "metadata": {},
   "outputs": [],
   "source": [
    "X_train, X_test, y_train, y_test = train_test_split(reviews['reviews.text'], reviews['reviews.rating'], test_size=0.33, random_state=42)"
   ]
  },
  {
   "cell_type": "code",
   "execution_count": 33,
   "metadata": {},
   "outputs": [
    {
     "name": "stdout",
     "output_type": "stream",
     "text": [
      "(18982,) (9350,) (18982,) (9350,)\n"
     ]
    }
   ],
   "source": [
    "print(X_train.shape, X_test.shape, y_train.shape, y_test.shape)"
   ]
  },
  {
   "cell_type": "code",
   "execution_count": 23,
   "metadata": {},
   "outputs": [
    {
     "name": "stdout",
     "output_type": "stream",
     "text": [
      "(18982, 3259)\n"
     ]
    }
   ],
   "source": []
  },
  {
   "cell_type": "code",
   "execution_count": 25,
   "metadata": {},
   "outputs": [
    {
     "name": "stdout",
     "output_type": "stream",
     "text": [
      "Fitting 5 folds for each of 4 candidates, totalling 20 fits\n"
     ]
    },
    {
     "name": "stderr",
     "output_type": "stream",
     "text": [
      "[Parallel(n_jobs=-1)]: Using backend LokyBackend with 8 concurrent workers.\n",
      "[Parallel(n_jobs=-1)]: Done  20 out of  20 | elapsed:  1.5min finished\n"
     ]
    },
    {
     "data": {
      "text/plain": [
       "GridSearchCV(cv=5, error_score=nan,\n",
       "             estimator=RandomForestClassifier(bootstrap=True, ccp_alpha=0.0,\n",
       "                                              class_weight=None,\n",
       "                                              criterion='gini', max_depth=None,\n",
       "                                              max_features='auto',\n",
       "                                              max_leaf_nodes=None,\n",
       "                                              max_samples=None,\n",
       "                                              min_impurity_decrease=0.0,\n",
       "                                              min_impurity_split=None,\n",
       "                                              min_samples_leaf=1,\n",
       "                                              min_samples_split=2,\n",
       "                                              min_weight_fraction_leaf=0.0,\n",
       "                                              n_estimators=100, n_jobs=None,\n",
       "                                              oob_score=False,\n",
       "                                              random_state=None, verbose=0,\n",
       "                                              warm_start=False),\n",
       "             iid='deprecated', n_jobs=-1,\n",
       "             param_grid={'min_samples_leaf': [1, 2, 5, 10]},\n",
       "             pre_dispatch='2*n_jobs', refit=True, return_train_score=False,\n",
       "             scoring=None, verbose=1)"
      ]
     },
     "execution_count": 25,
     "metadata": {},
     "output_type": "execute_result"
    }
   ],
   "source": [
    "params_1 = {\n",
    "    'min_samples_leaf': [1, 2, 5, 10]\n",
    "}\n",
    "\n",
    "# Instantiate classifier\n",
    "clf = RandomForestClassifier()\n",
    "\n",
    "# GridSearch\n",
    "gs1 = GridSearchCV(clf, params_1, cv=5, n_jobs=-1, verbose=1)\n",
    "gs1.fit(X_train, y_train)"
   ]
  },
  {
   "cell_type": "code",
   "execution_count": 32,
   "metadata": {},
   "outputs": [
    {
     "data": {
      "text/plain": [
       "14632    Great device very functional love it will reco...\n",
       "24806    She loves it, plays with it everyday all day. ...\n",
       "4113                                      last a long time\n",
       "5326                             Great packaging and value\n",
       "14492    Nice tablet, gives different choices for reade...\n",
       "                               ...                        \n",
       "21575    This tablet is great for browsing the internet...\n",
       "5390                Can't beat the price for 48 batteries.\n",
       "860          Batteries work as good as any other big brand\n",
       "15795    Was looking for a tablet with expandable memor...\n",
       "23654    I like that I can control the time and content...\n",
       "Name: reviews.text, Length: 18982, dtype: object"
      ]
     },
     "execution_count": 32,
     "metadata": {},
     "output_type": "execute_result"
    }
   ],
   "source": [
    "X_train"
   ]
  },
  {
   "cell_type": "raw",
   "metadata": {},
   "source": []
  },
  {
   "cell_type": "code",
   "execution_count": 34,
   "metadata": {},
   "outputs": [
    {
     "name": "stdout",
     "output_type": "stream",
     "text": [
      "Fitting 5 folds for each of 8 candidates, totalling 40 fits\n"
     ]
    },
    {
     "name": "stderr",
     "output_type": "stream",
     "text": [
      "[Parallel(n_jobs=-1)]: Using backend LokyBackend with 8 concurrent workers.\n",
      "[Parallel(n_jobs=-1)]: Done  40 out of  40 | elapsed:  2.0min finished\n"
     ]
    },
    {
     "data": {
      "text/plain": [
       "GridSearchCV(cv=5, error_score=nan,\n",
       "             estimator=Pipeline(memory=None,\n",
       "                                steps=[('vect',\n",
       "                                        TfidfVectorizer(analyzer='word',\n",
       "                                                        binary=False,\n",
       "                                                        decode_error='strict',\n",
       "                                                        dtype=<class 'numpy.float64'>,\n",
       "                                                        encoding='utf-8',\n",
       "                                                        input='content',\n",
       "                                                        lowercase=True,\n",
       "                                                        max_df=1.0,\n",
       "                                                        max_features=None,\n",
       "                                                        min_df=1,\n",
       "                                                        ngram_range=(1, 1),\n",
       "                                                        norm='l2',\n",
       "                                                        preprocessor=None,\n",
       "                                                        smooth_idf=True,\n",
       "                                                        stop_words=None,\n",
       "                                                        strip_acce...\n",
       "                                                               min_samples_split=2,\n",
       "                                                               min_weight_fraction_leaf=0.0,\n",
       "                                                               n_estimators=100,\n",
       "                                                               n_jobs=None,\n",
       "                                                               oob_score=False,\n",
       "                                                               random_state=42,\n",
       "                                                               verbose=0,\n",
       "                                                               warm_start=False))],\n",
       "                                verbose=False),\n",
       "             iid='deprecated', n_jobs=-1,\n",
       "             param_grid={'clf__max_depth': (10, None), 'vect__min_df': (2, 5),\n",
       "                         'vect__stop_words': (None, 'english')},\n",
       "             pre_dispatch='2*n_jobs', refit=True, return_train_score=False,\n",
       "             scoring=None, verbose=1)"
      ]
     },
     "execution_count": 34,
     "metadata": {},
     "output_type": "execute_result"
    }
   ],
   "source": [
    "from sklearn.pipeline import Pipeline\n",
    "\n",
    "# 1. Create a pipeline with a vectorize and a classifier\n",
    "# 2. Use Grid Search to optimize the entire pipeline\n",
    "pipe = Pipeline([\n",
    "    ('vect', TfidfVectorizer()),\n",
    "    ('clf', RandomForestClassifier(random_state=42))\n",
    "])\n",
    "\n",
    "params_2 = {\n",
    "    'vect__stop_words': (None, 'english'), \n",
    "    'vect__min_df': (2, 5),\n",
    "    'clf__max_depth': (10, None)\n",
    "}\n",
    "\n",
    "gs2 = GridSearchCV(pipe, params_2, cv=5, n_jobs=-1, verbose=1)\n",
    "gs2.fit(X_train, y_train)"
   ]
  },
  {
   "cell_type": "code",
   "execution_count": 38,
   "metadata": {},
   "outputs": [
    {
     "data": {
      "text/plain": [
       "0        I order 3 of them and one of the item is bad q...\n",
       "1        Bulk is always the less expensive way to go fo...\n",
       "2        Well they are not Duracell but for the price i...\n",
       "3        Seem to work as well as name brand batteries a...\n",
       "4        These batteries are very long lasting the pric...\n",
       "                               ...                        \n",
       "28327    I got 2 of these for my 8 yr old twins. My 11 ...\n",
       "28328    I bought this for my niece for a Christmas gif...\n",
       "28329    Very nice for light internet browsing, keeping...\n",
       "28330    This Tablet does absolutely everything I want!...\n",
       "28331    At ninety dollars, the expectionations are low...\n",
       "Name: reviews.text, Length: 28332, dtype: object"
      ]
     },
     "execution_count": 38,
     "metadata": {},
     "output_type": "execute_result"
    }
   ],
   "source": [
    "reviews['reviews.text']"
   ]
  },
  {
   "cell_type": "code",
   "execution_count": null,
   "metadata": {},
   "outputs": [],
   "source": [
    "# # Instantiate vectorizer\n",
    "# vect = TfidfVectorizer(min_df=5)\n",
    "\n",
    "# # Transform the training data\n",
    "# X_train = vect.fit_transform(X_train)\n",
    "# print(X_train.shape)"
   ]
  },
  {
   "cell_type": "code",
   "execution_count": 40,
   "metadata": {},
   "outputs": [
    {
     "name": "stdout",
     "output_type": "stream",
     "text": [
      "3\n",
      "I order 3 of them and one of the item is bad quality. Is missing backup spring so I have to put a pcs of aluminum to make the battery work.\n"
     ]
    },
    {
     "data": {
      "text/html": [
       "<div>\n",
       "<style scoped>\n",
       "    .dataframe tbody tr th:only-of-type {\n",
       "        vertical-align: middle;\n",
       "    }\n",
       "\n",
       "    .dataframe tbody tr th {\n",
       "        vertical-align: top;\n",
       "    }\n",
       "\n",
       "    .dataframe thead th {\n",
       "        text-align: right;\n",
       "    }\n",
       "</style>\n",
       "<table border=\"1\" class=\"dataframe\">\n",
       "  <thead>\n",
       "    <tr style=\"text-align: right;\">\n",
       "      <th></th>\n",
       "      <th>revs</th>\n",
       "      <th>rating</th>\n",
       "    </tr>\n",
       "  </thead>\n",
       "  <tbody>\n",
       "    <tr>\n",
       "      <th>0</th>\n",
       "      <td>I order 3 of them and one of the item is bad q...</td>\n",
       "      <td>3</td>\n",
       "    </tr>\n",
       "    <tr>\n",
       "      <th>1</th>\n",
       "      <td>Bulk is always the less expensive way to go fo...</td>\n",
       "      <td>4</td>\n",
       "    </tr>\n",
       "    <tr>\n",
       "      <th>2</th>\n",
       "      <td>Well they are not Duracell but for the price i...</td>\n",
       "      <td>5</td>\n",
       "    </tr>\n",
       "    <tr>\n",
       "      <th>3</th>\n",
       "      <td>Seem to work as well as name brand batteries a...</td>\n",
       "      <td>5</td>\n",
       "    </tr>\n",
       "    <tr>\n",
       "      <th>4</th>\n",
       "      <td>These batteries are very long lasting the pric...</td>\n",
       "      <td>5</td>\n",
       "    </tr>\n",
       "  </tbody>\n",
       "</table>\n",
       "</div>"
      ],
      "text/plain": [
       "                                                revs  rating\n",
       "0  I order 3 of them and one of the item is bad q...       3\n",
       "1  Bulk is always the less expensive way to go fo...       4\n",
       "2  Well they are not Duracell but for the price i...       5\n",
       "3  Seem to work as well as name brand batteries a...       5\n",
       "4  These batteries are very long lasting the pric...       5"
      ]
     },
     "execution_count": 40,
     "metadata": {},
     "output_type": "execute_result"
    }
   ],
   "source": [
    "df=pd.DataFrame({'revs':reviews['reviews.text'], 'rating':reviews['reviews.rating']})\n",
    "print(rating[0])\n",
    "print(revs[0])\n",
    "df.head()"
   ]
  },
  {
   "cell_type": "code",
   "execution_count": 42,
   "metadata": {},
   "outputs": [],
   "source": [
    "nlp = spacy.load(\"en_core_web_lg\")\n",
    "from tqdm import tqdm\n",
    "tqdm.pandas()\n"
   ]
  },
  {
   "cell_type": "code",
   "execution_count": 43,
   "metadata": {},
   "outputs": [
    {
     "name": "stderr",
     "output_type": "stream",
     "text": [
      "100%|██████████████████████████████████████| 28332/28332 [05:06<00:00, 92.58it/s]\n"
     ]
    }
   ],
   "source": [
    "# Create 'lemmas' column\n",
    "def get_lemmas(x):\n",
    "    lemmas = []\n",
    "    for token in nlp(x):\n",
    "        if (token.is_stop!=True) and (token.is_punct!=True):\n",
    "            lemmas.append(token.lemma_)\n",
    "    return lemmas\n",
    "\n",
    "df['lemmas'] = df['revs'].progress_apply(get_lemmas)"
   ]
  },
  {
   "cell_type": "code",
   "execution_count": 44,
   "metadata": {},
   "outputs": [
    {
     "data": {
      "text/html": [
       "<div>\n",
       "<style scoped>\n",
       "    .dataframe tbody tr th:only-of-type {\n",
       "        vertical-align: middle;\n",
       "    }\n",
       "\n",
       "    .dataframe tbody tr th {\n",
       "        vertical-align: top;\n",
       "    }\n",
       "\n",
       "    .dataframe thead th {\n",
       "        text-align: right;\n",
       "    }\n",
       "</style>\n",
       "<table border=\"1\" class=\"dataframe\">\n",
       "  <thead>\n",
       "    <tr style=\"text-align: right;\">\n",
       "      <th></th>\n",
       "      <th>revs</th>\n",
       "      <th>rating</th>\n",
       "      <th>lemmas</th>\n",
       "    </tr>\n",
       "  </thead>\n",
       "  <tbody>\n",
       "    <tr>\n",
       "      <th>0</th>\n",
       "      <td>I order 3 of them and one of the item is bad q...</td>\n",
       "      <td>3</td>\n",
       "      <td>[order, 3, item, bad, quality, miss, backup, s...</td>\n",
       "    </tr>\n",
       "    <tr>\n",
       "      <th>1</th>\n",
       "      <td>Bulk is always the less expensive way to go fo...</td>\n",
       "      <td>4</td>\n",
       "      <td>[bulk, expensive, way, product, like]</td>\n",
       "    </tr>\n",
       "    <tr>\n",
       "      <th>2</th>\n",
       "      <td>Well they are not Duracell but for the price i...</td>\n",
       "      <td>5</td>\n",
       "      <td>[Duracell, price, happy]</td>\n",
       "    </tr>\n",
       "    <tr>\n",
       "      <th>3</th>\n",
       "      <td>Seem to work as well as name brand batteries a...</td>\n",
       "      <td>5</td>\n",
       "      <td>[work, brand, battery, well, price]</td>\n",
       "    </tr>\n",
       "    <tr>\n",
       "      <th>4</th>\n",
       "      <td>These batteries are very long lasting the pric...</td>\n",
       "      <td>5</td>\n",
       "      <td>[battery, long, last, price, great]</td>\n",
       "    </tr>\n",
       "  </tbody>\n",
       "</table>\n",
       "</div>"
      ],
      "text/plain": [
       "                                                revs  rating  \\\n",
       "0  I order 3 of them and one of the item is bad q...       3   \n",
       "1  Bulk is always the less expensive way to go fo...       4   \n",
       "2  Well they are not Duracell but for the price i...       5   \n",
       "3  Seem to work as well as name brand batteries a...       5   \n",
       "4  These batteries are very long lasting the pric...       5   \n",
       "\n",
       "                                              lemmas  \n",
       "0  [order, 3, item, bad, quality, miss, backup, s...  \n",
       "1              [bulk, expensive, way, product, like]  \n",
       "2                           [Duracell, price, happy]  \n",
       "3                [work, brand, battery, well, price]  \n",
       "4                [battery, long, last, price, great]  "
      ]
     },
     "execution_count": 44,
     "metadata": {},
     "output_type": "execute_result"
    }
   ],
   "source": [
    "df.head()"
   ]
  },
  {
   "cell_type": "code",
   "execution_count": 45,
   "metadata": {},
   "outputs": [],
   "source": [
    "# Create Dictionary\n",
    "id2word = corpora.Dictionary(df['lemmas'])"
   ]
  },
  {
   "cell_type": "code",
   "execution_count": 46,
   "metadata": {},
   "outputs": [
    {
     "data": {
      "text/plain": [
       "9727"
      ]
     },
     "execution_count": 46,
     "metadata": {},
     "output_type": "execute_result"
    }
   ],
   "source": [
    "# How many words do we have?\n",
    "len(id2word.keys())"
   ]
  },
  {
   "cell_type": "code",
   "execution_count": 47,
   "metadata": {},
   "outputs": [],
   "source": [
    "# Let's remove extreme values from the dataset\n",
    "id2word.filter_extremes(no_below=3, no_above=0.75)"
   ]
  },
  {
   "cell_type": "code",
   "execution_count": 48,
   "metadata": {},
   "outputs": [
    {
     "data": {
      "text/plain": [
       "4564"
      ]
     },
     "execution_count": 48,
     "metadata": {},
     "output_type": "execute_result"
    }
   ],
   "source": [
    "# How many words do we have?\n",
    "len(id2word.keys())"
   ]
  },
  {
   "cell_type": "code",
   "execution_count": 49,
   "metadata": {},
   "outputs": [],
   "source": [
    "# Term Document Frequency\n",
    "corpus = [id2word.doc2bow(text) for text in df['lemmas']]"
   ]
  },
  {
   "cell_type": "code",
   "execution_count": 50,
   "metadata": {},
   "outputs": [
    {
     "data": {
      "text/plain": [
       "'know'"
      ]
     },
     "execution_count": 50,
     "metadata": {},
     "output_type": "execute_result"
    }
   ],
   "source": [
    "id2word[109]"
   ]
  },
  {
   "cell_type": "code",
   "execution_count": 52,
   "metadata": {},
   "outputs": [
    {
     "data": {
      "text/plain": [
       "\"Bought a lot of batteries for Christmas and the AmazonBasics Cell have been good. I haven't noticed a difference between the brand name batteries and the Amazon Basic brand. Just a lot easier to purchase and have arrive at the house and have on hand. Will buy again.\""
      ]
     },
     "execution_count": 52,
     "metadata": {},
     "output_type": "execute_result"
    }
   ],
   "source": [
    "df.iloc[5]['revs']"
   ]
  },
  {
   "cell_type": "code",
   "execution_count": 53,
   "metadata": {},
   "outputs": [
    {
     "data": {
      "text/plain": [
       "[(4, 2),\n",
       " (20, 2),\n",
       " (25, 1),\n",
       " (26, 1),\n",
       " (27, 1),\n",
       " (28, 1),\n",
       " (29, 1),\n",
       " (30, 1),\n",
       " (31, 2),\n",
       " (32, 1),\n",
       " (33, 1),\n",
       " (34, 1),\n",
       " (35, 1),\n",
       " (36, 1),\n",
       " (37, 2),\n",
       " (38, 1),\n",
       " (39, 1)]"
      ]
     },
     "execution_count": 53,
     "metadata": {},
     "output_type": "execute_result"
    }
   ],
   "source": [
    "corpus[5]"
   ]
  },
  {
   "cell_type": "code",
   "execution_count": 55,
   "metadata": {},
   "outputs": [
    {
     "data": {
      "text/plain": [
       "'battery'"
      ]
     },
     "execution_count": 55,
     "metadata": {},
     "output_type": "execute_result"
    }
   ],
   "source": [
    "id2word[4]"
   ]
  },
  {
   "cell_type": "code",
   "execution_count": 56,
   "metadata": {},
   "outputs": [
    {
     "data": {
      "text/plain": [
       "[('battery', 2),\n",
       " ('brand', 2),\n",
       " ('Amazon', 1),\n",
       " ('AmazonBasics', 1),\n",
       " ('Basic', 1),\n",
       " ('Cell', 1),\n",
       " ('Christmas', 1),\n",
       " ('arrive', 1),\n",
       " ('buy', 2),\n",
       " ('difference', 1),\n",
       " ('easy', 1),\n",
       " ('good', 1),\n",
       " ('hand', 1),\n",
       " ('house', 1),\n",
       " ('lot', 2),\n",
       " ('notice', 1),\n",
       " ('purchase', 1)]"
      ]
     },
     "execution_count": 56,
     "metadata": {},
     "output_type": "execute_result"
    }
   ],
   "source": [
    "# Human readable format of corpus (term-frequency)\n",
    "[(id2word[word_id], word_count) for word_id, word_count in corpus[5]]"
   ]
  },
  {
   "cell_type": "code",
   "execution_count": 57,
   "metadata": {},
   "outputs": [
    {
     "name": "stdout",
     "output_type": "stream",
     "text": [
      "Wall time: 1min 5s\n"
     ]
    }
   ],
   "source": [
    "%%time\n",
    "lda_model = gensim.models.ldamodel.LdaModel(corpus=corpus,\n",
    "                                            id2word=id2word,\n",
    "                                            num_topics=20, \n",
    "                                            chunksize=100,\n",
    "                                            passes=10,\n",
    "                                            per_word_topics=True)"
   ]
  },
  {
   "cell_type": "code",
   "execution_count": 58,
   "metadata": {},
   "outputs": [],
   "source": [
    "lda_model.save('lda_model.model')"
   ]
  },
  {
   "cell_type": "code",
   "execution_count": 59,
   "metadata": {},
   "outputs": [
    {
     "name": "stdout",
     "output_type": "stream",
     "text": [
      "Wall time: 32.8 s\n"
     ]
    }
   ],
   "source": [
    "%%time\n",
    "lda_multicore = gensim.models.ldamulticore.LdaMulticore(corpus=corpus,\n",
    "                                                        id2word=id2word,\n",
    "                                                        num_topics=20, \n",
    "                                                        chunksize=100,\n",
    "                                                        passes=10,\n",
    "                                                        per_word_topics=True,\n",
    "                                                        workers=12)\n",
    "\n",
    "# https://radimrehurek.com/gensim/models/ldamulticore.html"
   ]
  },
  {
   "cell_type": "code",
   "execution_count": 60,
   "metadata": {},
   "outputs": [],
   "source": [
    "from gensim import models\n",
    "lda =  models.LdaModel.load('lda_model.model')"
   ]
  },
  {
   "cell_type": "code",
   "execution_count": 61,
   "metadata": {},
   "outputs": [
    {
     "name": "stdout",
     "output_type": "stream",
     "text": [
      "[(0,\n",
      "  '0.589*\"easy\" + 0.120*\"quality\" + 0.065*\"item\" + 0.049*\"amazing\" + '\n",
      "  '0.033*\"affordable\" + 0.031*\"update\" + 0.024*\"bad\" + 0.020*\"everyday\" + '\n",
      "  '0.018*\"difference\" + 0.012*\"consider\"'),\n",
      " (1,\n",
      "  '0.317*\"nice\" + 0.178*\"light\" + 0.125*\"think\" + 0.103*\"price\" + '\n",
      "  '0.101*\"excellent\" + 0.049*\"fit\" + 0.042*\"performance\" + 0.040*\"ok\" + '\n",
      "  '0.007*\"arrive\" + 0.000*\"tablet\"'),\n",
      " (2,\n",
      "  '0.250*\"purchase\" + 0.214*\"year\" + 0.102*\"well\" + 0.081*\"child\" + '\n",
      "  '0.077*\"store\" + 0.043*\"way\" + 0.033*\"sure\" + 0.025*\"not\" + 0.022*\"compare\" '\n",
      "  '+ 0.020*\"let\"'),\n",
      " (3,\n",
      "  '0.526*\"buy\" + 0.198*\"play\" + 0.057*\"replace\" + 0.053*\"right\" + 0.038*\"run\" '\n",
      "  '+ 0.029*\"decide\" + 0.019*\"experience\" + 0.010*\"past\" + 0.010*\"way\" + '\n",
      "  '0.009*\"buck\"'),\n",
      " (4,\n",
      "  '0.302*\"work\" + 0.256*\"game\" + 0.174*\"great\" + 0.125*\"Christmas\" + '\n",
      "  '0.103*\"far\" + 0.009*\"reasonable\" + 0.008*\"okay\" + 0.003*\"date\" + '\n",
      "  '0.000*\"tablet\" + 0.000*\"old\"'),\n",
      " (5,\n",
      "  '0.236*\"want\" + 0.147*\"son\" + 0.133*\"battery\" + 0.099*\"life\" + '\n",
      "  '0.076*\"awesome\" + 0.072*\"have\" + 0.060*\"expect\" + 0.046*\"pleased\" + '\n",
      "  '0.041*\"10\" + 0.033*\"end\"'),\n",
      " (6,\n",
      "  '0.209*\"kid\" + 0.162*\"get\" + 0.094*\"8\" + 0.066*\"set\" + 0.050*\"go\" + '\n",
      "  '0.038*\"storage\" + 0.035*\"3\" + 0.034*\"know\" + 0.026*\"better\" + '\n",
      "  '0.024*\"start\"'),\n",
      " (7,\n",
      "  '0.199*\"size\" + 0.184*\"recommend\" + 0.116*\"7\" + 0.056*\"try\" + 0.043*\"option\" '\n",
      "  '+ 0.043*\"highly\" + 0.042*\"etc\" + 0.039*\"cost\" + 0.038*\"bit\" + 0.036*\"high\"'),\n",
      " (8,\n",
      "  '0.638*\"use\" + 0.140*\"device\" + 0.058*\"day\" + 0.052*\"low\" + '\n",
      "  '0.033*\"expensive\" + 0.019*\"one\" + 0.013*\"night\" + 0.009*\"kind\" + '\n",
      "  '0.008*\"switch\" + 0.005*\"recharge\"'),\n",
      " (9,\n",
      "  '0.593*\"great\" + 0.214*\"price\" + 0.177*\"product\" + 0.000*\"tablet\" + '\n",
      "  '0.000*\"screen\" + 0.000*\"read\" + 0.000*\"app\" + 0.000*\"book\" + 0.000*\"old\" + '\n",
      "  '0.000*\"kindle\"'),\n",
      " (10,\n",
      "  '0.696*\"good\" + 0.116*\"price\" + 0.089*\"2\" + 0.044*\"simple\" + '\n",
      "  '0.032*\"inexpensive\" + 0.000*\"clock\" + 0.000*\"tablet\" + 0.000*\"app\" + '\n",
      "  '0.000*\"old\" + 0.000*\"screen\"'),\n",
      " (11,\n",
      "  '0.402*\"like\" + 0.167*\"lot\" + 0.161*\"fast\" + 0.052*\"hold\" + '\n",
      "  '0.052*\"definitely\" + 0.043*\"online\" + 0.038*\"different\" + '\n",
      "  '0.023*\"electronic\" + 0.018*\"search\" + 0.009*\"20\"'),\n",
      " (12,\n",
      "  '0.535*\"Amazon\" + 0.261*\"perfect\" + 0.093*\"cheap\" + 0.063*\"fine\" + '\n",
      "  '0.014*\"non\" + 0.000*\"tablet\" + 0.000*\"app\" + 0.000*\"Fire\" + 0.000*\"read\" + '\n",
      "  '0.000*\"screen\"'),\n",
      " (13,\n",
      "  '0.658*\"love\" + 0.097*\"look\" + 0.055*\"money\" + 0.042*\"issue\" + 0.041*\"beat\" '\n",
      "  '+ 0.020*\"home\" + 0.018*\"spend\" + 0.016*\"daily\" + 0.011*\"probably\" + '\n",
      "  '0.008*\"save\"'),\n",
      " (14,\n",
      "  '0.330*\"happy\" + 0.219*\"long\" + 0.100*\"second\" + 0.093*\"thank\" + '\n",
      "  '0.056*\"order\" + 0.044*\"brand\" + 0.042*\"battery\" + 0.034*\"disappoint\" + '\n",
      "  '0.015*\"half\" + 0.003*\"name\"'),\n",
      " (15,\n",
      "  '0.598*\"thing\" + 0.295*\"camera\" + 0.000*\"aa\" + 0.000*\"tablet\" + 0.000*\"app\" '\n",
      "  '+ 0.000*\"screen\" + 0.000*\"read\" + 0.000*\"old\" + 0.000*\"Kindle\" + '\n",
      "  '0.000*\"book\"'),\n",
      " (16,\n",
      "  '0.140*\"need\" + 0.124*\"time\" + 0.120*\"gift\" + 0.094*\"new\" + 0.057*\"charge\" + '\n",
      "  '0.046*\"small\" + 0.044*\"control\" + 0.038*\"give\" + 0.036*\"4\" + '\n",
      "  '0.033*\"available\"'),\n",
      " (17,\n",
      "  '0.224*\"case\" + 0.193*\"take\" + 0.129*\"worth\" + 0.088*\"review\" + '\n",
      "  '0.074*\"decent\" + 0.061*\"purpose\" + 0.031*\"provide\" + 0.030*\"application\" + '\n",
      "  '0.022*\"future\" + 0.019*\"trouble\"'),\n",
      " (18,\n",
      "  '0.314*\"come\" + 0.240*\"value\" + 0.152*\"say\" + 0.100*\"faster\" + 0.090*\"100\" + '\n",
      "  '0.018*\"pack\" + 0.000*\"tablet\" + 0.000*\"app\" + 0.000*\"screen\" + 0.000*\"$\"'),\n",
      " (19,\n",
      "  '0.199*\"little\" + 0.170*\"amazon\" + 0.163*\"find\" + 0.145*\"able\" + '\n",
      "  '0.109*\"pretty\" + 0.103*\"deal\" + 0.031*\"exactly\" + 0.024*\"believe\" + '\n",
      "  '0.010*\"opinion\" + 0.003*\"shipping\"')]\n"
     ]
    }
   ],
   "source": [
    "# View the top 10 words per topic\n",
    "pprint(lda.print_topics())"
   ]
  },
  {
   "cell_type": "code",
   "execution_count": 62,
   "metadata": {},
   "outputs": [
    {
     "data": {
      "text/plain": [
       "[(0, 0.38125157), (4, 0.13125086), (6, 0.13124628), (14, 0.2562502)]"
      ]
     },
     "execution_count": 62,
     "metadata": {},
     "output_type": "execute_result"
    }
   ],
   "source": [
    "# Extract Document-Topic distributions for each document in corpus\n",
    "doc_lda = lda[corpus]\n",
    "doc_lda[0][0]"
   ]
  },
  {
   "cell_type": "code",
   "execution_count": 63,
   "metadata": {},
   "outputs": [
    {
     "data": {
      "text/plain": [
       "[(0, 0.1605265),\n",
       " (1, 0.055238485),\n",
       " (2, 0.0552657),\n",
       " (3, 0.10790092),\n",
       " (4, 0.05526493),\n",
       " (5, 0.13579938),\n",
       " (10, 0.055266194),\n",
       " (11, 0.10790033),\n",
       " (12, 0.055266116),\n",
       " (14, 0.1326288),\n",
       " (16, 0.055257045)]"
      ]
     },
     "execution_count": 63,
     "metadata": {},
     "output_type": "execute_result"
    }
   ],
   "source": [
    "doc_lda[5][0]"
   ]
  },
  {
   "cell_type": "code",
   "execution_count": 64,
   "metadata": {},
   "outputs": [
    {
     "name": "stdout",
     "output_type": "stream",
     "text": [
      "\n",
      "Perplexity:  -16.55147961928525\n",
      "\n",
      "Coherence Score:  0.4096211961220223\n"
     ]
    }
   ],
   "source": [
    "# Compute Perplexity\n",
    "print('\\nPerplexity: ', lda.log_perplexity(corpus))  # a measure of how good the model is. lower the better.\n",
    "\n",
    "# Compute Coherence Score\n",
    "coherence_model_lda = CoherenceModel(model=lda, \n",
    "                                     texts=df['lemmas'], \n",
    "                                     dictionary=id2word, \n",
    "                                     coherence='c_v')\n",
    "coherence_lda = coherence_model_lda.get_coherence()\n",
    "print('\\nCoherence Score: ', coherence_lda)"
   ]
  },
  {
   "cell_type": "code",
   "execution_count": null,
   "metadata": {},
   "outputs": [],
   "source": []
  },
  {
   "cell_type": "code",
   "execution_count": 65,
   "metadata": {},
   "outputs": [
    {
     "data": {
      "text/html": [
       "\n",
       "<link rel=\"stylesheet\" type=\"text/css\" href=\"https://cdn.rawgit.com/bmabey/pyLDAvis/files/ldavis.v1.0.0.css\">\n",
       "\n",
       "\n",
       "<div id=\"ldavis_el14624153332998880849262259\"></div>\n",
       "<script type=\"text/javascript\">\n",
       "\n",
       "var ldavis_el14624153332998880849262259_data = {\"mdsDat\": {\"x\": [0.055240360220321486, 0.054898439883556305, 0.07922381656633777, 0.06027526152923965, -0.38362416067345206, 0.060792271188118335, 0.05593813137489042, -0.2850924053115703, 0.057387887216808514, -0.19411676711296347, 0.08572599019429294, 0.06048066498367445, 0.06023936959874055, 0.060132321748855626, 0.06278664766910727, -0.17082396646379205, 0.06542779774654707, 0.06936872179281081, 0.07223368008343606, 0.0735059377650411], \"y\": [-0.08154580228152906, -0.08626587740684127, 0.06181817808985636, -0.09510889400719962, -0.04955143694821289, -0.08851019409799232, -0.06940539302354708, -0.26309990740978834, -0.052840572071455344, 0.24638218422586333, 0.09121199434277422, -0.02278204758244561, -0.02385786901039309, -0.024787763458177025, 0.00021841620918371053, 0.2478531900159017, 0.021567993932705958, 0.049412056861265485, 0.06632149446753517, 0.07297024915249603], \"topics\": [1, 2, 3, 4, 5, 6, 7, 8, 9, 10, 11, 12, 13, 14, 15, 16, 17, 18, 19, 20], \"cluster\": [1, 1, 1, 1, 1, 1, 1, 1, 1, 1, 1, 1, 1, 1, 1, 1, 1, 1, 1, 1], \"Freq\": [8.793082237243652, 8.527132987976074, 7.1172685623168945, 6.6885247230529785, 6.325348377227783, 6.058249473571777, 5.94321870803833, 5.525770664215088, 5.353965759277344, 5.0376715660095215, 4.612555503845215, 4.56453800201416, 4.4377923011779785, 4.240442276000977, 3.726991653442383, 3.4473519325256348, 3.268324613571167, 2.729426622390747, 2.159796714782715, 1.4425445795059204]}, \"tinfo\": {\"Term\": [\"love\", \"great\", \"good\", \"use\", \"buy\", \"easy\", \"Amazon\", \"like\", \"work\", \"happy\", \"purchase\", \"want\", \"price\", \"kid\", \"game\", \"year\", \"nice\", \"thing\", \"get\", \"play\", \"perfect\", \"long\", \"product\", \"need\", \"size\", \"son\", \"time\", \"come\", \"recommend\", \"gift\", \"need\", \"time\", \"gift\", \"new\", \"charge\", \"small\", \"control\", \"give\", \"4\", \"available\", \"basic\", \"large\", \"hour\", \"tv\", \"hand\", \"replacement\", \"quickly\", \"power\", \"week\", \"strong\", \"gaming\", \"alternative\", \"useful\", \"box\", \"base\", \"realize\", \"suppose\", \"usage\", \"cause\", \"wireless\", \"kid\", \"get\", \"8\", \"set\", \"go\", \"storage\", \"3\", \"know\", \"better\", \"start\", \"especially\", \"feel\", \"6\", \"family\", \"hard\", \"super\", \"month\", \"plenty\", \"1\", \"pick\", \"last\", \"sell\", \"couple\", \"change\", \"handy\", \"hit\", \"fantastic\", \"holiday\", \"toy\", \"maybe\", \"want\", \"son\", \"life\", \"awesome\", \"have\", \"expect\", \"pleased\", \"10\", \"end\", \"car\", \"short\", \"house\", \"shelf\", \"battery\", \"tablet\", \"enjoy\", \"movie\", \"old\", \"upgrade\", \"book\", \"screen\", \"Tablet\", \"pay\", \"absolutely\", \"check\", \"watch\", \"show\", \"beautiful\", \"access\", \"surprise\", \"Kindle\", \"fire\", \"kindle\", \"read\", \"Fire\", \"app\", \"$\", \"download\", \"purchase\", \"year\", \"well\", \"child\", \"store\", \"sure\", \"not\", \"compare\", \"let\", \"will\", \"quick\", \"satisfied\", \"keyboard\", \"job\", \"ago\", \"convenient\", \"share\", \"count\", \"ship\", \"comment\", \"door\", \"delivery\", \"pricing\", \"-PRON-\", \"blow\", \"way\", \"old\", \"app\", \"fire\", \"Kindle\", \"tablet\", \"screen\", \"product\", \"great\", \"price\", \"tablet\", \"web\", \"surf\", \"reading\", \"feature\", \"user\", \"picture\", \"offer\", \"reader\", \"Friday\", \"ipad\", \"friendly\", \"internet\", \"advertising\", \"color\", \"tool\", \"Black\", \"service\", \"annoying\", \"person\", \"entertainment\", \"overall\", \"lightweight\", \"display\", \"point\", \"hd\", \"savvy\", \"memory\", \"screen\", \"kindle\", \"read\", \"book\", \"iPad\", \"watch\", \"app\", \"fire\", \"Kindle\", \"movie\", \"Fire\", \"old\", \"video\", \"enjoy\", \"download\", \"big\", \"buy\", \"play\", \"replace\", \"right\", \"run\", \"decide\", \"experience\", \"past\", \"buck\", \"place\", \"local\", \"package\", \"bargain\", \"nicely\", \"bang\", \"tired\", \"way\", \"old\", \"kindle\", \"Kindle\", \"daughter\", \"wife\", \"feature\", \"book\", \"tab\", \"card\", \"amazed\", \"sd\", \"fire\", \"google\", \"watch\", \"read\", \"enjoy\", \"Fire\", \"tablet\", \"app\", \"screen\", \"love\", \"look\", \"money\", \"issue\", \"beat\", \"home\", \"spend\", \"daily\", \"probably\", \"save\", \"type\", \"appear\", \"stock\", \"kindle\", \"daughter\", \"wife\", \"book\", \"old\", \"absolutely\", \"granddaughter\", \"fact\", \"niece\", \"9\", \"surf\", \"read\", \"phone\", \"grandson\", \"bring\", \"grandkid\", \"birthday\", \"web\", \"Fire\", \"tablet\", \"Kindle\", \"fire\", \"feature\", \"watch\", \"app\", \"screen\", \"iPad\", \"big\", \"download\", \"work\", \"game\", \"Christmas\", \"far\", \"reasonable\", \"okay\", \"date\", \"great\", \"old\", \"book\", \"app\", \"present\", \"access\", \"tablet\", \"watch\", \"reading\", \"movie\", \"playing\", \"daughter\", \"problem\", \"load\", \"learning\", \"enjoy\", \"check\", \"internet\", \"grandson\", \"Apps\", \"individual\", \"class\", \"functionality\", \"computer\", \"fire\", \"read\", \"download\", \"Kindle\", \"video\", \"screen\", \"Fire\", \"kindle\", \"use\", \"device\", \"day\", \"low\", \"expensive\", \"one\", \"night\", \"kind\", \"switch\", \"recharge\", \"put\", \"book\", \"web\", \"reading\", \"enjoy\", \"email\", \"read\", \"reader\", \"internet\", \"Games\", \"movie\", \"class\", \"ease\", \"travel\", \"individual\", \"learn\", \"return\", \"table\", \"watch\", \"stream\", \"Netflix\", \"app\", \"Kindle\", \"tablet\", \"kindle\", \"download\", \"fire\", \"old\", \"Fire\", \"screen\", \"iPad\", \"video\", \"good\", \"2\", \"simple\", \"inexpensive\", \"clock\", \"price\", \"tablet\", \"video\", \"Buy\", \"overall\", \"iPad\", \"app\", \"resolution\", \"Friday\", \"browsing\", \"budget\", \"responsive\", \"grip\", \"point\", \"loosen\", \"require\", \"hoop\", \"tie\", \"lag\", \"certain\", \"yr\", \"watch\", \"market\", \"sale\", \"black\", \"feature\", \"problem\", \"reading\", \"screen\", \"old\", \"$\", \"read\", \"book\", \"fire\", \"picture\", \"free\", \"kindle\", \"Fire\", \"Kindle\", \"movie\", \"download\", \"happy\", \"long\", \"second\", \"thank\", \"order\", \"brand\", \"disappoint\", \"half\", \"name\", \"battery\", \"Kindle\", \"kindle\", \"lasting\", \"help\", \"wait\", \"friendly\", \"clear\", \"best\", \"upgrade\", \"grandson\", \"user\", \"service\", \"Mom\", \"display\", \"trip\", \"response\", \"streaming\", \"Fire\", \"extra\", \"actually\", \"book\", \"sale\", \"read\", \"fire\", \"screen\", \"video\", \"old\", \"tablet\", \"app\", \"big\", \"watch\", \"movie\", \"feature\", \"download\", \"size\", \"recommend\", \"7\", \"try\", \"option\", \"highly\", \"etc\", \"cost\", \"bit\", \"high\", \"bright\", \"dollar\", \"longer\", \"away\", \"perform\", \"mainly\", \"finally\", \"capacity\", \"sit\", \"12\", \"fully\", \"rate\", \"average\", \"premium\", \"equipment\", \"significantly\", \"Battery\", \"tablet\", \"screen\", \"fire\", \"like\", \"lot\", \"fast\", \"hold\", \"definitely\", \"online\", \"different\", \"electronic\", \"search\", \"20\", \"likely\", \"comparable\", \"household\", \"Xbox\", \"trust\", \"read\", \"book\", \"tablet\", \"feature\", \"Kindle\", \"app\", \"learn\", \"fire\", \"download\", \"big\", \"wife\", \"enjoy\", \"e\", \"screen\", \"watch\", \"Fire\", \"kindle\", \"old\", \"movie\", \"easy\", \"quality\", \"item\", \"amazing\", \"affordable\", \"update\", \"bad\", \"everyday\", \"difference\", \"consider\", \"notice\", \"certainly\", \"bulk\", \"navigate\", \"read\", \"picture\", \"screen\", \"setup\", \"make\", \"weekend\", \"operate\", \"reader\", \"carry\", \"maneuver\", \"graphic\", \"eye\", \"Black\", \"purse\", \"clear\", \"64\", \"Friday\", \"enjoy\", \"Kindle\", \"old\", \"book\", \"Fire\", \"tablet\", \"fire\", \"feature\", \"access\", \"download\", \"app\", \"kindle\", \"movie\", \"watch\", \"Amazon\", \"perfect\", \"cheap\", \"fine\", \"non\", \"tablet\", \"app\", \"Fire\", \"Prime\", \"movie\", \"account\", \"iPad\", \"resolution\", \"tie\", \"Google\", \"responsive\", \"internet\", \"member\", \"HD\", \"HD8\", \"hoop\", \"require\", \"access\", \"loosen\", \"grip\", \"ad\", \"read\", \"free\", \"download\", \"oh\", \"book\", \"screen\", \"watch\", \"video\", \"old\", \"Kindle\", \"fire\", \"feature\", \"$\", \"kindle\", \"nice\", \"light\", \"think\", \"excellent\", \"fit\", \"performance\", \"ok\", \"arrive\", \"price\", \"tablet\", \"screen\", \"read\", \"weight\", \"view\", \"browsing\", \"library\", \"browse\", \"display\", \"area\", \"feature\", \"internet\", \"reader\", \"video\", \"resolution\", \"purse\", \"model\", \"app\", \"keep\", \"ebook\", \"main\", \"friendly\", \"Kindle\", \"fire\", \"iPad\", \"book\", \"kindle\", \"Fire\", \"old\", \"download\", \"enjoy\", \"little\", \"amazon\", \"find\", \"able\", \"pretty\", \"deal\", \"exactly\", \"believe\", \"opinion\", \"shipping\", \"led\", \"condition\", \"cold\", \"candle\", \"app\", \"prime\", \"movie\", \"ad\", \"Friday\", \"surf\", \"google\", \"slow\", \"limited\", \"web\", \"Black\", \"tablet\", \"language\", \"watch\", \"music\", \"capability\", \"download\", \"book\", \"kindle\", \"fire\", \"screen\", \"read\", \"old\", \"iPad\", \"Kindle\", \"free\", \"Fire\", \"case\", \"take\", \"worth\", \"review\", \"decent\", \"purpose\", \"provide\", \"application\", \"future\", \"trouble\", \"mean\", \"test\", \"important\", \"list\", \"popular\", \"plastic\", \"energy\", \"sale\", \"protective\", \"serve\", \"drop\", \"freeze\", \"problem\", \"word\", \"tell\", \"3-year\", \"picture\", \"protect\", \"shoot\", \"frequently\", \"protection\", \"pay\", \"read\", \"daughter\", \"kindle\", \"tablet\", \"screen\", \"download\", \"old\", \"app\", \"book\", \"Kindle\", \"fire\", \"Fire\", \"come\", \"value\", \"say\", \"faster\", \"100\", \"pack\", \"$\", \"Tablet\", \"process\", \"Facebook\", \"bill\", \"Google\", \"beautiful\", \"absolutely\", \"show\", \"check\", \"pay\", \"watch\", \"movie\", \"screen\", \"128\", \"accommodate\", \"stick\", \"gig\", \"warranty\", \"respond\", \"fire\", \"instruction\", \"hd7\", \"step\", \"app\", \"load\", \"tablet\", \"old\", \"Fire\", \"Kindle\", \"feature\", \"memory\", \"free\", \"kindle\", \"read\", \"book\", \"thing\", \"camera\", \"aa\", \"picture\", \"download\", \"phone\", \"learn\", \"sharp\", \"overall\", \"figure\", \"$\", \"computer\", \"web\", \"add\", \"rear\", \"card\", \"terrific\", \"complain\", \"freeze\", \"move\", \"slow\", \"sunlight\", \"trip\", \"android\", \"tho\", \"help\", \"certain\", \"Play\", \"numerous\", \"table\", \"iPad\", \"music\", \"screen\", \"app\", \"read\", \"Kindle\", \"free\", \"tablet\", \"kindle\", \"book\", \"enjoy\", \"fire\", \"old\", \"Fire\", \"feature\", \"video\", \"movie\", \"watch\"], \"Freq\": [12622.0, 15189.0, 11303.0, 11015.0, 10275.0, 8060.0, 6435.0, 5759.0, 5392.0, 4910.0, 5403.0, 5420.0, 7399.0, 5748.0, 4557.0, 4618.0, 3522.0, 2782.0, 4454.0, 3875.0, 3139.0, 3267.0, 3606.0, 3971.0, 2929.0, 3368.0, 3518.0, 2189.0, 2705.0, 3403.0, 3969.3408203125, 3516.626220703125, 3401.533203125, 2679.84375, 1624.7254638671875, 1316.6630859375, 1257.40576171875, 1071.629150390625, 1022.1242065429688, 924.7512817382812, 862.3314208984375, 842.7811889648438, 683.3201904296875, 623.3025512695312, 576.2093505859375, 559.3427124023438, 439.84600830078125, 413.7174072265625, 349.6212463378906, 299.22686767578125, 293.18597412109375, 215.97677612304688, 179.2629852294922, 151.18846130371094, 131.54266357421875, 119.09001922607422, 107.32405090332031, 99.88878631591797, 87.41324615478516, 84.91284942626953, 5746.46630859375, 4452.82861328125, 2576.40869140625, 1817.39208984375, 1387.5213623046875, 1052.2783203125, 972.6200561523438, 944.5684204101562, 706.8150634765625, 646.904052734375, 576.343994140625, 569.3712158203125, 535.4705200195312, 519.5592041015625, 479.9522705078125, 468.8907775878906, 375.0738220214844, 357.5652770996094, 350.9538879394531, 326.9826354980469, 324.32623291015625, 299.699951171875, 287.40948486328125, 249.97433471679688, 237.99261474609375, 192.99148559570312, 168.24681091308594, 135.38571166992188, 125.29888916015625, 86.34270477294922, 5418.28857421875, 3366.938720703125, 2268.2919921875, 1734.8594970703125, 1644.1146240234375, 1366.6185302734375, 1059.7664794921875, 945.0580444335938, 759.7691040039062, 282.2225036621094, 226.16554260253906, 223.05722045898438, 38.30198287963867, 3049.424072265625, 0.12753285467624664, 0.12611575424671173, 0.12612251937389374, 0.12634219229221344, 0.1260320246219635, 0.12625563144683838, 0.12629196047782898, 0.12601283192634583, 0.1260298788547516, 0.1259988248348236, 0.1259942501783371, 0.12610547244548798, 0.12599530816078186, 0.12595894932746887, 0.12602171301841736, 0.12594950199127197, 0.12619411945343018, 0.12615860998630524, 0.1261487603187561, 0.1262296438217163, 0.12614282965660095, 0.12623994052410126, 0.12603361904621124, 0.1260349005460739, 5401.47265625, 4616.85498046875, 2193.204345703125, 1750.026123046875, 1653.9346923828125, 710.616943359375, 549.0112915039062, 481.6678161621094, 426.569580078125, 394.546875, 392.7873229980469, 376.147216796875, 344.65020751953125, 335.7685852050781, 256.02105712890625, 203.47528076171875, 39.05488586425781, 31.84743309020996, 25.97007179260254, 17.187108993530273, 15.911346435546875, 15.829482078552246, 14.729852676391602, 13.500395774841309, 12.410513877868652, 934.5785522460938, 0.08100292086601257, 0.08074544370174408, 0.0806456208229065, 0.0806637555360794, 0.08143272250890732, 0.08066576719284058, 3604.607421875, 12092.6181640625, 4367.05126953125, 0.07524140179157257, 0.07404206693172455, 0.07401818037033081, 0.07403486967086792, 0.07406380772590637, 0.07401704788208008, 0.07401742786169052, 0.07399193197488785, 0.07400789856910706, 0.07399667054414749, 0.07399392873048782, 0.07399933785200119, 0.07401468604803085, 0.07397211343050003, 0.07399305701255798, 0.07397376745939255, 0.0739869475364685, 0.0739840492606163, 0.07397398352622986, 0.07397228479385376, 0.0739731565117836, 0.07400429993867874, 0.07397427409887314, 0.07399005442857742, 0.07397832721471786, 0.07400380820035934, 0.07396849244832993, 0.07399482280015945, 0.07413871586322784, 0.0740792527794838, 0.0741347223520279, 0.07410835474729538, 0.07401736080646515, 0.07404059916734695, 0.0741264820098877, 0.07406384497880936, 0.07406017184257507, 0.07401812076568604, 0.0740445926785469, 0.07408133894205093, 0.0740053579211235, 0.07400493323802948, 0.07400733977556229, 0.07400034368038177, 10273.6982421875, 3873.840087890625, 1113.3365478515625, 1042.7191162109375, 748.166259765625, 557.2255859375, 364.19561767578125, 203.04518127441406, 172.81854248046875, 167.64828491210938, 133.03147888183594, 87.3984375, 86.33187866210938, 62.812110900878906, 55.03890609741211, 36.87179946899414, 193.95822143554688, 0.08123013377189636, 0.081136055290699, 0.08114791661500931, 0.08102839440107346, 0.08100210130214691, 0.08103559166193008, 0.08113531768321991, 0.08095874637365341, 0.08099086582660675, 0.08094518631696701, 0.08095643669366837, 0.08109022676944733, 0.08096058666706085, 0.08103723078966141, 0.08113829791545868, 0.0810033455491066, 0.08106096088886261, 0.08166146278381348, 0.08112082630395889, 0.08106931298971176, 12620.876953125, 1853.01953125, 1055.0400390625, 807.74462890625, 790.7415161132812, 389.7567138671875, 344.2877197265625, 302.0358581542969, 217.35565185546875, 151.35035705566406, 142.98565673828125, 85.94279479980469, 73.1346206665039, 0.07377289235591888, 0.07369347661733627, 0.0736486092209816, 0.07377316057682037, 0.07380860298871994, 0.07361461222171783, 0.07361121475696564, 0.07360409945249557, 0.07359432429075241, 0.0735890120267868, 0.07359752058982849, 0.07376711070537567, 0.07360416650772095, 0.07359836995601654, 0.0735819935798645, 0.07358112186193466, 0.0735824778676033, 0.07361165434122086, 0.07369450479745865, 0.07437366992235184, 0.07370730489492416, 0.07368992269039154, 0.07363269478082657, 0.07364501804113388, 0.07370351254940033, 0.07368822395801544, 0.07362034171819687, 0.07361345738172531, 0.07361483573913574, 5390.890625, 4555.3515625, 2228.8330078125, 1842.0936279296875, 154.1686248779297, 141.3326873779297, 58.04865646362305, 3095.0927734375, 0.07862022519111633, 0.0785638764500618, 0.07860501855611801, 0.07838621735572815, 0.07841894030570984, 0.07930564880371094, 0.07846517860889435, 0.07840150594711304, 0.07844115793704987, 0.07836521416902542, 0.07841175049543381, 0.07838902622461319, 0.078379325568676, 0.07835705578327179, 0.07841651141643524, 0.07837214320898056, 0.07839015126228333, 0.07836492359638214, 0.0783434510231018, 0.07834075391292572, 0.07834240049123764, 0.07834547758102417, 0.07836185395717621, 0.07847395539283752, 0.07853160798549652, 0.07840694487094879, 0.07847566157579422, 0.07839763909578323, 0.0784837082028389, 0.07843833416700363, 0.07842052727937698, 11013.9931640625, 2422.693115234375, 1004.8746337890625, 895.5596313476562, 570.60791015625, 321.22161865234375, 225.87667846679688, 155.0490264892578, 135.92596435546875, 92.84695434570312, 77.13796997070312, 0.07767852395772934, 0.077542744576931, 0.07754040509462357, 0.07756415009498596, 0.07752887904644012, 0.07769620418548584, 0.07753168046474457, 0.07753940671682358, 0.07749274373054504, 0.07757321745157242, 0.07749459147453308, 0.07750025391578674, 0.07751776278018951, 0.07749027013778687, 0.07752364128828049, 0.07750264555215836, 0.0774955078959465, 0.07757727801799774, 0.07749208062887192, 0.07750824838876724, 0.07769705355167389, 0.07763510942459106, 0.07835536450147629, 0.07760936766862869, 0.07755234092473984, 0.0776018351316452, 0.07765792310237885, 0.07759308069944382, 0.07761899381875992, 0.07753227651119232, 0.07753205299377441, 11302.0380859375, 1441.285400390625, 717.3486328125, 525.997802734375, 1.580124855041504, 1885.3740234375, 0.08358467370271683, 0.08233455568552017, 0.08228152990341187, 0.08229704946279526, 0.08231811970472336, 0.08247874677181244, 0.082277312874794, 0.08226878196001053, 0.08224837481975555, 0.08224473148584366, 0.08224307745695114, 0.08223434537649155, 0.08224672824144363, 0.08223240077495575, 0.08223839104175568, 0.0822332575917244, 0.08223450928926468, 0.08223563432693481, 0.082236148416996, 0.08224394917488098, 0.08232706040143967, 0.08223043382167816, 0.0822606235742569, 0.08224565535783768, 0.0822991356253624, 0.08225993812084198, 0.08226381242275238, 0.08239378780126572, 0.08240722119808197, 0.08227745443582535, 0.0823860764503479, 0.08236332982778549, 0.08233033865690231, 0.08226136118173599, 0.08226203173398972, 0.08230838924646378, 0.08230632543563843, 0.08230513334274292, 0.08227483928203583, 0.08226387202739716, 4909.1240234375, 3265.390625, 1485.4620361328125, 1376.8470458984375, 830.3118896484375, 659.0046997070312, 508.38543701171875, 228.19485473632812, 44.586219787597656, 621.197998046875, 0.2088862955570221, 0.20879687368869781, 0.2084132432937622, 0.20846335589885712, 0.2084173560142517, 0.208462655544281, 0.20845936238765717, 0.20840568840503693, 0.20846150815486908, 0.2084299623966217, 0.20846566557884216, 0.20840969681739807, 0.20836901664733887, 0.20842789113521576, 0.20839358866214752, 0.20836026966571808, 0.20836757123470306, 0.20871871709823608, 0.20839418470859528, 0.2083863466978073, 0.20880775153636932, 0.20843420922756195, 0.2088092863559723, 0.2086641937494278, 0.2087821364402771, 0.20850244164466858, 0.20881590247154236, 0.2100939154624939, 0.20866267383098602, 0.20844918489456177, 0.20849065482616425, 0.2084781676530838, 0.20846959948539734, 0.2084648758172989, 2927.188232421875, 2703.886962890625, 1702.6424560546875, 825.1491088867188, 639.8294067382812, 636.2345581054688, 617.7167358398438, 576.8534545898438, 557.6799926757812, 523.1636352539062, 339.3342590332031, 338.4007263183594, 305.7238464355469, 261.2925109863281, 248.54193115234375, 238.21192932128906, 206.35755920410156, 150.11105346679688, 140.16616821289062, 136.7689971923828, 105.90017700195312, 63.156715393066406, 37.92081832885742, 27.71687889099121, 18.50119400024414, 12.933732986450195, 9.447062492370605, 0.0830286517739296, 0.08222336322069168, 0.08212623000144958, 5758.00634765625, 2388.450927734375, 2298.686279296875, 746.7489624023438, 738.4766845703125, 611.0220947265625, 542.8956298828125, 322.6286926269531, 259.31842041015625, 124.10645294189453, 70.57835388183594, 33.3338737487793, 27.23398208618164, 12.88072681427002, 4.086845397949219, 0.08280321210622787, 0.08274500072002411, 0.08352185040712357, 0.0826081931591034, 0.08265924453735352, 0.08272504061460495, 0.08252279460430145, 0.08263146132230759, 0.08255812525749207, 0.08252984285354614, 0.08252042531967163, 0.08254009485244751, 0.08249729126691818, 0.08267739415168762, 0.08256803452968597, 0.08261077105998993, 0.08260393887758255, 0.08266007900238037, 0.08254104107618332, 8058.833984375, 1647.0047607421875, 886.369873046875, 674.6007690429688, 455.8335876464844, 425.54705810546875, 321.84503173828125, 276.6194763183594, 250.32247924804688, 170.88259887695312, 90.65433502197266, 38.124385833740234, 23.234134674072266, 0.07853970676660538, 0.07871077954769135, 0.07854364067316055, 0.07869922369718552, 0.0785045474767685, 0.078518345952034, 0.07849302142858505, 0.07849468290805817, 0.07852408289909363, 0.07850334048271179, 0.07848630845546722, 0.07849428802728653, 0.07848978042602539, 0.0785023495554924, 0.07848673313856125, 0.07851120829582214, 0.07848510891199112, 0.07850594818592072, 0.07854311168193817, 0.07862551510334015, 0.07867431640625, 0.07862886041402817, 0.07859695702791214, 0.07922123372554779, 0.07859037816524506, 0.07854286581277847, 0.07852254807949066, 0.0785355418920517, 0.07860726863145828, 0.0785580426454544, 0.07853639125823975, 0.07852980494499207, 6434.12158203125, 3137.18505859375, 1116.7442626953125, 753.9490356445312, 168.9122314453125, 0.0915185958147049, 0.0903506726026535, 0.09023956209421158, 0.09007205069065094, 0.09008167684078217, 0.09001067280769348, 0.09005541354417801, 0.09001505374908447, 0.08998214453458786, 0.09001804888248444, 0.08998563140630722, 0.09002697467803955, 0.08999515324831009, 0.08999915421009064, 0.08999808877706528, 0.08997222781181335, 0.08997754007577896, 0.09002368897199631, 0.08996764570474625, 0.08996764570474625, 0.0899886041879654, 0.09019230306148529, 0.09001074731349945, 0.09004494547843933, 0.08995939791202545, 0.09015674889087677, 0.09017591178417206, 0.09006425738334656, 0.0900297611951828, 0.09014441072940826, 0.09008260071277618, 0.0900641679763794, 0.09001132100820541, 0.08999931812286377, 0.09000371396541595, 3520.36279296875, 1980.8951416015625, 1389.5419921875, 1118.6456298828125, 548.8115844726562, 470.8240966796875, 441.57769775390625, 76.83293151855469, 1145.062744140625, 0.0949949100613594, 0.09394843876361847, 0.09395083785057068, 0.0937281996011734, 0.09369800984859467, 0.09368757903575897, 0.09368892759084702, 0.09367361664772034, 0.09368949383497238, 0.09365979582071304, 0.09374380856752396, 0.09370799362659454, 0.0936899334192276, 0.09372341632843018, 0.09367692470550537, 0.0936470776796341, 0.0936742052435875, 0.09390320628881454, 0.09366721659898758, 0.09364436566829681, 0.09364453703165054, 0.09367338567972183, 0.09382317960262299, 0.09378401935100555, 0.09370411187410355, 0.09380310028791428, 0.09376706928014755, 0.09376581758260727, 0.09382054954767227, 0.09369613975286484, 0.09369076043367386, 2094.3037109375, 1796.6396484375, 1713.3963623046875, 1530.2479248046875, 1143.8369140625, 1088.95947265625, 328.8336181640625, 247.8931884765625, 100.56160736083984, 32.8315544128418, 12.808938980102539, 9.713950157165527, 1.2020548582077026, 0.34162235260009766, 0.09707493335008621, 0.09678518027067184, 0.09686017781496048, 0.0967683270573616, 0.09676958620548248, 0.0967610776424408, 0.09675690531730652, 0.09676828980445862, 0.0967421755194664, 0.09677674621343613, 0.096750408411026, 0.09788050502538681, 0.09672214835882187, 0.09683886170387268, 0.0967603400349617, 0.09672755002975464, 0.09680987894535065, 0.09692603349685669, 0.09687045216560364, 0.09686879813671112, 0.09691748768091202, 0.0969134271144867, 0.09686944633722305, 0.09678056836128235, 0.09679576009511948, 0.09677106142044067, 0.09677745401859283, 1972.63427734375, 1702.7249755859375, 1133.3309326171875, 777.5169677734375, 648.63720703125, 537.0227661132812, 272.8206481933594, 260.57623291015625, 194.6063995361328, 168.90109252929688, 164.15643310546875, 129.1075439453125, 123.08015441894531, 82.74351501464844, 62.60603332519531, 37.687984466552734, 11.51623249053955, 0.11528602242469788, 0.11523941904306412, 0.11522088944911957, 0.1152351126074791, 0.11522349715232849, 0.1152573749423027, 0.11520995199680328, 0.11522377282381058, 0.11520639806985855, 0.11526668816804886, 0.11521021276712418, 0.11520258337259293, 0.11520469188690186, 0.1152106523513794, 0.11525355279445648, 0.11545469611883163, 0.11527010798454285, 0.11535821110010147, 0.11620815098285675, 0.11541415005922318, 0.11528634279966354, 0.11541953682899475, 0.11539336293935776, 0.1153508648276329, 0.11530672758817673, 0.11528533697128296, 0.11527668684720993, 2187.836669921875, 1675.11083984375, 1057.1807861328125, 698.8452758789062, 627.8237915039062, 123.64344787597656, 0.1310219019651413, 0.13096152245998383, 0.13083070516586304, 0.13083629310131073, 0.13082653284072876, 0.130870059132576, 0.1308201402425766, 0.1308400183916092, 0.13084572553634644, 0.1308353692293167, 0.13085706532001495, 0.13094119727611542, 0.13090620934963226, 0.1310812383890152, 0.13075275719165802, 0.1307385116815567, 0.13074207305908203, 0.13073933124542236, 0.13075949251651764, 0.1307385116815567, 0.13095644116401672, 0.13072828948497772, 0.13071690499782562, 0.13072438538074493, 0.13108360767364502, 0.13076086342334747, 0.13215717673301697, 0.13101430237293243, 0.13089758157730103, 0.13090011477470398, 0.13080823421478271, 0.13076913356781006, 0.1307753622531891, 0.13082168996334076, 0.13083882629871368, 0.13080711662769318, 2780.2587890625, 1374.5792236328125, 1.9980400800704956, 0.10886768996715546, 0.10890351235866547, 0.10883823037147522, 0.10884398967027664, 0.10878986865282059, 0.1088312640786171, 0.10878505557775497, 0.10884865373373032, 0.10879801213741302, 0.1088193878531456, 0.10880608856678009, 0.10876383632421494, 0.10881217569112778, 0.10876023024320602, 0.10876345634460449, 0.10876882076263428, 0.10875625163316727, 0.10879025608301163, 0.10875198245048523, 0.10877081006765366, 0.10877645015716553, 0.10875308513641357, 0.10878752917051315, 0.10875962674617767, 0.10876327008008957, 0.10874775797128677, 0.1087614893913269, 0.10883288085460663, 0.10878944396972656, 0.1090058907866478, 0.10902512818574905, 0.10899201780557632, 0.10893919318914413, 0.1088000014424324, 0.10974642634391785, 0.10889599472284317, 0.10893558710813522, 0.1088218092918396, 0.10888849943876266, 0.10896116495132446, 0.1088767871260643, 0.10882454365491867, 0.10881000757217407, 0.1088118776679039, 0.10880754888057709], \"Total\": [12622.0, 15189.0, 11303.0, 11015.0, 10275.0, 8060.0, 6435.0, 5759.0, 5392.0, 4910.0, 5403.0, 5420.0, 7399.0, 5748.0, 4557.0, 4618.0, 3522.0, 2782.0, 4454.0, 3875.0, 3139.0, 3267.0, 3606.0, 3971.0, 2929.0, 3368.0, 3518.0, 2189.0, 2705.0, 3403.0, 3971.18115234375, 3518.466552734375, 3403.37353515625, 2681.68408203125, 1626.5662841796875, 1318.50390625, 1259.24658203125, 1073.469970703125, 1023.9647827148438, 926.5918579101562, 864.1719970703125, 844.6217651367188, 685.1607666015625, 625.1431274414062, 578.0499267578125, 561.1832885742188, 441.6866149902344, 415.5580139160156, 351.46185302734375, 301.0674743652344, 295.0265808105469, 217.8174285888672, 181.1036376953125, 153.02911376953125, 133.38331604003906, 120.93067932128906, 109.16471099853516, 101.72944641113281, 89.25390625, 86.75350952148438, 5748.3154296875, 4454.677734375, 2578.25634765625, 1819.240234375, 1389.3695068359375, 1054.12646484375, 974.468017578125, 946.4163818359375, 708.6630249023438, 648.7520141601562, 578.1919555664062, 571.2191772460938, 537.3184814453125, 521.4071655273438, 481.8002014160156, 470.73870849609375, 376.9217529296875, 359.4132080078125, 352.80181884765625, 328.83056640625, 326.1741638183594, 301.5478820800781, 289.2574157714844, 251.82232666015625, 239.84060668945312, 194.8394775390625, 170.0948028564453, 137.23370361328125, 127.14688873291016, 88.19070434570312, 5420.09375, 3368.7421875, 2270.095458984375, 1736.6636962890625, 1645.9188232421875, 1368.4227294921875, 1061.5706787109375, 946.8619995117188, 761.5730590820312, 284.0264587402344, 227.96954345703125, 224.86122131347656, 40.10597229003906, 3672.21728515625, 1.9529942274093628, 1.93156099319458, 1.9319664239883423, 1.9353740215301514, 1.9308158159255981, 1.9342612028121948, 1.934840202331543, 1.930592656135559, 1.9309210777282715, 1.9304766654968262, 1.9305658340454102, 1.9323028326034546, 1.9306726455688477, 1.9301680326461792, 1.9311312437057495, 1.9300333261489868, 1.933841586112976, 1.933402180671692, 1.9332674741744995, 1.9349219799041748, 1.9333523511886597, 1.93538498878479, 1.9314112663269043, 1.931807041168213, 5403.32275390625, 4618.705078125, 2195.05322265625, 1751.8758544921875, 1655.784423828125, 712.4663696289062, 550.8607177734375, 483.5172119140625, 428.4189758300781, 396.3962707519531, 394.63671875, 377.9966125488281, 346.4996032714844, 337.61798095703125, 257.8704528808594, 205.32473754882812, 40.904319763183594, 33.696868896484375, 27.819509506225586, 19.03654670715332, 17.760784149169922, 17.67892074584961, 16.57929229736328, 15.349834442138672, 14.259952545166016, 1130.3055419921875, 1.9353740215301514, 1.93538498878479, 1.933402180671692, 1.933841586112976, 1.9529942274093628, 1.934840202331543, 3606.462890625, 15189.4873046875, 7399.16943359375, 1.9529942274093628, 1.930946707725525, 1.9304600954055786, 1.9309040307998657, 1.9317882061004639, 1.9308831691741943, 1.9309709072113037, 1.930316686630249, 1.9308582544326782, 1.9305691719055176, 1.9304988384246826, 1.9306715726852417, 1.9310986995697021, 1.929998517036438, 1.930546522140503, 1.9300800561904907, 1.930442452430725, 1.9303709268569946, 1.930112600326538, 1.930087685585022, 1.930130958557129, 1.930956482887268, 1.930177092552185, 1.9306018352508545, 1.930321455001831, 1.930999755859375, 1.9300833940505981, 1.9308123588562012, 1.934840202331543, 1.9332674741744995, 1.9349219799041748, 1.9342612028121948, 1.9315199851989746, 1.9323028326034546, 1.93538498878479, 1.933402180671692, 1.933841586112976, 1.9319664239883423, 1.9333523511886597, 1.9353740215301514, 1.9315989017486572, 1.93156099319458, 1.931807041168213, 1.9311681985855103, 10275.544921875, 3875.6884765625, 1115.185791015625, 1044.568359375, 750.0151977539062, 559.0745239257812, 366.0445556640625, 204.89419555664062, 174.6675567626953, 169.49729919433594, 134.8804931640625, 89.2474365234375, 88.18087768554688, 64.6611099243164, 56.88788986206055, 38.72078323364258, 1130.3055419921875, 1.9353740215301514, 1.9332674741744995, 1.933841586112976, 1.9313163757324219, 1.930986762046814, 1.9317882061004639, 1.9342612028121948, 1.930118441581726, 1.9309172630310059, 1.9299373626708984, 1.930212140083313, 1.933402180671692, 1.9303817749023438, 1.9323028326034546, 1.9349219799041748, 1.93156099319458, 1.9333523511886597, 1.9529942274093628, 1.93538498878479, 1.934840202331543, 12622.7314453125, 1854.8760986328125, 1056.8966064453125, 809.6008911132812, 792.5977783203125, 391.613037109375, 346.14404296875, 303.8921813964844, 219.21202087402344, 153.20672607421875, 144.84202575683594, 87.79914855957031, 74.99097442626953, 1.9332674741744995, 1.9313163757324219, 1.930986762046814, 1.9342612028121948, 1.9353740215301514, 1.9304766654968262, 1.9304310083389282, 1.9303793907165527, 1.9301576614379883, 1.930235505104065, 1.9304600954055786, 1.9349219799041748, 1.930673360824585, 1.9305500984191895, 1.9301278591156006, 1.9301146268844604, 1.9301620721817017, 1.930946707725525, 1.9333523511886597, 1.9529942274093628, 1.933841586112976, 1.933402180671692, 1.9317882061004639, 1.9323028326034546, 1.93538498878479, 1.934840202331543, 1.9315199851989746, 1.9311681985855103, 1.931807041168213, 5392.7431640625, 4557.2041015625, 2230.68408203125, 1843.9453125, 156.02023315429688, 143.18429565429688, 59.90024185180664, 15189.4873046875, 1.9353740215301514, 1.9342612028121948, 1.93538498878479, 1.9302904605865479, 1.9311312437057495, 1.9529942274093628, 1.9323028326034546, 1.9309040307998657, 1.9319664239883423, 1.9301412105560303, 1.9313163757324219, 1.9307994842529297, 1.9306364059448242, 1.9300915002822876, 1.93156099319458, 1.9305658340454102, 1.9310986995697021, 1.9305500984191895, 1.930031657218933, 1.9299793243408203, 1.9300426244735718, 1.9301247596740723, 1.9305342435836792, 1.933402180671692, 1.9349219799041748, 1.931807041168213, 1.933841586112976, 1.9315989017486572, 1.934840202331543, 1.9333523511886597, 1.9332674741744995, 11015.8447265625, 2424.545166015625, 1006.72705078125, 897.4120483398438, 572.4603271484375, 323.0740661621094, 227.7291259765625, 156.90147399902344, 137.77841186523438, 94.69940185546875, 78.99041748046875, 1.9342612028121948, 1.930946707725525, 1.9309040307998657, 1.93156099319458, 1.9307498931884766, 1.9349219799041748, 1.9308582544326782, 1.9310986995697021, 1.9299538135528564, 1.9319664239883423, 1.9300426244735718, 1.9302072525024414, 1.9306565523147583, 1.9299793243408203, 1.9308110475540161, 1.9304019212722778, 1.9302334785461426, 1.9323028326034546, 1.9302127361297607, 1.9306185245513916, 1.93538498878479, 1.933841586112976, 1.9529942274093628, 1.9332674741744995, 1.931807041168213, 1.933402180671692, 1.9353740215301514, 1.9333523511886597, 1.934840202331543, 1.9315199851989746, 1.9315989017486572, 11303.884765625, 1443.1331787109375, 719.1962890625, 527.845458984375, 3.427821636199951, 7399.16943359375, 1.9529942274093628, 1.9315989017486572, 1.930422306060791, 1.930956482887268, 1.9315199851989746, 1.93538498878479, 1.9306809902191162, 1.9305691719055176, 1.9302438497543335, 1.930187702178955, 1.9302098751068115, 1.930006504058838, 1.930321455001831, 1.9299874305725098, 1.93013334274292, 1.9300141334533691, 1.9300494194030762, 1.9301244020462036, 1.9301514625549316, 1.9303419589996338, 1.9323028326034546, 1.9300563335418701, 1.930766224861145, 1.930428147315979, 1.9317882061004639, 1.9307994842529297, 1.9309040307998657, 1.934840202331543, 1.9353740215301514, 1.9314112663269043, 1.9349219799041748, 1.9342612028121948, 1.933402180671692, 1.9309709072113037, 1.9310283660888672, 1.9332674741744995, 1.9333523511886597, 1.933841586112976, 1.9319664239883423, 1.931807041168213, 4910.84619140625, 3267.11181640625, 1487.183837890625, 1378.56884765625, 832.033447265625, 660.7262573242188, 510.1070251464844, 229.91644287109375, 46.30781173706055, 3672.21728515625, 1.933841586112976, 1.9332674741744995, 1.9300132989883423, 1.9306268692016602, 1.9302412271499634, 1.9306715726852417, 1.9306811094284058, 1.9302809238433838, 1.9308158159255981, 1.9305500984191895, 1.9308831691741943, 1.9303709268569946, 1.9300178289413452, 1.9306018352508545, 1.930315613746643, 1.9300199747085571, 1.9300947189331055, 1.9333523511886597, 1.9303569793701172, 1.9302868843078613, 1.9342612028121948, 1.930766224861145, 1.9349219799041748, 1.933402180671692, 1.934840202331543, 1.9315989017486572, 1.9353740215301514, 1.9529942274093628, 1.93538498878479, 1.9311681985855103, 1.9323028326034546, 1.9319664239883423, 1.9317882061004639, 1.931807041168213, 2929.035888671875, 2705.734619140625, 1704.4906005859375, 826.9971313476562, 641.6774291992188, 638.0825805664062, 619.5647583007812, 578.7014770507812, 559.5280151367188, 525.0116577148438, 341.1822814941406, 340.2487487792969, 307.5718688964844, 263.1405334472656, 250.38995361328125, 240.05995178222656, 208.20558166503906, 151.95907592773438, 142.01419067382812, 138.6170196533203, 107.74822235107422, 65.0047607421875, 39.76884460449219, 29.564910888671875, 20.349225997924805, 14.781763076782227, 11.295092582702637, 1.9529942274093628, 1.934840202331543, 1.933402180671692, 5759.8544921875, 2390.298095703125, 2300.533447265625, 748.5963745117188, 740.3240966796875, 612.8695068359375, 544.7430419921875, 324.47613525390625, 261.1658630371094, 125.95392608642578, 72.42582702636719, 35.181331634521484, 29.081443786621094, 14.728188514709473, 5.934306621551514, 1.9349219799041748, 1.9342612028121948, 1.9529942274093628, 1.9317882061004639, 1.933841586112976, 1.93538498878479, 1.9308110475540161, 1.933402180671692, 1.931807041168213, 1.9311681985855103, 1.930986762046814, 1.93156099319458, 1.9305821657180786, 1.934840202331543, 1.9323028326034546, 1.9333523511886597, 1.9332674741744995, 1.9353740215301514, 1.9319664239883423, 8060.68603515625, 1648.8564453125, 888.2212524414062, 676.4521484375, 457.68499755859375, 427.3984680175781, 323.6964416503906, 278.47088623046875, 252.17391967773438, 172.73403930664062, 92.50578308105469, 39.97582244873047, 25.085573196411133, 1.9304372072219849, 1.9349219799041748, 1.9309709072113037, 1.934840202331543, 1.930126428604126, 1.9306083917617798, 1.9299899339675903, 1.9300694465637207, 1.9308582544326782, 1.9303869009017944, 1.9299761056900024, 1.9302051067352295, 1.9301278591156006, 1.930442452430725, 1.9300663471221924, 1.9306811094284058, 1.9300395250320435, 1.9305691719055176, 1.93156099319458, 1.933841586112976, 1.9353740215301514, 1.9342612028121948, 1.9333523511886597, 1.9529942274093628, 1.933402180671692, 1.9317882061004639, 1.9311312437057495, 1.931807041168213, 1.93538498878479, 1.9332674741744995, 1.9319664239883423, 1.9323028326034546, 6435.9619140625, 3139.02490234375, 1118.5843505859375, 755.7890014648438, 170.752197265625, 1.9529942274093628, 1.93538498878479, 1.9333523511886597, 1.9306652545928955, 1.9319664239883423, 1.9305108785629272, 1.9315199851989746, 1.9306809902191162, 1.9300494194030762, 1.9308992624282837, 1.9302098751068115, 1.9310986995697021, 1.9304603338241577, 1.9305660724639893, 1.9305522441864014, 1.9300141334533691, 1.93013334274292, 1.9311312437057495, 1.9299874305725098, 1.930006504058838, 1.9305082559585571, 1.9349219799041748, 1.9310283660888672, 1.931807041168213, 1.9299774169921875, 1.9342612028121948, 1.934840202331543, 1.9323028326034546, 1.9315989017486572, 1.9353740215301514, 1.933841586112976, 1.933402180671692, 1.9317882061004639, 1.9314112663269043, 1.9332674741744995, 3522.198974609375, 1982.7315673828125, 1391.37841796875, 1120.4820556640625, 550.6478271484375, 472.6603698730469, 443.4139709472656, 78.66923522949219, 7399.16943359375, 1.9529942274093628, 1.934840202331543, 1.9349219799041748, 1.9303596019744873, 1.930348515510559, 1.9302438497543335, 1.9304659366607666, 1.930246353149414, 1.9306018352508545, 1.9300265312194824, 1.9317882061004639, 1.9310986995697021, 1.9308582544326782, 1.9315989017486572, 1.9306809902191162, 1.9300663471221924, 1.9306316375732422, 1.93538498878479, 1.9305226802825928, 1.9300625324249268, 1.930070161819458, 1.9306715726852417, 1.933841586112976, 1.933402180671692, 1.9315199851989746, 1.9342612028121948, 1.9332674741744995, 1.9333523511886597, 1.9353740215301514, 1.931807041168213, 1.93156099319458, 2096.13671875, 1798.4730224609375, 1715.229736328125, 1532.081298828125, 1145.6702880859375, 1090.7928466796875, 330.66680908203125, 249.7263946533203, 102.39482879638672, 34.66476058959961, 14.642149925231934, 11.547161102294922, 3.0352649688720703, 2.174832582473755, 1.93538498878479, 1.9304218292236328, 1.9319664239883423, 1.9305082559585571, 1.9305691719055176, 1.9304600954055786, 1.9303817749023438, 1.9306385517120361, 1.9301784038543701, 1.930946707725525, 1.930442452430725, 1.9529942274093628, 1.9299527406692505, 1.9323028326034546, 1.9307466745376587, 1.930094599723816, 1.931807041168213, 1.9342612028121948, 1.9332674741744995, 1.933402180671692, 1.934840202331543, 1.9349219799041748, 1.9353740215301514, 1.9315199851989746, 1.933841586112976, 1.9310283660888672, 1.9333523511886597, 1974.4490966796875, 1704.539794921875, 1135.145751953125, 779.3316650390625, 650.451904296875, 538.8374633789062, 274.6353759765625, 262.3909606933594, 196.42112731933594, 170.7158203125, 165.97116088867188, 130.92227172851562, 124.89488983154297, 84.5582504272461, 64.42076873779297, 39.502708435058594, 13.330958366394043, 1.930766224861145, 1.9300974607467651, 1.9300191402435303, 1.9303747415542603, 1.9302189350128174, 1.9307994842529297, 1.9300131797790527, 1.9302475452423096, 1.929959774017334, 1.9309709072113037, 1.9300587177276611, 1.9299366474151611, 1.9299737215042114, 1.9300848245620728, 1.9309210777282715, 1.9349219799041748, 1.9313163757324219, 1.9332674741744995, 1.9529942274093628, 1.934840202331543, 1.931807041168213, 1.9353740215301514, 1.93538498878479, 1.9342612028121948, 1.933841586112976, 1.933402180671692, 1.9333523511886597, 2189.6357421875, 1676.91015625, 1058.9801025390625, 700.6444702148438, 629.6229858398438, 125.44266510009766, 1.9314112663269043, 1.930592656135559, 1.930158019065857, 1.9303128719329834, 1.930184006690979, 1.9308992624282837, 1.9301680326461792, 1.9304766654968262, 1.9306726455688477, 1.9305658340454102, 1.9309210777282715, 1.9323028326034546, 1.9319664239883423, 1.934840202331543, 1.930148959159851, 1.929997444152832, 1.9300545454025269, 1.930025339126587, 1.9303321838378906, 1.9300904273986816, 1.933402180671692, 1.9301011562347412, 1.929948329925537, 1.9300785064697266, 1.93538498878479, 1.9306364059448242, 1.9529942274093628, 1.9353740215301514, 1.9333523511886597, 1.933841586112976, 1.9317882061004639, 1.9308123588562012, 1.9310283660888672, 1.9332674741744995, 1.9349219799041748, 1.9342612028121948, 2782.080078125, 1376.400390625, 3.8192214965820312, 1.9309709072113037, 1.931807041168213, 1.930673360824585, 1.9308110475540161, 1.9301717281341553, 1.930956482887268, 1.9302046298980713, 1.9314112663269043, 1.9305342435836792, 1.930946707725525, 1.9307550191879272, 1.930014967918396, 1.9309172630310059, 1.9300165176391602, 1.9300763607025146, 1.9302189350128174, 1.9300209283828735, 1.9306385517120361, 1.9299801588058472, 1.930315613746643, 1.930421233177185, 1.9300150871276855, 1.9306268692016602, 1.9301514625549316, 1.9302325248718262, 1.9299817085266113, 1.9302334785461426, 1.9315199851989746, 1.9307466745376587, 1.934840202331543, 1.93538498878479, 1.9349219799041748, 1.933841586112976, 1.9310283660888672, 1.9529942274093628, 1.9332674741744995, 1.9342612028121948, 1.93156099319458, 1.933402180671692, 1.9353740215301514, 1.9333523511886597, 1.9317882061004639, 1.9315989017486572, 1.9319664239883423, 1.9323028326034546], \"Category\": [\"Default\", \"Default\", \"Default\", \"Default\", \"Default\", \"Default\", \"Default\", \"Default\", \"Default\", \"Default\", \"Default\", \"Default\", \"Default\", \"Default\", \"Default\", \"Default\", \"Default\", \"Default\", \"Default\", \"Default\", \"Default\", \"Default\", \"Default\", \"Default\", \"Default\", \"Default\", \"Default\", \"Default\", \"Default\", \"Default\", \"Topic1\", \"Topic1\", \"Topic1\", \"Topic1\", \"Topic1\", \"Topic1\", \"Topic1\", \"Topic1\", \"Topic1\", \"Topic1\", \"Topic1\", \"Topic1\", \"Topic1\", \"Topic1\", \"Topic1\", \"Topic1\", \"Topic1\", \"Topic1\", \"Topic1\", \"Topic1\", \"Topic1\", \"Topic1\", \"Topic1\", \"Topic1\", \"Topic1\", \"Topic1\", \"Topic1\", \"Topic1\", \"Topic1\", \"Topic1\", \"Topic2\", \"Topic2\", \"Topic2\", \"Topic2\", \"Topic2\", \"Topic2\", \"Topic2\", \"Topic2\", \"Topic2\", \"Topic2\", \"Topic2\", \"Topic2\", \"Topic2\", \"Topic2\", \"Topic2\", \"Topic2\", \"Topic2\", \"Topic2\", \"Topic2\", \"Topic2\", \"Topic2\", \"Topic2\", \"Topic2\", \"Topic2\", \"Topic2\", \"Topic2\", \"Topic2\", \"Topic2\", \"Topic2\", \"Topic2\", \"Topic3\", \"Topic3\", \"Topic3\", \"Topic3\", \"Topic3\", \"Topic3\", \"Topic3\", \"Topic3\", \"Topic3\", \"Topic3\", \"Topic3\", \"Topic3\", \"Topic3\", \"Topic3\", \"Topic3\", \"Topic3\", \"Topic3\", \"Topic3\", \"Topic3\", \"Topic3\", \"Topic3\", \"Topic3\", \"Topic3\", \"Topic3\", \"Topic3\", \"Topic3\", \"Topic3\", \"Topic3\", \"Topic3\", \"Topic3\", \"Topic3\", \"Topic3\", \"Topic3\", \"Topic3\", \"Topic3\", \"Topic3\", \"Topic3\", \"Topic3\", \"Topic4\", \"Topic4\", \"Topic4\", \"Topic4\", \"Topic4\", \"Topic4\", \"Topic4\", \"Topic4\", \"Topic4\", \"Topic4\", \"Topic4\", \"Topic4\", \"Topic4\", \"Topic4\", \"Topic4\", \"Topic4\", \"Topic4\", \"Topic4\", \"Topic4\", \"Topic4\", \"Topic4\", \"Topic4\", \"Topic4\", \"Topic4\", \"Topic4\", \"Topic4\", \"Topic4\", \"Topic4\", \"Topic4\", \"Topic4\", \"Topic4\", \"Topic4\", \"Topic5\", \"Topic5\", \"Topic5\", \"Topic5\", \"Topic5\", \"Topic5\", \"Topic5\", \"Topic5\", \"Topic5\", \"Topic5\", \"Topic5\", \"Topic5\", \"Topic5\", \"Topic5\", \"Topic5\", \"Topic5\", \"Topic5\", \"Topic5\", \"Topic5\", \"Topic5\", \"Topic5\", \"Topic5\", \"Topic5\", \"Topic5\", \"Topic5\", \"Topic5\", \"Topic5\", \"Topic5\", \"Topic5\", \"Topic5\", \"Topic5\", \"Topic5\", \"Topic5\", \"Topic5\", \"Topic5\", \"Topic5\", \"Topic5\", \"Topic5\", \"Topic5\", \"Topic5\", \"Topic5\", \"Topic5\", \"Topic5\", \"Topic5\", \"Topic5\", \"Topic5\", \"Topic5\", \"Topic6\", \"Topic6\", \"Topic6\", \"Topic6\", \"Topic6\", \"Topic6\", \"Topic6\", \"Topic6\", \"Topic6\", \"Topic6\", \"Topic6\", \"Topic6\", \"Topic6\", \"Topic6\", \"Topic6\", \"Topic6\", \"Topic6\", \"Topic6\", \"Topic6\", \"Topic6\", \"Topic6\", \"Topic6\", \"Topic6\", \"Topic6\", \"Topic6\", \"Topic6\", \"Topic6\", \"Topic6\", \"Topic6\", \"Topic6\", \"Topic6\", \"Topic6\", \"Topic6\", \"Topic6\", \"Topic6\", \"Topic6\", \"Topic6\", \"Topic7\", \"Topic7\", \"Topic7\", \"Topic7\", \"Topic7\", \"Topic7\", \"Topic7\", \"Topic7\", \"Topic7\", \"Topic7\", \"Topic7\", \"Topic7\", \"Topic7\", \"Topic7\", \"Topic7\", \"Topic7\", \"Topic7\", \"Topic7\", \"Topic7\", \"Topic7\", \"Topic7\", \"Topic7\", \"Topic7\", \"Topic7\", \"Topic7\", \"Topic7\", \"Topic7\", \"Topic7\", \"Topic7\", \"Topic7\", \"Topic7\", \"Topic7\", \"Topic7\", \"Topic7\", \"Topic7\", \"Topic7\", \"Topic7\", \"Topic7\", \"Topic7\", \"Topic7\", \"Topic7\", \"Topic7\", \"Topic8\", \"Topic8\", \"Topic8\", \"Topic8\", \"Topic8\", \"Topic8\", \"Topic8\", \"Topic8\", \"Topic8\", \"Topic8\", \"Topic8\", \"Topic8\", \"Topic8\", \"Topic8\", \"Topic8\", \"Topic8\", \"Topic8\", \"Topic8\", \"Topic8\", \"Topic8\", \"Topic8\", \"Topic8\", \"Topic8\", \"Topic8\", \"Topic8\", \"Topic8\", \"Topic8\", \"Topic8\", \"Topic8\", \"Topic8\", \"Topic8\", \"Topic8\", \"Topic8\", \"Topic8\", \"Topic8\", \"Topic8\", \"Topic8\", \"Topic8\", \"Topic8\", \"Topic9\", \"Topic9\", \"Topic9\", \"Topic9\", \"Topic9\", \"Topic9\", \"Topic9\", \"Topic9\", \"Topic9\", \"Topic9\", \"Topic9\", \"Topic9\", \"Topic9\", \"Topic9\", \"Topic9\", \"Topic9\", \"Topic9\", \"Topic9\", \"Topic9\", \"Topic9\", \"Topic9\", \"Topic9\", \"Topic9\", \"Topic9\", \"Topic9\", \"Topic9\", \"Topic9\", \"Topic9\", \"Topic9\", \"Topic9\", \"Topic9\", \"Topic9\", \"Topic9\", \"Topic9\", \"Topic9\", \"Topic9\", \"Topic9\", \"Topic9\", \"Topic9\", \"Topic9\", \"Topic9\", \"Topic9\", \"Topic10\", \"Topic10\", \"Topic10\", \"Topic10\", \"Topic10\", \"Topic10\", \"Topic10\", \"Topic10\", \"Topic10\", \"Topic10\", \"Topic10\", \"Topic10\", \"Topic10\", \"Topic10\", \"Topic10\", \"Topic10\", \"Topic10\", \"Topic10\", \"Topic10\", \"Topic10\", \"Topic10\", \"Topic10\", \"Topic10\", \"Topic10\", \"Topic10\", \"Topic10\", \"Topic10\", \"Topic10\", \"Topic10\", \"Topic10\", \"Topic10\", \"Topic10\", \"Topic10\", \"Topic10\", \"Topic10\", \"Topic10\", \"Topic10\", \"Topic10\", \"Topic10\", \"Topic10\", \"Topic10\", \"Topic10\", \"Topic10\", \"Topic10\", \"Topic10\", \"Topic10\", \"Topic11\", \"Topic11\", \"Topic11\", \"Topic11\", \"Topic11\", \"Topic11\", \"Topic11\", \"Topic11\", \"Topic11\", \"Topic11\", \"Topic11\", \"Topic11\", \"Topic11\", \"Topic11\", \"Topic11\", \"Topic11\", \"Topic11\", \"Topic11\", \"Topic11\", \"Topic11\", \"Topic11\", \"Topic11\", \"Topic11\", \"Topic11\", \"Topic11\", \"Topic11\", \"Topic11\", \"Topic11\", \"Topic11\", \"Topic11\", \"Topic11\", \"Topic11\", \"Topic11\", \"Topic11\", \"Topic11\", \"Topic11\", \"Topic11\", \"Topic11\", \"Topic11\", \"Topic11\", \"Topic11\", \"Topic11\", \"Topic11\", \"Topic11\", \"Topic12\", \"Topic12\", \"Topic12\", \"Topic12\", \"Topic12\", \"Topic12\", \"Topic12\", \"Topic12\", \"Topic12\", \"Topic12\", \"Topic12\", \"Topic12\", \"Topic12\", \"Topic12\", \"Topic12\", \"Topic12\", \"Topic12\", \"Topic12\", \"Topic12\", \"Topic12\", \"Topic12\", \"Topic12\", \"Topic12\", \"Topic12\", \"Topic12\", \"Topic12\", \"Topic12\", \"Topic12\", \"Topic12\", \"Topic12\", \"Topic13\", \"Topic13\", \"Topic13\", \"Topic13\", \"Topic13\", \"Topic13\", \"Topic13\", \"Topic13\", \"Topic13\", \"Topic13\", \"Topic13\", \"Topic13\", \"Topic13\", \"Topic13\", \"Topic13\", \"Topic13\", \"Topic13\", \"Topic13\", \"Topic13\", \"Topic13\", \"Topic13\", \"Topic13\", \"Topic13\", \"Topic13\", \"Topic13\", \"Topic13\", \"Topic13\", \"Topic13\", \"Topic13\", \"Topic13\", \"Topic13\", \"Topic13\", \"Topic13\", \"Topic13\", \"Topic14\", \"Topic14\", \"Topic14\", \"Topic14\", \"Topic14\", \"Topic14\", \"Topic14\", \"Topic14\", \"Topic14\", \"Topic14\", \"Topic14\", \"Topic14\", \"Topic14\", \"Topic14\", \"Topic14\", \"Topic14\", \"Topic14\", \"Topic14\", \"Topic14\", \"Topic14\", \"Topic14\", \"Topic14\", \"Topic14\", \"Topic14\", \"Topic14\", \"Topic14\", \"Topic14\", \"Topic14\", \"Topic14\", \"Topic14\", \"Topic14\", \"Topic14\", \"Topic14\", \"Topic14\", \"Topic14\", \"Topic14\", \"Topic14\", \"Topic14\", \"Topic14\", \"Topic14\", \"Topic14\", \"Topic14\", \"Topic14\", \"Topic14\", \"Topic14\", \"Topic15\", \"Topic15\", \"Topic15\", \"Topic15\", \"Topic15\", \"Topic15\", \"Topic15\", \"Topic15\", \"Topic15\", \"Topic15\", \"Topic15\", \"Topic15\", \"Topic15\", \"Topic15\", \"Topic15\", \"Topic15\", \"Topic15\", \"Topic15\", \"Topic15\", \"Topic15\", \"Topic15\", \"Topic15\", \"Topic15\", \"Topic15\", \"Topic15\", \"Topic15\", \"Topic15\", \"Topic15\", \"Topic15\", \"Topic15\", \"Topic15\", \"Topic15\", \"Topic15\", \"Topic15\", \"Topic15\", \"Topic15\", \"Topic15\", \"Topic15\", \"Topic15\", \"Topic15\", \"Topic16\", \"Topic16\", \"Topic16\", \"Topic16\", \"Topic16\", \"Topic16\", \"Topic16\", \"Topic16\", \"Topic16\", \"Topic16\", \"Topic16\", \"Topic16\", \"Topic16\", \"Topic16\", \"Topic16\", \"Topic16\", \"Topic16\", \"Topic16\", \"Topic16\", \"Topic16\", \"Topic16\", \"Topic16\", \"Topic16\", \"Topic16\", \"Topic16\", \"Topic16\", \"Topic16\", \"Topic16\", \"Topic16\", \"Topic16\", \"Topic16\", \"Topic16\", \"Topic16\", \"Topic16\", \"Topic16\", \"Topic16\", \"Topic16\", \"Topic16\", \"Topic16\", \"Topic16\", \"Topic17\", \"Topic17\", \"Topic17\", \"Topic17\", \"Topic17\", \"Topic17\", \"Topic17\", \"Topic17\", \"Topic17\", \"Topic17\", \"Topic17\", \"Topic17\", \"Topic17\", \"Topic17\", \"Topic17\", \"Topic17\", \"Topic17\", \"Topic17\", \"Topic17\", \"Topic17\", \"Topic17\", \"Topic17\", \"Topic17\", \"Topic17\", \"Topic17\", \"Topic17\", \"Topic17\", \"Topic17\", \"Topic17\", \"Topic17\", \"Topic17\", \"Topic17\", \"Topic17\", \"Topic17\", \"Topic17\", \"Topic17\", \"Topic17\", \"Topic17\", \"Topic17\", \"Topic17\", \"Topic17\", \"Topic18\", \"Topic18\", \"Topic18\", \"Topic18\", \"Topic18\", \"Topic18\", \"Topic18\", \"Topic18\", \"Topic18\", \"Topic18\", \"Topic18\", \"Topic18\", \"Topic18\", \"Topic18\", \"Topic18\", \"Topic18\", \"Topic18\", \"Topic18\", \"Topic18\", \"Topic18\", \"Topic18\", \"Topic18\", \"Topic18\", \"Topic18\", \"Topic18\", \"Topic18\", \"Topic18\", \"Topic18\", \"Topic18\", \"Topic18\", \"Topic18\", \"Topic18\", \"Topic18\", \"Topic18\", \"Topic18\", \"Topic18\", \"Topic18\", \"Topic18\", \"Topic18\", \"Topic18\", \"Topic18\", \"Topic18\", \"Topic18\", \"Topic18\", \"Topic19\", \"Topic19\", \"Topic19\", \"Topic19\", \"Topic19\", \"Topic19\", \"Topic19\", \"Topic19\", \"Topic19\", \"Topic19\", \"Topic19\", \"Topic19\", \"Topic19\", \"Topic19\", \"Topic19\", \"Topic19\", \"Topic19\", \"Topic19\", \"Topic19\", \"Topic19\", \"Topic19\", \"Topic19\", \"Topic19\", \"Topic19\", \"Topic19\", \"Topic19\", \"Topic19\", \"Topic19\", \"Topic19\", \"Topic19\", \"Topic19\", \"Topic19\", \"Topic19\", \"Topic19\", \"Topic19\", \"Topic19\", \"Topic19\", \"Topic19\", \"Topic19\", \"Topic19\", \"Topic19\", \"Topic19\", \"Topic20\", \"Topic20\", \"Topic20\", \"Topic20\", \"Topic20\", \"Topic20\", \"Topic20\", \"Topic20\", \"Topic20\", \"Topic20\", \"Topic20\", \"Topic20\", \"Topic20\", \"Topic20\", \"Topic20\", \"Topic20\", \"Topic20\", \"Topic20\", \"Topic20\", \"Topic20\", \"Topic20\", \"Topic20\", \"Topic20\", \"Topic20\", \"Topic20\", \"Topic20\", \"Topic20\", \"Topic20\", \"Topic20\", \"Topic20\", \"Topic20\", \"Topic20\", \"Topic20\", \"Topic20\", \"Topic20\", \"Topic20\", \"Topic20\", \"Topic20\", \"Topic20\", \"Topic20\", \"Topic20\", \"Topic20\", \"Topic20\", \"Topic20\", \"Topic20\", \"Topic20\", \"Topic20\", \"Topic20\"], \"logprob\": [30.0, 29.0, 28.0, 27.0, 26.0, 25.0, 24.0, 23.0, 22.0, 21.0, 20.0, 19.0, 18.0, 17.0, 16.0, 15.0, 14.0, 13.0, 12.0, 11.0, 10.0, 9.0, 8.0, 7.0, 6.0, 5.0, 4.0, 3.0, 2.0, 1.0, -1.9664000272750854, -2.0875000953674316, -2.120800018310547, -2.359299898147583, -2.8596999645233154, -3.0699000358581543, -3.115999937057495, -3.2757999897003174, -3.3231000900268555, -3.4231998920440674, -3.4930999279022217, -3.5160999298095703, -3.725800037384033, -3.817699909210205, -3.8963000774383545, -3.9260001182556152, -4.166299819946289, -4.22760009765625, -4.395899772644043, -4.551599979400635, -4.572000026702881, -4.877600193023682, -5.063899993896484, -5.2342000007629395, -5.3734002113342285, -5.472899913787842, -5.576900005340576, -5.64870023727417, -5.782100200653076, -5.811100006103516, -1.5657000541687012, -1.8207999467849731, -2.3678998947143555, -2.716900110244751, -2.986799955368042, -3.2632999420166016, -3.342099905014038, -3.371299982070923, -3.66129994392395, -3.7499001026153564, -3.8654000759124756, -3.877500057220459, -3.9388999938964844, -3.969099998474121, -4.048399925231934, -4.071700096130371, -4.294899940490723, -4.342700004577637, -4.361400127410889, -4.43209981918335, -4.440299987792969, -4.5192999839782715, -4.561100006103516, -4.700699806213379, -4.749800205230713, -4.959400177001953, -5.09660005569458, -5.313899993896484, -5.39139986038208, -5.763700008392334, -1.4437999725341797, -1.919600009918213, -2.314500093460083, -2.5826001167297363, -2.636399984359741, -2.821199893951416, -3.075500011444092, -3.1900999546051025, -3.4082999229431152, -4.398600101470947, -4.620100021362305, -4.633900165557861, -6.3958001136779785, -2.0185999870300293, -12.100700378417969, -12.111900329589844, -12.111800193786621, -12.110099792480469, -12.112500190734863, -12.110799789428711, -12.11050033569336, -12.112700462341309, -12.112600326538086, -12.112799644470215, -12.112799644470215, -12.112000465393066, -12.112799644470215, -12.113100051879883, -12.112600326538086, -12.113200187683105, -12.111300468444824, -12.111499786376953, -12.111599922180176, -12.111000061035156, -12.111700057983398, -12.110899925231934, -12.112500190734863, -12.112500190734863, -1.3847999572753906, -1.541700005531311, -2.286099910736084, -2.5118000507354736, -2.5683000087738037, -3.413100004196167, -3.671099901199341, -3.8018999099731445, -3.9233999252319336, -4.001500129699707, -4.005899906158447, -4.049200057983398, -4.13670015335083, -4.162799835205078, -4.433899879455566, -4.663700103759766, -6.314199924468994, -6.518199920654297, -6.722300052642822, -7.135000228881836, -7.212200164794922, -7.217299938201904, -7.289299964904785, -7.376500129699707, -7.460700035095215, -3.1391000747680664, -12.492500305175781, -12.495599746704102, -12.496899604797363, -12.496700286865234, -12.487199783325195, -12.496600151062012, -1.7333999872207642, -0.5230000019073486, -1.5414999723434448, -12.51039981842041, -12.52649974822998, -12.526800155639648, -12.526599884033203, -12.526200294494629, -12.526800155639648, -12.526800155639648, -12.527199745178223, -12.527000427246094, -12.527099609375, -12.527099609375, -12.527099609375, -12.526900291442871, -12.527400016784668, -12.527199745178223, -12.527400016784668, -12.527199745178223, -12.527299880981445, -12.527400016784668, -12.527400016784668, -12.527400016784668, -12.527000427246094, -12.527400016784668, -12.527199745178223, -12.527299880981445, -12.527000427246094, -12.52750015258789, -12.527099609375, -12.525199890136719, -12.526000022888184, -12.525199890136719, -12.52560043334961, -12.526800155639648, -12.52649974822998, -12.525400161743164, -12.526200294494629, -12.526200294494629, -12.526800155639648, -12.52649974822998, -12.526000022888184, -12.527000427246094, -12.527000427246094, -12.527000427246094, -12.527099609375, -0.6428999900817871, -1.6181999444961548, -2.8650999069213867, -2.9305999279022217, -3.2625999450683594, -3.557300090789795, -3.9825000762939453, -4.566800117492676, -4.728000164031982, -4.758399963378906, -4.98960018157959, -5.4096999168396, -5.421999931335449, -5.740099906921387, -5.872200012207031, -6.272799968719482, -4.612599849700928, -12.390700340270996, -12.391900062561035, -12.39169979095459, -12.393199920654297, -12.393500328063965, -12.393099784851074, -12.391900062561035, -12.394000053405762, -12.393600463867188, -12.394200325012207, -12.394100189208984, -12.392399787902832, -12.394000053405762, -12.393099784851074, -12.391799926757812, -12.393500328063965, -12.392800331115723, -12.38539981842041, -12.392000198364258, -12.3927001953125, -0.4178999960422516, -2.3364999294281006, -2.8996999263763428, -3.166800022125244, -3.1881000995635986, -3.8954999446868896, -4.019599914550781, -4.1504998207092285, -4.479499816894531, -4.8414998054504395, -4.8983001708984375, -5.407400131225586, -5.56879997253418, -12.46780014038086, -12.468899726867676, -12.469499588012695, -12.46780014038086, -12.467300415039062, -12.470000267028809, -12.470000267028809, -12.470100402832031, -12.470199584960938, -12.47029972076416, -12.470199584960938, -12.467900276184082, -12.470100402832031, -12.470199584960938, -12.470399856567383, -12.470399856567383, -12.470399856567383, -12.470000267028809, -12.468899726867676, -12.459699630737305, -12.468700408935547, -12.468899726867676, -12.46969985961914, -12.469599723815918, -12.468799591064453, -12.468999862670898, -12.469900131225586, -12.470000267028809, -12.470000267028809, -1.1957999467849731, -1.3641999959945679, -2.0789999961853027, -2.2695999145507812, -4.750199794769287, -4.837100028991699, -5.726900100708008, -1.7506999969482422, -12.331399917602539, -12.332099914550781, -12.331500053405762, -12.33430004119873, -12.333900451660156, -12.322699546813965, -12.33329963684082, -12.334099769592285, -12.333600044250488, -12.334600448608398, -12.333999633789062, -12.33430004119873, -12.334400177001953, -12.334699630737305, -12.333900451660156, -12.334500312805176, -12.33430004119873, -12.334600448608398, -12.33489990234375, -12.33489990234375, -12.33489990234375, -12.33489990234375, -12.334600448608398, -12.333200454711914, -12.332500457763672, -12.334099769592285, -12.333200454711914, -12.334199905395508, -12.333100318908691, -12.333700180053711, -12.333900451660156, -0.4496999979019165, -1.9639999866485596, -2.8440001010894775, -2.959199905395508, -3.409899950027466, -3.984499931335449, -4.336599826812744, -4.712900161743164, -4.8445000648498535, -5.2256999015808105, -5.410999774932861, -12.311800003051758, -12.313599586486816, -12.313599586486816, -12.313300132751465, -12.313699722290039, -12.311599731445312, -12.313699722290039, -12.313599586486816, -12.314200401306152, -12.313199996948242, -12.314200401306152, -12.31410026550293, -12.313899993896484, -12.314200401306152, -12.313799858093262, -12.31410026550293, -12.314200401306152, -12.31309986114502, -12.314200401306152, -12.314000129699707, -12.311599731445312, -12.312399864196777, -12.303099632263184, -12.312700271606445, -12.313400268554688, -12.312800407409668, -12.312100410461426, -12.312899589538574, -12.312600135803223, -12.313699722290039, -12.313699722290039, -0.3630000054836273, -2.422499895095825, -3.1201999187469482, -3.4303998947143555, -9.238200187683105, -2.153899908065796, -12.177599906921387, -12.192700386047363, -12.193400382995605, -12.19320011138916, -12.192899703979492, -12.190999984741211, -12.193400382995605, -12.193499565124512, -12.19379997253418, -12.19379997253418, -12.19379997253418, -12.193900108337402, -12.19379997253418, -12.194000244140625, -12.193900108337402, -12.193900108337402, -12.193900108337402, -12.193900108337402, -12.193900108337402, -12.19379997253418, -12.19279956817627, -12.194000244140625, -12.193599700927734, -12.19379997253418, -12.193099975585938, -12.193599700927734, -12.193599700927734, -12.192000389099121, -12.191800117492676, -12.193400382995605, -12.192099571228027, -12.192399978637695, -12.19279956817627, -12.193599700927734, -12.193599700927734, -12.192999839782715, -12.193099975585938, -12.193099975585938, -12.193400382995605, -12.193599700927734, -1.1087000370025635, -1.5163999795913696, -2.3041000366210938, -2.380000114440918, -2.8857998847961426, -3.1168999671936035, -3.376300096511841, -4.1774001121521, -5.810200214385986, -3.1758999824523926, -11.173500061035156, -11.173999786376953, -11.175800323486328, -11.175600051879883, -11.175800323486328, -11.175600051879883, -11.175600051879883, -11.17590045928955, -11.175600051879883, -11.175700187683105, -11.175600051879883, -11.175800323486328, -11.175999641418457, -11.175700187683105, -11.17590045928955, -11.17609977722168, -11.175999641418457, -11.174400329589844, -11.17590045928955, -11.17590045928955, -11.17389965057373, -11.175700187683105, -11.17389965057373, -11.174599647521973, -11.173999786376953, -11.175399780273438, -11.17389965057373, -11.167799949645996, -11.174599647521973, -11.175600051879883, -11.175399780273438, -11.17549991607666, -11.17549991607666, -11.175600051879883, -1.6153000593185425, -1.694700002670288, -2.1572000980377197, -2.8815999031066895, -3.1359000205993652, -3.1415998935699463, -3.171099901199341, -3.239500045776367, -3.2732999324798584, -3.3371999263763428, -3.7701001167297363, -3.772900104522705, -3.8743999004364014, -4.031499862670898, -4.081500053405762, -4.124000072479248, -4.267499923706055, -4.585700035095215, -4.654300212860107, -4.678800106048584, -4.934599876403809, -5.451499938964844, -5.961599826812744, -6.275100231170654, -6.679299831390381, -7.037300109863281, -7.351399898529053, -12.085700035095215, -12.095399856567383, -12.096599578857422, -0.9106000065803528, -1.7905999422073364, -1.8288999795913696, -2.953200101852417, -2.964400053024292, -3.1538000106811523, -3.2720000743865967, -3.7925000190734863, -4.010900020599365, -4.747799873352051, -5.31220006942749, -6.062399864196777, -6.264500141143799, -7.013199806213379, -8.161199569702148, -12.060199737548828, -12.060999870300293, -12.051600456237793, -12.062600135803223, -12.062000274658203, -12.061200141906738, -12.063599586486816, -12.062299728393555, -12.063199996948242, -12.063599586486816, -12.063699722290039, -12.063400268554688, -12.063899993896484, -12.061800003051758, -12.06309986114502, -12.062600135803223, -12.062700271606445, -12.062000274658203, -12.063400268554688, -0.5289000272750854, -2.11680006980896, -2.736299991607666, -3.0092999935150146, -3.4012999534606934, -3.470099925994873, -3.7493999004364014, -3.9007999897003174, -4.000699996948242, -4.382500171661377, -5.01639986038208, -5.882599830627441, -6.377799987792969, -12.06760025024414, -12.065400123596191, -12.06760025024414, -12.065600395202637, -12.068099975585938, -12.067899703979492, -12.06820011138916, -12.06820011138916, -12.06779956817627, -12.068099975585938, -12.068300247192383, -12.06820011138916, -12.068300247192383, -12.068099975585938, -12.068300247192383, -12.067999839782715, -12.068300247192383, -12.067999839782715, -12.06760025024414, -12.066499710083008, -12.065899848937988, -12.066499710083008, -12.066900253295898, -12.059000015258789, -12.067000389099121, -12.06760025024414, -12.06779956817627, -12.067700386047363, -12.066800117492676, -12.067399978637695, -12.067700386047363, -12.067700386047363, -0.625, -1.3432999849319458, -2.376199960708618, -2.7690999507904053, -4.264999866485596, -11.785599708557129, -11.798500061035156, -11.799699783325195, -11.80150032043457, -11.801400184631348, -11.802200317382812, -11.8016996383667, -11.802200317382812, -11.802499771118164, -11.80210018157959, -11.802499771118164, -11.802000045776367, -11.802399635314941, -11.802399635314941, -11.802399635314941, -11.80270004272461, -11.802599906921387, -11.80210018157959, -11.80270004272461, -11.80270004272461, -11.802499771118164, -11.800200462341309, -11.802200317382812, -11.801799774169922, -11.802800178527832, -11.800600051879883, -11.800399780273438, -11.801600456237793, -11.802000045776367, -11.800700187683105, -11.801400184631348, -11.801600456237793, -11.802200317382812, -11.802399635314941, -11.802300453186035, -1.1500999927520752, -1.725100040435791, -2.079699993133545, -2.2964999675750732, -3.008699893951416, -3.161900043487549, -3.226099967956543, -4.974800109863281, -2.273200035095215, -11.670299530029297, -11.681400299072266, -11.681400299072266, -11.683799743652344, -11.684100151062012, -11.684200286865234, -11.684200286865234, -11.684300422668457, -11.684200286865234, -11.684499740600586, -11.683600425720215, -11.684000015258789, -11.684200286865234, -11.683799743652344, -11.684300422668457, -11.684599876403809, -11.684300422668457, -11.681900024414062, -11.684399604797363, -11.684700012207031, -11.684700012207031, -11.684300422668457, -11.68280029296875, -11.683199882507324, -11.684000015258789, -11.682999610900879, -11.68340015411377, -11.68340015411377, -11.68280029296875, -11.684100151062012, -11.684200286865234, -1.6160999536514282, -1.7694000005722046, -1.8167999982833862, -1.929900050163269, -2.220900058746338, -2.2701001167297363, -3.4674999713897705, -3.7500998973846436, -4.652299880981445, -5.771699905395508, -6.712900161743164, -6.989500045776367, -9.079000473022461, -10.3371000289917, -11.595399856567383, -11.598299980163574, -11.597599983215332, -11.59850025177002, -11.59850025177002, -11.598600387573242, -11.598600387573242, -11.59850025177002, -11.598799705505371, -11.598400115966797, -11.598699569702148, -11.5871000289917, -11.598999977111816, -11.597800254821777, -11.598600387573242, -11.598899841308594, -11.598099708557129, -11.59689998626709, -11.59749984741211, -11.59749984741211, -11.597000122070312, -11.597000122070312, -11.59749984741211, -11.598400115966797, -11.598199844360352, -11.59850025177002, -11.598400115966797, -1.4958000183105469, -1.642899990081787, -2.049999952316284, -2.426800012588501, -2.6080000400543213, -2.7969000339508057, -3.474100112915039, -3.5199999809265137, -3.8118999004364014, -3.9535999298095703, -3.982100009918213, -4.2221999168396, -4.270100116729736, -4.667099952697754, -4.946000099182129, -5.45359992980957, -6.639100074768066, -11.243200302124023, -11.243599891662598, -11.243800163269043, -11.24370002746582, -11.243800163269043, -11.243499755859375, -11.243900299072266, -11.243800163269043, -11.243900299072266, -11.243399620056152, -11.243900299072266, -11.244000434875488, -11.243900299072266, -11.243900299072266, -11.243499755859375, -11.241800308227539, -11.243399620056152, -11.242600440979004, -11.235300064086914, -11.24209976196289, -11.243200302124023, -11.24209976196289, -11.242300033569336, -11.24269962310791, -11.2431001663208, -11.243200302124023, -11.243300437927246, -1.1581000089645386, -1.4251999855041504, -1.8854999542236328, -2.2994000911712646, -2.406599998474121, -4.031400203704834, -10.881199836730957, -10.881699562072754, -10.882699966430664, -10.882599830627441, -10.882699966430664, -10.882399559020996, -10.882699966430664, -10.882599830627441, -10.882599830627441, -10.882599830627441, -10.882499694824219, -10.881799697875977, -10.882100105285645, -10.880800247192383, -10.883299827575684, -10.883399963378906, -10.883299827575684, -10.883399963378906, -10.883199691772461, -10.883399963378906, -10.881699562072754, -10.883500099182129, -10.883500099182129, -10.883500099182129, -10.88070011138916, -10.883199691772461, -10.872599601745605, -10.88129997253418, -10.882200241088867, -10.882100105285645, -10.882800102233887, -10.883099555969238, -10.883099555969238, -10.882699966430664, -10.882599830627441, -10.882800102233887, -0.5149000287055969, -1.2193000316619873, -7.752999782562256, -10.662799835205078, -10.662500381469727, -10.663100242614746, -10.663000106811523, -10.66349983215332, -10.663200378417969, -10.663599967956543, -10.663000106811523, -10.66349983215332, -10.663299560546875, -10.663399696350098, -10.663800239562988, -10.663299560546875, -10.663800239562988, -10.663800239562988, -10.663700103759766, -10.663900375366211, -10.66349983215332, -10.663900375366211, -10.663700103759766, -10.663700103759766, -10.663900375366211, -10.663599967956543, -10.663800239562988, -10.663800239562988, -10.663900375366211, -10.663800239562988, -10.663200378417969, -10.663599967956543, -10.661600112915039, -10.661399841308594, -10.661700248718262, -10.662199974060059, -10.66349983215332, -10.654800415039062, -10.662599563598633, -10.662199974060059, -10.663299560546875, -10.662599563598633, -10.661999702453613, -10.662699699401855, -10.663200378417969, -10.663399696350098, -10.663299560546875, -10.663399696350098], \"loglift\": [30.0, 29.0, 28.0, 27.0, 26.0, 25.0, 24.0, 23.0, 22.0, 21.0, 20.0, 19.0, 18.0, 17.0, 16.0, 15.0, 14.0, 13.0, 12.0, 11.0, 10.0, 9.0, 8.0, 7.0, 6.0, 5.0, 4.0, 3.0, 2.0, 1.0, 2.4307000637054443, 2.4307000637054443, 2.4307000637054443, 2.430500030517578, 2.4300999641418457, 2.429800033569336, 2.4296998977661133, 2.429500102996826, 2.4293999671936035, 2.4291999340057373, 2.4291000366210938, 2.428999900817871, 2.428499937057495, 2.428299903869629, 2.427999973297119, 2.4279000759124756, 2.427000045776367, 2.426800012588501, 2.4260001182556152, 2.425100088119507, 2.4249000549316406, 2.4226999282836914, 2.4210000038146973, 2.419100046157837, 2.41729998588562, 2.4158999919891357, 2.4142000675201416, 2.412899971008301, 2.410399913787842, 2.4098000526428223, 2.4616000652313232, 2.4614999294281006, 2.461199998855591, 2.460900068283081, 2.460599899291992, 2.460200071334839, 2.4600000381469727, 2.4600000381469727, 2.4593000411987305, 2.4591000080108643, 2.458699941635132, 2.458699941635132, 2.4584999084472656, 2.458400011062622, 2.4581000804901123, 2.4579999446868896, 2.4570000171661377, 2.4567999839782715, 2.456700086593628, 2.4563000202178955, 2.456199884414673, 2.4558000564575195, 2.4554998874664307, 2.4546000957489014, 2.454200029373169, 2.452399969100952, 2.4509999752044678, 2.4484000205993652, 2.4472999572753906, 2.440700054168701, 2.6422998905181885, 2.6421000957489014, 2.641900062561035, 2.6415998935699463, 2.6414999961853027, 2.6412999629974365, 2.640899896621704, 2.640700101852417, 2.6403000354766846, 2.6363000869750977, 2.634700059890747, 2.6345999240875244, 2.59660005569458, 2.4567999839782715, -0.08609999716281891, -0.08619999885559082, -0.08640000224113464, -0.08640000224113464, -0.08649999648332596, -0.08649999648332596, -0.08649999648332596, -0.08659999817609787, -0.08659999817609787, -0.08659999817609787, -0.08669999986886978, -0.08669999986886978, -0.08669999986886978, -0.0868000015616417, -0.0868000015616417, -0.0868000015616417, -0.0868000015616417, -0.0869000032544136, -0.0869000032544136, -0.08709999918937683, -0.0869000032544136, -0.08720000088214874, -0.0868000015616417, -0.08699999749660492, 2.704400062561035, 2.704400062561035, 2.703900098800659, 2.703700065612793, 2.703700065612793, 2.702199935913086, 2.7014000415802, 2.700900077819824, 2.700500011444092, 2.7000999450683594, 2.7000999450683594, 2.699899911880493, 2.699399948120117, 2.6993000507354736, 2.6975998878479004, 2.69569993019104, 2.6584999561309814, 2.6482999324798584, 2.635999917984009, 2.60260009765625, 2.5947999954223633, 2.5943000316619873, 2.5864999294281006, 2.5764000415802, 2.5659000873565674, 2.5146000385284424, -0.46880000829696655, -0.47200000286102295, -0.4722000062465668, -0.4722000062465668, -0.4726000130176544, -0.47269999980926514, 2.7600998878479004, 2.532599925994873, 2.233299970626831, -0.4957999885082245, -0.5005000233650208, -0.5005999803543091, -0.5005999803543091, -0.5006999969482422, -0.5008000135421753, -0.5008999705314636, -0.5008999705314636, -0.5008999705314636, -0.5008999705314636, -0.5008999705314636, -0.5009999871253967, -0.5009999871253967, -0.5009999871253967, -0.5009999871253967, -0.5009999871253967, -0.5009999871253967, -0.5009999871253967, -0.5009999871253967, -0.5009999871253967, -0.5009999871253967, -0.5009999871253967, -0.5009999871253967, -0.5011000037193298, -0.5011000037193298, -0.5011000037193298, -0.5011000037193298, -0.5011000037193298, -0.5012000203132629, -0.5012000203132629, -0.5012999773025513, -0.5012999773025513, -0.5012000203132629, -0.5012000203132629, -0.5016999840736389, -0.5015000104904175, -0.501800000667572, -0.5013999938964844, -0.5016999840736389, -0.5023000240325928, -0.5013999938964844, -0.5012999773025513, -0.5013999938964844, -0.5012000203132629, 2.8036000728607178, 2.803299903869629, 2.8020999431610107, 2.802000045776367, 2.801300048828125, 2.8004000186920166, 2.7987000942230225, 2.7946999073028564, 2.793100118637085, 2.792799949645996, 2.789900064468384, 2.7827999591827393, 2.782599925994873, 2.7746999263763428, 2.770699977874756, 2.7548000812530518, 1.041100025177002, -0.367000013589859, -0.3671000003814697, -0.36719998717308044, -0.36739999055862427, -0.3675999939441681, -0.3675999939441681, -0.3675999939441681, -0.3675999939441681, -0.3677000105381012, -0.3677000105381012, -0.3677000105381012, -0.3677000105381012, -0.3677999973297119, -0.3677999973297119, -0.367900013923645, -0.3677999973297119, -0.36809998750686646, -0.3707999885082245, -0.3684000074863434, -0.3686999976634979, 2.8227999210357666, 2.821899890899658, 2.821199893951416, 2.8206000328063965, 2.8206000328063965, 2.81820011138916, 2.817500114440918, 2.816800117492676, 2.8143999576568604, 2.810699939727783, 2.809999942779541, 2.801500082015991, 2.7978999614715576, -0.4431000053882599, -0.4431000053882599, -0.44359999895095825, -0.44359999895095825, -0.44369998574256897, -0.4438000023365021, -0.4438000023365021, -0.4438999891281128, -0.4438999891281128, -0.4440000057220459, -0.4440000057220459, -0.4440000057220459, -0.4440000057220459, -0.4440000057220459, -0.4440000057220459, -0.4440000057220459, -0.4440000057220459, -0.4440000057220459, -0.4442000091075897, -0.44510000944137573, -0.4442000091075897, -0.44429999589920044, -0.4442000091075897, -0.44429999589920044, -0.44510000944137573, -0.4449999928474426, -0.4442000091075897, -0.4440999925136566, -0.44440001249313354, 2.895400047302246, 2.8952999114990234, 2.89490008354187, 2.894700050354004, 2.8838000297546387, 2.882699966430664, 2.864300012588501, 1.3049999475479126, -0.3077000081539154, -0.3077999949455261, -0.30790001153945923, -0.30799999833106995, -0.30799999833106995, -0.30809998512268066, -0.30809998512268066, -0.30820000171661377, -0.30820000171661377, -0.30820000171661377, -0.30820000171661377, -0.3082999885082245, -0.3082999885082245, -0.3082999885082245, -0.3082999885082245, -0.3084000051021576, -0.3084000051021576, -0.3084000051021576, -0.3084000051021576, -0.3084000051021576, -0.3084999918937683, -0.3084999918937683, -0.3084999918937683, -0.3084999918937683, -0.3086000084877014, -0.3086000084877014, -0.30869999527931213, -0.3086000084877014, -0.3091000020503998, -0.3089999854564667, -0.3091000020503998, 2.9272000789642334, 2.9265999794006348, 2.92549991607666, 2.925299882888794, 2.924099922180176, 2.921600103378296, 2.9191999435424805, 2.9154999256134033, 2.913800001144409, 2.907599925994873, 2.903599977493286, -0.28760001063346863, -0.28760001063346863, -0.28760001063346863, -0.28760001063346863, -0.28769999742507935, -0.28769999742507935, -0.28769999742507935, -0.28769999742507935, -0.28769999742507935, -0.28769999742507935, -0.28780001401901245, -0.28780001401901245, -0.28780001401901245, -0.28780001401901245, -0.28780001401901245, -0.28780001401901245, -0.28780001401901245, -0.28790000081062317, -0.28790000081062317, -0.28790000081062317, -0.28790000081062317, -0.28790000081062317, -0.28850001096725464, -0.28790000081062317, -0.28790000081062317, -0.288100004196167, -0.28839999437332153, -0.2881999909877777, -0.28859999775886536, -0.2879999876022339, -0.288100004196167, 2.988100051879883, 2.9869000911712646, 2.9856998920440674, 2.9846999645233154, 2.2137999534606934, 1.621000051498413, -0.16300000250339508, -0.1670999974012375, -0.1670999974012375, -0.1671999990940094, -0.1671999990940094, -0.1673000007867813, -0.1673000007867813, -0.16740000247955322, -0.16740000247955322, -0.16740000247955322, -0.16750000417232513, -0.16750000417232513, -0.16750000417232513, -0.16750000417232513, -0.16750000417232513, -0.16750000417232513, -0.16750000417232513, -0.16750000417232513, -0.16750000417232513, -0.16750000417232513, -0.16750000417232513, -0.16760000586509705, -0.16760000586509705, -0.16760000586509705, -0.16760000586509705, -0.16760000586509705, -0.16760000586509705, -0.1679999977350235, -0.16820000112056732, -0.16769999265670776, -0.16820000112056732, -0.1680999994277954, -0.1680999994277954, -0.16769999265670776, -0.16769999265670776, -0.16830000281333923, -0.16830000281333923, -0.16859999299049377, -0.1679999977350235, -0.1680999994277954, 3.0759999752044678, 3.075900077819824, 3.075200080871582, 3.0750999450683594, 3.0743000507354736, 3.0738000869750977, 3.072999954223633, 3.0689001083374023, 3.0385000705718994, 1.2994999885559082, 0.8508999943733215, 0.8507999777793884, 0.850600004196167, 0.850600004196167, 0.8504999876022339, 0.8504999876022339, 0.8504999876022339, 0.8504999876022339, 0.8503999710083008, 0.8503999710083008, 0.8503999710083008, 0.8503999710083008, 0.8503999710083008, 0.8503999710083008, 0.8503999710083008, 0.8503999710083008, 0.8503999710083008, 0.8503999710083008, 0.8503999710083008, 0.8503999710083008, 0.8503000140190125, 0.8503000140190125, 0.8500000238418579, 0.8500999808311462, 0.8499000072479248, 0.8501999974250793, 0.8497999906539917, 0.8468000292778015, 0.8489999771118164, 0.8501999974250793, 0.8497999906539917, 0.8499000072479248, 0.8500000238418579, 0.8499000072479248, 3.086199998855591, 3.086199998855591, 3.0857999324798584, 3.0845999717712402, 3.0840001106262207, 3.0840001106262207, 3.083899974822998, 3.083699941635132, 3.0834999084472656, 3.0833001136779785, 3.081399917602539, 3.081399917602539, 3.0808000564575195, 3.0797998905181885, 3.079400062561035, 3.0790998935699463, 3.077899932861328, 3.0745999813079834, 3.0738000869750977, 3.0734000205993652, 3.0696001052856445, 3.058000087738037, 3.039299964904785, 3.0223000049591064, 2.9916000366210938, 2.9532999992370605, 2.9082000255584717, -0.07109999656677246, -0.07150000333786011, -0.07190000265836716, 3.1147000789642334, 3.1142001152038574, 3.1142001152038574, 3.112499952316284, 3.112499952316284, 3.111999988555908, 3.111599922180176, 3.109299898147583, 3.1078999042510986, 3.1001999378204346, 3.089200019836426, 3.0611000061035156, 3.0494000911712646, 2.9809999465942383, 2.742000102996826, -0.03629999980330467, -0.03669999912381172, -0.03700000047683716, -0.03709999844431877, -0.03750000149011612, -0.03750000149011612, -0.03759999945759773, -0.03759999945759773, -0.037700001150369644, -0.037700001150369644, -0.037700001150369644, -0.03779999911785126, -0.03779999911785126, -0.03779999911785126, -0.03779999911785126, -0.03790000081062317, -0.03790000081062317, -0.03830000013113022, -0.03799999877810478, 3.1603000164031982, 3.15939998626709, 3.158400058746338, 3.1577999591827393, 3.156399965286255, 3.1561999320983887, 3.1547999382019043, 3.1538000106811523, 3.15310001373291, 3.1496999263763428, 3.1403000354766846, 3.113100051879883, 3.0838000774383545, -0.0414000004529953, -0.04149999842047691, -0.041600000113248825, -0.041600000113248825, -0.04170000180602074, -0.04179999977350235, -0.04179999977350235, -0.04179999977350235, -0.04179999977350235, -0.04179999977350235, -0.04179999977350235, -0.04190000146627426, -0.04190000146627426, -0.04190000146627426, -0.04190000146627426, -0.04190000146627426, -0.04190000146627426, -0.04190000146627426, -0.04190000146627426, -0.042100001126527786, -0.0421999990940094, -0.0421999990940094, -0.0421999990940094, -0.04439999908208847, -0.04230000078678131, -0.042100001126527786, -0.041999999433755875, -0.0421999990940094, -0.04309999942779541, -0.04259999841451645, -0.0421999990940094, -0.042500000447034836, 3.289299964904785, 3.2890000343322754, 3.287899971008301, 3.287100076675415, 3.278700113296509, 0.2290000021457672, 0.22519999742507935, 0.22499999403953552, 0.22460000216960907, 0.2240000069141388, 0.2240000069141388, 0.22390000522136688, 0.22390000522136688, 0.22390000522136688, 0.22380000352859497, 0.22380000352859497, 0.22380000352859497, 0.22380000352859497, 0.22380000352859497, 0.22380000352859497, 0.22380000352859497, 0.22380000352859497, 0.22380000352859497, 0.22380000352859497, 0.22370000183582306, 0.22370000183582306, 0.22370000183582306, 0.22370000183582306, 0.22370000183582306, 0.22370000183582306, 0.22360000014305115, 0.22360000014305115, 0.22360000014305115, 0.22360000014305115, 0.22290000319480896, 0.22300000488758087, 0.22310000658035278, 0.2232999950647354, 0.22339999675750732, 0.2224999964237213, 3.367000102996826, 3.3666000366210938, 3.3661999702453613, 3.3659000396728516, 3.3642001152038574, 3.3636999130249023, 3.3633999824523926, 3.343899965286255, 1.5017000436782837, 0.3443000018596649, 0.3425000011920929, 0.3425000011920929, 0.3425000011920929, 0.34220001101493835, 0.34209999442100525, 0.34200000762939453, 0.34200000762939453, 0.34200000762939453, 0.3418999910354614, 0.3418999910354614, 0.3418999910354614, 0.3418000042438507, 0.3418000042438507, 0.3418000042438507, 0.3418000042438507, 0.3418000042438507, 0.3418000042438507, 0.3418000042438507, 0.3418000042438507, 0.3418000042438507, 0.3418000042438507, 0.3416999876499176, 0.34150001406669617, 0.3416000008583069, 0.34130001068115234, 0.34139999747276306, 0.34139999747276306, 0.3409000039100647, 0.34139999747276306, 0.34150001406669617, 3.4200000762939453, 3.4198999404907227, 3.419800043106079, 3.4196999073028564, 3.419300079345703, 3.4191999435424805, 3.415299892425537, 3.4135000705718994, 3.4028000831604004, 3.3666000366210938, 3.287100076675415, 3.247999906539917, 2.4946000576019287, 1.5699000358581543, 0.42829999327659607, 0.4278999865055084, 0.4278999865055084, 0.427700012922287, 0.427700012922287, 0.4275999963283539, 0.4275999963283539, 0.4275999963283539, 0.4275999963283539, 0.42750000953674316, 0.42750000953674316, 0.42750000953674316, 0.42750000953674316, 0.42750000953674316, 0.42750000953674316, 0.42750000953674316, 0.42739999294281006, 0.42739999294281006, 0.42730000615119934, 0.42719998955726624, 0.4269999861717224, 0.4268999993801117, 0.4262000024318695, 0.42730000615119934, 0.4262000024318695, 0.42739999294281006, 0.4262999892234802, 3.6001999378204346, 3.5999999046325684, 3.5994999408721924, 3.5987000465393066, 3.598299980163574, 3.5977001190185547, 3.594399929046631, 3.594099998474121, 3.5917999744415283, 3.590399980545044, 3.590100049972534, 3.587100028991699, 3.586400032043457, 3.579400062561035, 3.572499990463257, 3.5541000366210938, 3.454699993133545, 0.782800018787384, 0.782800018787384, 0.7825999855995178, 0.7825999855995178, 0.7825999855995178, 0.7825999855995178, 0.7825999855995178, 0.7825999855995178, 0.7825000286102295, 0.7825000286102295, 0.7825000286102295, 0.7825000286102295, 0.7825000286102295, 0.7825000286102295, 0.7825000286102295, 0.7821000218391418, 0.7824000120162964, 0.7821999788284302, 0.7792999744415283, 0.7817999720573425, 0.7822999954223633, 0.7815999984741211, 0.7814000248908997, 0.7815999984741211, 0.7814000248908997, 0.781499981880188, 0.7814000248908997, 3.8343000411987305, 3.8341000080108643, 3.8334999084472656, 3.8326001167297363, 3.8322999477386475, 3.82069993019104, 1.1445000171661377, 1.1445000171661377, 1.1437000036239624, 1.1437000036239624, 1.1437000036239624, 1.1435999870300293, 1.1435999870300293, 1.1435999870300293, 1.1435999870300293, 1.1434999704360962, 1.1434999704360962, 1.143399953842163, 1.1433000564575195, 1.1432000398635864, 1.1431000232696533, 1.1431000232696533, 1.1431000232696533, 1.1431000232696533, 1.1431000232696533, 1.1430000066757202, 1.1430000066757202, 1.142899990081787, 1.142899990081787, 1.142899990081787, 1.142899990081787, 1.142899990081787, 1.1419999599456787, 1.1424000263214111, 1.1426000595092773, 1.142300009727478, 1.142699956893921, 1.142899990081787, 1.142799973487854, 1.1419999599456787, 1.1412999629974365, 1.1413999795913696, 4.238100051879883, 4.237400054931641, 3.59089994430542, 1.3631000518798828, 1.3630000352859497, 1.3630000352859497, 1.3630000352859497, 1.3628000020980835, 1.3628000020980835, 1.3628000020980835, 1.3626999855041504, 1.3626999855041504, 1.3626999855041504, 1.3626999855041504, 1.3626999855041504, 1.3625999689102173, 1.3625999689102173, 1.3625999689102173, 1.3625999689102173, 1.3625999689102173, 1.3625999689102173, 1.3625999689102173, 1.3625999689102173, 1.3625999689102173, 1.3625999689102173, 1.3625999689102173, 1.3624999523162842, 1.3624999523162842, 1.3624999523162842, 1.3624999523162842, 1.3624999523162842, 1.3624999523162842, 1.3624000549316406, 1.3623000383377075, 1.3622000217437744, 1.3623000383377075, 1.3624999523162842, 1.3597999811172485, 1.3622000217437744, 1.3619999885559082, 1.3624000549316406, 1.3619999885559082, 1.3617000579833984, 1.3619999885559082, 1.3623000383377075, 1.3623000383377075, 1.3621000051498413, 1.361899971961975]}, \"token.table\": {\"Topic\": [4, 2, 3, 19, 12, 10, 13, 2, 1, 2, 12, 2, 15, 12, 8, 13, 20, 17, 14, 4, 1, 14, 17, 7, 18, 16, 1, 12, 12, 3, 14, 6, 6, 1, 1, 3, 11, 7, 17, 2, 12, 4, 1, 11, 12, 6, 14, 6, 20, 12, 3, 18, 1, 14, 2, 1, 15, 4, 10, 17, 19, 4, 13, 4, 17, 14, 1, 4, 12, 4, 2, 7, 8, 9, 17, 18, 6, 13, 4, 9, 14, 13, 11, 12, 4, 14, 13, 3, 18, 12, 2, 12, 14, 17, 16, 3, 9, 6, 2, 2, 8, 13, 19, 2, 12, 17, 15, 16, 12, 18, 8, 1, 2, 1, 1, 2, 10, 5, 8, 11, 1, 2, 11, 2, 3, 12, 12, 2, 13, 2, 7, 1, 3, 13, 18, 10, 7, 14, 4, 4, 2, 9, 2, 1, 2, 17, 4, 3, 16, 13, 13, 18, 17, 6, 11, 12, 7, 13, 7, 9, 12, 2, 18, 7, 2, 11, 1, 1, 16, 6, 9, 15, 4, 14, 16, 8, 9, 13, 17, 12, 11, 19, 6, 6, 15, 12, 16, 2, 6, 18, 6, 3, 2, 18, 1, 12, 17, 5, 10, 16, 4, 7, 5, 18, 4, 18, 9, 14, 4, 1, 12, 1, 8, 9, 12, 6, 1, 18, 6, 6, 4, 7, 19, 13, 11, 2, 2, 4, 3, 4, 17, 3, 12, 10, 12, 12, 1, 3, 7, 2, 7, 2, 4, 1, 2, 1, 4, 9, 18, 18, 11, 20, 16, 1, 6, 2, 18, 13, 12, 1, 7, 14, 1, 9, 1, 19, 3, 4, 6, 1, 4, 4, 1, 8, 18, 4], \"Freq\": [0.9120619297027588, 0.9948928356170654, 0.9980335235595703, 0.9974222779273987, 0.988334596157074, 0.9985218644142151, 0.984486997127533, 0.998493492603302, 0.9980812072753906, 0.9956851005554199, 0.9991254806518555, 0.9991248846054077, 0.9996951818466187, 0.7968062162399292, 0.9992450475692749, 0.8826611638069153, 0.5236669182777405, 0.9986415505409241, 0.9963184595108032, 0.9927465319633484, 0.9916561841964722, 0.9978532791137695, 0.9991809725761414, 0.9795083403587341, 0.9946988821029663, 0.9787815809249878, 0.9982820153236389, 0.955521821975708, 0.9918654561042786, 0.9990420341491699, 0.9947591423988342, 0.966813862323761, 0.9752681255340576, 0.9896290302276611, 0.9974865913391113, 0.8302885890007019, 0.16910764575004578, 0.9979841113090515, 0.9930868744850159, 0.9976533055305481, 0.9972690939903259, 0.8415175080299377, 0.9867403507232666, 0.9973873496055603, 0.9936037659645081, 0.9904529452323914, 0.9168616533279419, 0.9998496770858765, 0.9989825487136841, 0.9871078729629517, 0.992865264415741, 0.9992660880088806, 0.9747472405433655, 0.9505745768547058, 0.9927634596824646, 0.9990370869636536, 0.9985836148262024, 0.9989292025566101, 0.5834609270095825, 0.3294605314731598, 0.99925297498703, 0.8930191397666931, 0.9379974603652954, 0.9968621134757996, 0.8660137057304382, 0.9899612069129944, 0.998215913772583, 0.9886777400970459, 0.9970598220825195, 0.9496431350708008, 0.9921958446502686, 0.9937735199928284, 0.9682765603065491, 0.9982845187187195, 0.9983564019203186, 0.9977678656578064, 0.9962893724441528, 0.996860682964325, 0.9050326347351074, 0.9993627071380615, 0.9913792610168457, 0.9968002438545227, 0.9958694577217102, 0.9933908581733704, 0.9008611440658569, 0.9997908473014832, 0.9954507350921631, 0.9979344606399536, 0.9001603126525879, 0.933696448802948, 0.9962089657783508, 0.9974744319915771, 0.9947180151939392, 0.9949592351913452, 0.9986773133277893, 0.9989603161811829, 0.9974490404129028, 0.9944144487380981, 0.9973012208938599, 0.9876844882965088, 0.9989449977874756, 0.9993334412574768, 0.9976528882980347, 0.9961150288581848, 0.9894067049026489, 0.9987000226974487, 0.9976329207420349, 0.9970074892044067, 0.9837749600410461, 0.9927648901939392, 0.9995163679122925, 0.9931308627128601, 0.9996233582496643, 0.9995964169502258, 0.9986306428909302, 0.9990143179893494, 0.9998332858085632, 0.7961427569389343, 0.2037593424320221, 0.9916645884513855, 0.9964537024497986, 0.9923257231712341, 0.9996240735054016, 0.9962636232376099, 0.9988341927528381, 0.9961683750152588, 0.9967361688613892, 0.9905589818954468, 0.9978675246238708, 0.9837233424186707, 0.9958810210227966, 0.9968463182449341, 0.991722822189331, 0.9284271001815796, 0.9848281145095825, 0.9965037703514099, 0.9980226159095764, 0.9974992275238037, 0.995207667350769, 0.9956721067428589, 0.9995971918106079, 0.9878811240196228, 0.9985034465789795, 0.9980798959732056, 0.9933343529701233, 0.8878477811813354, 0.9966878890991211, 0.9990769028663635, 0.999126672744751, 0.9996780157089233, 0.9803133010864258, 0.9815718531608582, 0.9989806413650513, 0.9860580563545227, 0.9993535876274109, 0.9948894381523132, 0.9989885687828064, 0.999038577079773, 0.9998628497123718, 0.9984265565872192, 0.9914190173149109, 0.9751594662666321, 0.9881234765052795, 0.9982054829597473, 0.9949014782905579, 0.9717583060264587, 0.9994507431983948, 0.9993720054626465, 0.9993757009506226, 0.9743105173110962, 0.9924070835113525, 0.9897383451461792, 0.9966221451759338, 0.9837222695350647, 0.9968111515045166, 0.9847448468208313, 0.9935802221298218, 0.9969496130943298, 0.9863779544830322, 0.9973858594894409, 0.9975560307502747, 0.9884994029998779, 0.9748179316520691, 0.9907552599906921, 0.999354898929596, 0.9944488406181335, 0.9964872002601624, 0.9944331049919128, 0.9911662340164185, 0.9619593620300293, 0.9995643496513367, 0.9985204339027405, 0.996068000793457, 0.9779455065727234, 0.9962508082389832, 0.9470686316490173, 0.998542070388794, 0.5902013778686523, 0.2547583281993866, 0.1547470986843109, 0.9047430753707886, 0.9899092316627502, 0.9995943903923035, 0.9940452575683594, 0.9995701313018799, 0.9965899586677551, 0.974801778793335, 0.9988741278648376, 0.9958525896072388, 0.9961814284324646, 0.9691597819328308, 0.9840348362922668, 0.9870514869689941, 0.9820547699928284, 0.9993588924407959, 0.998039960861206, 0.9961094856262207, 0.9982912540435791, 0.9984985589981079, 0.9973131418228149, 0.9947178959846497, 0.9855964183807373, 0.998130202293396, 0.9917069673538208, 0.9985315799713135, 0.9948669075965881, 0.9987685680389404, 0.9534445405006409, 0.9474897980690002, 0.9345959424972534, 0.951975405216217, 0.9913604855537415, 0.8794620633125305, 0.9969462156295776, 0.9858169555664062, 0.9993049502372742, 0.9988594055175781, 0.9994828104972839, 0.9938059449195862, 0.9972994327545166, 0.9734504818916321, 0.9979827404022217, 0.9989222884178162, 0.9931328296661377, 0.9963064193725586, 0.9801702499389648, 0.9979418516159058, 0.9870922565460205, 0.9990966320037842, 0.9853174686431885, 0.9988619685173035, 0.9992523193359375, 0.9990093111991882, 0.9995831847190857, 0.9555591940879822, 0.9831148982048035, 0.9899492859840393, 0.6740467548370361, 0.9975850582122803, 0.9965717792510986, 0.9872825145721436, 0.9967279434204102, 0.9829995632171631, 0.9998325109481812, 0.9883843660354614, 0.9988608956336975, 0.9996137022972107, 0.8272099494934082, 0.1716350018978119, 0.9958406686782837, 0.9990646243095398, 0.9964776039123535, 0.9797874689102173, 0.9996767640113831, 0.9981096982955933, 0.9996308088302612], \"Term\": [\"-PRON-\", \"1\", \"10\", \"100\", \"12\", \"2\", \"20\", \"3\", \"4\", \"6\", \"7\", \"8\", \"Amazon\", \"Battery\", \"Christmas\", \"Xbox\", \"aa\", \"able\", \"affordable\", \"ago\", \"alternative\", \"amazing\", \"amazon\", \"appear\", \"application\", \"arrive\", \"available\", \"average\", \"away\", \"awesome\", \"bad\", \"bang\", \"bargain\", \"base\", \"basic\", \"battery\", \"battery\", \"beat\", \"believe\", \"better\", \"bit\", \"blow\", \"box\", \"brand\", \"bright\", \"buck\", \"bulk\", \"buy\", \"camera\", \"capacity\", \"car\", \"case\", \"cause\", \"certainly\", \"change\", \"charge\", \"cheap\", \"child\", \"clock\", \"cold\", \"come\", \"comment\", \"comparable\", \"compare\", \"condition\", \"consider\", \"control\", \"convenient\", \"cost\", \"count\", \"couple\", \"daily\", \"date\", \"day\", \"deal\", \"decent\", \"decide\", \"definitely\", \"delivery\", \"device\", \"difference\", \"different\", \"disappoint\", \"dollar\", \"door\", \"easy\", \"electronic\", \"end\", \"energy\", \"equipment\", \"especially\", \"etc\", \"everyday\", \"exactly\", \"excellent\", \"expect\", \"expensive\", \"experience\", \"family\", \"fantastic\", \"far\", \"fast\", \"faster\", \"feel\", \"finally\", \"find\", \"fine\", \"fit\", \"fully\", \"future\", \"game\", \"gaming\", \"get\", \"gift\", \"give\", \"go\", \"good\", \"great\", \"great\", \"half\", \"hand\", \"handy\", \"happy\", \"hard\", \"have\", \"high\", \"highly\", \"hit\", \"hold\", \"holiday\", \"home\", \"hour\", \"house\", \"household\", \"important\", \"inexpensive\", \"issue\", \"item\", \"job\", \"keyboard\", \"kid\", \"kind\", \"know\", \"large\", \"last\", \"led\", \"let\", \"life\", \"light\", \"like\", \"likely\", \"list\", \"little\", \"local\", \"long\", \"longer\", \"look\", \"lot\", \"love\", \"low\", \"mainly\", \"maybe\", \"mean\", \"money\", \"month\", \"name\", \"need\", \"new\", \"nice\", \"nicely\", \"night\", \"non\", \"not\", \"notice\", \"ok\", \"okay\", \"one\", \"online\", \"opinion\", \"option\", \"order\", \"pack\", \"package\", \"past\", \"perfect\", \"perform\", \"performance\", \"pick\", \"place\", \"plastic\", \"play\", \"pleased\", \"plenty\", \"popular\", \"power\", \"premium\", \"pretty\", \"price\", \"price\", \"price\", \"pricing\", \"probably\", \"product\", \"provide\", \"purchase\", \"purpose\", \"put\", \"quality\", \"quick\", \"quickly\", \"rate\", \"realize\", \"reasonable\", \"recharge\", \"recommend\", \"replace\", \"replacement\", \"review\", \"right\", \"run\", \"satisfied\", \"save\", \"say\", \"search\", \"second\", \"sell\", \"set\", \"share\", \"shelf\", \"ship\", \"shipping\", \"short\", \"significantly\", \"simple\", \"sit\", \"size\", \"small\", \"son\", \"spend\", \"start\", \"stock\", \"storage\", \"store\", \"strong\", \"super\", \"suppose\", \"sure\", \"switch\", \"take\", \"test\", \"thank\", \"thing\", \"think\", \"time\", \"tired\", \"toy\", \"trouble\", \"trust\", \"try\", \"tv\", \"type\", \"update\", \"usage\", \"use\", \"useful\", \"value\", \"want\", \"way\", \"way\", \"week\", \"well\", \"will\", \"wireless\", \"work\", \"worth\", \"year\"]}, \"R\": 30, \"lambda.step\": 0.01, \"plot.opts\": {\"xlab\": \"PC1\", \"ylab\": \"PC2\"}, \"topic.order\": [17, 7, 6, 3, 10, 4, 14, 5, 9, 11, 15, 8, 12, 1, 13, 2, 20, 18, 19, 16]};\n",
       "\n",
       "function LDAvis_load_lib(url, callback){\n",
       "  var s = document.createElement('script');\n",
       "  s.src = url;\n",
       "  s.async = true;\n",
       "  s.onreadystatechange = s.onload = callback;\n",
       "  s.onerror = function(){console.warn(\"failed to load library \" + url);};\n",
       "  document.getElementsByTagName(\"head\")[0].appendChild(s);\n",
       "}\n",
       "\n",
       "if(typeof(LDAvis) !== \"undefined\"){\n",
       "   // already loaded: just create the visualization\n",
       "   !function(LDAvis){\n",
       "       new LDAvis(\"#\" + \"ldavis_el14624153332998880849262259\", ldavis_el14624153332998880849262259_data);\n",
       "   }(LDAvis);\n",
       "}else if(typeof define === \"function\" && define.amd){\n",
       "   // require.js is available: use it to load d3/LDAvis\n",
       "   require.config({paths: {d3: \"https://cdnjs.cloudflare.com/ajax/libs/d3/3.5.5/d3.min\"}});\n",
       "   require([\"d3\"], function(d3){\n",
       "      window.d3 = d3;\n",
       "      LDAvis_load_lib(\"https://cdn.rawgit.com/bmabey/pyLDAvis/files/ldavis.v1.0.0.js\", function(){\n",
       "        new LDAvis(\"#\" + \"ldavis_el14624153332998880849262259\", ldavis_el14624153332998880849262259_data);\n",
       "      });\n",
       "    });\n",
       "}else{\n",
       "    // require.js not available: dynamically load d3 & LDAvis\n",
       "    LDAvis_load_lib(\"https://cdnjs.cloudflare.com/ajax/libs/d3/3.5.5/d3.min.js\", function(){\n",
       "         LDAvis_load_lib(\"https://cdn.rawgit.com/bmabey/pyLDAvis/files/ldavis.v1.0.0.js\", function(){\n",
       "                 new LDAvis(\"#\" + \"ldavis_el14624153332998880849262259\", ldavis_el14624153332998880849262259_data);\n",
       "            })\n",
       "         });\n",
       "}\n",
       "</script>"
      ],
      "text/plain": [
       "<IPython.core.display.HTML object>"
      ]
     },
     "execution_count": 65,
     "metadata": {},
     "output_type": "execute_result"
    }
   ],
   "source": [
    "pyLDAvis.enable_notebook()\n",
    "vis = pyLDAvis.gensim.prepare(lda, corpus, id2word)\n",
    "pyLDAvis.display(vis)"
   ]
  },
  {
   "cell_type": "code",
   "execution_count": 66,
   "metadata": {},
   "outputs": [],
   "source": [
    "def compute_coherence_values(dictionary, corpus, texts, limit, start=2, step=3):\n",
    "    \"\"\"\n",
    "    Compute c_v coherence for various number of topics\n",
    "\n",
    "    Parameters:\n",
    "    ----------\n",
    "    dictionary : Gensim dictionary\n",
    "    corpus : Gensim corpus\n",
    "    texts : List of input texts\n",
    "    limit : Max num of topics\n",
    "\n",
    "    Returns:\n",
    "    -------\n",
    "    model_list : List of LDA topic models\n",
    "    coherence_values : Coherence values corresponding to the LDA model with respective number of topics\n",
    "    \"\"\"\n",
    "    coherence_values = []\n",
    "    model_list = []\n",
    "    for num_topics in range(start, limit, step):\n",
    "        model = gensim.models.ldamulticore.LdaMulticore(corpus=corpus,\n",
    "                                                        id2word=id2word,\n",
    "                                                        num_topics=num_topics, \n",
    "                                                        chunksize=100,\n",
    "                                                        passes=10,\n",
    "                                                        per_word_topics=True,\n",
    "                                                        workers=12)\n",
    "        model_list.append(model)\n",
    "        coherencemodel = CoherenceModel(model=model, texts=texts, dictionary=dictionary, coherence='c_v')\n",
    "        coherence_values.append(coherencemodel.get_coherence())\n",
    "\n",
    "    return model_list, coherence_values"
   ]
  },
  {
   "cell_type": "code",
   "execution_count": 67,
   "metadata": {},
   "outputs": [
    {
     "name": "stdout",
     "output_type": "stream",
     "text": [
      "Wall time: 6min 23s\n"
     ]
    }
   ],
   "source": [
    "%%time\n",
    "model_list, coherence_values = compute_coherence_values(dictionary=id2word, \n",
    "                                                        corpus=corpus, \n",
    "                                                        texts=df['lemmas'], \n",
    "                                                        start=10, \n",
    "                                                        limit=41, \n",
    "                                                        step=5)"
   ]
  },
  {
   "cell_type": "code",
   "execution_count": 68,
   "metadata": {},
   "outputs": [
    {
     "data": {
      "image/png": "[encoded data removed]",
      "text/plain": [
       "<Figure size 432x288 with 1 Axes>"
      ]
     },
     "metadata": {
      "needs_background": "light"
     },
     "output_type": "display_data"
    }
   ],
   "source": [
    "start=10; limit=41; step=5;\n",
    "x = range(start, limit, step)\n",
    "plt.plot(x, coherence_values)\n",
    "plt.xlabel(\"Num Topics\")\n",
    "plt.ylabel(\"Coherence score\")\n",
    "plt.legend((\"coherence_values\"), loc='best')\n",
    "plt.show()"
   ]
  },
  {
   "cell_type": "code",
   "execution_count": 69,
   "metadata": {},
   "outputs": [
    {
     "name": "stdout",
     "output_type": "stream",
     "text": [
      "Num Topics = 10  has Coherence Value of 0.4379\n",
      "Num Topics = 15  has Coherence Value of 0.4371\n",
      "Num Topics = 20  has Coherence Value of 0.4509\n",
      "Num Topics = 25  has Coherence Value of 0.4109\n",
      "Num Topics = 30  has Coherence Value of 0.3983\n",
      "Num Topics = 35  has Coherence Value of 0.376\n",
      "Num Topics = 40  has Coherence Value of 0.3774\n"
     ]
    }
   ],
   "source": [
    "# Print the coherence scores\n",
    "for m, cv in zip(x, coherence_values):\n",
    "    print(\"Num Topics =\", m, \" has Coherence Value of\", round(cv, 4))"
   ]
  },
  {
   "cell_type": "code",
   "execution_count": 76,
   "metadata": {},
   "outputs": [
    {
     "name": "stdout",
     "output_type": "stream",
     "text": [
      "[(0,\n",
      "  '0.205*\"far\" + 0.049*\"work\" + 0.043*\"go\" + 0.036*\"complaint\" + '\n",
      "  '0.033*\"portable\" + 0.030*\"keyboard\" + 0.027*\"issue\" + 0.024*\"strong\" + '\n",
      "  '0.021*\"perform\" + 0.021*\"advertise\"'),\n",
      " (1,\n",
      "  '0.065*\"purchase\" + 0.055*\"happy\" + 0.053*\"Christmas\" + 0.039*\"picture\" + '\n",
      "  '0.038*\"card\" + 0.038*\"gift\" + 0.032*\"give\" + 0.031*\"storage\" + '\n",
      "  '0.031*\"thank\" + 0.030*\"buy\"'),\n",
      " (2,\n",
      "  '0.297*\"love\" + 0.089*\"buy\" + 0.072*\"gift\" + 0.058*\"kid\" + 0.043*\"free\" + '\n",
      "  '0.026*\"beat\" + 0.023*\"case\" + 0.021*\"price\" + 0.021*\"family\" + '\n",
      "  '0.020*\"durable\"'),\n",
      " (3,\n",
      "  '0.049*\"price\" + 0.030*\"high\" + 0.030*\"sale\" + 0.028*\"low\" + 0.025*\"quality\" '\n",
      "  '+ 0.022*\"look\" + 0.021*\"decent\" + 0.018*\"get\" + 0.018*\"unit\" + '\n",
      "  '0.017*\"friend\"'),\n",
      " (4,\n",
      "  '0.085*\"read\" + 0.078*\"book\" + 0.051*\"Fire\" + 0.025*\"Amazon\" + 0.021*\"8\" + '\n",
      "  '0.020*\"like\" + 0.019*\"buy\" + 0.015*\"break\" + 0.014*\"new\" + 0.014*\"want\"'),\n",
      " (5,\n",
      "  '0.121*\"battery\" + 0.029*\"Amazon\" + 0.025*\"order\" + 0.024*\"buy\" + '\n",
      "  '0.022*\"time\" + 0.015*\"long\" + 0.014*\"need\" + 0.014*\"toy\" + 0.013*\"pack\" + '\n",
      "  '0.013*\"know\"'),\n",
      " (6,\n",
      "  '0.591*\"great\" + 0.112*\"price\" + 0.067*\"work\" + 0.043*\"product\" + '\n",
      "  '0.031*\"value\" + 0.028*\"battery\" + 0.023*\"deal\" + 0.019*\"buy\" + '\n",
      "  '0.011*\"quality\" + 0.009*\"awesome\"'),\n",
      " (7,\n",
      "  '0.132*\"battery\" + 0.074*\"brand\" + 0.042*\"price\" + 0.039*\"long\" + '\n",
      "  '0.032*\"cheap\" + 0.031*\"buy\" + 0.024*\"work\" + 0.024*\"well\" + 0.020*\"Amazon\" '\n",
      "  '+ 0.017*\"Duracell\"'),\n",
      " (8,\n",
      "  '0.076*\"child\" + 0.054*\"internet\" + 0.049*\"access\" + 0.034*\"come\" + '\n",
      "  '0.032*\"easy\" + 0.027*\"easily\" + 0.027*\"small\" + 0.027*\"fun\" + 0.024*\"wifi\" '\n",
      "  '+ 0.023*\"prime\"'),\n",
      " (9,\n",
      "  '0.221*\"use\" + 0.195*\"easy\" + 0.074*\"son\" + 0.042*\"kid\" + 0.036*\"set\" + '\n",
      "  '0.029*\"user\" + 0.026*\"color\" + 0.022*\"control\" + 0.019*\"time\" + '\n",
      "  '0.018*\"young\"'),\n",
      " (10,\n",
      "  '0.441*\"good\" + 0.088*\"price\" + 0.079*\"battery\" + 0.067*\"long\" + '\n",
      "  '0.037*\"quality\" + 0.027*\"buy\" + 0.024*\"value\" + 0.021*\"life\" + 0.020*\"deal\" '\n",
      "  '+ 0.020*\"time\"'),\n",
      " (11,\n",
      "  '0.224*\"product\" + 0.183*\"recommend\" + 0.093*\"excellent\" + 0.085*\"item\" + '\n",
      "  '0.082*\"learn\" + 0.051*\"highly\" + 0.033*\"quickly\" + 0.032*\"service\" + '\n",
      "  '0.032*\"look\" + 0.023*\"exactly\"'),\n",
      " (12,\n",
      "  '0.114*\"old\" + 0.111*\"love\" + 0.100*\"year\" + 0.086*\"game\" + 0.061*\"play\" + '\n",
      "  '0.059*\"buy\" + 0.049*\"daughter\" + 0.037*\"kid\" + 0.027*\"get\" + 0.026*\"2\"'),\n",
      " (13,\n",
      "  '0.248*\"app\" + 0.057*\"kid\" + 0.047*\"Amazon\" + 0.046*\"store\" + 0.038*\"need\" + '\n",
      "  '0.029*\"good\" + 0.024*\"add\" + 0.022*\"available\" + 0.021*\"allow\" + '\n",
      "  '0.021*\"not\"'),\n",
      " (14,\n",
      "  '0.053*\"purchase\" + 0.036*\"new\" + 0.028*\"pleased\" + 0.028*\"second\" + '\n",
      "  '0.027*\"mom\" + 0.027*\"return\" + 0.026*\"replace\" + 0.025*\"birthday\" + '\n",
      "  '0.025*\"reading\" + 0.024*\"get\"'),\n",
      " (15,\n",
      "  '0.334*\"work\" + 0.140*\"fast\" + 0.086*\"expect\" + 0.076*\"fine\" + 0.049*\"ok\" + '\n",
      "  '0.041*\"problem\" + 0.034*\"connect\" + 0.026*\"battery\" + 0.021*\"bright\" + '\n",
      "  '0.016*\"Prime\"'),\n",
      " (16,\n",
      "  '0.143*\"size\" + 0.135*\"perfect\" + 0.080*\"lot\" + 0.062*\"right\" + 0.056*\"5\" + '\n",
      "  '0.053*\"pretty\" + 0.036*\"fit\" + 0.033*\"definitely\" + 0.028*\"favorite\" + '\n",
      "  '0.022*\"price\"'),\n",
      " (17,\n",
      "  '0.135*\"screen\" + 0.067*\"nice\" + 0.065*\"fire\" + 0.036*\"like\" + 0.036*\"well\" '\n",
      "  '+ 0.026*\"sound\" + 0.025*\"big\" + 0.024*\"clear\" + 0.024*\"large\" + '\n",
      "  '0.019*\"able\"'),\n",
      " (18,\n",
      "  '0.050*\"device\" + 0.038*\"music\" + 0.033*\"phone\" + 0.032*\"case\" + '\n",
      "  '0.031*\"version\" + 0.030*\"age\" + 0.028*\"want\" + 0.026*\"Amazon\" + '\n",
      "  '0.023*\"content\" + 0.021*\"play\"'),\n",
      " (19,\n",
      "  '0.077*\"charge\" + 0.035*\"battery\" + 0.033*\"day\" + 0.033*\"use\" + '\n",
      "  '0.030*\"memory\" + 0.030*\"month\" + 0.025*\"week\" + 0.024*\"hour\" + 0.023*\"2\" + '\n",
      "  '0.022*\"camera\"')]\n"
     ]
    }
   ],
   "source": [
    "# Select the model and print the topics\n",
    "optimal_model = model_list[2]\n",
    "optimal_model.save('optimal_model.model')\n",
    "optimal_model =  models.LdaModel.load('optimal_model.model')\n",
    "model_topics = optimal_model.show_topics(formatted=False)\n",
    "pprint(optimal_model.print_topics(num_words=10))"
   ]
  },
  {
   "cell_type": "markdown",
   "metadata": {},
   "source": [
    "## Stretch Goals\n",
    "\n",
    "* Incorporate Named Entity Recognition in your analysis\n",
    "* Incorporate some custom pre-processing from our previous lessons (like spacy lemmatization)\n",
    "* Analyze a dataset of interest to you with topic modeling"
   ]
  }
 ],
 "metadata": {
  "kernelspec": {
   "display_name": "U4-S1-NLP",
   "language": "python",
   "name": "u4-s1-nlp"
  },
  "language_info": {
   "codemirror_mode": {
    "name": "ipython",
    "version": 3
   },
   "file_extension": ".py",
   "mimetype": "text/x-python",
   "name": "python",
   "nbconvert_exporter": "python",
   "pygments_lexer": "ipython3",
   "version": "3.7.6"
  }
 },
 "nbformat": 4,
 "nbformat_minor": 2
}
