{
 "cells": [
  {
   "cell_type": "markdown",
   "metadata": {
    "colab_type": "text",
    "id": "cOMBkFKn6uEK"
   },
   "source": [
    "# Topic Modeling (Prepare)\n",
    "\n",
    "On Monday we talked about summarizing your documents using just token counts. Today, we're going to learn about a much more sophisticated approach - learning 'topics' from documents. Topics are a latent structure. They are not directly observable in the data, but we know they're there by reading them.\n",
    "\n",
    "> **latent**: existing but not yet developed or manifest; hidden or concealed.\n",
    "\n",
    "## Use Cases\n",
    "Primary use case: what the hell are your documents about? Who might want to know that in industry - \n",
    "* Identifying common themes in customer reviews\n",
    "* Discovering the needle in a haystack \n",
    "* Monitoring communications (Email - State Department) \n",
    "\n",
    "## Learning Objectives\n",
    "*At the end of the lesson you should be able to:*\n",
    "* Part 0: Warm-Up\n",
    "* Part 1: Describe how an LDA Model works\n",
    "* Part 2: Estimate a LDA Model with Gensim\n",
    "* Part 3: Interpret LDA results & Select the appropriate number of topics"
   ]
  },
  {
   "cell_type": "markdown",
   "metadata": {
    "colab_type": "text",
    "id": "cxH0cRGX6uEL"
   },
   "source": [
    "# Part 0: Warm-Up\n",
    "How do we do a grid search? "
   ]
  },
  {
   "cell_type": "code",
   "execution_count": 1,
   "metadata": {
    "colab": {},
    "colab_type": "code",
    "id": "FFjplZ7r3Lyk"
   },
   "outputs": [],
   "source": [
    "import warnings\n",
    "warnings.filterwarnings(\"ignore\")"
   ]
  },
  {
   "cell_type": "code",
   "execution_count": 2,
   "metadata": {
    "colab": {},
    "colab_type": "code",
    "id": "rnyNg8sQ6uEL"
   },
   "outputs": [],
   "source": [
    "import pandas as pd\n",
    "from sklearn.datasets import fetch_20newsgroups\n",
    "from sklearn.ensemble import RandomForestClassifier\n",
    "from sklearn.model_selection import GridSearchCV\n",
    "from sklearn.feature_extraction.text import TfidfVectorizer"
   ]
  },
  {
   "cell_type": "code",
   "execution_count": 3,
   "metadata": {
    "colab": {},
    "colab_type": "code",
    "id": "boKWVkRz6uEO"
   },
   "outputs": [
    {
     "name": "stdout",
     "output_type": "stream",
     "text": [
      "Training Samples: 11314\n",
      "Testing Samples: 7532\n"
     ]
    }
   ],
   "source": [
    "# Load training data\n",
    "newsgroups_train = fetch_20newsgroups(subset='train', \n",
    "                                      remove=('headers', 'footers', 'quotes'))\n",
    "\n",
    "# Load testing data\n",
    "newsgroups_test = fetch_20newsgroups(subset='test', \n",
    "                                     remove=('headers', 'footers', 'quotes'))\n",
    "\n",
    "print(f'Training Samples: {len(newsgroups_train.data)}')\n",
    "print(f'Testing Samples: {len(newsgroups_test.data)}')"
   ]
  },
  {
   "cell_type": "code",
   "execution_count": 4,
   "metadata": {
    "colab": {},
    "colab_type": "code",
    "id": "hPpukADi7Ofv"
   },
   "outputs": [
    {
     "data": {
      "text/plain": [
       "dict_keys(['data', 'filenames', 'target_names', 'target', 'DESCR'])"
      ]
     },
     "execution_count": 4,
     "metadata": {},
     "output_type": "execute_result"
    }
   ],
   "source": [
    "newsgroups_train.keys()"
   ]
  },
  {
   "cell_type": "code",
   "execution_count": 5,
   "metadata": {
    "colab": {},
    "colab_type": "code",
    "id": "g9Jhb3j-7_e2"
   },
   "outputs": [
    {
     "data": {
      "text/plain": [
       "['alt.atheism',\n",
       " 'comp.graphics',\n",
       " 'comp.os.ms-windows.misc',\n",
       " 'comp.sys.ibm.pc.hardware',\n",
       " 'comp.sys.mac.hardware',\n",
       " 'comp.windows.x',\n",
       " 'misc.forsale',\n",
       " 'rec.autos',\n",
       " 'rec.motorcycles',\n",
       " 'rec.sport.baseball',\n",
       " 'rec.sport.hockey',\n",
       " 'sci.crypt',\n",
       " 'sci.electronics',\n",
       " 'sci.med',\n",
       " 'sci.space',\n",
       " 'soc.religion.christian',\n",
       " 'talk.politics.guns',\n",
       " 'talk.politics.mideast',\n",
       " 'talk.politics.misc',\n",
       " 'talk.religion.misc']"
      ]
     },
     "execution_count": 5,
     "metadata": {},
     "output_type": "execute_result"
    }
   ],
   "source": [
    "newsgroups_train['target_names']"
   ]
  },
  {
   "cell_type": "code",
   "execution_count": 6,
   "metadata": {
    "colab": {},
    "colab_type": "code",
    "id": "JbVoIoMm8HbR"
   },
   "outputs": [
    {
     "data": {
      "text/plain": [
       "\"Anybody seen mouse cursor distortion running the Diamond 1024x768x256 driver?\\nSorry, don't know the version of the driver (no indication in the menus) but it's a recently\\ndelivered Gateway system.  Am going to try the latest drivers from Diamond BBS but wondered\\nif anyone else had seen this.\\n\\npost or email\""
      ]
     },
     "execution_count": 6,
     "metadata": {},
     "output_type": "execute_result"
    }
   ],
   "source": [
    "newsgroups_train['data'][1000]"
   ]
  },
  {
   "cell_type": "markdown",
   "metadata": {
    "colab_type": "text",
    "id": "w-39zg9a6uEQ"
   },
   "source": [
    "### GridSearch on Just Classifier\n",
    "* Fit the vectorizer and prepare BEFORE it goes into the gridsearch"
   ]
  },
  {
   "cell_type": "code",
   "execution_count": 7,
   "metadata": {
    "colab": {},
    "colab_type": "code",
    "id": "2q3NmHEo6uEQ"
   },
   "outputs": [
    {
     "name": "stdout",
     "output_type": "stream",
     "text": [
      "(11314, 18101)\n"
     ]
    }
   ],
   "source": [
    "# Instantiate vectorizer\n",
    "vect = TfidfVectorizer(min_df=5)\n",
    "\n",
    "# Transform the training data\n",
    "X_train = vect.fit_transform(newsgroups_train['data'])\n",
    "print(X_train.shape)"
   ]
  },
  {
   "cell_type": "code",
   "execution_count": 8,
   "metadata": {
    "colab": {},
    "colab_type": "code",
    "id": "7OfA7KNQ6uEU"
   },
   "outputs": [
    {
     "name": "stdout",
     "output_type": "stream",
     "text": [
      "Fitting 5 folds for each of 4 candidates, totalling 20 fits\n"
     ]
    },
    {
     "name": "stderr",
     "output_type": "stream",
     "text": [
      "[Parallel(n_jobs=-1)]: Using backend LokyBackend with 8 concurrent workers.\n",
      "[Parallel(n_jobs=-1)]: Done  20 out of  20 | elapsed:  1.3min finished\n"
     ]
    },
    {
     "data": {
      "text/plain": [
       "GridSearchCV(cv=5, error_score=nan,\n",
       "             estimator=RandomForestClassifier(bootstrap=True, ccp_alpha=0.0,\n",
       "                                              class_weight=None,\n",
       "                                              criterion='gini', max_depth=None,\n",
       "                                              max_features='auto',\n",
       "                                              max_leaf_nodes=None,\n",
       "                                              max_samples=None,\n",
       "                                              min_impurity_decrease=0.0,\n",
       "                                              min_impurity_split=None,\n",
       "                                              min_samples_leaf=1,\n",
       "                                              min_samples_split=2,\n",
       "                                              min_weight_fraction_leaf=0.0,\n",
       "                                              n_estimators=100, n_jobs=None,\n",
       "                                              oob_score=False,\n",
       "                                              random_state=None, verbose=0,\n",
       "                                              warm_start=False),\n",
       "             iid='deprecated', n_jobs=-1,\n",
       "             param_grid={'min_samples_leaf': [1, 2, 5, 10]},\n",
       "             pre_dispatch='2*n_jobs', refit=True, return_train_score=False,\n",
       "             scoring=None, verbose=1)"
      ]
     },
     "execution_count": 8,
     "metadata": {},
     "output_type": "execute_result"
    }
   ],
   "source": [
    "params_1 = {\n",
    "    'min_samples_leaf': [1, 2, 5, 10]\n",
    "}\n",
    "\n",
    "# Instantiate classifier\n",
    "clf = RandomForestClassifier()\n",
    "\n",
    "# GridSearch\n",
    "gs1 = GridSearchCV(clf, params_1, cv=5, n_jobs=-1, verbose=1)\n",
    "gs1.fit(X_train, newsgroups_train['target'])"
   ]
  },
  {
   "cell_type": "code",
   "execution_count": 9,
   "metadata": {},
   "outputs": [
    {
     "data": {
      "text/plain": [
       "0.6428323551946451"
      ]
     },
     "execution_count": 9,
     "metadata": {},
     "output_type": "execute_result"
    }
   ],
   "source": [
    "gs1.best_score_"
   ]
  },
  {
   "cell_type": "code",
   "execution_count": 10,
   "metadata": {},
   "outputs": [
    {
     "data": {
      "text/plain": [
       "{'min_samples_leaf': 2}"
      ]
     },
     "execution_count": 10,
     "metadata": {},
     "output_type": "execute_result"
    }
   ],
   "source": [
    "gs1.best_params_"
   ]
  },
  {
   "cell_type": "code",
   "execution_count": 11,
   "metadata": {
    "colab": {},
    "colab_type": "code",
    "id": "gDkMaXvG83Zt"
   },
   "outputs": [
    {
     "data": {
      "text/plain": [
       "(1, 18101)"
      ]
     },
     "execution_count": 11,
     "metadata": {},
     "output_type": "execute_result"
    }
   ],
   "source": [
    "test_sample = vect.transform([\"The new york yankees are the best team in the region.\"])\n",
    "test_sample.shape"
   ]
  },
  {
   "cell_type": "code",
   "execution_count": 12,
   "metadata": {
    "colab": {},
    "colab_type": "code",
    "id": "cMq_hw5W6uEX"
   },
   "outputs": [
    {
     "data": {
      "text/plain": [
       "9"
      ]
     },
     "execution_count": 12,
     "metadata": {},
     "output_type": "execute_result"
    }
   ],
   "source": [
    "gs1.predict(test_sample)[0]"
   ]
  },
  {
   "cell_type": "code",
   "execution_count": 13,
   "metadata": {},
   "outputs": [
    {
     "data": {
      "text/plain": [
       "'rec.sport.baseball'"
      ]
     },
     "execution_count": 13,
     "metadata": {},
     "output_type": "execute_result"
    }
   ],
   "source": [
    "newsgroups_train['target_names'][9]"
   ]
  },
  {
   "cell_type": "markdown",
   "metadata": {
    "colab_type": "text",
    "id": "WdVTuXKl6uEZ"
   },
   "source": [
    "### GridSearch with BOTH the Vectoizer & Classifier"
   ]
  },
  {
   "cell_type": "code",
   "execution_count": 14,
   "metadata": {
    "colab": {},
    "colab_type": "code",
    "id": "97TjUtoI6uEZ"
   },
   "outputs": [
    {
     "name": "stdout",
     "output_type": "stream",
     "text": [
      "Fitting 5 folds for each of 8 candidates, totalling 40 fits\n"
     ]
    },
    {
     "name": "stderr",
     "output_type": "stream",
     "text": [
      "[Parallel(n_jobs=-1)]: Using backend LokyBackend with 8 concurrent workers.\n",
      "[Parallel(n_jobs=-1)]: Done  40 out of  40 | elapsed:  3.9min finished\n"
     ]
    },
    {
     "data": {
      "text/plain": [
       "GridSearchCV(cv=5, error_score=nan,\n",
       "             estimator=Pipeline(memory=None,\n",
       "                                steps=[('vect',\n",
       "                                        TfidfVectorizer(analyzer='word',\n",
       "                                                        binary=False,\n",
       "                                                        decode_error='strict',\n",
       "                                                        dtype=<class 'numpy.float64'>,\n",
       "                                                        encoding='utf-8',\n",
       "                                                        input='content',\n",
       "                                                        lowercase=True,\n",
       "                                                        max_df=1.0,\n",
       "                                                        max_features=None,\n",
       "                                                        min_df=1,\n",
       "                                                        ngram_range=(1, 1),\n",
       "                                                        norm='l2',\n",
       "                                                        preprocessor=None,\n",
       "                                                        smooth_idf=True,\n",
       "                                                        stop_words=None,\n",
       "                                                        strip_acce...\n",
       "                                                               min_samples_split=2,\n",
       "                                                               min_weight_fraction_leaf=0.0,\n",
       "                                                               n_estimators=100,\n",
       "                                                               n_jobs=None,\n",
       "                                                               oob_score=False,\n",
       "                                                               random_state=42,\n",
       "                                                               verbose=0,\n",
       "                                                               warm_start=False))],\n",
       "                                verbose=False),\n",
       "             iid='deprecated', n_jobs=-1,\n",
       "             param_grid={'clf__max_depth': (10, None), 'vect__min_df': (2, 5),\n",
       "                         'vect__stop_words': (None, 'english')},\n",
       "             pre_dispatch='2*n_jobs', refit=True, return_train_score=False,\n",
       "             scoring=None, verbose=1)"
      ]
     },
     "execution_count": 14,
     "metadata": {},
     "output_type": "execute_result"
    }
   ],
   "source": [
    "from sklearn.pipeline import Pipeline\n",
    "\n",
    "# 1. Create a pipeline with a vectorize and a classifier\n",
    "# 2. Use Grid Search to optimize the entire pipeline\n",
    "pipe = Pipeline([\n",
    "    ('vect', TfidfVectorizer()),\n",
    "    ('clf', RandomForestClassifier(random_state=42))\n",
    "])\n",
    "\n",
    "params_2 = {\n",
    "    'vect__stop_words': (None, 'english'), \n",
    "    'vect__min_df': (2, 5),\n",
    "    'clf__max_depth': (10, None)\n",
    "}\n",
    "\n",
    "gs2 = GridSearchCV(pipe, params_2, cv=5, n_jobs=-1, verbose=1)\n",
    "gs2.fit(newsgroups_train['data'], newsgroups_train['target'])"
   ]
  },
  {
   "cell_type": "code",
   "execution_count": 15,
   "metadata": {},
   "outputs": [
    {
     "data": {
      "text/plain": [
       "0.6607746264533867"
      ]
     },
     "execution_count": 15,
     "metadata": {},
     "output_type": "execute_result"
    }
   ],
   "source": [
    "gs2.best_score_"
   ]
  },
  {
   "cell_type": "code",
   "execution_count": 16,
   "metadata": {},
   "outputs": [
    {
     "data": {
      "text/plain": [
       "{'clf__max_depth': None, 'vect__min_df': 2, 'vect__stop_words': 'english'}"
      ]
     },
     "execution_count": 16,
     "metadata": {},
     "output_type": "execute_result"
    }
   ],
   "source": [
    "gs2.best_params_"
   ]
  },
  {
   "cell_type": "code",
   "execution_count": 17,
   "metadata": {
    "colab": {},
    "colab_type": "code",
    "id": "IdIE67Us6uEc"
   },
   "outputs": [
    {
     "data": {
      "text/plain": [
       "array([9])"
      ]
     },
     "execution_count": 17,
     "metadata": {},
     "output_type": "execute_result"
    }
   ],
   "source": [
    "pred = gs2.predict([\"The new york yankees are the best team in the region.\"])\n",
    "pred"
   ]
  },
  {
   "cell_type": "code",
   "execution_count": 18,
   "metadata": {
    "colab": {},
    "colab_type": "code",
    "id": "xhcb5G0W-Dch"
   },
   "outputs": [
    {
     "data": {
      "text/plain": [
       "'rec.sport.baseball'"
      ]
     },
     "execution_count": 18,
     "metadata": {},
     "output_type": "execute_result"
    }
   ],
   "source": [
    "newsgroups_train['target_names'][pred[0]]"
   ]
  },
  {
   "cell_type": "markdown",
   "metadata": {
    "colab_type": "text",
    "id": "F2R2ACd36uEd"
   },
   "source": [
    "Advantages to using GS with the Pipe:\n",
    "* Allows us to make predictions on raw text increasing reproducibility. :)\n",
    "* Allows us to tune the parameters of the vectorizer along side the classifier. :D "
   ]
  },
  {
   "cell_type": "markdown",
   "metadata": {
    "colab_type": "text",
    "id": "xbZjG6U86uEe"
   },
   "source": [
    "# Part 1: Describe how an LDA Model works"
   ]
  },
  {
   "cell_type": "markdown",
   "metadata": {
    "colab_type": "text",
    "id": "dMzU-XOM3LzW"
   },
   "source": [
    "[Your Guide to Latent Dirichlet Allocation](https://medium.com/@lettier/how-does-lda-work-ill-explain-using-emoji-108abf40fa7d)\n",
    "\n",
    "[LDA Topic Modeling](https://lettier.com/projects/lda-topic-modeling/)\n",
    "\n",
    "[Topic Modeling with Gensim](https://www.machinelearningplus.com/nlp/topic-modeling-gensim-python/)"
   ]
  },
  {
   "cell_type": "code",
   "execution_count": 19,
   "metadata": {
    "colab": {},
    "colab_type": "code",
    "id": "yPIlE_IeF0cX"
   },
   "outputs": [
    {
     "name": "stdout",
     "output_type": "stream",
     "text": [
      "✔ Download and installation successful\n",
      "You can now load the model via spacy.load('en_core_web_lg')\n"
     ]
    }
   ],
   "source": [
    "# Download spacy model\n",
    "import spacy.cli\n",
    "spacy.cli.download(\"en_core_web_lg\")"
   ]
  },
  {
   "cell_type": "code",
   "execution_count": 20,
   "metadata": {
    "colab": {},
    "colab_type": "code",
    "id": "qapChu_UGBFc"
   },
   "outputs": [],
   "source": [
    "import re\n",
    "import numpy as np\n",
    "import pandas as pd\n",
    "from pprint import pprint\n",
    "\n",
    "import gensim\n",
    "import gensim.corpora as corpora\n",
    "from gensim.utils import simple_preprocess\n",
    "from gensim.models import CoherenceModel\n",
    "\n",
    "import spacy\n",
    "import pyLDAvis\n",
    "import pyLDAvis.gensim \n",
    "import matplotlib.pyplot as plt\n",
    "%matplotlib inline"
   ]
  },
  {
   "cell_type": "code",
   "execution_count": 21,
   "metadata": {
    "colab": {},
    "colab_type": "code",
    "id": "qaMsy1XAGLxc"
   },
   "outputs": [
    {
     "name": "stdout",
     "output_type": "stream",
     "text": [
      "(11314, 3)\n"
     ]
    }
   ],
   "source": [
    "df = pd.DataFrame({\n",
    "    'content': newsgroups_train['data'],\n",
    "    'target': newsgroups_train['target'],\n",
    "    'target_names': [newsgroups_train['target_names'][i] for i in newsgroups_train['target']]\n",
    "})\n",
    "print(df.shape)"
   ]
  },
  {
   "cell_type": "code",
   "execution_count": 22,
   "metadata": {},
   "outputs": [
    {
     "data": {
      "text/html": [
       "<div>\n",
       "<style scoped>\n",
       "    .dataframe tbody tr th:only-of-type {\n",
       "        vertical-align: middle;\n",
       "    }\n",
       "\n",
       "    .dataframe tbody tr th {\n",
       "        vertical-align: top;\n",
       "    }\n",
       "\n",
       "    .dataframe thead th {\n",
       "        text-align: right;\n",
       "    }\n",
       "</style>\n",
       "<table border=\"1\" class=\"dataframe\">\n",
       "  <thead>\n",
       "    <tr style=\"text-align: right;\">\n",
       "      <th></th>\n",
       "      <th>content</th>\n",
       "      <th>target</th>\n",
       "      <th>target_names</th>\n",
       "    </tr>\n",
       "  </thead>\n",
       "  <tbody>\n",
       "    <tr>\n",
       "      <th>4932</th>\n",
       "      <td>I was looking at the amps diagram for Sony 1090/2090 receivers, and I\\nwas amazed to find a difference between the US and Canadian model\\non the capacitor(s) that hangs off the output to the speakers:\\n\\n                         ------\\/\\/\\----- to speaker (identical both models\\nfrom amp ---------------|\\n(idnetical both models) &gt;\\n                        &lt;  10 \\n                        &gt;\\n                        |\\n                       -----                        \\n                      |     |                        \\n        0.022        ---   ---        Canadian model only!\\n     US model        ---   --- 0.047 \\n     and world-wide   |     |\\n     model only.      |    ---        Candian model only!\\n                      |    ---  0.047\\n                      |     |\\n                       ----------- gound\\n\\nThe board itself is also identical, with room for all three caps. The\\nUS/Can versions is clearly indicated in both places.\\n\\nHow does that make sense? 0.047/2 is 0.0235, essentially 0.022 for caps\\n(there are just standard caps, no special W/type/precision).</td>\n",
       "      <td>12</td>\n",
       "      <td>sci.electronics</td>\n",
       "    </tr>\n",
       "    <tr>\n",
       "      <th>11173</th>\n",
       "      <td>H E L P !\\n\\nI have  a problem in which I'm getting increasing frustrated every day...\\n\\nSome background about my PC:\\n\\n- American Megatrend BIOS (clone 386 SX) with 32M of RAM\\n- config.sys file:\\n\\n\\tdevice=c:\\dos\\himem.sys\\n\\tdos=high,umb\\n\\tdevice=c:\\windows\\emm386.exe noems\\n\\tfiles=30\\n\\tbuffers=30\\n\\tstack=9,256\\n\\n- autoexec.bat file is using smartdrv.exe +c\\n- CMOS set up is running 0 wait state on read and write cache ram.\\n\\nThe problem: APPLICATION ERROR from WIN31\\n\\nI started off with a newly installed WIN31 and then installed EXCEL.\\nRun excel, no problem. A permanent swap file of size 18K was in place\\nfor windows.\\n\\nOk, I then proceed to install Norton Desktop\\nfor Windows version 2.0. No problem with the installation. I also\\nallow NDW to alter my autoexec.bat(with the nav running on c:).\\nThe problem came when I try to (bring up excel or if excel is running\\nand right in the middle of it - like click a selection with the mouse)\\nfrom the desktop.\\nFirst of all, I always get the application error screen followed by\\nanother application error screen with various different messages. The\\nfollowing are some of them:\\n\\n- Stack fault, by TC1024.DRV at address 0001:XXXX where XXXX is some\\n  number. (TC1024.DRV is the VGA driver provided by the manufacture)\\n- General protection fault, by ndw.exe at the same address\\n- Segment load failure, by ndw.exe at same address\\n\\nSome how, the address flagged was always 0001:something. What is address\\n0001:XXXX means? \\n\\nI have absolutely on idea what this mean. I tried commented out the\\nTSR programs from autoexec.bat, no help.\\n\\nIs it something to do with the emm386 setup which is not telling\\nWIN31 what it suppose to know. Looks like the application is crossing\\nmemory boundary when it is being loaded or while it is running.\\n\\nPlease reply if you have any idea or suggestion. I'm willing to try\\nanything.\\n</td>\n",
       "      <td>3</td>\n",
       "      <td>comp.sys.ibm.pc.hardware</td>\n",
       "    </tr>\n",
       "    <tr>\n",
       "      <th>619</th>\n",
       "      <td>\\n  The OpenLook window manager source is available on the MIT contrib tapes\\n  or from  export.lcs.mit.edu  .I would suggest building this too, rather than\\n  using the version from OpenWindows. It is  olwm  v3.\\n\\n\\t\\t\\t\\tRegards,</td>\n",
       "      <td>5</td>\n",
       "      <td>comp.windows.x</td>\n",
       "    </tr>\n",
       "  </tbody>\n",
       "</table>\n",
       "</div>"
      ],
      "text/plain": [
       "                                                                                                                                                                                                                                                                                                                                                                                                                                                                                                                                                                                                                                                                                                                                                                                                                                                                                                                                                                                                                                                                                                                                                                                                                                                                                                                                                                                                                                                                                                                                                                                                                                                                                                                                                                                                                                                                                                                                                                             content  \\\n",
       "4932   I was looking at the amps diagram for Sony 1090/2090 receivers, and I\\nwas amazed to find a difference between the US and Canadian model\\non the capacitor(s) that hangs off the output to the speakers:\\n\\n                         ------\\/\\/\\----- to speaker (identical both models\\nfrom amp ---------------|\\n(idnetical both models) >\\n                        <  10 \\n                        >\\n                        |\\n                       -----                        \\n                      |     |                        \\n        0.022        ---   ---        Canadian model only!\\n     US model        ---   --- 0.047 \\n     and world-wide   |     |\\n     model only.      |    ---        Candian model only!\\n                      |    ---  0.047\\n                      |     |\\n                       ----------- gound\\n\\nThe board itself is also identical, with room for all three caps. The\\nUS/Can versions is clearly indicated in both places.\\n\\nHow does that make sense? 0.047/2 is 0.0235, essentially 0.022 for caps\\n(there are just standard caps, no special W/type/precision).                                                                                                                                                                                                                                                                                                                                                                                                                                                                                                                                                                                                                                                                                                                                                                                                                                           \n",
       "11173  H E L P !\\n\\nI have  a problem in which I'm getting increasing frustrated every day...\\n\\nSome background about my PC:\\n\\n- American Megatrend BIOS (clone 386 SX) with 32M of RAM\\n- config.sys file:\\n\\n\\tdevice=c:\\dos\\himem.sys\\n\\tdos=high,umb\\n\\tdevice=c:\\windows\\emm386.exe noems\\n\\tfiles=30\\n\\tbuffers=30\\n\\tstack=9,256\\n\\n- autoexec.bat file is using smartdrv.exe +c\\n- CMOS set up is running 0 wait state on read and write cache ram.\\n\\nThe problem: APPLICATION ERROR from WIN31\\n\\nI started off with a newly installed WIN31 and then installed EXCEL.\\nRun excel, no problem. A permanent swap file of size 18K was in place\\nfor windows.\\n\\nOk, I then proceed to install Norton Desktop\\nfor Windows version 2.0. No problem with the installation. I also\\nallow NDW to alter my autoexec.bat(with the nav running on c:).\\nThe problem came when I try to (bring up excel or if excel is running\\nand right in the middle of it - like click a selection with the mouse)\\nfrom the desktop.\\nFirst of all, I always get the application error screen followed by\\nanother application error screen with various different messages. The\\nfollowing are some of them:\\n\\n- Stack fault, by TC1024.DRV at address 0001:XXXX where XXXX is some\\n  number. (TC1024.DRV is the VGA driver provided by the manufacture)\\n- General protection fault, by ndw.exe at the same address\\n- Segment load failure, by ndw.exe at same address\\n\\nSome how, the address flagged was always 0001:something. What is address\\n0001:XXXX means? \\n\\nI have absolutely on idea what this mean. I tried commented out the\\nTSR programs from autoexec.bat, no help.\\n\\nIs it something to do with the emm386 setup which is not telling\\nWIN31 what it suppose to know. Looks like the application is crossing\\nmemory boundary when it is being loaded or while it is running.\\n\\nPlease reply if you have any idea or suggestion. I'm willing to try\\nanything.\\n   \n",
       "619    \\n  The OpenLook window manager source is available on the MIT contrib tapes\\n  or from  export.lcs.mit.edu  .I would suggest building this too, rather than\\n  using the version from OpenWindows. It is  olwm  v3.\\n\\n\\t\\t\\t\\tRegards,                                                                                                                                                                                                                                                                                                                                                                                                                                                                                                                                                                                                                                                                                                                                                                                                                                                                                                                                                                                                                                                                                                                                                                                                                                                                                                                                                                                                                                                                                                                                                                                                                                                                                                                                        \n",
       "\n",
       "       target              target_names  \n",
       "4932   12      sci.electronics           \n",
       "11173  3       comp.sys.ibm.pc.hardware  \n",
       "619    5       comp.windows.x            "
      ]
     },
     "execution_count": 22,
     "metadata": {},
     "output_type": "execute_result"
    }
   ],
   "source": [
    "pd.set_option('display.max_colwidth', 0)\n",
    "df.sample(3)"
   ]
  },
  {
   "cell_type": "code",
   "execution_count": 23,
   "metadata": {},
   "outputs": [
    {
     "data": {
      "text/plain": [
       "'The apple has fallen from the tree.'"
      ]
     },
     "execution_count": 23,
     "metadata": {},
     "output_type": "execute_result"
    }
   ],
   "source": [
    "' '.join(\"  The apple has         fallen from the tree.  \".split())"
   ]
  },
  {
   "cell_type": "code",
   "execution_count": 24,
   "metadata": {
    "colab": {},
    "colab_type": "code",
    "id": "na2bkOcFGter"
   },
   "outputs": [
    {
     "name": "stderr",
     "output_type": "stream",
     "text": [
      "<>:5: DeprecationWarning: invalid escape sequence \\s\n",
      "<>:8: DeprecationWarning: invalid escape sequence \\S\n",
      "<>:5: DeprecationWarning: invalid escape sequence \\s\n",
      "<>:8: DeprecationWarning: invalid escape sequence \\S\n",
      "<>:5: DeprecationWarning: invalid escape sequence \\s\n",
      "<>:8: DeprecationWarning: invalid escape sequence \\S\n",
      "<ipython-input-24-ef192abb48ae>:5: DeprecationWarning: invalid escape sequence \\s\n",
      "  df['clean_text'] = df['content'].apply(lambda x: re.sub('\\s+', ' ', x))\n",
      "<ipython-input-24-ef192abb48ae>:8: DeprecationWarning: invalid escape sequence \\S\n",
      "  df['clean_text'] = df['clean_text'].apply(lambda x: re.sub('From: \\S+@\\S+', '', x))\n"
     ]
    }
   ],
   "source": [
    "# For reference on regex: https://docs.python.org/3/library/re.html\n",
    "# From 'content' column: \n",
    "\n",
    "# 1. Remove new line characters\n",
    "df['clean_text'] = df['content'].apply(lambda x: re.sub('\\s+', ' ', x))\n",
    "\n",
    "# 2. Remove Emails\n",
    "df['clean_text'] = df['clean_text'].apply(lambda x: re.sub('From: \\S+@\\S+', '', x))\n",
    "\n",
    "# 3. Remove non-alphanumeric characters\n",
    "df['clean_text'] = df['clean_text'].apply(lambda x: re.sub('[^a-zA-Z]', ' ', x))\n",
    "\n",
    "# 4. Remove extra whitespace \n",
    "df['clean_text'] = df['clean_text'].apply(lambda x: ' '.join(x.split()))"
   ]
  },
  {
   "cell_type": "code",
   "execution_count": 25,
   "metadata": {
    "colab": {},
    "colab_type": "code",
    "id": "2prKILFo3Lzg"
   },
   "outputs": [
    {
     "data": {
      "text/html": [
       "<div>\n",
       "<style scoped>\n",
       "    .dataframe tbody tr th:only-of-type {\n",
       "        vertical-align: middle;\n",
       "    }\n",
       "\n",
       "    .dataframe tbody tr th {\n",
       "        vertical-align: top;\n",
       "    }\n",
       "\n",
       "    .dataframe thead th {\n",
       "        text-align: right;\n",
       "    }\n",
       "</style>\n",
       "<table border=\"1\" class=\"dataframe\">\n",
       "  <thead>\n",
       "    <tr style=\"text-align: right;\">\n",
       "      <th></th>\n",
       "      <th>content</th>\n",
       "      <th>target</th>\n",
       "      <th>target_names</th>\n",
       "      <th>clean_text</th>\n",
       "    </tr>\n",
       "  </thead>\n",
       "  <tbody>\n",
       "    <tr>\n",
       "      <th>5356</th>\n",
       "      <td>Archive-name: space/diff\\n\\nDIFFS SINCE LAST FAQ POSTING (IN POSTING ORDER)\\n\\n(These are hand-edited context diffs; do not attempt to use them to patch\\nold copies of the FAQ).\\n\\n===================================================================\\ndiff -t -c -r1.18 FAQ.intro\\n*** /tmp/,RCSt1a06400\\tThu Apr  1 14:47:22 1993\\n--- FAQ.intro\\tThu Apr  1 14:46:55 1993\\n***************\\n*** 101,107 ****\\n\\t\\t  NASA Langley (Technical Reports)\\n\\t\\t  NASA Spacelink\\n\\t\\t  National Space Science Data Center\\n-\\t\\t  Space And Planetary Image Facility\\n\\t\\t  Space Telescope Science Institute Electronic Info. Service\\n\\t\\t  Starcat\\n\\t\\t  Astronomical Databases\\n--- 101,106 ----\\n***************\\n*** 130,135 ****\\n--- 129,135 ----\\n\\t      LLNL \"great exploration\"\\n\\t      Lunar Prospector\\n\\t      Lunar science and activities\\n+\\t      Orbiting Earth satellite histories\\n\\t      Spacecraft models\\n\\t      Rocket propulsion\\n\\t      Spacecraft design\\n\\n===================================================================\\ndiff -t -c -r1.18 FAQ.net\\n*** /tmp/,RCSt1a06405\\tThu Apr  1 14:47:24 1993\\n--- FAQ.net\\tThu Apr  1 14:46:57 1993\\n***************\\n*** 58,63 ****\\n--- 58,67 ----\\n      elements are sent out on the list from Dr. Kelso, JSC, and other sources\\n      as they are released. Email to elements-request@telesoft.com to join.\\n\\n+     GPS Digest is a moderated list for discussion of the Global Positioning\\n+     System and other satellite navigation positioning systems. Email to\\n+     gps-request@esseye.si.com to join.\\n+\\n      Space-investors is a list for information relevant to investing in\\n      space-related companies. Email Vincent Cate (vac@cs.cmu.edu) to join.\\n\\n***************\\n*** 223,227 ****\\n--- 227,241 ----\\n      1030. If in fact you should should learn of unauthorized access, contact\\n      NASA personnel.\\n\\n+     Claims have been made on this news group about fraud and waste. None\\n+     have ever been substantiated to any significant degree. Readers\\n+     detecting Fraud, Waste, Abuse, or Mismanagement should contact the NASA\\n+     Inspector General (24-hours) at 800-424-9183 (can be anonymous) or write\\n+\\n+\\t  NASA\\n+\\t  Inspector General\\n+\\t  P.O. Box 23089\\n+\\t  L'enfant Plaza Station\\n+\\t  Washington DC 20024\\n\\n  NEXT: FAQ #3/15 - Online (and some offline) sources of images, data, etc.\\n\\n===================================================================\\ndiff -t -c -r1.18 FAQ.data\\n*** /tmp/,RCSt1a06410\\tThu Apr  1 14:47:26 1993\\n--- FAQ.data\\tThu Apr  1 14:46:54 1993\\n***************\\n*** 216,237 ****\\n\\t  Telephone: (301) 286-6695\\n\\n\\t  Email address:   request@nssdca.gsfc.nasa.gov\\n-\\n-\\n-     SPACE AND PLANETARY IMAGE FACILITY\\n-\\n-     Available 24 hours a day via anonymous FTP from pioneer.unm.edu. Has\\n-     approximately 150 CD-ROM's full of imagery, raw, and tabular data. To\\n-     start, get the file:\\n-\\n-\\t  pioneer.unm.edu:pub/info/beginner-info\\n-\\n-     This will hopefully give you all of the information you need to get data\\n-     from their machine. beginner-info has been translated to other\\n-     languages, you should look inside pub/info for the particular language\\n-     that meets your needs.\\n-\\n-     Contact help@pioneer.unm.edu.\\n\\n\\n      SPACE TELESCOPE SCIENCE INSTITUTE ELECTRONIC INFORMATION SERVICE\\n--- 216,221 ----\\n\\n===================================================================\\ndiff -t -c -r1.18 FAQ.math\\n*** /tmp/,RCSt1a06415\\tThu Apr  1 14:47:28 1993\\n--- FAQ.math\\tThu Apr  1 14:46:56 1993\\n***************\\n*** 60,65 ****\\n--- 60,71 ----\\n\\t  Gives series to compute positions accurate to 1 arc minute for a\\n\\t  period + or - 300 years from now. Pluto is included but stated to\\n\\t  have an accuracy of only about 15 arc minutes.\\n+\\n+     _Multiyear Interactive Computer Almanac_ (MICA), produced by the US\\n+     Naval Observatory. Valid for years 1990-1999. $55 ($80 outside US).\\n+     Available for IBM (order #PB93-500163HDV) or Macintosh (order\\n+     #PB93-500155HDV). From the NTIS sales desk, (703)-487-4650. I believe\\n+     this is intended to replace the USNO's Interactive Computer Ephemeris.\\n\\n      _Interactive Computer Ephemeris_ (from the US Naval Observatory)\\n      distributed on IBM-PC floppy disks, $35 (Willmann-Bell). Covers dates\\n\\n===================================================================\\ndiff -t -c -r1.18 FAQ.references\\n*** /tmp/,RCSt1a06420\\tThu Apr  1 14:47:30 1993\\n--- FAQ.references\\tThu Apr  1 14:46:59 1993\\n***************\\n*** 93,100 ****\\n      US Naval Observatory\\n\\t  202-653-1079 (USNO Bulletin Board via modem)\\n\\t  202-653-1507 General\\n-\\t  202-653-1545 Nautical Almanac Office (info on the Interactive\\n-\\t      Computer Ephemeris)\\n\\n      Willmann-Bell\\n      P.O. Box 35025\\n--- 93,98 ----\\n***************\\n*** 138,151 ****\\n      SDI's SSRT (Single Stage Rocket Technology) project has funded a\\n      suborbital technology demonstrator called DC-X that should fly in\\n      mid-1993. Further development towards an operational single-stage to\\n!     orbit vehicle is uncertain at present; for considerably more detail on\\n!     the SSRT program, get the document\\n\\n!\\t  ames.arc.nasa.gov:pub/SPACE/FAQ/DeltaClipper\\n\\n!     by anonymous FTP or through the email server.\\n\\n\\n      HOW TO NAME A STAR AFTER A PERSON\\n\\n      Official names are decided by committees of the International\\n--- 136,151 ----\\n      SDI's SSRT (Single Stage Rocket Technology) project has funded a\\n      suborbital technology demonstrator called DC-X that should fly in\\n      mid-1993. Further development towards an operational single-stage to\\n!     orbit vehicle (called Delta Clipper) is uncertain at present.\\n\\n!     An collection of pictures and files relating to DC-X is available by\\n!     anonymous FTP or email server in the directory\\n\\n!\\t  bongo.cc.utexas.edu:pub/delta-clipper\\n\\n+     Chris W. Johnson (chrisj@emx.cc.utexas.edu) maintains the archive.\\n\\n+\\n      HOW TO NAME A STAR AFTER A PERSON\\n\\n      Official names are decided by committees of the International\\n***************\\n*** 223,228 ****\\n--- 223,236 ----\\n      University Press, 1970. Information about the Lunar Orbiter missions,\\n      including maps of the coverage of the lunar nearside and farside by\\n      various Orbiters.\\n+\\n+\\n+     ORBITING EARTH SATELLITE HISTORIES\\n+\\n+     A list of Earth orbiting satellites (that are still in orbit) is\\n+     available by anonymous FTP in:\\n+\\n+\\t  ames.arc.nasa.gov:pub/SPACE/FAQ/Satellites\\n\\n\\n      SPACECRAFT MODELS\\n\\n===================================================================\\ndiff -t -c -r1.18 FAQ.addresses\\n*** /tmp/,RCSt1a06435\\tThu Apr  1 14:47:34 1993\\n--- FAQ.addresses\\tThu Apr  1 14:46:51 1993\\n***************\\n*** 75,80 ****\\n--- 75,85 ----\\n\\t  the latter, an SF 171 is useless. Employees are Caltech employees,\\n\\t  contractors, and for the most part have similar responsibilities.\\n\\t  They offer an alternative to funding after other NASA Centers.\\n+\\n+\\t  A fact sheet and description of JPL is available by anonymous\\n+\\t  FTP in\\n+\\n+\\t      ames.arc.nasa.gov:pub/SPACE/FAQ/JPLDescription\\n\\n      NASA Johnson Manned Space Center (JSC)\\n      Houston, TX 77058\\n\\n===================================================================\\ndiff -t -c -r1.18 FAQ.new_probes\\n*** /tmp/,RCSt1a06450\\tThu Apr  1 14:47:38 1993\\n--- FAQ.new_probes\\tThu Apr  1 14:46:58 1993\\n***************\\n*** 8,13 ****\\n--- 8,19 ----\\n      team, ISAS/NASDA launch schedules, press kits.\\n\\n\\n+     ASUKA (ASTRO-D) - ISAS (Japan) X-ray astronomy satellite, launched into\\n+     Earth orbit on 2/20/93. Equipped with large-area wide-wavelength (1-20\\n+     Angstrom) X-ray telescope, X-ray CCD cameras, and imaging gas\\n+     scintillation proportional counters.\\n+\\n+\\n      CASSINI - Saturn orbiter and Titan atmosphere probe. Cassini is a joint\\n      NASA/ESA project designed to accomplish an exploration of the Saturnian\\n      system with its Cassini Saturn Orbiter and Huygens Titan Probe. Cassini\\n***************\\n*** 98,115 ****\\n\\n\\n      MAGELLAN - Venus radar mapping mission. Has mapped almost the entire\\n!     surface at high resolution. Currently (11/92) in mapping cycle 4,\\n!     collecting a global gravity map.\\n\\n\\n      MARS OBSERVER - Mars orbiter including 1.5 m/pixel resolution camera.\\n!     Launched 9/24/92 on a Titan III/TOS booster. MO is currently (3/93) in\\n      transit to Mars, arriving on 8/24/93. Operations will start 11/93 for\\n      one martian year (687 days).\\n\\n\\n!     TOPEX/Poseidon - Joint US/French Earth observing satellite, launched in\\n!     August 1992 on an Ariane 4 booster. The primary objective of the\\n      TOPEX/POSEIDON project is to make precise and accurate global\\n      observations of the sea level for several years, substantially\\n      increasing understanding of global ocean dynamics. The satellite also\\n--- 104,121 ----\\n\\n\\n      MAGELLAN - Venus radar mapping mission. Has mapped almost the entire\\n!     surface at high resolution. Currently (4/93) collecting a global gravity\\n!     map.\\n\\n\\n      MARS OBSERVER - Mars orbiter including 1.5 m/pixel resolution camera.\\n!     Launched 9/25/92 on a Titan III/TOS booster. MO is currently (4/93) in\\n      transit to Mars, arriving on 8/24/93. Operations will start 11/93 for\\n      one martian year (687 days).\\n\\n\\n!     TOPEX/Poseidon - Joint US/French Earth observing satellite, launched\\n!     8/10/92 on an Ariane 4 booster. The primary objective of the\\n      TOPEX/POSEIDON project is to make precise and accurate global\\n      observations of the sea level for several years, substantially\\n      increasing understanding of global ocean dynamics. The satellite also\\n\\n===================================================================\\ndiff -t -c -r1.18 FAQ.astronaut\\n*** /tmp/,RCSt1a06465\\tThu Apr  1 14:47:43 1993\\n--- FAQ.astronaut\\tThu Apr  1 14:46:52 1993\\n***************\\n*** 162,174 ****\\n      specific standards:\\n\\n\\t   Distant visual acuity:\\n!\\t\\t20/100 or better uncorrected,\\n\\t\\tcorrectable to 20/20, each eye.\\n\\n\\t   Blood pressure:\\n\\t\\t140/90 measured in sitting position.\\n\\n!     3. Height between 60 and 76 inches.\\n\\n      Pilot Astronaut Candidate:\\n\\n--- 162,174 ----\\n      specific standards:\\n\\n\\t   Distant visual acuity:\\n!\\t\\t20/150 or better uncorrected,\\n\\t\\tcorrectable to 20/20, each eye.\\n\\n\\t   Blood pressure:\\n\\t\\t140/90 measured in sitting position.\\n\\n!     3. Height between 58.5 and 76 inches.</td>\n",
       "      <td>14</td>\n",
       "      <td>sci.space</td>\n",
       "      <td>Archive name space diff DIFFS SINCE LAST FAQ POSTING IN POSTING ORDER These are hand edited context diffs do not attempt to use them to patch old copies of the FAQ diff t c r FAQ intro tmp RCSt a Thu Apr FAQ intro Thu Apr NASA Langley Technical Reports NASA Spacelink National Space Science Data Center Space And Planetary Image Facility Space Telescope Science Institute Electronic Info Service Starcat Astronomical Databases LLNL great exploration Lunar Prospector Lunar science and activities Orbiting Earth satellite histories Spacecraft models Rocket propulsion Spacecraft design diff t c r FAQ net tmp RCSt a Thu Apr FAQ net Thu Apr elements are sent out on the list from Dr Kelso JSC and other sources as they are released Email to elements request telesoft com to join GPS Digest is a moderated list for discussion of the Global Positioning System and other satellite navigation positioning systems Email to gps request esseye si com to join Space investors is a list for information relevant to investing in space related companies Email Vincent Cate vac cs cmu edu to join If in fact you should should learn of unauthorized access contact NASA personnel Claims have been made on this news group about fraud and waste None have ever been substantiated to any significant degree Readers detecting Fraud Waste Abuse or Mismanagement should contact the NASA Inspector General hours at can be anonymous or write NASA Inspector General P O Box L enfant Plaza Station Washington DC NEXT FAQ Online and some offline sources of images data etc diff t c r FAQ data tmp RCSt a Thu Apr FAQ data Thu Apr Telephone Email address request nssdca gsfc nasa gov SPACE AND PLANETARY IMAGE FACILITY Available hours a day via anonymous FTP from pioneer unm edu Has approximately CD ROM s full of imagery raw and tabular data To start get the file pioneer unm edu pub info beginner info This will hopefully give you all of the information you need to get data from their machine beginner info has been translated to other languages you should look inside pub info for the particular language that meets your needs Contact help pioneer unm edu SPACE TELESCOPE SCIENCE INSTITUTE ELECTRONIC INFORMATION SERVICE diff t c r FAQ math tmp RCSt a Thu Apr FAQ math Thu Apr Gives series to compute positions accurate to arc minute for a period or years from now Pluto is included but stated to have an accuracy of only about arc minutes Multiyear Interactive Computer Almanac MICA produced by the US Naval Observatory Valid for years outside US Available for IBM order PB HDV or Macintosh order PB HDV From the NTIS sales desk I believe this is intended to replace the USNO s Interactive Computer Ephemeris Interactive Computer Ephemeris from the US Naval Observatory distributed on IBM PC floppy disks Willmann Bell Covers dates diff t c r FAQ references tmp RCSt a Thu Apr FAQ references Thu Apr US Naval Observatory USNO Bulletin Board via modem General Nautical Almanac Office info on the Interactive Computer Ephemeris Willmann Bell P O Box SDI s SSRT Single Stage Rocket Technology project has funded a suborbital technology demonstrator called DC X that should fly in mid Further development towards an operational single stage to orbit vehicle is uncertain at present for considerably more detail on the SSRT program get the document ames arc nasa gov pub SPACE FAQ DeltaClipper by anonymous FTP or through the email server HOW TO NAME A STAR AFTER A PERSON Official names are decided by committees of the International SDI s SSRT Single Stage Rocket Technology project has funded a suborbital technology demonstrator called DC X that should fly in mid Further development towards an operational single stage to orbit vehicle called Delta Clipper is uncertain at present An collection of pictures and files relating to DC X is available by anonymous FTP or email server in the directory bongo cc utexas edu pub delta clipper Chris W Johnson chrisj emx cc utexas edu maintains the archive HOW TO NAME A STAR AFTER A PERSON Official names are decided by committees of the International University Press Information about the Lunar Orbiter missions including maps of the coverage of the lunar nearside and farside by various Orbiters ORBITING EARTH SATELLITE HISTORIES A list of Earth orbiting satellites that are still in orbit is available by anonymous FTP in ames arc nasa gov pub SPACE FAQ Satellites SPACECRAFT MODELS diff t c r FAQ addresses tmp RCSt a Thu Apr FAQ addresses Thu Apr the latter an SF is useless Employees are Caltech employees contractors and for the most part have similar responsibilities They offer an alternative to funding after other NASA Centers A fact sheet and description of JPL is available by anonymous FTP in ames arc nasa gov pub SPACE FAQ JPLDescription NASA Johnson Manned Space Center JSC Houston TX diff t c r FAQ new probes tmp RCSt a Thu Apr FAQ new probes Thu Apr team ISAS NASDA launch schedules press kits ASUKA ASTRO D ISAS Japan X ray astronomy satellite launched into Earth orbit on Equipped with large area wide wavelength Angstrom X ray telescope X ray CCD cameras and imaging gas scintillation proportional counters CASSINI Saturn orbiter and Titan atmosphere probe Cassini is a joint NASA ESA project designed to accomplish an exploration of the Saturnian system with its Cassini Saturn Orbiter and Huygens Titan Probe Cassini MAGELLAN Venus radar mapping mission Has mapped almost the entire surface at high resolution Currently in mapping cycle collecting a global gravity map MARS OBSERVER Mars orbiter including m pixel resolution camera Launched on a Titan III TOS booster MO is currently in transit to Mars arriving on Operations will start for one martian year days TOPEX Poseidon Joint US French Earth observing satellite launched in August on an Ariane booster The primary objective of the TOPEX POSEIDON project is to make precise and accurate global observations of the sea level for several years substantially increasing understanding of global ocean dynamics The satellite also MAGELLAN Venus radar mapping mission Has mapped almost the entire surface at high resolution Currently collecting a global gravity map MARS OBSERVER Mars orbiter including m pixel resolution camera Launched on a Titan III TOS booster MO is currently in transit to Mars arriving on Operations will start for one martian year days TOPEX Poseidon Joint US French Earth observing satellite launched on an Ariane booster The primary objective of the TOPEX POSEIDON project is to make precise and accurate global observations of the sea level for several years substantially increasing understanding of global ocean dynamics The satellite also diff t c r FAQ astronaut tmp RCSt a Thu Apr FAQ astronaut Thu Apr specific standards Distant visual acuity or better uncorrected correctable to each eye Blood pressure measured in sitting position Height between and inches Pilot Astronaut Candidate specific standards Distant visual acuity or better uncorrected correctable to each eye Blood pressure measured in sitting position Height between and inches</td>\n",
       "    </tr>\n",
       "    <tr>\n",
       "      <th>6116</th>\n",
       "      <td>\\n\\nAs usual, David Sternlight is demonstrating his inability to read. The\\nproposal clearly states:\\n\\n=&gt; The initiative will involve the creation of new products to\\n=&gt; accelerate the development and use of advanced and secure\\n=&gt; telecommunications networks and wireless communications links.\\n\\nIt speaks about telecommunications in general. Read it again, David.\\nMaybe you'll understand it the next time... Nah, probably not.\\n\\n\\nThat's exactly what the government wants all sheep-minded people to\\nthink. Let's look at the current situation. It allows to almost\\nanybody to eavesdrop almost everybody, unless secure (and I mean\\nsecure) encryption is used. What will happen when (\"if\"? Ha!\\noptimists...) the new proposal gets accepted? Almost nobody EXCEPT\\nSOME will be able to eavesdrop everybody else, but the ability of\\nthese \"some\" to eavesdrop will be guaranteed! The proposal emphasizes\\non the former (\"almost nobody\") - which is clearly an improvement -\\nand \"forgets\" to mention the drawbacks of the latter (\"guaranteed\").\\nYes, my statement assumes that the next step will be to make the\\nstrong crypto unlawful. You think that it will not happen? Good luck.\\n\\n\\nIt's not just \"continued ability\". It's -guaranteed- ability.\\n\\n\\nYeah, that's exactly what your government wants you to think. Let's\\ntake small steps, one at a time. Concentrate on the current one, don't\\nthink about the future. Trust us.\\n\\n\\nIt's not asked because the proposal clearly says that this is the\\nintention. They, unlike you, read what they write.\\n\\n\\nYes, it will. It will stop the jerk who is eavesdropping now. It will\\nallow only to the government to eavesdrop. (If the scheme is secure,\\nof course, which is yet to be proven.) But how do you know that the\\njerk you are fearing now will not get a government job tomorrow? The\\nnew proposal -guarantees- him the ability to eavesdrop then. Hell,\\nthat will even motivate him to get that job - if he indeed is that\\nmentally pervert...\\n\\n\\nGreat. The Greatest Cryptographer of All Times David Sternlight (tm)\\nhas succeeded to evaluate the new system in the absense of any\\ndetails whatsoever and has concluded that it is \"highly secure\". I\\nguess, that comes from the background of working some 50 years for the\\ntwo major crypto evaluating companies, right? Gee, now the government\\ncan save all that money and trouble to ask a secret council of crypto\\nexperts to secretly analyse the new secret method - for David\\nSternlight has already done all the job for them...\\n\\n\\n\"Trust us, we're from the Government and we're here to help you.\"\\n\\n\\n\"Those who are prepared to trade their liberties for the promises of\\nfuture safety, do not deserve either.\" This (or something like that; I\\ndon't have the exact quote, but the meaning is the same) has been said\\nby one of your great men. Maybe you should study their works more\\ncarefully, if you have the brains to understand them, of course.\\n\\n\\nThe main question is to guarantee to availability of -really- secure\\ncryptography to the masses. Gee, if the proposal was saying \"we\\nguarantee that every American will still have the full right to use\\nany kind of encryption s/he would like and regard this proposal as\\njust a default, voluntary implementation\", there would have been much\\nless opposition... For some reason, they didn't even try to promise\\nyou that. I wonder why... Was Orwell off only by 10 years?\\n\\n\\nNo, in return you get crypto that is guaranteed to be crippled.\\n\\n\\nWhile the above is just rumors, and while even if it is true, it is\\nnot done -easily-, the new scheme can is guaranteed to be easily\\nbreakable by anybody who has the two keys. It might be also breakable\\nby somebody who does not have them but knows the right trick. Or who\\nhas only one of them. NSA also told you that DES is secure, why don't\\nyou simply trust them, huh?\\n\\n\\nIt is -guaranteed- to be -easily- breakable - just get the keys. It\\nmight be even easier, but until there is some evidence, this is just a\\nwild speculation.\\n\\n\\nThe trapdoors -are- there. In government's hands. The keys.\\n\\n\\nLegitimate? And who decides what communications are legitimate? Oh, I\\nguess, it's the government, right? The guys who already have the keys?\\nIt's kinda if I have the keys from your car and I am asked to decide\\nwho has the right to use it \"legitimately\"...\\n\\n\\nImpossible, since you are demonstrating the same level of incompetence\\nand ignorance as in the provious threads.\\n\\n\\nUnfortunately, I have yet to see you posting a technically competent\\nmessage.\\n\\nRegards,\\nVesselin</td>\n",
       "      <td>11</td>\n",
       "      <td>sci.crypt</td>\n",
       "      <td>As usual David Sternlight is demonstrating his inability to read The proposal clearly states The initiative will involve the creation of new products to accelerate the development and use of advanced and secure telecommunications networks and wireless communications links It speaks about telecommunications in general Read it again David Maybe you ll understand it the next time Nah probably not That s exactly what the government wants all sheep minded people to think Let s look at the current situation It allows to almost anybody to eavesdrop almost everybody unless secure and I mean secure encryption is used What will happen when if Ha optimists the new proposal gets accepted Almost nobody EXCEPT SOME will be able to eavesdrop everybody else but the ability of these some to eavesdrop will be guaranteed The proposal emphasizes on the former almost nobody which is clearly an improvement and forgets to mention the drawbacks of the latter guaranteed Yes my statement assumes that the next step will be to make the strong crypto unlawful You think that it will not happen Good luck It s not just continued ability It s guaranteed ability Yeah that s exactly what your government wants you to think Let s take small steps one at a time Concentrate on the current one don t think about the future Trust us It s not asked because the proposal clearly says that this is the intention They unlike you read what they write Yes it will It will stop the jerk who is eavesdropping now It will allow only to the government to eavesdrop If the scheme is secure of course which is yet to be proven But how do you know that the jerk you are fearing now will not get a government job tomorrow The new proposal guarantees him the ability to eavesdrop then Hell that will even motivate him to get that job if he indeed is that mentally pervert Great The Greatest Cryptographer of All Times David Sternlight tm has succeeded to evaluate the new system in the absense of any details whatsoever and has concluded that it is highly secure I guess that comes from the background of working some years for the two major crypto evaluating companies right Gee now the government can save all that money and trouble to ask a secret council of crypto experts to secretly analyse the new secret method for David Sternlight has already done all the job for them Trust us we re from the Government and we re here to help you Those who are prepared to trade their liberties for the promises of future safety do not deserve either This or something like that I don t have the exact quote but the meaning is the same has been said by one of your great men Maybe you should study their works more carefully if you have the brains to understand them of course The main question is to guarantee to availability of really secure cryptography to the masses Gee if the proposal was saying we guarantee that every American will still have the full right to use any kind of encryption s he would like and regard this proposal as just a default voluntary implementation there would have been much less opposition For some reason they didn t even try to promise you that I wonder why Was Orwell off only by years No in return you get crypto that is guaranteed to be crippled While the above is just rumors and while even if it is true it is not done easily the new scheme can is guaranteed to be easily breakable by anybody who has the two keys It might be also breakable by somebody who does not have them but knows the right trick Or who has only one of them NSA also told you that DES is secure why don t you simply trust them huh It is guaranteed to be easily breakable just get the keys It might be even easier but until there is some evidence this is just a wild speculation The trapdoors are there In government s hands The keys Legitimate And who decides what communications are legitimate Oh I guess it s the government right The guys who already have the keys It s kinda if I have the keys from your car and I am asked to decide who has the right to use it legitimately Impossible since you are demonstrating the same level of incompetence and ignorance as in the provious threads Unfortunately I have yet to see you posting a technically competent message Regards Vesselin</td>\n",
       "    </tr>\n",
       "    <tr>\n",
       "      <th>7329</th>\n",
       "      <td>\\nGee, what do I do?  My LDL is only 50-60. (and my HDL is only 23-25)\\nI must be risking something, but Is it the same risk as those with \\nvery high LDL?\\n\\n\\nWhat about exercise and a low-fat diet?  What are the long-term \\neffects of this drug?\\n</td>\n",
       "      <td>13</td>\n",
       "      <td>sci.med</td>\n",
       "      <td>Gee what do I do My LDL is only and my HDL is only I must be risking something but Is it the same risk as those with very high LDL What about exercise and a low fat diet What are the long term effects of this drug</td>\n",
       "    </tr>\n",
       "  </tbody>\n",
       "</table>\n",
       "</div>"
      ],
      "text/plain": [
       "                                                                                                                                                                                                                                                                                                                                                                                                                                                                                                                                                                                                                                                                                                                                                                                                                                                                                                                                                                                                                                                                                                                                                                                                                                                                                                                                                                                                                                                                                                                                                                                                                                                                                                                                                                                                                                                                                                                                                                                                                                                                                                                                                                                                                                                                                                                                                                                                                                                                                                                                                                                                                                                                                                                                                                                                                                                                                                                                                                                                                                                                                                                                                                                                                                                                                                                                                                                                                                                                                                                                                                                                                                                                                                                                                                                                                                                                                                                                                                                                                                                                                                                                                                                                                                                                                                                                                                                                                                                                                                                                                                                                                                                                                                                                                                                                                                                                                                                                                                                                                                                                                                                                                                                                                                                                                                                                                                                                                                                                                                                                                                                                                                                                                                                                                                                                                                                                                                                                                                                                                                                                                                                                                                                                                                                                                                                                                                                                                                                                                                                                                                                                                                                                                                                                                                                                                                                                                                                                                                                                                                                                                                                                                                                                                                                                                                                                                                                                                                                                                                                                                                                                                                                                                                                                                                                                                                                                                                                                                                                                                                                                                                                                                                                                                                                                                                                                                                                                                                                                                                                                                                                                                                                                                                                                                                                                                                                                                                                                                                                                                                                                                                                                                                                                                                                                                                                                                                                                                                                                                                                                                                                                                                                                                                                                                                                                                                                                                                                                                                                                                                                                                                                                                                                                                                                                                                                                                                                                                                                                                                                                                                                                                                                                                                                                                                                                                                                                                                                                             content  \\\n",
       "5356  Archive-name: space/diff\\n\\nDIFFS SINCE LAST FAQ POSTING (IN POSTING ORDER)\\n\\n(These are hand-edited context diffs; do not attempt to use them to patch\\nold copies of the FAQ).\\n\\n===================================================================\\ndiff -t -c -r1.18 FAQ.intro\\n*** /tmp/,RCSt1a06400\\tThu Apr  1 14:47:22 1993\\n--- FAQ.intro\\tThu Apr  1 14:46:55 1993\\n***************\\n*** 101,107 ****\\n\\t\\t  NASA Langley (Technical Reports)\\n\\t\\t  NASA Spacelink\\n\\t\\t  National Space Science Data Center\\n-\\t\\t  Space And Planetary Image Facility\\n\\t\\t  Space Telescope Science Institute Electronic Info. Service\\n\\t\\t  Starcat\\n\\t\\t  Astronomical Databases\\n--- 101,106 ----\\n***************\\n*** 130,135 ****\\n--- 129,135 ----\\n\\t      LLNL \"great exploration\"\\n\\t      Lunar Prospector\\n\\t      Lunar science and activities\\n+\\t      Orbiting Earth satellite histories\\n\\t      Spacecraft models\\n\\t      Rocket propulsion\\n\\t      Spacecraft design\\n\\n===================================================================\\ndiff -t -c -r1.18 FAQ.net\\n*** /tmp/,RCSt1a06405\\tThu Apr  1 14:47:24 1993\\n--- FAQ.net\\tThu Apr  1 14:46:57 1993\\n***************\\n*** 58,63 ****\\n--- 58,67 ----\\n      elements are sent out on the list from Dr. Kelso, JSC, and other sources\\n      as they are released. Email to elements-request@telesoft.com to join.\\n\\n+     GPS Digest is a moderated list for discussion of the Global Positioning\\n+     System and other satellite navigation positioning systems. Email to\\n+     gps-request@esseye.si.com to join.\\n+\\n      Space-investors is a list for information relevant to investing in\\n      space-related companies. Email Vincent Cate (vac@cs.cmu.edu) to join.\\n\\n***************\\n*** 223,227 ****\\n--- 227,241 ----\\n      1030. If in fact you should should learn of unauthorized access, contact\\n      NASA personnel.\\n\\n+     Claims have been made on this news group about fraud and waste. None\\n+     have ever been substantiated to any significant degree. Readers\\n+     detecting Fraud, Waste, Abuse, or Mismanagement should contact the NASA\\n+     Inspector General (24-hours) at 800-424-9183 (can be anonymous) or write\\n+\\n+\\t  NASA\\n+\\t  Inspector General\\n+\\t  P.O. Box 23089\\n+\\t  L'enfant Plaza Station\\n+\\t  Washington DC 20024\\n\\n  NEXT: FAQ #3/15 - Online (and some offline) sources of images, data, etc.\\n\\n===================================================================\\ndiff -t -c -r1.18 FAQ.data\\n*** /tmp/,RCSt1a06410\\tThu Apr  1 14:47:26 1993\\n--- FAQ.data\\tThu Apr  1 14:46:54 1993\\n***************\\n*** 216,237 ****\\n\\t  Telephone: (301) 286-6695\\n\\n\\t  Email address:   request@nssdca.gsfc.nasa.gov\\n-\\n-\\n-     SPACE AND PLANETARY IMAGE FACILITY\\n-\\n-     Available 24 hours a day via anonymous FTP from pioneer.unm.edu. Has\\n-     approximately 150 CD-ROM's full of imagery, raw, and tabular data. To\\n-     start, get the file:\\n-\\n-\\t  pioneer.unm.edu:pub/info/beginner-info\\n-\\n-     This will hopefully give you all of the information you need to get data\\n-     from their machine. beginner-info has been translated to other\\n-     languages, you should look inside pub/info for the particular language\\n-     that meets your needs.\\n-\\n-     Contact help@pioneer.unm.edu.\\n\\n\\n      SPACE TELESCOPE SCIENCE INSTITUTE ELECTRONIC INFORMATION SERVICE\\n--- 216,221 ----\\n\\n===================================================================\\ndiff -t -c -r1.18 FAQ.math\\n*** /tmp/,RCSt1a06415\\tThu Apr  1 14:47:28 1993\\n--- FAQ.math\\tThu Apr  1 14:46:56 1993\\n***************\\n*** 60,65 ****\\n--- 60,71 ----\\n\\t  Gives series to compute positions accurate to 1 arc minute for a\\n\\t  period + or - 300 years from now. Pluto is included but stated to\\n\\t  have an accuracy of only about 15 arc minutes.\\n+\\n+     _Multiyear Interactive Computer Almanac_ (MICA), produced by the US\\n+     Naval Observatory. Valid for years 1990-1999. $55 ($80 outside US).\\n+     Available for IBM (order #PB93-500163HDV) or Macintosh (order\\n+     #PB93-500155HDV). From the NTIS sales desk, (703)-487-4650. I believe\\n+     this is intended to replace the USNO's Interactive Computer Ephemeris.\\n\\n      _Interactive Computer Ephemeris_ (from the US Naval Observatory)\\n      distributed on IBM-PC floppy disks, $35 (Willmann-Bell). Covers dates\\n\\n===================================================================\\ndiff -t -c -r1.18 FAQ.references\\n*** /tmp/,RCSt1a06420\\tThu Apr  1 14:47:30 1993\\n--- FAQ.references\\tThu Apr  1 14:46:59 1993\\n***************\\n*** 93,100 ****\\n      US Naval Observatory\\n\\t  202-653-1079 (USNO Bulletin Board via modem)\\n\\t  202-653-1507 General\\n-\\t  202-653-1545 Nautical Almanac Office (info on the Interactive\\n-\\t      Computer Ephemeris)\\n\\n      Willmann-Bell\\n      P.O. Box 35025\\n--- 93,98 ----\\n***************\\n*** 138,151 ****\\n      SDI's SSRT (Single Stage Rocket Technology) project has funded a\\n      suborbital technology demonstrator called DC-X that should fly in\\n      mid-1993. Further development towards an operational single-stage to\\n!     orbit vehicle is uncertain at present; for considerably more detail on\\n!     the SSRT program, get the document\\n\\n!\\t  ames.arc.nasa.gov:pub/SPACE/FAQ/DeltaClipper\\n\\n!     by anonymous FTP or through the email server.\\n\\n\\n      HOW TO NAME A STAR AFTER A PERSON\\n\\n      Official names are decided by committees of the International\\n--- 136,151 ----\\n      SDI's SSRT (Single Stage Rocket Technology) project has funded a\\n      suborbital technology demonstrator called DC-X that should fly in\\n      mid-1993. Further development towards an operational single-stage to\\n!     orbit vehicle (called Delta Clipper) is uncertain at present.\\n\\n!     An collection of pictures and files relating to DC-X is available by\\n!     anonymous FTP or email server in the directory\\n\\n!\\t  bongo.cc.utexas.edu:pub/delta-clipper\\n\\n+     Chris W. Johnson (chrisj@emx.cc.utexas.edu) maintains the archive.\\n\\n+\\n      HOW TO NAME A STAR AFTER A PERSON\\n\\n      Official names are decided by committees of the International\\n***************\\n*** 223,228 ****\\n--- 223,236 ----\\n      University Press, 1970. Information about the Lunar Orbiter missions,\\n      including maps of the coverage of the lunar nearside and farside by\\n      various Orbiters.\\n+\\n+\\n+     ORBITING EARTH SATELLITE HISTORIES\\n+\\n+     A list of Earth orbiting satellites (that are still in orbit) is\\n+     available by anonymous FTP in:\\n+\\n+\\t  ames.arc.nasa.gov:pub/SPACE/FAQ/Satellites\\n\\n\\n      SPACECRAFT MODELS\\n\\n===================================================================\\ndiff -t -c -r1.18 FAQ.addresses\\n*** /tmp/,RCSt1a06435\\tThu Apr  1 14:47:34 1993\\n--- FAQ.addresses\\tThu Apr  1 14:46:51 1993\\n***************\\n*** 75,80 ****\\n--- 75,85 ----\\n\\t  the latter, an SF 171 is useless. Employees are Caltech employees,\\n\\t  contractors, and for the most part have similar responsibilities.\\n\\t  They offer an alternative to funding after other NASA Centers.\\n+\\n+\\t  A fact sheet and description of JPL is available by anonymous\\n+\\t  FTP in\\n+\\n+\\t      ames.arc.nasa.gov:pub/SPACE/FAQ/JPLDescription\\n\\n      NASA Johnson Manned Space Center (JSC)\\n      Houston, TX 77058\\n\\n===================================================================\\ndiff -t -c -r1.18 FAQ.new_probes\\n*** /tmp/,RCSt1a06450\\tThu Apr  1 14:47:38 1993\\n--- FAQ.new_probes\\tThu Apr  1 14:46:58 1993\\n***************\\n*** 8,13 ****\\n--- 8,19 ----\\n      team, ISAS/NASDA launch schedules, press kits.\\n\\n\\n+     ASUKA (ASTRO-D) - ISAS (Japan) X-ray astronomy satellite, launched into\\n+     Earth orbit on 2/20/93. Equipped with large-area wide-wavelength (1-20\\n+     Angstrom) X-ray telescope, X-ray CCD cameras, and imaging gas\\n+     scintillation proportional counters.\\n+\\n+\\n      CASSINI - Saturn orbiter and Titan atmosphere probe. Cassini is a joint\\n      NASA/ESA project designed to accomplish an exploration of the Saturnian\\n      system with its Cassini Saturn Orbiter and Huygens Titan Probe. Cassini\\n***************\\n*** 98,115 ****\\n\\n\\n      MAGELLAN - Venus radar mapping mission. Has mapped almost the entire\\n!     surface at high resolution. Currently (11/92) in mapping cycle 4,\\n!     collecting a global gravity map.\\n\\n\\n      MARS OBSERVER - Mars orbiter including 1.5 m/pixel resolution camera.\\n!     Launched 9/24/92 on a Titan III/TOS booster. MO is currently (3/93) in\\n      transit to Mars, arriving on 8/24/93. Operations will start 11/93 for\\n      one martian year (687 days).\\n\\n\\n!     TOPEX/Poseidon - Joint US/French Earth observing satellite, launched in\\n!     August 1992 on an Ariane 4 booster. The primary objective of the\\n      TOPEX/POSEIDON project is to make precise and accurate global\\n      observations of the sea level for several years, substantially\\n      increasing understanding of global ocean dynamics. The satellite also\\n--- 104,121 ----\\n\\n\\n      MAGELLAN - Venus radar mapping mission. Has mapped almost the entire\\n!     surface at high resolution. Currently (4/93) collecting a global gravity\\n!     map.\\n\\n\\n      MARS OBSERVER - Mars orbiter including 1.5 m/pixel resolution camera.\\n!     Launched 9/25/92 on a Titan III/TOS booster. MO is currently (4/93) in\\n      transit to Mars, arriving on 8/24/93. Operations will start 11/93 for\\n      one martian year (687 days).\\n\\n\\n!     TOPEX/Poseidon - Joint US/French Earth observing satellite, launched\\n!     8/10/92 on an Ariane 4 booster. The primary objective of the\\n      TOPEX/POSEIDON project is to make precise and accurate global\\n      observations of the sea level for several years, substantially\\n      increasing understanding of global ocean dynamics. The satellite also\\n\\n===================================================================\\ndiff -t -c -r1.18 FAQ.astronaut\\n*** /tmp/,RCSt1a06465\\tThu Apr  1 14:47:43 1993\\n--- FAQ.astronaut\\tThu Apr  1 14:46:52 1993\\n***************\\n*** 162,174 ****\\n      specific standards:\\n\\n\\t   Distant visual acuity:\\n!\\t\\t20/100 or better uncorrected,\\n\\t\\tcorrectable to 20/20, each eye.\\n\\n\\t   Blood pressure:\\n\\t\\t140/90 measured in sitting position.\\n\\n!     3. Height between 60 and 76 inches.\\n\\n      Pilot Astronaut Candidate:\\n\\n--- 162,174 ----\\n      specific standards:\\n\\n\\t   Distant visual acuity:\\n!\\t\\t20/150 or better uncorrected,\\n\\t\\tcorrectable to 20/20, each eye.\\n\\n\\t   Blood pressure:\\n\\t\\t140/90 measured in sitting position.\\n\\n!     3. Height between 58.5 and 76 inches.   \n",
       "6116  \\n\\nAs usual, David Sternlight is demonstrating his inability to read. The\\nproposal clearly states:\\n\\n=> The initiative will involve the creation of new products to\\n=> accelerate the development and use of advanced and secure\\n=> telecommunications networks and wireless communications links.\\n\\nIt speaks about telecommunications in general. Read it again, David.\\nMaybe you'll understand it the next time... Nah, probably not.\\n\\n\\nThat's exactly what the government wants all sheep-minded people to\\nthink. Let's look at the current situation. It allows to almost\\nanybody to eavesdrop almost everybody, unless secure (and I mean\\nsecure) encryption is used. What will happen when (\"if\"? Ha!\\noptimists...) the new proposal gets accepted? Almost nobody EXCEPT\\nSOME will be able to eavesdrop everybody else, but the ability of\\nthese \"some\" to eavesdrop will be guaranteed! The proposal emphasizes\\non the former (\"almost nobody\") - which is clearly an improvement -\\nand \"forgets\" to mention the drawbacks of the latter (\"guaranteed\").\\nYes, my statement assumes that the next step will be to make the\\nstrong crypto unlawful. You think that it will not happen? Good luck.\\n\\n\\nIt's not just \"continued ability\". It's -guaranteed- ability.\\n\\n\\nYeah, that's exactly what your government wants you to think. Let's\\ntake small steps, one at a time. Concentrate on the current one, don't\\nthink about the future. Trust us.\\n\\n\\nIt's not asked because the proposal clearly says that this is the\\nintention. They, unlike you, read what they write.\\n\\n\\nYes, it will. It will stop the jerk who is eavesdropping now. It will\\nallow only to the government to eavesdrop. (If the scheme is secure,\\nof course, which is yet to be proven.) But how do you know that the\\njerk you are fearing now will not get a government job tomorrow? The\\nnew proposal -guarantees- him the ability to eavesdrop then. Hell,\\nthat will even motivate him to get that job - if he indeed is that\\nmentally pervert...\\n\\n\\nGreat. The Greatest Cryptographer of All Times David Sternlight (tm)\\nhas succeeded to evaluate the new system in the absense of any\\ndetails whatsoever and has concluded that it is \"highly secure\". I\\nguess, that comes from the background of working some 50 years for the\\ntwo major crypto evaluating companies, right? Gee, now the government\\ncan save all that money and trouble to ask a secret council of crypto\\nexperts to secretly analyse the new secret method - for David\\nSternlight has already done all the job for them...\\n\\n\\n\"Trust us, we're from the Government and we're here to help you.\"\\n\\n\\n\"Those who are prepared to trade their liberties for the promises of\\nfuture safety, do not deserve either.\" This (or something like that; I\\ndon't have the exact quote, but the meaning is the same) has been said\\nby one of your great men. Maybe you should study their works more\\ncarefully, if you have the brains to understand them, of course.\\n\\n\\nThe main question is to guarantee to availability of -really- secure\\ncryptography to the masses. Gee, if the proposal was saying \"we\\nguarantee that every American will still have the full right to use\\nany kind of encryption s/he would like and regard this proposal as\\njust a default, voluntary implementation\", there would have been much\\nless opposition... For some reason, they didn't even try to promise\\nyou that. I wonder why... Was Orwell off only by 10 years?\\n\\n\\nNo, in return you get crypto that is guaranteed to be crippled.\\n\\n\\nWhile the above is just rumors, and while even if it is true, it is\\nnot done -easily-, the new scheme can is guaranteed to be easily\\nbreakable by anybody who has the two keys. It might be also breakable\\nby somebody who does not have them but knows the right trick. Or who\\nhas only one of them. NSA also told you that DES is secure, why don't\\nyou simply trust them, huh?\\n\\n\\nIt is -guaranteed- to be -easily- breakable - just get the keys. It\\nmight be even easier, but until there is some evidence, this is just a\\nwild speculation.\\n\\n\\nThe trapdoors -are- there. In government's hands. The keys.\\n\\n\\nLegitimate? And who decides what communications are legitimate? Oh, I\\nguess, it's the government, right? The guys who already have the keys?\\nIt's kinda if I have the keys from your car and I am asked to decide\\nwho has the right to use it \"legitimately\"...\\n\\n\\nImpossible, since you are demonstrating the same level of incompetence\\nand ignorance as in the provious threads.\\n\\n\\nUnfortunately, I have yet to see you posting a technically competent\\nmessage.\\n\\nRegards,\\nVesselin                                                                                                                                                                                                                                                                                                                                                                                                                                                                                                                                                                                                                                                                                                                                                                                                                                                                                                                                                                                                                                                                                                                                                                                                                                                                                                                                                                                                                                                                                                                                                                                                                                                                                                                                                                                                                                                                                                                                                                                                                                                                                                                                                                                                                                                                                                                                                                                                                                                                                                                                                                                                                                                                                                                                                                                                                                                                                                                                                                                                                                                                                                                                                                                                                                                                                                                                                                                                                                                                                                                                                                                                                                                                                                                                                                                                                                                                                                                                                                                                                                                                                                                                                                                                                                                                                                                                                                                                                                                                                                                                                                                                                                                                                                                                                                                                                                                                                                                                                                                                                                                                                                                                                                                                                                                                                                                                                                                                                                                                                                                                                                                                                                                                                                                                                                                                                                                                                                                                                                                                                                                                                                                                                                  \n",
       "7329  \\nGee, what do I do?  My LDL is only 50-60. (and my HDL is only 23-25)\\nI must be risking something, but Is it the same risk as those with \\nvery high LDL?\\n\\n\\nWhat about exercise and a low-fat diet?  What are the long-term \\neffects of this drug?\\n                                                                                                                                                                                                                                                                                                                                                                                                                                                                                                                                                                                                                                                                                                                                                                                                                                                                                                                                                                                                                                                                                                                                                                                                                                                                                                                                                                                                                                                                                                                                                                                                                                                                                                                                                                                                                                                                                                                                                                                                                                                                                                                                                                                                                                                                                                                                                                                                                                                                                                                                                                                                                                                                                                                                                                                                                                                                                                                                                                                                                                                                                                                                                                                                                                                                                                                                                                                                                                                                                                                                                                                                                                                                                                                                                                                                                                                                                                                                                                                                                                                                                                                                                                                                                                                                                                                                                                                                                                                                                                                                                                                                                                                                                                                                                                                                                                                                                                                                                                                                                                                                                                                                                                                                                                                                                                                                                                                                                                                                                                                                                                                                                                                                                                                                                                                                                                                                                                                                                                                                                                                                                                                                                                                                                                                                                                                                                                                                                                                                                                                                                                                                                                                                                                                                                                                                                                                                                                                                                                                                                                                                                                                                                                                                                                                                                                                                                                                                                                                                                                                                                                                                                                                                                                                                                                                                                                                                                                                                                                                                                                                                                                                                                                                                                                                                                                                                                                                                                                                                                                                                                                                                                                                                                                                                                                                                                                                                                                                                                                                                                                                                                                                                                                                                                                                                                                                                                                                                                                                                                                                                                                                                                                                                                                                                                                                                                                                                                                                                                                                                                                                                                                                                                                                                                                                                                                                                                                                                                                                                                                                                                                                                                                                                                       \n",
       "\n",
       "      target target_names  \\\n",
       "5356  14      sci.space     \n",
       "6116  11      sci.crypt     \n",
       "7329  13      sci.med       \n",
       "\n",
       "                                                                                                                                                                                                                                                                                                                                                                                                                                                                                                                                                                                                                                                                                                                                                                                                                                                                                                                                                                                                                                                                                                                                                                                                                                                                                                                                                                                                                                                                                                                                                                                                                                                                                                                                                                                                                                                                                                                                                                                                                                                                                                                                                                                                                                                                                                                                                                                                                                                                                                                                                                                                                                                                                                                                                                                                                                                                                                                                                                                                                                                                                                                                                                                                                                                                                                                                                                                                                                                                                                                                                                                                                                                                                                                                                                                                                                                                                                                                                                                                                                                                                                                                                                                                                                                                                                                                                                                                                                                                                                                                                                                                                                                                                                                                                                                                                                                                                                                                                                                                                                                                                                                                                                                                                                                                                                                                                                                                                                                                                                                                                                                                                                                                                                                                                                                                                                                                                                                                                                                                                                                                                                                                                                                                                                                                                                                                                                                                                                                                                                                                                                                                                                                                                                                                                                                                                                                                                                                                                                                                                                                                                                                                                                                                                                                                                                                                                          clean_text  \n",
       "5356  Archive name space diff DIFFS SINCE LAST FAQ POSTING IN POSTING ORDER These are hand edited context diffs do not attempt to use them to patch old copies of the FAQ diff t c r FAQ intro tmp RCSt a Thu Apr FAQ intro Thu Apr NASA Langley Technical Reports NASA Spacelink National Space Science Data Center Space And Planetary Image Facility Space Telescope Science Institute Electronic Info Service Starcat Astronomical Databases LLNL great exploration Lunar Prospector Lunar science and activities Orbiting Earth satellite histories Spacecraft models Rocket propulsion Spacecraft design diff t c r FAQ net tmp RCSt a Thu Apr FAQ net Thu Apr elements are sent out on the list from Dr Kelso JSC and other sources as they are released Email to elements request telesoft com to join GPS Digest is a moderated list for discussion of the Global Positioning System and other satellite navigation positioning systems Email to gps request esseye si com to join Space investors is a list for information relevant to investing in space related companies Email Vincent Cate vac cs cmu edu to join If in fact you should should learn of unauthorized access contact NASA personnel Claims have been made on this news group about fraud and waste None have ever been substantiated to any significant degree Readers detecting Fraud Waste Abuse or Mismanagement should contact the NASA Inspector General hours at can be anonymous or write NASA Inspector General P O Box L enfant Plaza Station Washington DC NEXT FAQ Online and some offline sources of images data etc diff t c r FAQ data tmp RCSt a Thu Apr FAQ data Thu Apr Telephone Email address request nssdca gsfc nasa gov SPACE AND PLANETARY IMAGE FACILITY Available hours a day via anonymous FTP from pioneer unm edu Has approximately CD ROM s full of imagery raw and tabular data To start get the file pioneer unm edu pub info beginner info This will hopefully give you all of the information you need to get data from their machine beginner info has been translated to other languages you should look inside pub info for the particular language that meets your needs Contact help pioneer unm edu SPACE TELESCOPE SCIENCE INSTITUTE ELECTRONIC INFORMATION SERVICE diff t c r FAQ math tmp RCSt a Thu Apr FAQ math Thu Apr Gives series to compute positions accurate to arc minute for a period or years from now Pluto is included but stated to have an accuracy of only about arc minutes Multiyear Interactive Computer Almanac MICA produced by the US Naval Observatory Valid for years outside US Available for IBM order PB HDV or Macintosh order PB HDV From the NTIS sales desk I believe this is intended to replace the USNO s Interactive Computer Ephemeris Interactive Computer Ephemeris from the US Naval Observatory distributed on IBM PC floppy disks Willmann Bell Covers dates diff t c r FAQ references tmp RCSt a Thu Apr FAQ references Thu Apr US Naval Observatory USNO Bulletin Board via modem General Nautical Almanac Office info on the Interactive Computer Ephemeris Willmann Bell P O Box SDI s SSRT Single Stage Rocket Technology project has funded a suborbital technology demonstrator called DC X that should fly in mid Further development towards an operational single stage to orbit vehicle is uncertain at present for considerably more detail on the SSRT program get the document ames arc nasa gov pub SPACE FAQ DeltaClipper by anonymous FTP or through the email server HOW TO NAME A STAR AFTER A PERSON Official names are decided by committees of the International SDI s SSRT Single Stage Rocket Technology project has funded a suborbital technology demonstrator called DC X that should fly in mid Further development towards an operational single stage to orbit vehicle called Delta Clipper is uncertain at present An collection of pictures and files relating to DC X is available by anonymous FTP or email server in the directory bongo cc utexas edu pub delta clipper Chris W Johnson chrisj emx cc utexas edu maintains the archive HOW TO NAME A STAR AFTER A PERSON Official names are decided by committees of the International University Press Information about the Lunar Orbiter missions including maps of the coverage of the lunar nearside and farside by various Orbiters ORBITING EARTH SATELLITE HISTORIES A list of Earth orbiting satellites that are still in orbit is available by anonymous FTP in ames arc nasa gov pub SPACE FAQ Satellites SPACECRAFT MODELS diff t c r FAQ addresses tmp RCSt a Thu Apr FAQ addresses Thu Apr the latter an SF is useless Employees are Caltech employees contractors and for the most part have similar responsibilities They offer an alternative to funding after other NASA Centers A fact sheet and description of JPL is available by anonymous FTP in ames arc nasa gov pub SPACE FAQ JPLDescription NASA Johnson Manned Space Center JSC Houston TX diff t c r FAQ new probes tmp RCSt a Thu Apr FAQ new probes Thu Apr team ISAS NASDA launch schedules press kits ASUKA ASTRO D ISAS Japan X ray astronomy satellite launched into Earth orbit on Equipped with large area wide wavelength Angstrom X ray telescope X ray CCD cameras and imaging gas scintillation proportional counters CASSINI Saturn orbiter and Titan atmosphere probe Cassini is a joint NASA ESA project designed to accomplish an exploration of the Saturnian system with its Cassini Saturn Orbiter and Huygens Titan Probe Cassini MAGELLAN Venus radar mapping mission Has mapped almost the entire surface at high resolution Currently in mapping cycle collecting a global gravity map MARS OBSERVER Mars orbiter including m pixel resolution camera Launched on a Titan III TOS booster MO is currently in transit to Mars arriving on Operations will start for one martian year days TOPEX Poseidon Joint US French Earth observing satellite launched in August on an Ariane booster The primary objective of the TOPEX POSEIDON project is to make precise and accurate global observations of the sea level for several years substantially increasing understanding of global ocean dynamics The satellite also MAGELLAN Venus radar mapping mission Has mapped almost the entire surface at high resolution Currently collecting a global gravity map MARS OBSERVER Mars orbiter including m pixel resolution camera Launched on a Titan III TOS booster MO is currently in transit to Mars arriving on Operations will start for one martian year days TOPEX Poseidon Joint US French Earth observing satellite launched on an Ariane booster The primary objective of the TOPEX POSEIDON project is to make precise and accurate global observations of the sea level for several years substantially increasing understanding of global ocean dynamics The satellite also diff t c r FAQ astronaut tmp RCSt a Thu Apr FAQ astronaut Thu Apr specific standards Distant visual acuity or better uncorrected correctable to each eye Blood pressure measured in sitting position Height between and inches Pilot Astronaut Candidate specific standards Distant visual acuity or better uncorrected correctable to each eye Blood pressure measured in sitting position Height between and inches  \n",
       "6116  As usual David Sternlight is demonstrating his inability to read The proposal clearly states The initiative will involve the creation of new products to accelerate the development and use of advanced and secure telecommunications networks and wireless communications links It speaks about telecommunications in general Read it again David Maybe you ll understand it the next time Nah probably not That s exactly what the government wants all sheep minded people to think Let s look at the current situation It allows to almost anybody to eavesdrop almost everybody unless secure and I mean secure encryption is used What will happen when if Ha optimists the new proposal gets accepted Almost nobody EXCEPT SOME will be able to eavesdrop everybody else but the ability of these some to eavesdrop will be guaranteed The proposal emphasizes on the former almost nobody which is clearly an improvement and forgets to mention the drawbacks of the latter guaranteed Yes my statement assumes that the next step will be to make the strong crypto unlawful You think that it will not happen Good luck It s not just continued ability It s guaranteed ability Yeah that s exactly what your government wants you to think Let s take small steps one at a time Concentrate on the current one don t think about the future Trust us It s not asked because the proposal clearly says that this is the intention They unlike you read what they write Yes it will It will stop the jerk who is eavesdropping now It will allow only to the government to eavesdrop If the scheme is secure of course which is yet to be proven But how do you know that the jerk you are fearing now will not get a government job tomorrow The new proposal guarantees him the ability to eavesdrop then Hell that will even motivate him to get that job if he indeed is that mentally pervert Great The Greatest Cryptographer of All Times David Sternlight tm has succeeded to evaluate the new system in the absense of any details whatsoever and has concluded that it is highly secure I guess that comes from the background of working some years for the two major crypto evaluating companies right Gee now the government can save all that money and trouble to ask a secret council of crypto experts to secretly analyse the new secret method for David Sternlight has already done all the job for them Trust us we re from the Government and we re here to help you Those who are prepared to trade their liberties for the promises of future safety do not deserve either This or something like that I don t have the exact quote but the meaning is the same has been said by one of your great men Maybe you should study their works more carefully if you have the brains to understand them of course The main question is to guarantee to availability of really secure cryptography to the masses Gee if the proposal was saying we guarantee that every American will still have the full right to use any kind of encryption s he would like and regard this proposal as just a default voluntary implementation there would have been much less opposition For some reason they didn t even try to promise you that I wonder why Was Orwell off only by years No in return you get crypto that is guaranteed to be crippled While the above is just rumors and while even if it is true it is not done easily the new scheme can is guaranteed to be easily breakable by anybody who has the two keys It might be also breakable by somebody who does not have them but knows the right trick Or who has only one of them NSA also told you that DES is secure why don t you simply trust them huh It is guaranteed to be easily breakable just get the keys It might be even easier but until there is some evidence this is just a wild speculation The trapdoors are there In government s hands The keys Legitimate And who decides what communications are legitimate Oh I guess it s the government right The guys who already have the keys It s kinda if I have the keys from your car and I am asked to decide who has the right to use it legitimately Impossible since you are demonstrating the same level of incompetence and ignorance as in the provious threads Unfortunately I have yet to see you posting a technically competent message Regards Vesselin                                                                                                                                                                                                                                                                                                                                                                                                                                                                                                                                                                                                                                                                                                                                                                                                                                                                                                                                                                                                                                                                                                                                                                                                                                                                                                                                                                                                                                                                                                                                                                                                                                                                                                                                                                                                                                                                                                                                                                                                                                                                                                                                                                                                                                                                                                                                                                                                                                                                                                                                                                                                                                                                                                                                                                                                                                                                                                                                      \n",
       "7329  Gee what do I do My LDL is only and my HDL is only I must be risking something but Is it the same risk as those with very high LDL What about exercise and a low fat diet What are the long term effects of this drug                                                                                                                                                                                                                                                                                                                                                                                                                                                                                                                                                                                                                                                                                                                                                                                                                                                                                                                                                                                                                                                                                                                                                                                                                                                                                                                                                                                                                                                                                                                                                                                                                                                                                                                                                                                                                                                                                                                                                                                                                                                                                                                                                                                                                                                                                                                                                                                                                                                                                                                                                                                                                                                                                                                                                                                                                                                                                                                                                                                                                                                                                                                                                                                                                                                                                                                                                                                                                                                                                                                                                                                                                                                                                                                                                                                                                                                                                                                                                                                                                                                                                                                                                                                                                                                                                                                                                                                                                                                                                                                                                                                                                                                                                                                                                                                                                                                                                                                                                                                                                                                                                                                                                                                                                                                                                                                                                                                                                                                                                                                                                                                                                                                                                                                                                                                                                                                                                                                                                                                                                                                                                                                                                                                                                                                                                                                                                                                                                                                                                                                                                                                                                                                                                                                                                                                                                                                                                                                                                                                                                                                                                                                                           "
      ]
     },
     "execution_count": 25,
     "metadata": {},
     "output_type": "execute_result"
    }
   ],
   "source": [
    "df.sample(3)"
   ]
  },
  {
   "cell_type": "code",
   "execution_count": 26,
   "metadata": {
    "colab": {},
    "colab_type": "code",
    "id": "kSW10Cb33Lzk"
   },
   "outputs": [],
   "source": [
    "nlp = spacy.load(\"en_core_web_lg\")"
   ]
  },
  {
   "cell_type": "code",
   "execution_count": 27,
   "metadata": {
    "colab": {},
    "colab_type": "code",
    "id": "pkgfv9tc3Lzi"
   },
   "outputs": [],
   "source": [
    "# Leverage tqdm for progress_apply\n",
    "from tqdm import tqdm\n",
    "tqdm.pandas()\n",
    "\n",
    "# If you're on macOS, Linux, or python session executed from Windows Subsystem for Linux (WSL)\n",
    "# conda activate U4-S1-NLP\n",
    "# pip install pandarallel\n",
    "#\n",
    "# from pandarallel import pandarallel\n",
    "# pandarallel.initialize(progress_bar=True)\n",
    "#\n",
    "# df['lemmas'] = df['content'].parallel_apply(get_lemmas)\n",
    "#\n",
    "# Ref: https://github.com/nalepae/pandarallel"
   ]
  },
  {
   "cell_type": "code",
   "execution_count": 28,
   "metadata": {
    "colab": {},
    "colab_type": "code",
    "id": "6EBPQXqEKE9P"
   },
   "outputs": [
    {
     "name": "stderr",
     "output_type": "stream",
     "text": [
      "100%|██████████████████████████████████████| 11314/11314 [12:09<00:00, 15.51it/s]\n"
     ]
    }
   ],
   "source": [
    "# Create 'lemmas' column\n",
    "def get_lemmas(x):\n",
    "    lemmas = []\n",
    "    for token in nlp(x):\n",
    "        if (token.is_stop!=True) and (token.is_punct!=True):\n",
    "            lemmas.append(token.lemma_)\n",
    "    return lemmas\n",
    "\n",
    "df['lemmas'] = df['clean_text'].progress_apply(get_lemmas)"
   ]
  },
  {
   "cell_type": "code",
   "execution_count": 29,
   "metadata": {
    "colab": {},
    "colab_type": "code",
    "id": "-yvsyIpvKBlw"
   },
   "outputs": [
    {
     "data": {
      "text/html": [
       "<div>\n",
       "<style scoped>\n",
       "    .dataframe tbody tr th:only-of-type {\n",
       "        vertical-align: middle;\n",
       "    }\n",
       "\n",
       "    .dataframe tbody tr th {\n",
       "        vertical-align: top;\n",
       "    }\n",
       "\n",
       "    .dataframe thead th {\n",
       "        text-align: right;\n",
       "    }\n",
       "</style>\n",
       "<table border=\"1\" class=\"dataframe\">\n",
       "  <thead>\n",
       "    <tr style=\"text-align: right;\">\n",
       "      <th></th>\n",
       "      <th>content</th>\n",
       "      <th>target</th>\n",
       "      <th>target_names</th>\n",
       "      <th>clean_text</th>\n",
       "      <th>lemmas</th>\n",
       "    </tr>\n",
       "  </thead>\n",
       "  <tbody>\n",
       "    <tr>\n",
       "      <th>0</th>\n",
       "      <td>I was wondering if anyone out there could enlighten me on this car I saw\\nthe other day. It was a 2-door sports car, looked to be from the late 60s/\\nearly 70s. It was called a Bricklin. The doors were really small. In addition,\\nthe front bumper was separate from the rest of the body. This is \\nall I know. If anyone can tellme a model name, engine specs, years\\nof production, where this car is made, history, or whatever info you\\nhave on this funky looking car, please e-mail.</td>\n",
       "      <td>7</td>\n",
       "      <td>rec.autos</td>\n",
       "      <td>I was wondering if anyone out there could enlighten me on this car I saw the other day It was a door sports car looked to be from the late s early s It was called a Bricklin The doors were really small In addition the front bumper was separate from the rest of the body This is all I know If anyone can tellme a model name engine specs years of production where this car is made history or whatever info you have on this funky looking car please e mail</td>\n",
       "      <td>[wonder, enlighten, car, see, day, door, sport, car, look, late, s, early, s, call, Bricklin, door, small, addition, bumper, separate, rest, body, know, tellme, model, engine, spec, year, production, car, history, info, funky, look, car, e, mail]</td>\n",
       "    </tr>\n",
       "    <tr>\n",
       "      <th>1</th>\n",
       "      <td>A fair number of brave souls who upgraded their SI clock oscillator have\\nshared their experiences for this poll. Please send a brief message detailing\\nyour experiences with the procedure. Top speed attained, CPU rated speed,\\nadd on cards and adapters, heat sinks, hour of usage per day, floppy disk\\nfunctionality with 800 and 1.4 m floppies are especially requested.\\n\\nI will be summarizing in the next two days, so please add to the network\\nknowledge base if you have done the clock upgrade and haven't answered this\\npoll. Thanks.</td>\n",
       "      <td>4</td>\n",
       "      <td>comp.sys.mac.hardware</td>\n",
       "      <td>A fair number of brave souls who upgraded their SI clock oscillator have shared their experiences for this poll Please send a brief message detailing your experiences with the procedure Top speed attained CPU rated speed add on cards and adapters heat sinks hour of usage per day floppy disk functionality with and m floppies are especially requested I will be summarizing in the next two days so please add to the network knowledge base if you have done the clock upgrade and haven t answered this poll Thanks</td>\n",
       "      <td>[fair, number, brave, soul, upgrade, SI, clock, oscillator, share, experience, poll, send, brief, message, detail, experience, procedure, speed, attain, CPU, rate, speed, add, card, adapter, heat, sink, hour, usage, day, floppy, disk, functionality, m, floppy, especially, request, summarize, day, add, network, knowledge, base, clock, upgrade, haven, t, answer, poll, thank]</td>\n",
       "    </tr>\n",
       "    <tr>\n",
       "      <th>2</th>\n",
       "      <td>well folks, my mac plus finally gave up the ghost this weekend after\\nstarting life as a 512k way back in 1985.  sooo, i'm in the market for a\\nnew machine a bit sooner than i intended to be...\\n\\ni'm looking into picking up a powerbook 160 or maybe 180 and have a bunch\\nof questions that (hopefully) somebody can answer:\\n\\n* does anybody know any dirt on when the next round of powerbook\\nintroductions are expected?  i'd heard the 185c was supposed to make an\\nappearence \"this summer\" but haven't heard anymore on it - and since i\\ndon't have access to macleak, i was wondering if anybody out there had\\nmore info...\\n\\n* has anybody heard rumors about price drops to the powerbook line like the\\nones the duo's just went through recently?\\n\\n* what's the impression of the display on the 180?  i could probably swing\\na 180 if i got the 80Mb disk rather than the 120, but i don't really have\\na feel for how much \"better\" the display is (yea, it looks great in the\\nstore, but is that all \"wow\" or is it really that good?).  could i solicit\\nsome opinions of people who use the 160 and 180 day-to-day on if its worth\\ntaking the disk size and money hit to get the active display?  (i realize\\nthis is a real subjective question, but i've only played around with the\\nmachines in a computer store breifly and figured the opinions of somebody\\nwho actually uses the machine daily might prove helpful).\\n\\n* how well does hellcats perform?  ;)\\n\\nthanks a bunch in advance for any info - if you could email, i'll post a\\nsummary (news reading time is at a premium with finals just around the\\ncorner... :( )\\n--\\nTom Willis  \\  twillis@ecn.purdue.edu    \\    Purdue Electrical Engineering</td>\n",
       "      <td>4</td>\n",
       "      <td>comp.sys.mac.hardware</td>\n",
       "      <td>well folks my mac plus finally gave up the ghost this weekend after starting life as a k way back in sooo i m in the market for a new machine a bit sooner than i intended to be i m looking into picking up a powerbook or maybe and have a bunch of questions that hopefully somebody can answer does anybody know any dirt on when the next round of powerbook introductions are expected i d heard the c was supposed to make an appearence this summer but haven t heard anymore on it and since i don t have access to macleak i was wondering if anybody out there had more info has anybody heard rumors about price drops to the powerbook line like the ones the duo s just went through recently what s the impression of the display on the i could probably swing a if i got the Mb disk rather than the but i don t really have a feel for how much better the display is yea it looks great in the store but is that all wow or is it really that good could i solicit some opinions of people who use the and day to day on if its worth taking the disk size and money hit to get the active display i realize this is a real subjective question but i ve only played around with the machines in a computer store breifly and figured the opinions of somebody who actually uses the machine daily might prove helpful how well does hellcats perform thanks a bunch in advance for any info if you could email i ll post a summary news reading time is at a premium with finals just around the corner Tom Willis twillis ecn purdue edu Purdue Electrical Engineering</td>\n",
       "      <td>[folk, mac, plus, finally, give, ghost, weekend, start, life, k, way, sooo, m, market, new, machine, bit, sooner, intend, m, look, pick, powerbook, maybe, bunch, question, hopefully, somebody, answer, anybody, know, dirt, round, powerbook, introduction, expect, d, hear, c, suppose, appearence, summer, haven, t, hear, anymore, don, t, access, macleak, wonder, anybody, info, anybody, hear, rumor, price, drop, powerbook, line, like, one, duo, s, go, recently, s, impression, display, probably, swing, get, Mb, disk, don, t, feel, well, display, yea, look, great, store, wow, good, solicit, opinion, people, use, day, day, worth, take, disk, size, money, hit, active, display, realize, ...]</td>\n",
       "    </tr>\n",
       "    <tr>\n",
       "      <th>3</th>\n",
       "      <td>\\nDo you have Weitek's address/phone number?  I'd like to get some information\\nabout this chip.\\n</td>\n",
       "      <td>1</td>\n",
       "      <td>comp.graphics</td>\n",
       "      <td>Do you have Weitek s address phone number I d like to get some information about this chip</td>\n",
       "      <td>[Weitek, s, address, phone, number, d, like, information, chip]</td>\n",
       "    </tr>\n",
       "    <tr>\n",
       "      <th>4</th>\n",
       "      <td>From article &lt;C5owCB.n3p@world.std.com&gt;, by tombaker@world.std.com (Tom A Baker):\\n\\n\\nMy understanding is that the 'expected errors' are basically\\nknown bugs in the warning system software - things are checked\\nthat don't have the right values in yet because they aren't\\nset till after launch, and suchlike. Rather than fix the code\\nand possibly introduce new bugs, they just tell the crew\\n'ok, if you see a warning no. 213 before liftoff, ignore it'.</td>\n",
       "      <td>14</td>\n",
       "      <td>sci.space</td>\n",
       "      <td>From article C owCB n p world std com by tombaker world std com Tom A Baker My understanding is that the expected errors are basically known bugs in the warning system software things are checked that don t have the right values in yet because they aren t set till after launch and suchlike Rather than fix the code and possibly introduce new bugs they just tell the crew ok if you see a warning no before liftoff ignore it</td>\n",
       "      <td>[article, C, owCB, n, p, world, std, com, tombaker, world, std, com, Tom, Baker, understanding, expect, error, basically, know, bug, warning, system, software, thing, check, don, t, right, value, aren, t, set, till, launch, suchlike, fix, code, possibly, introduce, new, bug, tell, crew, ok, warning, liftoff, ignore]</td>\n",
       "    </tr>\n",
       "  </tbody>\n",
       "</table>\n",
       "</div>"
      ],
      "text/plain": [
       "                                                                                                                                                                                                                                                                                                                                                                                                                                                                                                                                                                                                                                                                                                                                                                                                                                                                                                                                                                                                                                                                                                                                                                                                                                                                                                                                                                                                                                                                                                                                                                                                                                                                                                                                                       content  \\\n",
       "0  I was wondering if anyone out there could enlighten me on this car I saw\\nthe other day. It was a 2-door sports car, looked to be from the late 60s/\\nearly 70s. It was called a Bricklin. The doors were really small. In addition,\\nthe front bumper was separate from the rest of the body. This is \\nall I know. If anyone can tellme a model name, engine specs, years\\nof production, where this car is made, history, or whatever info you\\nhave on this funky looking car, please e-mail.                                                                                                                                                                                                                                                                                                                                                                                                                                                                                                                                                                                                                                                                                                                                                                                                                                                                                                                                                                                                                                                                                                                                                                                                                                                             \n",
       "1  A fair number of brave souls who upgraded their SI clock oscillator have\\nshared their experiences for this poll. Please send a brief message detailing\\nyour experiences with the procedure. Top speed attained, CPU rated speed,\\nadd on cards and adapters, heat sinks, hour of usage per day, floppy disk\\nfunctionality with 800 and 1.4 m floppies are especially requested.\\n\\nI will be summarizing in the next two days, so please add to the network\\nknowledge base if you have done the clock upgrade and haven't answered this\\npoll. Thanks.                                                                                                                                                                                                                                                                                                                                                                                                                                                                                                                                                                                                                                                                                                                                                                                                                                                                                                                                                                                                                                                                                                                                                                                                    \n",
       "2  well folks, my mac plus finally gave up the ghost this weekend after\\nstarting life as a 512k way back in 1985.  sooo, i'm in the market for a\\nnew machine a bit sooner than i intended to be...\\n\\ni'm looking into picking up a powerbook 160 or maybe 180 and have a bunch\\nof questions that (hopefully) somebody can answer:\\n\\n* does anybody know any dirt on when the next round of powerbook\\nintroductions are expected?  i'd heard the 185c was supposed to make an\\nappearence \"this summer\" but haven't heard anymore on it - and since i\\ndon't have access to macleak, i was wondering if anybody out there had\\nmore info...\\n\\n* has anybody heard rumors about price drops to the powerbook line like the\\nones the duo's just went through recently?\\n\\n* what's the impression of the display on the 180?  i could probably swing\\na 180 if i got the 80Mb disk rather than the 120, but i don't really have\\na feel for how much \"better\" the display is (yea, it looks great in the\\nstore, but is that all \"wow\" or is it really that good?).  could i solicit\\nsome opinions of people who use the 160 and 180 day-to-day on if its worth\\ntaking the disk size and money hit to get the active display?  (i realize\\nthis is a real subjective question, but i've only played around with the\\nmachines in a computer store breifly and figured the opinions of somebody\\nwho actually uses the machine daily might prove helpful).\\n\\n* how well does hellcats perform?  ;)\\n\\nthanks a bunch in advance for any info - if you could email, i'll post a\\nsummary (news reading time is at a premium with finals just around the\\ncorner... :( )\\n--\\nTom Willis  \\  twillis@ecn.purdue.edu    \\    Purdue Electrical Engineering   \n",
       "3  \\nDo you have Weitek's address/phone number?  I'd like to get some information\\nabout this chip.\\n                                                                                                                                                                                                                                                                                                                                                                                                                                                                                                                                                                                                                                                                                                                                                                                                                                                                                                                                                                                                                                                                                                                                                                                                                                                                                                                                                                                                                                                                                                                                                                                                                                                            \n",
       "4  From article <C5owCB.n3p@world.std.com>, by tombaker@world.std.com (Tom A Baker):\\n\\n\\nMy understanding is that the 'expected errors' are basically\\nknown bugs in the warning system software - things are checked\\nthat don't have the right values in yet because they aren't\\nset till after launch, and suchlike. Rather than fix the code\\nand possibly introduce new bugs, they just tell the crew\\n'ok, if you see a warning no. 213 before liftoff, ignore it'.                                                                                                                                                                                                                                                                                                                                                                                                                                                                                                                                                                                                                                                                                                                                                                                                                                                                                                                                                                                                                                                                                                                                                                                                                                                                                      \n",
       "\n",
       "   target           target_names  \\\n",
       "0  7       rec.autos               \n",
       "1  4       comp.sys.mac.hardware   \n",
       "2  4       comp.sys.mac.hardware   \n",
       "3  1       comp.graphics           \n",
       "4  14      sci.space               \n",
       "\n",
       "                                                                                                                                                                                                                                                                                                                                                                                                                                                                                                                                                                                                                                                                                                                                                                                                                                                                                                                                                                                                                                                                                                                                                                                                                                                                                                                                                                                                                                                                                                                                                                                    clean_text  \\\n",
       "0  I was wondering if anyone out there could enlighten me on this car I saw the other day It was a door sports car looked to be from the late s early s It was called a Bricklin The doors were really small In addition the front bumper was separate from the rest of the body This is all I know If anyone can tellme a model name engine specs years of production where this car is made history or whatever info you have on this funky looking car please e mail                                                                                                                                                                                                                                                                                                                                                                                                                                                                                                                                                                                                                                                                                                                                                                                                                                                                                                                                                                                                                                                                                                                          \n",
       "1  A fair number of brave souls who upgraded their SI clock oscillator have shared their experiences for this poll Please send a brief message detailing your experiences with the procedure Top speed attained CPU rated speed add on cards and adapters heat sinks hour of usage per day floppy disk functionality with and m floppies are especially requested I will be summarizing in the next two days so please add to the network knowledge base if you have done the clock upgrade and haven t answered this poll Thanks                                                                                                                                                                                                                                                                                                                                                                                                                                                                                                                                                                                                                                                                                                                                                                                                                                                                                                                                                                                                                                                                \n",
       "2  well folks my mac plus finally gave up the ghost this weekend after starting life as a k way back in sooo i m in the market for a new machine a bit sooner than i intended to be i m looking into picking up a powerbook or maybe and have a bunch of questions that hopefully somebody can answer does anybody know any dirt on when the next round of powerbook introductions are expected i d heard the c was supposed to make an appearence this summer but haven t heard anymore on it and since i don t have access to macleak i was wondering if anybody out there had more info has anybody heard rumors about price drops to the powerbook line like the ones the duo s just went through recently what s the impression of the display on the i could probably swing a if i got the Mb disk rather than the but i don t really have a feel for how much better the display is yea it looks great in the store but is that all wow or is it really that good could i solicit some opinions of people who use the and day to day on if its worth taking the disk size and money hit to get the active display i realize this is a real subjective question but i ve only played around with the machines in a computer store breifly and figured the opinions of somebody who actually uses the machine daily might prove helpful how well does hellcats perform thanks a bunch in advance for any info if you could email i ll post a summary news reading time is at a premium with finals just around the corner Tom Willis twillis ecn purdue edu Purdue Electrical Engineering   \n",
       "3  Do you have Weitek s address phone number I d like to get some information about this chip                                                                                                                                                                                                                                                                                                                                                                                                                                                                                                                                                                                                                                                                                                                                                                                                                                                                                                                                                                                                                                                                                                                                                                                                                                                                                                                                                                                                                                                                                                    \n",
       "4  From article C owCB n p world std com by tombaker world std com Tom A Baker My understanding is that the expected errors are basically known bugs in the warning system software things are checked that don t have the right values in yet because they aren t set till after launch and suchlike Rather than fix the code and possibly introduce new bugs they just tell the crew ok if you see a warning no before liftoff ignore it                                                                                                                                                                                                                                                                                                                                                                                                                                                                                                                                                                                                                                                                                                                                                                                                                                                                                                                                                                                                                                                                                                                                                       \n",
       "\n",
       "                                                                                                                                                                                                                                                                                                                                                                                                                                                                                                                                                                                                                                                                                                               lemmas  \n",
       "0  [wonder, enlighten, car, see, day, door, sport, car, look, late, s, early, s, call, Bricklin, door, small, addition, bumper, separate, rest, body, know, tellme, model, engine, spec, year, production, car, history, info, funky, look, car, e, mail]                                                                                                                                                                                                                                                                                                                                                                                                                                                              \n",
       "1  [fair, number, brave, soul, upgrade, SI, clock, oscillator, share, experience, poll, send, brief, message, detail, experience, procedure, speed, attain, CPU, rate, speed, add, card, adapter, heat, sink, hour, usage, day, floppy, disk, functionality, m, floppy, especially, request, summarize, day, add, network, knowledge, base, clock, upgrade, haven, t, answer, poll, thank]                                                                                                                                                                                                                                                                                                                             \n",
       "2  [folk, mac, plus, finally, give, ghost, weekend, start, life, k, way, sooo, m, market, new, machine, bit, sooner, intend, m, look, pick, powerbook, maybe, bunch, question, hopefully, somebody, answer, anybody, know, dirt, round, powerbook, introduction, expect, d, hear, c, suppose, appearence, summer, haven, t, hear, anymore, don, t, access, macleak, wonder, anybody, info, anybody, hear, rumor, price, drop, powerbook, line, like, one, duo, s, go, recently, s, impression, display, probably, swing, get, Mb, disk, don, t, feel, well, display, yea, look, great, store, wow, good, solicit, opinion, people, use, day, day, worth, take, disk, size, money, hit, active, display, realize, ...]  \n",
       "3  [Weitek, s, address, phone, number, d, like, information, chip]                                                                                                                                                                                                                                                                                                                                                                                                                                                                                                                                                                                                                                                     \n",
       "4  [article, C, owCB, n, p, world, std, com, tombaker, world, std, com, Tom, Baker, understanding, expect, error, basically, know, bug, warning, system, software, thing, check, don, t, right, value, aren, t, set, till, launch, suchlike, fix, code, possibly, introduce, new, bug, tell, crew, ok, warning, liftoff, ignore]                                                                                                                                                                                                                                                                                                                                                                                       "
      ]
     },
     "execution_count": 29,
     "metadata": {},
     "output_type": "execute_result"
    }
   ],
   "source": [
    "df.head()"
   ]
  },
  {
   "cell_type": "markdown",
   "metadata": {
    "colab_type": "text",
    "id": "cPuCuK0z3Lzs"
   },
   "source": [
    "### The two main inputs to the LDA topic model are the dictionary (id2word) and the corpus."
   ]
  },
  {
   "cell_type": "code",
   "execution_count": 30,
   "metadata": {
    "colab": {},
    "colab_type": "code",
    "id": "1klqRpqtJxWc"
   },
   "outputs": [],
   "source": [
    "# Create Dictionary\n",
    "id2word = corpora.Dictionary(df['lemmas'])"
   ]
  },
  {
   "cell_type": "code",
   "execution_count": 31,
   "metadata": {},
   "outputs": [
    {
     "data": {
      "text/plain": [
       "78702"
      ]
     },
     "execution_count": 31,
     "metadata": {},
     "output_type": "execute_result"
    }
   ],
   "source": [
    "# How many words do we have?\n",
    "len(id2word.keys())"
   ]
  },
  {
   "cell_type": "code",
   "execution_count": 32,
   "metadata": {},
   "outputs": [],
   "source": [
    "# Let's remove extreme values from the dataset\n",
    "id2word.filter_extremes(no_below=3, no_above=0.75)"
   ]
  },
  {
   "cell_type": "code",
   "execution_count": 33,
   "metadata": {},
   "outputs": [
    {
     "data": {
      "text/plain": [
       "22810"
      ]
     },
     "execution_count": 33,
     "metadata": {},
     "output_type": "execute_result"
    }
   ],
   "source": [
    "# How many words do we have?\n",
    "len(id2word.keys())"
   ]
  },
  {
   "cell_type": "code",
   "execution_count": 34,
   "metadata": {},
   "outputs": [],
   "source": [
    "# Term Document Frequency\n",
    "corpus = [id2word.doc2bow(text) for text in df['lemmas']]"
   ]
  },
  {
   "cell_type": "code",
   "execution_count": 35,
   "metadata": {
    "colab": {},
    "colab_type": "code",
    "id": "ArZPxcP5LH1J"
   },
   "outputs": [
    {
     "data": {
      "text/plain": [
       "'hear'"
      ]
     },
     "execution_count": 35,
     "metadata": {},
     "output_type": "execute_result"
    }
   ],
   "source": [
    "id2word[109]"
   ]
  },
  {
   "cell_type": "code",
   "execution_count": 36,
   "metadata": {
    "colab": {},
    "colab_type": "code",
    "id": "_IIBnI2e3Lzw"
   },
   "outputs": [
    {
     "data": {
      "text/plain": [
       "'Of course The term must be rigidly defined in any bill I doubt she uses this term for that You are using a quote allegedly from her can you back it up I read the article as presenting first an argument about weapons of mass destruction as commonly understood and then switching to other topics The first point evidently was to show that not all weapons should be allowed and then the later analysis was given this understanding to consider another class'"
      ]
     },
     "execution_count": 36,
     "metadata": {},
     "output_type": "execute_result"
    }
   ],
   "source": [
    "df.iloc[5]['clean_text']"
   ]
  },
  {
   "cell_type": "code",
   "execution_count": 37,
   "metadata": {
    "colab": {},
    "colab_type": "code",
    "id": "bGFG9E2j3Lzz"
   },
   "outputs": [
    {
     "data": {
      "text/plain": [
       "[(105, 1),\n",
       " (162, 1),\n",
       " (179, 1),\n",
       " (205, 1),\n",
       " (209, 1),\n",
       " (210, 1),\n",
       " (211, 1),\n",
       " (212, 1),\n",
       " (213, 1),\n",
       " (214, 1),\n",
       " (215, 1),\n",
       " (216, 1),\n",
       " (217, 1),\n",
       " (218, 1),\n",
       " (219, 1),\n",
       " (220, 1),\n",
       " (221, 1),\n",
       " (222, 1),\n",
       " (223, 1),\n",
       " (224, 1),\n",
       " (225, 1),\n",
       " (226, 1),\n",
       " (227, 1),\n",
       " (228, 1),\n",
       " (229, 2),\n",
       " (230, 1),\n",
       " (231, 1),\n",
       " (232, 2)]"
      ]
     },
     "execution_count": 37,
     "metadata": {},
     "output_type": "execute_result"
    }
   ],
   "source": [
    "corpus[5]"
   ]
  },
  {
   "cell_type": "code",
   "execution_count": 38,
   "metadata": {
    "colab": {},
    "colab_type": "code",
    "id": "TB6wox963Lz2"
   },
   "outputs": [
    {
     "data": {
      "text/plain": [
       "'give'"
      ]
     },
     "execution_count": 38,
     "metadata": {},
     "output_type": "execute_result"
    }
   ],
   "source": [
    "id2word[105]"
   ]
  },
  {
   "cell_type": "code",
   "execution_count": 39,
   "metadata": {
    "colab": {},
    "colab_type": "code",
    "id": "kk3g75XX3Lz4"
   },
   "outputs": [
    {
     "data": {
      "text/plain": [
       "'weapon'"
      ]
     },
     "execution_count": 39,
     "metadata": {},
     "output_type": "execute_result"
    }
   ],
   "source": [
    "id2word[232]"
   ]
  },
  {
   "cell_type": "code",
   "execution_count": 40,
   "metadata": {
    "colab": {},
    "colab_type": "code",
    "id": "6K2jWxHJLOzK"
   },
   "outputs": [
    {
     "data": {
      "text/plain": [
       "[('give', 1),\n",
       " ('use', 1),\n",
       " ('article', 1),\n",
       " ('understanding', 1),\n",
       " ('allegedly', 1),\n",
       " ('allow', 1),\n",
       " ('analysis', 1),\n",
       " ('argument', 1),\n",
       " ('bill', 1),\n",
       " ('class', 1),\n",
       " ('commonly', 1),\n",
       " ('consider', 1),\n",
       " ('course', 1),\n",
       " ('define', 1),\n",
       " ('destruction', 1),\n",
       " ('doubt', 1),\n",
       " ('evidently', 1),\n",
       " ('later', 1),\n",
       " ('mass', 1),\n",
       " ('point', 1),\n",
       " ('present', 1),\n",
       " ('quote', 1),\n",
       " ('read', 1),\n",
       " ('switch', 1),\n",
       " ('term', 2),\n",
       " ('topic', 1),\n",
       " ('understand', 1),\n",
       " ('weapon', 2)]"
      ]
     },
     "execution_count": 40,
     "metadata": {},
     "output_type": "execute_result"
    }
   ],
   "source": [
    "# Human readable format of corpus (term-frequency)\n",
    "[(id2word[word_id], word_count) for word_id, word_count in corpus[5]]"
   ]
  },
  {
   "cell_type": "markdown",
   "metadata": {
    "colab_type": "text",
    "id": "le-XzI923Lz8"
   },
   "source": [
    "# Part 2: Estimate a LDA Model with Gensim"
   ]
  },
  {
   "cell_type": "markdown",
   "metadata": {
    "colab_type": "text",
    "id": "AlNG4bSI3Lz8"
   },
   "source": [
    " ### Train an LDA model"
   ]
  },
  {
   "cell_type": "code",
   "execution_count": 41,
   "metadata": {
    "colab": {},
    "colab_type": "code",
    "id": "Fasvjf0VLQ2a"
   },
   "outputs": [
    {
     "name": "stdout",
     "output_type": "stream",
     "text": [
      "Wall time: 3min 57s\n"
     ]
    }
   ],
   "source": [
    "%%time\n",
    "lda_model = gensim.models.ldamodel.LdaModel(corpus=corpus,\n",
    "                                            id2word=id2word,\n",
    "                                            num_topics=20, \n",
    "                                            chunksize=100,\n",
    "                                            passes=10,\n",
    "                                            per_word_topics=True)\n",
    "\n",
    "# https://radimrehurek.com/gensim/models/ldamodel.html"
   ]
  },
  {
   "cell_type": "code",
   "execution_count": 42,
   "metadata": {
    "colab": {},
    "colab_type": "code",
    "id": "49CabmIj3Lz_"
   },
   "outputs": [],
   "source": [
    "lda_model.save('lda_model.model')"
   ]
  },
  {
   "cell_type": "raw",
   "metadata": {
    "colab": {},
    "colab_type": "code",
    "id": "XDgUshRE3L0C"
   },
   "source": [
    "%%time\n",
    "lda_multicore = gensim.models.ldamulticore.LdaMulticore(corpus=corpus,\n",
    "                                                        id2word=id2word,\n",
    "                                                        num_topics=20, \n",
    "                                                        chunksize=100,\n",
    "                                                        passes=10,\n",
    "                                                        per_word_topics=True,\n",
    "                                                        workers=12)\n",
    "\n",
    "# https://radimrehurek.com/gensim/models/ldamulticore.html"
   ]
  },
  {
   "cell_type": "raw",
   "metadata": {
    "colab": {},
    "colab_type": "code",
    "id": "Rgb9AaPq3L0E"
   },
   "source": [
    "lda_multicore.save('lda_multicore.model')"
   ]
  },
  {
   "cell_type": "code",
   "execution_count": 43,
   "metadata": {
    "colab": {},
    "colab_type": "code",
    "id": "VLxvJPoK3L0G"
   },
   "outputs": [],
   "source": [
    "from gensim import models\n",
    "lda =  models.LdaModel.load('lda_model.model')"
   ]
  },
  {
   "cell_type": "markdown",
   "metadata": {
    "colab_type": "text",
    "id": "uDH3tzx13L0I"
   },
   "source": [
    "### View the topics in LDA model"
   ]
  },
  {
   "cell_type": "code",
   "execution_count": 44,
   "metadata": {
    "colab": {},
    "colab_type": "code",
    "id": "JawR8yscLVNS"
   },
   "outputs": [
    {
     "name": "stdout",
     "output_type": "stream",
     "text": [
      "[(0,\n",
      "  '0.393*\"x\" + 0.183*\"r\" + 0.110*\"X\" + 0.097*\"z\" + 0.031*\"c\" + 0.019*\"h\" + '\n",
      "  '0.019*\"entry\" + 0.011*\"s\" + 0.009*\"SS\" + 0.007*\"implementation\"'),\n",
      " (1,\n",
      "  '0.090*\"God\" + 0.043*\"believe\" + 0.028*\"faith\" + 0.028*\"sense\" + '\n",
      "  '0.024*\"people\" + 0.024*\"come\" + 0.023*\"know\" + 0.021*\"explain\" + '\n",
      "  '0.021*\"man\" + 0.019*\"thing\"'),\n",
      " (2,\n",
      "  '0.056*\"drive\" + 0.040*\"car\" + 0.030*\"power\" + 0.028*\"new\" + 0.023*\"board\" + '\n",
      "  '0.022*\"computer\" + 0.022*\"high\" + 0.019*\"driver\" + 0.019*\"use\" + '\n",
      "  '0.018*\"stuff\"'),\n",
      " (3,\n",
      "  '0.048*\"soldier\" + 0.047*\"village\" + 0.029*\"Jews\" + 0.025*\"Armenians\" + '\n",
      "  '0.025*\"attack\" + 0.024*\"turkish\" + 0.022*\"war\" + 0.021*\"greek\" + '\n",
      "  '0.020*\"civilian\" + 0.019*\"armenian\"'),\n",
      " (4,\n",
      "  '0.053*\"character\" + 0.047*\"newsgroup\" + 0.037*\"ground\" + 0.036*\"box\" + '\n",
      "  '0.035*\"rate\" + 0.033*\"advice\" + 0.033*\"treatment\" + 0.031*\"kid\" + '\n",
      "  '0.027*\"anti\" + 0.027*\"font\"'),\n",
      " (5,\n",
      "  '0.127*\"y\" + 0.056*\"test\" + 0.054*\"easy\" + 0.046*\"server\" + 0.028*\"clipper\" '\n",
      "  '+ 0.022*\"thought\" + 0.020*\"FAQ\" + 0.020*\"rider\" + 0.019*\"motif\" + '\n",
      "  '0.018*\"door\"'),\n",
      " (6,\n",
      "  '0.055*\"t\" + 0.042*\"s\" + 0.020*\"like\" + 0.019*\"don\" + 0.018*\"know\" + '\n",
      "  '0.017*\"think\" + 0.016*\"good\" + 0.013*\"time\" + 0.013*\"go\" + 0.011*\"get\"'),\n",
      " (7,\n",
      "  '0.078*\"H\" + 0.058*\"graphic\" + 0.051*\"telnet\" + 0.045*\"oh\" + 0.044*\"wait\" + '\n",
      "  '0.040*\"purchase\" + 0.038*\"session\" + 0.029*\"topic\" + 0.021*\"co\" + '\n",
      "  '0.018*\"suck\"'),\n",
      " (8,\n",
      "  '0.031*\"space\" + 0.017*\"University\" + 0.016*\"disk\" + 0.014*\"program\" + '\n",
      "  '0.014*\"launch\" + 0.013*\"ftp\" + 0.013*\"black\" + 0.013*\"include\" + '\n",
      "  '0.013*\"Space\" + 0.012*\"gov\"'),\n",
      " (9,\n",
      "  '0.054*\"card\" + 0.041*\"drive\" + 0.037*\"system\" + 0.036*\"software\" + '\n",
      "  '0.034*\"Mac\" + 0.030*\"machine\" + 0.026*\"memory\" + 0.026*\"video\" + '\n",
      "  '0.025*\"use\" + 0.025*\"mode\"'),\n",
      " (10,\n",
      "  '0.074*\"discussion\" + 0.060*\"user\" + 0.052*\"input\" + 0.033*\"signal\" + '\n",
      "  '0.029*\"Iran\" + 0.027*\"owner\" + 0.026*\"environment\" + 0.026*\"product\" + '\n",
      "  '0.026*\"printer\" + 0.025*\"break\"'),\n",
      " (11,\n",
      "  '0.044*\"problem\" + 0.039*\"line\" + 0.035*\"number\" + 0.035*\"section\" + '\n",
      "  '0.032*\"serial\" + 0.029*\"wire\" + 0.029*\"display\" + 0.027*\"error\" + '\n",
      "  '0.027*\"function\" + 0.024*\"bike\"'),\n",
      " (12,\n",
      "  '0.044*\"key\" + 0.017*\"number\" + 0.017*\"order\" + 0.016*\"chip\" + 0.014*\"st\" + '\n",
      "  '0.012*\"sale\" + 0.012*\"face\" + 0.011*\"message\" + 0.011*\"speak\" + '\n",
      "  '0.011*\"season\"'),\n",
      " (13,\n",
      "  '0.017*\"s\" + 0.015*\"people\" + 0.015*\"Israel\" + 0.014*\"say\" + 0.013*\"child\" + '\n",
      "  '0.012*\"physical\" + 0.011*\"evidence\" + 0.010*\"gun\" + 0.009*\"year\" + '\n",
      "  '0.008*\"day\"'),\n",
      " (14,\n",
      "  '0.096*\"W\" + 0.092*\"S\" + 0.083*\"M\" + 0.081*\"p\" + 0.069*\"t\" + 0.066*\"c\" + '\n",
      "  '0.061*\"o\" + 0.049*\"K\" + 0.045*\"J\" + 0.038*\"B\"'),\n",
      " (15,\n",
      "  '0.031*\"s\" + 0.019*\"point\" + 0.016*\"Jesus\" + 0.014*\"claim\" + 0.014*\"book\" + '\n",
      "  '0.014*\"read\" + 0.012*\"Bible\" + 0.012*\"post\" + 0.011*\"reason\" + '\n",
      "  '0.011*\"belief\"'),\n",
      " (16,\n",
      "  '0.602*\"ax\" + 0.074*\"Q\" + 0.059*\"q\" + 0.043*\"F\" + 0.020*\"MR\" + 0.016*\"v\" + '\n",
      "  '0.014*\"MD\" + 0.013*\"t\" + 0.012*\"p\" + 0.008*\"M\"'),\n",
      " (17,\n",
      "  '0.147*\"g\" + 0.138*\"v\" + 0.116*\"d\" + 0.103*\"m\" + 0.086*\"h\" + 0.062*\"e\" + '\n",
      "  '0.058*\"b\" + 0.056*\"f\" + 0.027*\"patient\" + 0.023*\"SC\"'),\n",
      " (18,\n",
      "  '0.039*\"edu\" + 0.037*\"file\" + 0.029*\"com\" + 0.028*\"thank\" + 0.026*\"program\" '\n",
      "  '+ 0.025*\"mail\" + 0.021*\"send\" + 0.020*\"window\" + 0.019*\"use\" + '\n",
      "  '0.019*\"list\"'),\n",
      " (19,\n",
      "  '0.027*\"evidence\" + 0.027*\"law\" + 0.025*\"use\" + 0.023*\"government\" + '\n",
      "  '0.021*\"people\" + 0.020*\"right\" + 0.020*\"reason\" + 0.019*\"state\" + '\n",
      "  '0.019*\"system\" + 0.016*\"public\"')]\n"
     ]
    }
   ],
   "source": [
    "# View the top 10 words per topic\n",
    "pprint(lda.print_topics())"
   ]
  },
  {
   "cell_type": "code",
   "execution_count": 45,
   "metadata": {},
   "outputs": [
    {
     "data": {
      "text/plain": [
       "[(2, 0.15800418),\n",
       " (4, 0.029942201),\n",
       " (5, 0.17632791),\n",
       " (6, 0.36105016),\n",
       " (13, 0.14066224),\n",
       " (18, 0.11400934)]"
      ]
     },
     "execution_count": 45,
     "metadata": {},
     "output_type": "execute_result"
    }
   ],
   "source": [
    "# Extract Document-Topic distributions for each document in corpus\n",
    "doc_lda = lda[corpus]\n",
    "doc_lda[0][0]"
   ]
  },
  {
   "cell_type": "code",
   "execution_count": 46,
   "metadata": {},
   "outputs": [
    {
     "data": {
      "text/plain": [
       "[(1, 0.040927097),\n",
       " (7, 0.13500516),\n",
       " (11, 0.11627369),\n",
       " (13, 0.20020238),\n",
       " (15, 0.48258594)]"
      ]
     },
     "execution_count": 46,
     "metadata": {},
     "output_type": "execute_result"
    }
   ],
   "source": [
    "doc_lda[5][0]"
   ]
  },
  {
   "cell_type": "markdown",
   "metadata": {
    "colab_type": "text",
    "id": "gKEP0bIC3L0K"
   },
   "source": [
    "### What is topic Perplexity?\n",
    "Perplexity is a statistical measure of how well a probability model predicts a sample. As applied to LDA, for a given value of , you estimate the LDA model. Then given the theoretical word distributions represented by the topics, compare that to the actual topic mixtures, or distribution of words in your documents.\n",
    "\n",
    "### What is topic coherence?\n",
    "Topic Coherence measures score a single topic by measuring the degree of semantic similarity between high scoring words in the topic. These measurements help distinguish between topics that are semantically interpretable topics and topics that are artifacts of statistical inference.\n",
    "A set of statements or facts is said to be coherent, if they support each other. Thus, a coherent fact set can be interpreted in a context that covers all or most of the facts. An example of a coherent fact set is “the game is a team sport”, “the game is played with a ball”, “the game demands great physical efforts”"
   ]
  },
  {
   "cell_type": "code",
   "execution_count": 47,
   "metadata": {
    "colab": {},
    "colab_type": "code",
    "id": "xCjhr8k4LXSy"
   },
   "outputs": [
    {
     "name": "stdout",
     "output_type": "stream",
     "text": [
      "\n",
      "Perplexity:  -14.267780958983302\n",
      "\n",
      "Coherence Score:  0.5702884696933886\n"
     ]
    }
   ],
   "source": [
    "# Compute Perplexity\n",
    "print('\\nPerplexity: ', lda.log_perplexity(corpus))  # a measure of how good the model is. lower the better.\n",
    "\n",
    "# Compute Coherence Score\n",
    "coherence_model_lda = CoherenceModel(model=lda, \n",
    "                                     texts=df['lemmas'], \n",
    "                                     dictionary=id2word, \n",
    "                                     coherence='c_v')\n",
    "coherence_lda = coherence_model_lda.get_coherence()\n",
    "print('\\nCoherence Score: ', coherence_lda)"
   ]
  },
  {
   "cell_type": "markdown",
   "metadata": {
    "colab_type": "text",
    "id": "7UvfgYt93L0X"
   },
   "source": [
    "# Part 3: Interpret LDA results & Select the appropriate number of topics"
   ]
  },
  {
   "cell_type": "code",
   "execution_count": 48,
   "metadata": {
    "colab": {},
    "colab_type": "code",
    "id": "CYXi480VLaHK"
   },
   "outputs": [
    {
     "data": {
      "text/html": [
       "\n",
       "<link rel=\"stylesheet\" type=\"text/css\" href=\"https://cdn.rawgit.com/bmabey/pyLDAvis/files/ldavis.v1.0.0.css\">\n",
       "\n",
       "\n",
       "<div id=\"ldavis_el2617620902370540246393182441\"></div>\n",
       "<script type=\"text/javascript\">\n",
       "\n",
       "var ldavis_el2617620902370540246393182441_data = {\"mdsDat\": {\"x\": [0.26042300248686856, 0.2216906141019599, -0.1888360172806428, 0.26330465196054165, -0.1283588597000559, 0.11140921039664843, 0.06467708570301446, 0.20568312255507348, 0.054545471809165066, -0.18072470548989253, 0.0950600332097829, 0.023090949036635458, 0.019201383033569636, -0.16268750467042373, -0.001360519369779037, -0.05241526714134315, -0.1541113588463905, -0.14229113933499013, -0.14470719519990005, -0.16359295725984174], \"y\": [0.15401414451734213, 0.03255816615678024, 0.21894692762168824, 0.05238077516191642, 0.30571692563379993, -0.03577959786043343, -0.09921598198729535, 0.02486550772021352, -0.08987326823058217, 0.19357394547675116, 0.08036439831966646, -0.12633296555327467, -0.1150463101700097, 0.09680101281843925, -0.12492737178896103, -0.08102809978581765, -0.10182791458800083, -0.13129692813989338, -0.12973213854748572, -0.12416122677484137], \"topics\": [1, 2, 3, 4, 5, 6, 7, 8, 9, 10, 11, 12, 13, 14, 15, 16, 17, 18, 19, 20], \"cluster\": [1, 1, 1, 1, 1, 1, 1, 1, 1, 1, 1, 1, 1, 1, 1, 1, 1, 1, 1, 1], \"Freq\": [22.763212203979492, 9.65778636932373, 9.295016288757324, 7.745967864990234, 7.349080562591553, 5.937038421630859, 5.285294532775879, 5.204215049743652, 4.135081768035889, 3.801177740097046, 2.9518165588378906, 2.627072334289551, 2.5895941257476807, 2.55804705619812, 2.1985247135162354, 1.6008142232894897, 1.3645089864730835, 1.1010122299194336, 0.9861577153205872, 0.8485828638076782]}, \"tinfo\": {\"Term\": [\"ax\", \"x\", \"t\", \"m\", \"v\", \"g\", \"r\", \"W\", \"S\", \"d\", \"Q\", \"M\", \"p\", \"c\", \"q\", \"o\", \"h\", \"s\", \"z\", \"X\", \"e\", \"F\", \"K\", \"y\", \"God\", \"J\", \"know\", \"problem\", \"drive\", \"B\", \"get\", \"ve\", \"will\", \"win\", \"game\", \"team\", \"play\", \"didn\", \"price\", \"cpu\", \"sound\", \"advance\", \"guess\", \"scan\", \"Windows\", \"nice\", \"wouldn\", \"spend\", \"aren\", \"size\", \"guy\", \"pick\", \"bus\", \"anybody\", \"fan\", \"Don\", \"worth\", \"quality\", \"hit\", \"realize\", \"don\", \"lot\", \"go\", \"bad\", \"maybe\", \"good\", \"like\", \"pretty\", \"hear\", \"think\", \"money\", \"t\", \"well\", \"know\", \"doesn\", \"little\", \"want\", \"look\", \"s\", \"time\", \"tell\", \"come\", \"sure\", \"thing\", \"see\", \"year\", \"work\", \"try\", \"way\", \"problem\", \"m\", \"need\", \"say\", \"Israel\", \"child\", \"physical\", \"gun\", \"die\", \"country\", \"member\", \"weapon\", \"military\", \"grant\", \"fire\", \"authority\", \"arm\", \"firearm\", \"serve\", \"United\", \"night\", \"States\", \"account\", \"withdraw\", \"Washington\", \"Lord\", \"shoot\", \"party\", \"disease\", \"gift\", \"step\", \"direct\", \"practice\", \"trap\", \"safety\", \"woman\", \"Mr\", \"organization\", \"LA\", \"age\", \"carry\", \"study\", \"say\", \"kill\", \"evidence\", \"life\", \"people\", \"day\", \"self\", \"act\", \"s\", \"man\", \"year\", \"place\", \"order\", \"state\", \"time\", \"report\", \"take\", \"fact\", \"ax\", \"Q\", \"q\", \"MR\", \"MD\", \"convert\", \"Office\", \"ST\", \"capture\", \"MO\", \"BJ\", \"rs\", \"Graphics\", \"cartridge\", \"shareware\", \"RT\", \"loop\", \"LX\", \"bizarre\", \"rod\", \"Magazine\", \"clutch\", \"wipe\", \"dt\", \"Workshop\", \"Univ\", \"rv\", \"F\", \"PO\", \"y\", \"v\", \"B\", \"p\", \"z\", \"r\", \"M\", \"t\", \"g\", \"T\", \"d\", \"W\", \"e\", \"m\", \"L\", \"Jesus\", \"book\", \"Bible\", \"belief\", \"argument\", \"Christians\", \"religion\", \"Christ\", \"revelation\", \"logic\", \"specific\", \"christian\", \"algorithm\", \"obviously\", \"RSA\", \"individual\", \"Christianity\", \"learn\", \"cd\", \"alt\", \"Christian\", \"minor\", \"DES\", \"moral\", \"interpretation\", \"meaning\", \"pub\", \"Clipper\", \"aspect\", \"widget\", \"Robert\", \"correct\", \"view\", \"claim\", \"point\", \"read\", \"word\", \"wrong\", \"event\", \"example\", \"post\", \"question\", \"different\", \"reason\", \"s\", \"group\", \"follow\", \"write\", \"believe\", \"exist\", \"mean\", \"find\", \"give\", \"way\", \"time\", \"S\", \"K\", \"J\", \"n\", \"regularly\", \"VW\", \"std\", \"GN\", \"warning\", \"bj\", \"o\", \"ruin\", \"Director\", \"appoint\", \"Library\", \"Militia\", \"w\", \"Major\", \"FO\", \"W\", \"Commander\", \"Stanford\", \"P\", \"ruler\", \"M\", \"c\", \"p\", \"T\", \"O\", \"U\", \"B\", \"L\", \"C\", \"D\", \"t\", \"m\", \"e\", \"k\", \"F\", \"s\", \"V\", \"d\", \"II\", \"edu\", \"file\", \"com\", \"mail\", \"window\", \"info\", \"application\", \"email\", \"screen\", \"notice\", \"mouse\", \"internal\", \"Sun\", \"object\", \"Bill\", \"manager\", \"greatly\", \"multiple\", \"sample\", \"fax\", \"map\", \"Dave\", \"homosexual\", \"baseball\", \"default\", \"PS\", \"Bay\", \"merely\", \"mailing\", \"ATI\", \"hi\", \"copy\", \"update\", \"thank\", \"request\", \"list\", \"version\", \"address\", \"program\", \"appreciate\", \"send\", \"image\", \"code\", \"entry\", \"information\", \"help\", \"use\", \"source\", \"need\", \"include\", \"e\", \"available\", \"driver\", \"run\", \"key\", \"st\", \"sale\", \"face\", \"speak\", \"season\", \"publish\", \"young\", \"phone\", \"trade\", \"miss\", \"security\", \"USA\", \"period\", \"criminal\", \"unit\", \"NSA\", \"insist\", \"Chicago\", \"secure\", \"warranty\", \"St\", \"hole\", \"floppy\", \"factor\", \"listen\", \"foot\", \"left\", \"master\", \"proof\", \"block\", \"service\", \"chip\", \"order\", \"New\", \"field\", \"message\", \"number\", \"produce\", \"later\", \"cover\", \"th\", \"send\", \"bit\", \"second\", \"company\", \"law\", \"lose\", \"encryption\", \"protect\", \"family\", \"drug\", \"terrorist\", \"enforcement\", \"watch\", \"goal\", \"reduce\", \"prevent\", \"legal\", \"deny\", \"tax\", \"peace\", \"flame\", \"protection\", \"court\", \"shouldn\", \"freedom\", \"abuse\", \"description\", \"specifically\", \"hey\", \"privacy\", \"proposal\", \"Koresh\", \"expansion\", \"unlikely\", \"government\", \"religious\", \"private\", \"citizen\", \"public\", \"license\", \"effect\", \"evidence\", \"state\", \"concern\", \"reason\", \"right\", \"provide\", \"issue\", \"use\", \"system\", \"people\", \"case\", \"prove\", \"force\", \"group\", \"sense\", \"mean\", \"need\", \"support\", \"space\", \"University\", \"launch\", \"ftp\", \"black\", \"Space\", \"gov\", \"Center\", \"Dr\", \"picture\", \"orbit\", \"NASA\", \"Earth\", \"satellite\", \"California\", \"Research\", \"mission\", \"plane\", \"upgrade\", \"mirror\", \"surface\", \"sink\", \"failure\", \"shuttle\", \"Division\", \"rocket\", \"Medical\", \"Society\", \"Box\", \"Technology\", \"development\", \"National\", \"disk\", \"develop\", \"research\", \"datum\", \"report\", \"program\", \"include\", \"available\", \"year\", \"April\", \"information\", \"f\", \"patient\", \"SC\", \"G\", \"possibly\", \"pull\", \"benefit\", \"BC\", \"prefer\", \"preach\", \"luck\", \"shape\", \"terminal\", \"translate\", \"Doug\", \"GT\", \"SF\", \"rich\", \"Adobe\", \"Hill\", \"arbitrary\", \"prevention\", \"height\", \"medicine\", \"NL\", \"b\", \"rotate\", \"DE\", \"distinguish\", \"converter\", \"g\", \"h\", \"v\", \"d\", \"m\", \"e\", \"k\", \"V\", \"God\", \"faith\", \"explain\", \"truth\", \"pin\", \"reality\", \"bomb\", \"respect\", \"universe\", \"willing\", \"earth\", \"blind\", \"concept\", \"aware\", \"tank\", \"Northern\", \"rational\", \"ban\", \"soul\", \"processor\", \"Microsoft\", \"heaven\", \"relation\", \"enable\", \"Arabs\", \"related\", \"violate\", \"entity\", \"generation\", \"knowledge\", \"love\", \"believe\", \"accept\", \"sense\", \"observation\", \"world\", \"science\", \"human\", \"person\", \"man\", \"apply\", \"matter\", \"Paul\", \"conclusion\", \"count\", \"exist\", \"come\", \"true\", \"thing\", \"people\", \"know\", \"death\", \"agree\", \"say\", \"think\", \"car\", \"board\", \"format\", \"engine\", \"transfer\", \"belt\", \"cool\", \"hot\", \"mile\", \"bio\", \"heat\", \"cycle\", \"air\", \"resource\", \"water\", \"industry\", \"fuel\", \"Mail\", \"locate\", \"motor\", \"edition\", \"thermal\", \"assembly\", \"solid\", \"rear\", \"Road\", \"canadian\", \"oil\", \"tire\", \"boot\", \"stuff\", \"supply\", \"eat\", \"external\", \"drive\", \"power\", \"computer\", \"load\", \"replace\", \"dealer\", \"driver\", \"low\", \"cost\", \"high\", \"new\", \"remove\", \"type\", \"speed\", \"old\", \"design\", \"sell\", \"use\", \"condition\", \"build\", \"card\", \"software\", \"Mac\", \"memory\", \"video\", \"hardware\", \"pc\", \"package\", \"SCSI\", \"port\", \"controller\", \"motherboard\", \"IDE\", \"interface\", \"slow\", \"Apple\", \"IBM\", \"System\", \"ie\", \"resolution\", \"mac\", \"Code\", \"domain\", \"progress\", \"compiler\", \"Quadra\", \"horse\", \"app\", \"faster\", \"ibm\", \"mode\", \"machine\", \"mb\", \"MB\", \"fast\", \"drive\", \"offer\", \"system\", \"bit\", \"speed\", \"chip\", \"support\", \"use\", \"hard\", \"work\", \"run\", \"x\", \"X\", \"SS\", \"implementation\", \"icon\", \"IP\", \"IV\", \"Access\", \"download\", \"TC\", \"garage\", \"Thanx\", \"unix\", \"HQ\", \"BK\", \"wallpaper\", \"NCD\", \"BMP\", \"mi\", \"Sparc\", \"r\", \"z\", \"entry\", \"MS\", \"ns\", \"length\", \"c\", \"ok\", \"h\", \"u\", \"w\", \"s\", \"d\", \"o\", \"b\", \"section\", \"serial\", \"wire\", \"display\", \"error\", \"function\", \"bike\", \"draw\", \"manual\", \"ride\", \"fix\", \"following\", \"route\", \"piece\", \"R\", \"cable\", \"insert\", \"link\", \"stream\", \"rom\", \"capacity\", \"bar\", \"trace\", \"truck\", \"Digital\", \"Sam\", \"collection\", \"strip\", \"quick\", \"menu\", \"line\", \"instal\", \"problem\", \"check\", \"network\", \"number\", \"current\", \"define\", \"set\", \"build\", \"message\", \"open\", \"use\", \"bit\", \"soldier\", \"village\", \"Jews\", \"Armenians\", \"turkish\", \"greek\", \"armenian\", \"Turks\", \"Turkey\", \"national\", \"Volume\", \"girl\", \"occupy\", \"russian\", \"muslim\", \"Armenia\", \"troop\", \"british\", \"massacre\", \"Soviet\", \"slaughter\", \"genocide\", \"Muslims\", \"Argic\", \"Serdar\", \"Republic\", \"WWII\", \"European\", \"Kurds\", \"soviet\", \"jewish\", \"civilian\", \"war\", \"population\", \"York\", \"attack\", \"town\", \"million\", \"death\", \"kill\", \"land\", \"page\", \"force\", \"people\", \"test\", \"easy\", \"server\", \"clipper\", \"thought\", \"FAQ\", \"rider\", \"motif\", \"door\", \"export\", \"affect\", \"ensure\", \"Honda\", \"club\", \"scheme\", \"tap\", \"Ron\", \"travel\", \"DoD\", \"Sunday\", \"ah\", \"violence\", \"vendor\", \"spec\", \"fish\", \"mit\", \"extension\", \"UNIX\", \"versus\", \"movie\", \"y\", \"obtain\", \"release\", \"procedure\", \"available\", \"addition\", \"archive\", \"discussion\", \"user\", \"input\", \"signal\", \"Iran\", \"owner\", \"environment\", \"printer\", \"circuit\", \"medium\", \"directory\", \"MA\", \"prepare\", \"buyer\", \"voltage\", \"penalty\", \"funny\", \"Qur\", \"forum\", \"path\", \"exe\", \"compression\", \"secular\", \"punishment\", \"preferably\", \"Virginia\", \"boost\", \"compress\", \"protest\", \"accuracy\", \"responsible\", \"advantage\", \"school\", \"appropriate\", \"break\", \"product\", \"output\", \"volume\", \"value\", \"datum\", \"level\", \"character\", \"newsgroup\", \"box\", \"advice\", \"treatment\", \"kid\", \"anti\", \"font\", \"waste\", \"doctor\", \"extra\", \"father\", \"insurance\", \"ram\", \"buffer\", \"pointer\", \"panel\", \"hello\", \"ticket\", \"cap\", \"touch\", \"hp\", \"odd\", \"electrical\", \"diet\", \"click\", \"Window\", \"Jason\", \"netter\", \"maximum\", \"ground\", \"switch\", \"proper\", \"rate\", \"expensive\", \"house\", \"wall\", \"H\", \"graphic\", \"telnet\", \"wait\", \"purchase\", \"session\", \"topic\", \"co\", \"suck\", \"boy\", \"Montreal\", \"Control\", \"expand\", \"brother\", \"mph\", \"bill\", \"lawyer\", \"edit\", \"SR\", \"Black\", \"band\", \"blue\", \"introduce\", \"angle\", \"scope\", \"compound\", \"wow\", \"motto\", \"leather\", \"Duo\", \"oh\"], \"Freq\": [66614.0, 11983.0, 22755.0, 10827.0, 8042.0, 7269.0, 6355.0, 8944.0, 8092.0, 8248.0, 8235.0, 8109.0, 8456.0, 6773.0, 6503.0, 5426.0, 4489.0, 19976.0, 3658.0, 3341.0, 6094.0, 6384.0, 4277.0, 2766.0, 3154.0, 3937.0, 6596.0, 3340.0, 3019.0, 4180.0, 3082.326904296875, 2627.606201171875, 2144.631591796875, 1932.26171875, 1680.151123046875, 1557.9598388671875, 1298.536865234375, 1221.5009765625, 1151.206298828125, 1065.482421875, 913.2749633789062, 856.5360717773438, 644.2339477539062, 641.4232177734375, 635.8986206054688, 631.281982421875, 616.9116821289062, 578.2918090820312, 559.10791015625, 553.4252319335938, 532.0813598632812, 517.7638549804688, 502.5752258300781, 501.19305419921875, 473.7565002441406, 473.3697814941406, 456.1053771972656, 445.1247863769531, 435.2572937011719, 411.7033386230469, 5171.89990234375, 1546.1737060546875, 3452.41748046875, 1498.7593994140625, 896.9783935546875, 4448.6943359375, 5474.1201171875, 714.7498168945312, 1533.2080078125, 4498.01611328125, 986.1329956054688, 14786.3017578125, 1132.2236328125, 4745.923828125, 1316.31689453125, 1330.8641357421875, 2588.73974609375, 2554.38818359375, 11304.8515625, 3544.9453125, 2052.727294921875, 2662.47900390625, 1717.3759765625, 2402.11865234375, 1481.7943115234375, 2741.37060546875, 2373.051025390625, 1994.5672607421875, 1866.4847412109375, 1863.6885986328125, 2744.193359375, 1852.8826904296875, 1606.805908203125, 1673.7557373046875, 1497.4332275390625, 1363.3802490234375, 1189.441162109375, 809.07470703125, 765.8269653320312, 711.7105712890625, 710.8588256835938, 679.4368896484375, 594.5945434570312, 553.173583984375, 540.9502563476562, 537.8021850585938, 469.02630615234375, 437.6676330566406, 434.40545654296875, 432.71636962890625, 413.93988037109375, 413.5639343261719, 389.6914978027344, 378.10137939453125, 365.7531433105469, 361.2716979980469, 352.7735290527344, 348.54364013671875, 343.2601623535156, 342.2738952636719, 340.28173828125, 337.9394836425781, 325.64990234375, 644.3346557617188, 573.5985717773438, 510.3219909667969, 530.5635986328125, 541.1024169921875, 674.3717651367188, 593.7112426757812, 566.4959106445312, 1656.80322265625, 728.1373901367188, 1254.2933349609375, 788.268798828125, 1715.076171875, 899.4935302734375, 531.3836669921875, 602.841796875, 1957.6033935546875, 718.3080444335938, 988.5608520507812, 708.7025756835938, 686.8069458007812, 670.1727905273438, 773.2673950195312, 619.498779296875, 650.5369873046875, 580.3688354492188, 66612.71875, 8233.513671875, 6501.81787109375, 2161.990234375, 1578.017333984375, 690.1485595703125, 569.2725830078125, 520.0670166015625, 395.25958251953125, 356.2142028808594, 343.6241455078125, 289.75811767578125, 282.94268798828125, 281.99761962890625, 148.06288146972656, 136.88507080078125, 131.56173706054688, 129.14390563964844, 93.27958679199219, 77.18631744384766, 70.59954071044922, 67.9466781616211, 63.58551025390625, 41.98252868652344, 29.255300521850586, 29.09819221496582, 18.682580947875977, 4786.8330078125, 53.68857192993164, 697.5388793945312, 1781.2490234375, 850.6112060546875, 1349.638671875, 689.3862915039062, 784.3661499023438, 865.6669921875, 1410.13232421875, 594.4707641601562, 360.13238525390625, 528.28857421875, 539.7276611328125, 369.1023254394531, 382.16693115234375, 223.01303100585938, 1459.157470703125, 1286.3277587890625, 1079.7642822265625, 1026.08349609375, 946.9276123046875, 932.3367309570312, 919.8614501953125, 540.4297485351562, 512.1476440429688, 496.5030517578125, 478.46807861328125, 465.38165283203125, 448.56817626953125, 446.05609130859375, 437.6128234863281, 419.7729797363281, 414.5781555175781, 388.3081359863281, 385.624267578125, 382.13031005859375, 367.8199462890625, 366.3061828613281, 365.68170166015625, 356.951171875, 351.6430358886719, 295.5883483886719, 262.3854064941406, 251.75604248046875, 197.1853485107422, 192.1956329345703, 266.43280029296875, 685.6082153320312, 685.0933227539062, 1295.9451904296875, 1720.5628662109375, 1283.1961669921875, 719.0589599609375, 713.068359375, 562.0025024414062, 717.24755859375, 1071.4342041015625, 984.9496459960938, 782.6499633789062, 1044.2467041015625, 2874.372802734375, 876.77099609375, 799.547119140625, 789.3015747070312, 871.4851684570312, 706.7022705078125, 805.6683349609375, 821.027587890625, 721.5025634765625, 775.2088012695312, 759.564208984375, 8090.3701171875, 4276.224609375, 3936.04150390625, 3104.88671875, 159.6307373046875, 125.9770278930664, 114.97330474853516, 110.77822875976562, 105.1036376953125, 98.31388854980469, 5337.603515625, 76.4248046875, 72.1174545288086, 47.5113410949707, 35.937774658203125, 35.845977783203125, 2648.882080078125, 28.44830894470215, 27.62308692932129, 8403.525390625, 21.669517517089844, 18.86035919189453, 269.8478698730469, 16.137895584106445, 7242.0654296875, 5814.33984375, 7105.34814453125, 2059.864990234375, 230.39366149902344, 1694.7408447265625, 3328.285888671875, 994.8231201171875, 1660.2420654296875, 1180.6031494140625, 6027.64794921875, 3030.467041015625, 1748.7596435546875, 513.4781494140625, 1596.687744140625, 2885.563720703125, 239.83023071289062, 868.86572265625, 208.4039306640625, 2776.49267578125, 2618.42578125, 2085.35498046875, 1739.3282470703125, 1382.326904296875, 960.8193359375, 958.6333618164062, 950.8755493164062, 879.7029418945312, 539.5529174804688, 530.855224609375, 490.6343688964844, 480.4167175292969, 417.2666320800781, 397.2484130859375, 388.6006774902344, 298.5319519042969, 288.08251953125, 284.5511474609375, 277.0190734863281, 268.15338134765625, 251.433837890625, 228.26846313476562, 222.1650390625, 217.8285675048828, 217.00331115722656, 214.9651641845703, 213.6019287109375, 207.06520080566406, 198.7827911376953, 703.2377319335938, 1098.5528564453125, 391.986572265625, 1996.9822998046875, 607.7899169921875, 1362.5596923828125, 882.5503540039062, 1015.2149047851562, 1851.56689453125, 638.900390625, 1471.7869873046875, 778.0786743164062, 607.8283081054688, 861.4766235351562, 917.8565673828125, 911.1475219726562, 1372.01123046875, 777.5155639648438, 1090.3421630859375, 855.3074340820312, 1101.591796875, 684.5429077148438, 647.3218383789062, 674.3505249023438, 2746.665283203125, 863.5482788085938, 744.2891845703125, 735.0150756835938, 676.2041015625, 670.5836791992188, 657.2196044921875, 655.8926391601562, 601.5335083007812, 558.6527099609375, 556.036376953125, 538.744384765625, 429.6046142578125, 419.54229736328125, 396.940673828125, 396.7760009765625, 393.6801452636719, 386.0874938964844, 385.0362548828125, 384.3658447265625, 378.5935974121094, 376.561767578125, 376.02447509765625, 360.6898193359375, 351.44708251953125, 327.8820495605469, 320.0908508300781, 318.8710632324219, 311.96258544921875, 296.1907653808594, 546.8238525390625, 483.7248229980469, 1028.2081298828125, 1043.4461669921875, 662.8972778320312, 500.0826416015625, 700.1398315429688, 1079.3846435546875, 457.9007873535156, 441.56109619140625, 458.3887634277344, 435.56475830078125, 534.2073974609375, 512.0221557617188, 406.3073425292969, 399.6197204589844, 1650.0592041015625, 856.5819091796875, 569.976806640625, 544.0682983398438, 480.32452392578125, 479.4087829589844, 474.9754943847656, 386.6653747558594, 382.6788024902344, 379.8609924316406, 365.8235778808594, 350.158203125, 339.1424560546875, 328.3738708496094, 317.8476257324219, 317.40301513671875, 283.8165283203125, 274.3616943359375, 271.7750244140625, 238.1964569091797, 229.87258911132812, 224.10826110839844, 211.42758178710938, 203.80198669433594, 190.48216247558594, 185.04830932617188, 184.69549560546875, 177.29898071289062, 170.27894592285156, 169.73390197753906, 1428.599853515625, 524.8514404296875, 468.98016357421875, 356.55096435546875, 1016.6357421875, 416.955078125, 505.70159912109375, 1650.16162109375, 1190.5091552734375, 415.7508239746094, 1230.77294921875, 1241.1397705078125, 810.8408203125, 774.8511352539062, 1551.7376708984375, 1174.640625, 1328.2730712890625, 797.0660400390625, 457.9955749511719, 538.3701171875, 542.3424682617188, 506.1570129394531, 519.2860717773438, 502.3275146484375, 435.1670227050781, 1515.70751953125, 835.98974609375, 674.2560424804688, 663.0555419921875, 649.8131713867188, 645.9978637695312, 584.6442260742188, 482.73236083984375, 481.77099609375, 481.2148742675781, 475.13165283203125, 474.7076110839844, 462.8789367675781, 428.17803955078125, 395.3034973144531, 381.64080810546875, 381.351806640625, 375.88726806640625, 373.3289794921875, 363.86480712890625, 340.1714782714844, 327.60223388671875, 310.07354736328125, 264.88824462890625, 263.491455078125, 263.0536193847656, 257.83026123046875, 252.5592041015625, 244.93734741210938, 238.33255004882812, 369.8647155761719, 522.21728515625, 798.6878662109375, 436.51873779296875, 386.19842529296875, 561.49658203125, 533.2210083007812, 692.3147583007812, 647.1542358398438, 551.9180297851562, 492.0186767578125, 392.41357421875, 415.9781188964844, 2532.249755859375, 1233.126708984375, 1048.0140380859375, 1018.7855224609375, 449.5857849121094, 372.2110595703125, 278.7879943847656, 258.60650634765625, 241.87905883789062, 190.74696350097656, 166.5576934814453, 164.5001220703125, 129.82484436035156, 124.91516876220703, 124.03526306152344, 113.12541961669922, 108.24698638916016, 102.96289825439453, 102.73468780517578, 93.89395141601562, 91.95923614501953, 87.87090301513672, 84.03678131103516, 83.54912567138672, 80.65229797363281, 2646.581787109375, 75.0961685180664, 74.6148681640625, 54.99284362792969, 54.9566764831543, 6673.50439453125, 3903.387939453125, 6259.49072265625, 5233.68017578125, 4669.76123046875, 2810.953125, 791.2832641601562, 252.18878173828125, 3152.944091796875, 989.5885009765625, 733.8333129882812, 668.4495849609375, 539.3523559570312, 477.4239501953125, 367.0821228027344, 341.1217041015625, 322.0325012207031, 281.9217224121094, 252.59339904785156, 241.5210723876953, 236.00230407714844, 193.7414093017578, 188.5868682861328, 151.55096435546875, 151.21771240234375, 139.90023803710938, 134.9932403564453, 133.78085327148438, 123.94580841064453, 115.9964370727539, 109.3637466430664, 107.75155639648438, 102.2789306640625, 99.04286193847656, 97.88814544677734, 97.68651580810547, 95.13455963134766, 340.90777587890625, 443.8873596191406, 1500.7548828125, 555.6867065429688, 982.7633666992188, 157.31463623046875, 665.35302734375, 263.7242431640625, 459.19049072265625, 603.8379516601562, 721.4193725585938, 313.6376953125, 447.18511962890625, 265.1730651855469, 348.0789794921875, 208.06741333007812, 553.6333618164062, 830.5546264648438, 447.80999755859375, 685.2749633789062, 840.6714477539062, 824.2702026367188, 382.1820373535156, 368.84356689453125, 502.13861083984375, 446.2088928222656, 1241.7401123046875, 717.31005859375, 521.08935546875, 489.22821044921875, 483.5672302246094, 361.5942687988281, 286.1295471191406, 279.2353515625, 275.7901916503906, 272.59747314453125, 266.65264892578125, 246.6118621826172, 241.8979949951172, 240.7484893798828, 234.9478302001953, 230.85276794433594, 214.2267303466797, 177.10772705078125, 173.2950897216797, 169.0612335205078, 163.61575317382812, 152.60536193847656, 149.72586059570312, 140.9128875732422, 137.02227783203125, 136.35055541992188, 132.60397338867188, 123.75379180908203, 119.9153823852539, 117.76578521728516, 575.1901245117188, 431.4971618652344, 334.17840576171875, 246.17935180664062, 1738.5162353515625, 926.6707763671875, 684.3695068359375, 320.31494140625, 385.04827880859375, 235.86314392089844, 598.602294921875, 523.4442749023438, 512.7520141601562, 679.0416870117188, 871.1605834960938, 338.6693420410156, 450.6149597167969, 349.28631591796875, 476.533447265625, 352.56097412109375, 383.7050476074219, 598.590087890625, 322.89508056640625, 277.40179443359375, 1659.2342529296875, 1102.01904296875, 1035.984619140625, 799.4668579101562, 797.1912841796875, 719.971923828125, 647.8518676757812, 600.9700927734375, 589.75341796875, 540.6802368164062, 527.1162719726562, 485.9126892089844, 427.97796630859375, 412.9882507324219, 371.4596252441406, 263.61279296875, 257.2739562988281, 234.3978271484375, 228.73619079589844, 210.20603942871094, 176.04737854003906, 172.156005859375, 153.15643310546875, 134.76266479492188, 120.66817474365234, 116.44789123535156, 110.5285873413086, 108.20966339111328, 100.78478240966797, 96.65414428710938, 755.736572265625, 911.7021484375, 661.1238403320312, 262.5580139160156, 453.62060546875, 1279.762939453125, 583.2980346679688, 1128.0811767578125, 745.267578125, 368.3487548828125, 549.7604370117188, 509.4931945800781, 765.7318115234375, 414.8879699707031, 509.2396545410156, 431.7391357421875, 11981.8662109375, 3340.263671875, 289.0689392089844, 208.9187469482422, 164.70181274414062, 152.3153076171875, 146.31260681152344, 114.14022064208984, 87.87875366210938, 75.20201873779297, 70.56549835205078, 56.00278854370117, 47.65629577636719, 46.937171936035156, 45.773311614990234, 40.457611083984375, 31.13899803161621, 29.302440643310547, 26.028430938720703, 15.580381393432617, 5569.18017578125, 2968.072998046875, 577.638916015625, 91.73609161376953, 27.936338424682617, 22.90132713317871, 957.1174926757812, 51.45392608642578, 585.044189453125, 0.08173444122076035, 117.94815826416016, 323.3778991699219, 198.60562133789062, 87.42230987548828, 54.45966720581055, 923.288818359375, 836.2413330078125, 754.74267578125, 751.1973266601562, 714.1986694335938, 696.0328979492188, 627.3667602539062, 547.7178955078125, 424.1925048828125, 416.0246887207031, 376.6807861328125, 362.7268981933594, 332.2649230957031, 311.2869567871094, 309.63861083984375, 301.1987609863281, 242.39422607421875, 241.2644500732422, 205.13018798828125, 204.65695190429688, 180.55712890625, 171.49461364746094, 155.50503540039062, 142.31077575683594, 133.78256225585938, 132.57626342773438, 130.95489501953125, 126.92079162597656, 123.89299011230469, 122.67259216308594, 1025.295166015625, 393.09295654296875, 1154.155029296875, 483.1735534667969, 296.2976989746094, 927.4161987304688, 389.5807800292969, 250.5244598388672, 483.8163146972656, 413.1009216308594, 379.55908203125, 339.2070007324219, 517.2954711914062, 340.4579162597656, 905.878662109375, 905.703125, 551.0142822265625, 481.82159423828125, 461.5536193847656, 404.3843688964844, 367.44775390625, 344.7669982910156, 316.64556884765625, 316.2049255371094, 270.1019592285156, 248.6033935546875, 233.94424438476562, 216.5282440185547, 216.37271118164062, 193.36090087890625, 182.4658966064453, 169.39877319335938, 157.7903594970703, 148.05494689941406, 146.896240234375, 144.35357666015625, 143.1288604736328, 122.96330261230469, 117.38716888427734, 109.3301010131836, 105.0103988647461, 101.15550231933594, 100.666259765625, 86.68973541259766, 315.36517333984375, 376.1874694824219, 421.07855224609375, 291.49481201171875, 298.8725891113281, 480.13616943359375, 225.61468505859375, 315.0687561035156, 328.76055908203125, 340.8918762207031, 203.75906372070312, 217.05087280273438, 201.58975219726562, 227.0724639892578, 904.6336669921875, 877.101318359375, 744.4547119140625, 456.8104248046875, 351.32537841796875, 332.6081848144531, 324.113037109375, 303.8341369628906, 295.8497619628906, 271.0665283203125, 245.85324096679688, 239.1399688720703, 226.5045928955078, 218.09942626953125, 217.9856719970703, 215.2987823486328, 203.68218994140625, 182.3150634765625, 176.83023071289062, 174.60391235351562, 172.76084899902344, 162.1959686279297, 155.5210418701172, 140.37362670898438, 121.81723022460938, 121.02754974365234, 120.31192016601562, 120.1081771850586, 116.53306579589844, 115.80097961425781, 2067.69775390625, 230.00965881347656, 245.2091827392578, 163.8776092529297, 250.27284240722656, 152.81704711914062, 146.939453125, 971.8042602539062, 789.4742431640625, 685.4542236328125, 432.65924072265625, 377.644775390625, 347.740234375, 343.2683410644531, 337.14544677734375, 300.89434814453125, 292.1423645019531, 291.219482421875, 282.9378967285156, 269.5660400390625, 207.0651092529297, 193.66238403320312, 152.04421997070312, 150.265625, 147.1820068359375, 123.39954376220703, 122.86804962158203, 119.33905029296875, 107.8348617553711, 100.22216796875, 95.01834106445312, 89.76545715332031, 85.43803405761719, 76.91452026367188, 67.74131774902344, 61.823516845703125, 60.141761779785156, 235.7865447998047, 123.33297729492188, 317.0649719238281, 325.93695068359375, 331.5294189453125, 341.461669921875, 164.3173370361328, 130.77403259277344, 202.7996063232422, 199.50595092773438, 125.24502563476562, 619.5193481445312, 551.6461181640625, 427.0044860839844, 392.8836364746094, 383.8061828613281, 366.4711608886719, 318.1299743652344, 316.7194519042969, 279.2516174316406, 276.3728942871094, 263.4674377441406, 243.18325805664062, 242.15615844726562, 240.30575561523438, 223.10462951660156, 215.60562133789062, 201.22238159179688, 177.71121215820312, 177.01783752441406, 161.54832458496094, 140.25204467773438, 136.53147888183594, 117.68095397949219, 110.7457046508789, 108.69024658203125, 97.00157928466797, 81.73397827148438, 74.98722076416016, 73.11396026611328, 72.76081085205078, 437.8528747558594, 259.68536376953125, 196.3168487548828, 405.9894714355469, 132.5045928955078, 119.05852508544922, 111.43098449707031, 783.6442260742188, 582.9088134765625, 517.3619384765625, 448.21759033203125, 401.8250427246094, 383.68994140625, 291.7555847167969, 217.0719757080078, 180.67727661132812, 176.70555114746094, 162.84423828125, 162.2030792236328, 159.77783203125, 157.08038330078125, 142.3748779296875, 136.85134887695312, 130.34910583496094, 123.69121551513672, 120.95797729492188, 120.27381896972656, 118.65083312988281, 116.32833099365234, 99.19666290283203, 96.9670639038086, 92.96288299560547, 86.38677215576172, 85.37252807617188, 79.5055923461914, 76.05072021484375, 74.57050323486328, 450.09637451171875], \"Total\": [66614.0, 11983.0, 22755.0, 10827.0, 8042.0, 7269.0, 6355.0, 8944.0, 8092.0, 8248.0, 8235.0, 8109.0, 8456.0, 6773.0, 6503.0, 5426.0, 4489.0, 19976.0, 3658.0, 3341.0, 6094.0, 6384.0, 4277.0, 2766.0, 3154.0, 3937.0, 6596.0, 3340.0, 3019.0, 4180.0, 3083.96337890625, 2629.24267578125, 2146.26806640625, 1933.8985595703125, 1681.7879638671875, 1559.5966796875, 1300.1737060546875, 1223.1378173828125, 1152.8431396484375, 1067.1192626953125, 914.9116821289062, 858.1727905273438, 645.8706665039062, 643.0599365234375, 637.5353393554688, 632.918701171875, 618.5498046875, 579.9285278320312, 560.74462890625, 555.0619506835938, 533.7180786132812, 519.4005737304688, 504.2119445800781, 502.8298034667969, 475.3932189941406, 475.0065002441406, 457.7420959472656, 446.7615051269531, 436.8940124511719, 413.3400573730469, 5323.7041015625, 1597.2542724609375, 3658.142822265625, 1551.784423828125, 925.3743286132812, 5128.1787109375, 6462.2666015625, 733.5169067382812, 1666.9765625, 5497.04833984375, 1061.76611328125, 22755.640625, 1249.2208251953125, 6596.70751953125, 1488.31640625, 1521.514404296875, 3331.020751953125, 3296.920166015625, 19976.880859375, 5079.25830078125, 2645.890625, 3756.45458984375, 2141.528564453125, 3397.755126953125, 1767.8544921875, 4388.68310546875, 3872.02099609375, 2959.81396484375, 3099.716552734375, 3340.359375, 10827.876953125, 3584.13330078125, 3767.247802734375, 1675.39306640625, 1499.070556640625, 1365.017578125, 1191.0784912109375, 810.7118530273438, 767.464111328125, 713.3477172851562, 712.4959716796875, 681.0740356445312, 596.231689453125, 554.8107299804688, 542.58740234375, 539.4393310546875, 470.66351318359375, 439.3048400878906, 436.04266357421875, 434.35357666015625, 415.57708740234375, 415.2011413574219, 391.3287048339844, 379.73858642578125, 367.3903503417969, 362.9089050292969, 354.4107360839844, 350.18084716796875, 344.8973693847656, 343.9111022949219, 341.9189758300781, 339.5766906738281, 327.287109375, 676.4742431640625, 599.782958984375, 531.649169921875, 559.5172729492188, 579.345703125, 772.8076782226562, 739.2241821289062, 714.2776489257812, 3767.247802734375, 1070.5767822265625, 2906.019775390625, 1323.894775390625, 5693.37939453125, 1859.8380126953125, 667.1947021484375, 896.7491455078125, 19976.880859375, 1470.8665771484375, 4388.68310546875, 1600.644775390625, 1890.609375, 1951.984619140625, 5079.25830078125, 1288.571533203125, 1870.1358642578125, 1746.2667236328125, 66614.234375, 8235.0498046875, 6503.35546875, 2163.52734375, 1579.554931640625, 691.68603515625, 570.81005859375, 521.6044921875, 396.797119140625, 357.751708984375, 345.1616516113281, 291.295654296875, 284.480224609375, 283.53515625, 149.60040283203125, 138.42259216308594, 133.09925842285156, 130.68142700195312, 94.8171157836914, 78.72384643554688, 72.13706970214844, 69.48420715332031, 65.12303924560547, 43.52006149291992, 30.79281997680664, 30.635711669921875, 20.22010040283203, 6384.97705078125, 100.04602813720703, 2766.6875, 8042.1884765625, 4180.35302734375, 8456.4423828125, 3658.9150390625, 6355.00244140625, 8109.1884765625, 22755.640625, 7269.423828125, 2487.70068359375, 8248.2880859375, 8944.708984375, 6094.95166015625, 10827.876953125, 1338.8189697265625, 1460.79541015625, 1287.9656982421875, 1081.4022216796875, 1027.721435546875, 948.5654296875, 933.9745483398438, 921.499267578125, 542.0675659179688, 513.7854614257812, 498.1408996582031, 480.1059265136719, 467.0195007324219, 450.2060241699219, 447.6939392089844, 439.25067138671875, 421.41082763671875, 416.21600341796875, 389.94598388671875, 387.2621765136719, 383.7681579589844, 369.4577941894531, 367.9440612792969, 367.3195495605469, 358.5890197753906, 353.2808837890625, 297.2261962890625, 264.0232849121094, 253.39389038085938, 198.8231964111328, 193.83348083496094, 278.7506103515625, 807.2332153320312, 855.7875366210938, 1846.3095703125, 2844.99169921875, 2067.1611328125, 984.6713256835938, 1028.9681396484375, 736.0614013671875, 1145.4765625, 2336.832763671875, 2100.994140625, 1390.2637939453125, 2686.970947265625, 19976.880859375, 1909.4229736328125, 1786.326904296875, 1789.4906005859375, 2373.818115234375, 1464.0391845703125, 2341.522216796875, 3142.450439453125, 1957.9718017578125, 3099.716552734375, 5079.25830078125, 8092.00390625, 4277.8583984375, 3937.67529296875, 3106.5205078125, 161.26486206054688, 127.61116027832031, 116.60743713378906, 112.41236114501953, 106.7377700805664, 99.9480209350586, 5426.578125, 78.0589370727539, 73.7515869140625, 49.145469665527344, 37.571903228759766, 37.480106353759766, 2779.741455078125, 30.082433700561523, 29.25720977783203, 8944.708984375, 23.30364227294922, 20.494483947753906, 293.7540283203125, 17.77202033996582, 8109.1884765625, 6773.01123046875, 8456.4423828125, 2487.70068359375, 281.8835144042969, 2109.1455078125, 4180.35302734375, 1338.8189697265625, 2338.637451171875, 1683.1832275390625, 22755.640625, 10827.876953125, 6094.95166015625, 1306.3065185546875, 6384.97705078125, 19976.880859375, 493.5642395019531, 8248.2880859375, 523.48486328125, 2778.11767578125, 2620.05078125, 2086.97998046875, 1740.953369140625, 1383.9520263671875, 962.4443969726562, 960.2584228515625, 952.5006103515625, 881.3280029296875, 541.177978515625, 532.4802856445312, 492.2594909667969, 482.0418395996094, 418.8917541503906, 398.87353515625, 390.2257995605469, 300.1570739746094, 289.7076416015625, 286.17626953125, 278.6441955566406, 269.77850341796875, 253.05892944335938, 229.8935546875, 223.79013061523438, 219.4536590576172, 218.62840270996094, 216.5902557373047, 215.22702026367188, 208.69029235839844, 200.4078826904297, 738.1694946289062, 1221.4490966796875, 418.89154052734375, 2627.3955078125, 690.8804931640625, 1768.1282958984375, 1085.6837158203125, 1293.97119140625, 2688.923828125, 763.0235595703125, 2162.916748046875, 1127.172607421875, 850.7166748046875, 1440.6590576171875, 1821.8968505859375, 2094.1298828125, 5333.810546875, 1625.5948486328125, 3584.13330078125, 2325.90576171875, 6094.95166015625, 1599.91845703125, 1247.4697265625, 2502.8427734375, 2748.299560546875, 865.1827392578125, 745.9236450195312, 736.6495361328125, 677.8385620117188, 672.2181396484375, 658.8540649414062, 657.527099609375, 603.16796875, 560.2871704101562, 557.6708374023438, 540.3788452148438, 431.2391052246094, 421.1767883300781, 398.5751647949219, 398.4104919433594, 395.31463623046875, 387.72198486328125, 386.6707458496094, 386.0003356933594, 380.22808837890625, 378.1962585449219, 377.6589660644531, 362.3243103027344, 353.0815734863281, 329.51654052734375, 321.725341796875, 320.50555419921875, 313.5970764160156, 297.82525634765625, 600.7637329101562, 551.2550659179688, 1579.521728515625, 1890.609375, 979.0170288085938, 632.66943359375, 1113.1146240234375, 3116.435546875, 714.7733154296875, 637.4796752929688, 767.1482543945312, 655.4884033203125, 2162.916748046875, 1898.716796875, 1178.5401611328125, 641.8818969726562, 1651.7021484375, 858.2247924804688, 571.6196899414062, 545.711181640625, 481.9674987792969, 481.0517578125, 476.61846923828125, 388.308349609375, 384.32177734375, 381.50396728515625, 367.466552734375, 351.8011779785156, 340.7854309082031, 330.016845703125, 319.4906005859375, 319.0459899902344, 285.4595031738281, 276.0046691894531, 273.4179992675781, 239.83937072753906, 231.5155029296875, 225.7511749267578, 213.07049560546875, 205.4449005126953, 192.1250762939453, 186.69122314453125, 186.33840942382812, 178.94189453125, 171.92185974121094, 171.37681579589844, 1598.8109130859375, 559.6087036132812, 499.544921875, 378.18939208984375, 1352.9486083984375, 484.0335388183594, 622.9451904296875, 2906.019775390625, 1951.984619140625, 539.7981567382812, 2686.970947265625, 3032.90234375, 1614.4779052734375, 1546.8680419921875, 5333.810546875, 3313.301513671875, 5693.37939453125, 2343.89306640625, 676.8709716796875, 1044.2425537109375, 1909.4229736328125, 1490.50341796875, 2341.522216796875, 3584.13330078125, 1470.5379638671875, 1517.3338623046875, 837.6160888671875, 675.8823852539062, 664.681884765625, 651.4395141601562, 647.6242065429688, 586.2705688476562, 484.3587951660156, 483.3974304199219, 482.84130859375, 476.7580871582031, 476.33404541015625, 464.50537109375, 429.8044738769531, 396.929931640625, 383.2672424316406, 382.9782409667969, 377.5137023925781, 374.9554138183594, 365.4912414550781, 341.79791259765625, 329.2286682128906, 311.6999816894531, 266.5146789550781, 265.1178894042969, 264.6800537109375, 259.4566955566406, 254.1855926513672, 246.56373596191406, 239.9589385986328, 397.40478515625, 619.2994384765625, 1131.526123046875, 530.208984375, 475.0104064941406, 1118.578857421875, 1288.571533203125, 2688.923828125, 2325.90576171875, 1599.91845703125, 4388.68310546875, 734.6257934570312, 1821.8968505859375, 2533.8759765625, 1234.7529296875, 1049.6402587890625, 1020.4118041992188, 451.2121276855469, 373.83740234375, 280.4143371582031, 260.23284912109375, 243.50537109375, 192.37327575683594, 168.1840057373047, 166.12643432617188, 131.45115661621094, 126.54147338867188, 125.66156768798828, 114.75172424316406, 109.873291015625, 104.58920288085938, 104.36099243164062, 95.52025604248047, 93.58554077148438, 89.49720764160156, 85.6630859375, 85.17543029785156, 82.27860260009766, 2702.586181640625, 76.72247314453125, 76.24117279052734, 56.6191520690918, 56.582984924316406, 7269.423828125, 4489.97705078125, 8042.1884765625, 8248.2880859375, 10827.876953125, 6094.95166015625, 1306.3065185546875, 493.5642395019531, 3154.599365234375, 991.2440185546875, 735.4888305664062, 670.1051025390625, 541.0078735351562, 479.0794677734375, 368.7376403808594, 342.7772216796875, 323.6880187988281, 283.5772399902344, 254.24887084960938, 243.17654418945312, 237.65777587890625, 195.39688110351562, 190.24234008789062, 153.20643615722656, 152.87318420410156, 141.5557098388672, 136.64871215820312, 135.4363250732422, 125.60128021240234, 117.65190887451172, 111.01921844482422, 109.40702819824219, 103.93440246582031, 100.69833374023438, 99.54361724853516, 99.34198760986328, 96.79003143310547, 346.8529052734375, 560.9156494140625, 2373.818115234375, 762.0509033203125, 1490.50341796875, 174.47494506835938, 1074.0260009765625, 356.6984558105469, 758.4393310546875, 1129.728271484375, 1470.8665771484375, 461.22314453125, 779.05615234375, 367.740966796875, 615.578125, 262.51531982421875, 1464.0391845703125, 3756.45458984375, 1207.9486083984375, 3397.755126953125, 5693.37939453125, 6596.70751953125, 979.1067504882812, 1066.588134765625, 3767.247802734375, 5497.04833984375, 1243.3759765625, 718.946044921875, 522.725341796875, 490.8641662597656, 485.20318603515625, 363.230224609375, 287.7655029296875, 280.8713073730469, 277.4261474609375, 274.2334289550781, 268.2886047363281, 248.247802734375, 243.533935546875, 242.38442993164062, 236.58377075195312, 232.48870849609375, 215.8626708984375, 178.74366760253906, 174.9310302734375, 170.69717407226562, 165.25169372558594, 154.24130249023438, 151.36180114746094, 142.548828125, 138.65821838378906, 137.9864959716797, 134.2399139404297, 125.38973236083984, 121.55132293701172, 119.40172576904297, 700.3910522460938, 527.8335571289062, 402.0168762207031, 282.0047912597656, 3019.833740234375, 1485.1357421875, 1017.3123168945312, 397.8930358886719, 560.1072998046875, 285.7005920410156, 1247.4697265625, 1026.1285400390625, 1003.886962890625, 1789.292236328125, 3257.005126953125, 565.605224609375, 1196.68896484375, 719.189697265625, 1859.47021484375, 759.1808471679688, 1134.2919921875, 5333.810546875, 699.2611694335938, 1302.386962890625, 1660.8680419921875, 1103.65283203125, 1037.618408203125, 801.100830078125, 798.8252563476562, 721.6058959960938, 649.48583984375, 602.6040649414062, 591.3873901367188, 542.314208984375, 528.750244140625, 487.5466003417969, 429.61187744140625, 414.6221618652344, 373.0935363769531, 265.2467041015625, 258.9078674316406, 236.03172302246094, 230.37008666992188, 211.83993530273438, 177.6812744140625, 173.78990173339844, 154.7903289794922, 136.3965606689453, 122.30207824707031, 118.08179473876953, 112.16249084472656, 109.84356689453125, 102.41868591308594, 98.28804779052734, 821.449462890625, 1092.0653076171875, 859.5369262695312, 305.2472229003906, 643.13525390625, 3019.833740234375, 1053.76025390625, 3313.301513671875, 1898.716796875, 719.189697265625, 1579.521728515625, 1470.5379638671875, 5333.810546875, 1156.7640380859375, 3872.02099609375, 2502.8427734375, 11983.5009765625, 3341.897216796875, 290.7027282714844, 210.55250549316406, 166.3355712890625, 153.94906616210938, 147.9463653564453, 115.77400207519531, 89.51253509521484, 76.83580017089844, 72.19927978515625, 57.636573791503906, 49.29008102416992, 48.57095718383789, 47.40709686279297, 42.09139633178711, 32.77278137207031, 30.936216354370117, 27.662208557128906, 17.214157104492188, 6355.00244140625, 3658.9150390625, 1440.6590576171875, 316.8088684082031, 117.5489273071289, 144.8546600341797, 6773.01123046875, 392.7158203125, 4489.97705078125, 1.7168375253677368, 2779.741455078125, 19976.880859375, 8248.2880859375, 5426.578125, 2702.586181640625, 924.9208374023438, 837.8733520507812, 756.3746948242188, 752.829345703125, 715.8306884765625, 697.6649169921875, 628.998779296875, 549.3499145507812, 425.824462890625, 417.6566467285156, 378.312744140625, 364.3588562011719, 333.8968811035156, 312.9189147949219, 311.27056884765625, 302.8307189941406, 244.0261688232422, 242.89639282226562, 206.7621307373047, 206.2888946533203, 182.18907165527344, 173.12655639648438, 157.13697814941406, 143.94271850585938, 135.4145050048828, 134.2082061767578, 132.5868377685547, 128.552734375, 125.52494049072266, 124.3045425415039, 1567.7205810546875, 628.3058471679688, 3340.359375, 965.4024658203125, 482.4922790527344, 3116.435546875, 884.8826904296875, 421.9358825683594, 1681.6846923828125, 1302.386962890625, 1113.1146240234375, 984.6904296875, 5333.810546875, 1898.716796875, 907.5043334960938, 907.3287963867188, 552.6399536132812, 483.4472961425781, 463.1793212890625, 406.01007080078125, 369.0734558105469, 346.3927001953125, 318.2712707519531, 317.83062744140625, 271.7276611328125, 250.2290802001953, 235.56993103027344, 218.1539306640625, 217.99839782714844, 194.98658752441406, 184.09158325195312, 171.0244598388672, 159.41604614257812, 149.68063354492188, 148.5219268798828, 145.97926330566406, 144.75454711914062, 124.5889892578125, 119.01285552978516, 110.9557876586914, 106.6360855102539, 102.78118896484375, 102.29194641113281, 88.31542205810547, 379.5113830566406, 479.6239929199219, 638.7197265625, 401.07513427734375, 423.13140869140625, 842.4478759765625, 316.4687805175781, 690.4102783203125, 979.1067504882812, 1070.5767822265625, 352.39678955078125, 571.6995849609375, 1044.2425537109375, 5693.37939453125, 906.2625122070312, 878.7301635742188, 746.0835571289062, 458.43927001953125, 352.9542236328125, 334.2370300292969, 325.74188232421875, 305.4629821777344, 297.4786071777344, 272.69537353515625, 247.4820556640625, 240.76878356933594, 228.13340759277344, 219.72824096679688, 219.61448669433594, 216.92759704589844, 205.31100463867188, 183.94387817382812, 178.45904541015625, 176.23272705078125, 174.38966369628906, 163.8247833251953, 157.1498565673828, 142.00244140625, 123.44605255126953, 122.6563720703125, 121.94074249267578, 121.73699951171875, 118.1618881225586, 117.42980194091797, 2766.6875, 381.6737976074219, 558.35693359375, 346.87017822265625, 1599.91845703125, 369.8046875, 423.6071472167969, 973.438232421875, 791.1082153320312, 687.0881958007812, 434.2932434082031, 379.2787780761719, 349.3742370605469, 344.90234375, 338.7794494628906, 302.5283508300781, 293.7763671875, 292.8534851074219, 284.5718994140625, 271.2000427246094, 208.69908142089844, 195.29635620117188, 153.67819213867188, 151.89959716796875, 148.81597900390625, 125.03353881835938, 124.50204467773438, 120.9730453491211, 109.46885681152344, 101.85616302490234, 96.65233612060547, 91.39945220947266, 87.07202911376953, 78.54851531982422, 69.37531280517578, 63.45750427246094, 61.77574920654297, 251.70693969726562, 134.5736541748047, 387.7593078613281, 430.8158874511719, 531.947509765625, 564.7098388671875, 306.0279846191406, 201.02450561523438, 698.9502563476562, 1118.578857421875, 749.574951171875, 621.1566772460938, 553.283447265625, 428.6418151855469, 394.5209655761719, 385.4435119628906, 368.1084899902344, 319.7673034667969, 318.3567810058594, 280.8889465332031, 278.0102233886719, 265.1047668457031, 244.82057189941406, 243.79347229003906, 241.9430694580078, 224.741943359375, 217.24293518066406, 202.8596954345703, 179.34852600097656, 178.6551513671875, 163.18563842773438, 141.8893585205078, 138.16879272460938, 119.31828308105469, 112.3830337524414, 110.32757568359375, 98.63890838623047, 83.37130737304688, 76.62454986572266, 74.75128936767578, 74.39813995361328, 557.1551513671875, 336.866455078125, 313.92596435546875, 1057.77294921875, 295.98565673828125, 502.0792236328125, 188.56614685058594, 785.278564453125, 584.5431518554688, 518.9962768554688, 449.8519592285156, 403.45941162109375, 385.3243103027344, 293.38995361328125, 218.7063446044922, 182.3116455078125, 178.3399200439453, 164.47860717773438, 163.8374481201172, 161.41220092773438, 158.71475219726562, 144.00924682617188, 138.4857177734375, 131.9834747314453, 125.32557678222656, 122.59233856201172, 121.9081802368164, 120.28519439697266, 117.96269226074219, 100.83102416992188, 98.60142517089844, 94.59724426269531, 88.02113342285156, 87.00688934326172, 81.13995361328125, 77.6850814819336, 76.20486450195312, 632.1400146484375], \"Category\": [\"Default\", \"Default\", \"Default\", \"Default\", \"Default\", \"Default\", \"Default\", \"Default\", \"Default\", \"Default\", \"Default\", \"Default\", \"Default\", \"Default\", \"Default\", \"Default\", \"Default\", \"Default\", \"Default\", \"Default\", \"Default\", \"Default\", \"Default\", \"Default\", \"Default\", \"Default\", \"Default\", \"Default\", \"Default\", \"Default\", \"Topic1\", \"Topic1\", \"Topic1\", \"Topic1\", \"Topic1\", \"Topic1\", \"Topic1\", \"Topic1\", \"Topic1\", \"Topic1\", \"Topic1\", \"Topic1\", \"Topic1\", \"Topic1\", \"Topic1\", \"Topic1\", \"Topic1\", \"Topic1\", \"Topic1\", \"Topic1\", \"Topic1\", \"Topic1\", \"Topic1\", \"Topic1\", \"Topic1\", \"Topic1\", \"Topic1\", \"Topic1\", \"Topic1\", \"Topic1\", \"Topic1\", \"Topic1\", \"Topic1\", \"Topic1\", \"Topic1\", \"Topic1\", \"Topic1\", \"Topic1\", \"Topic1\", \"Topic1\", \"Topic1\", \"Topic1\", \"Topic1\", \"Topic1\", \"Topic1\", \"Topic1\", \"Topic1\", \"Topic1\", \"Topic1\", \"Topic1\", \"Topic1\", \"Topic1\", \"Topic1\", \"Topic1\", \"Topic1\", \"Topic1\", \"Topic1\", \"Topic1\", \"Topic1\", \"Topic1\", \"Topic1\", \"Topic1\", \"Topic1\", \"Topic2\", \"Topic2\", \"Topic2\", \"Topic2\", \"Topic2\", \"Topic2\", \"Topic2\", \"Topic2\", \"Topic2\", \"Topic2\", \"Topic2\", \"Topic2\", \"Topic2\", \"Topic2\", \"Topic2\", \"Topic2\", \"Topic2\", \"Topic2\", \"Topic2\", \"Topic2\", \"Topic2\", \"Topic2\", \"Topic2\", \"Topic2\", \"Topic2\", \"Topic2\", \"Topic2\", \"Topic2\", \"Topic2\", \"Topic2\", \"Topic2\", \"Topic2\", \"Topic2\", \"Topic2\", \"Topic2\", \"Topic2\", \"Topic2\", \"Topic2\", \"Topic2\", \"Topic2\", \"Topic2\", \"Topic2\", \"Topic2\", \"Topic2\", \"Topic2\", \"Topic2\", \"Topic2\", \"Topic2\", \"Topic2\", \"Topic2\", \"Topic2\", \"Topic2\", \"Topic2\", \"Topic2\", \"Topic2\", \"Topic2\", \"Topic3\", \"Topic3\", \"Topic3\", \"Topic3\", \"Topic3\", \"Topic3\", \"Topic3\", \"Topic3\", \"Topic3\", \"Topic3\", \"Topic3\", \"Topic3\", \"Topic3\", \"Topic3\", \"Topic3\", \"Topic3\", \"Topic3\", \"Topic3\", \"Topic3\", \"Topic3\", \"Topic3\", \"Topic3\", \"Topic3\", \"Topic3\", \"Topic3\", \"Topic3\", \"Topic3\", \"Topic3\", \"Topic3\", \"Topic3\", \"Topic3\", \"Topic3\", \"Topic3\", \"Topic3\", \"Topic3\", \"Topic3\", \"Topic3\", \"Topic3\", \"Topic3\", \"Topic3\", \"Topic3\", \"Topic3\", \"Topic3\", \"Topic3\", \"Topic4\", \"Topic4\", \"Topic4\", \"Topic4\", \"Topic4\", \"Topic4\", \"Topic4\", \"Topic4\", \"Topic4\", \"Topic4\", \"Topic4\", \"Topic4\", \"Topic4\", \"Topic4\", \"Topic4\", \"Topic4\", \"Topic4\", \"Topic4\", \"Topic4\", \"Topic4\", \"Topic4\", \"Topic4\", \"Topic4\", \"Topic4\", \"Topic4\", \"Topic4\", \"Topic4\", \"Topic4\", \"Topic4\", \"Topic4\", \"Topic4\", \"Topic4\", \"Topic4\", \"Topic4\", \"Topic4\", \"Topic4\", \"Topic4\", \"Topic4\", \"Topic4\", \"Topic4\", \"Topic4\", \"Topic4\", \"Topic4\", \"Topic4\", \"Topic4\", \"Topic4\", \"Topic4\", \"Topic4\", \"Topic4\", \"Topic4\", \"Topic4\", \"Topic4\", \"Topic4\", \"Topic4\", \"Topic4\", \"Topic5\", \"Topic5\", \"Topic5\", \"Topic5\", \"Topic5\", \"Topic5\", \"Topic5\", \"Topic5\", \"Topic5\", \"Topic5\", \"Topic5\", \"Topic5\", \"Topic5\", \"Topic5\", \"Topic5\", \"Topic5\", \"Topic5\", \"Topic5\", \"Topic5\", \"Topic5\", \"Topic5\", \"Topic5\", \"Topic5\", \"Topic5\", \"Topic5\", \"Topic5\", \"Topic5\", \"Topic5\", \"Topic5\", \"Topic5\", \"Topic5\", \"Topic5\", \"Topic5\", \"Topic5\", \"Topic5\", \"Topic5\", \"Topic5\", \"Topic5\", \"Topic5\", \"Topic5\", \"Topic5\", \"Topic5\", \"Topic5\", \"Topic6\", \"Topic6\", \"Topic6\", \"Topic6\", \"Topic6\", \"Topic6\", \"Topic6\", \"Topic6\", \"Topic6\", \"Topic6\", \"Topic6\", \"Topic6\", \"Topic6\", \"Topic6\", \"Topic6\", \"Topic6\", \"Topic6\", \"Topic6\", \"Topic6\", \"Topic6\", \"Topic6\", \"Topic6\", \"Topic6\", \"Topic6\", \"Topic6\", \"Topic6\", \"Topic6\", \"Topic6\", \"Topic6\", \"Topic6\", \"Topic6\", \"Topic6\", \"Topic6\", \"Topic6\", \"Topic6\", \"Topic6\", \"Topic6\", \"Topic6\", \"Topic6\", \"Topic6\", \"Topic6\", \"Topic6\", \"Topic6\", \"Topic6\", \"Topic6\", \"Topic6\", \"Topic6\", \"Topic6\", \"Topic6\", \"Topic6\", \"Topic6\", \"Topic6\", \"Topic6\", \"Topic6\", \"Topic7\", \"Topic7\", \"Topic7\", \"Topic7\", \"Topic7\", \"Topic7\", \"Topic7\", \"Topic7\", \"Topic7\", \"Topic7\", \"Topic7\", \"Topic7\", \"Topic7\", \"Topic7\", \"Topic7\", \"Topic7\", \"Topic7\", \"Topic7\", \"Topic7\", \"Topic7\", \"Topic7\", \"Topic7\", \"Topic7\", \"Topic7\", \"Topic7\", \"Topic7\", \"Topic7\", \"Topic7\", \"Topic7\", \"Topic7\", \"Topic7\", \"Topic7\", \"Topic7\", \"Topic7\", \"Topic7\", \"Topic7\", \"Topic7\", \"Topic7\", \"Topic7\", \"Topic7\", \"Topic7\", \"Topic7\", \"Topic7\", \"Topic7\", \"Topic7\", \"Topic7\", \"Topic8\", \"Topic8\", \"Topic8\", \"Topic8\", \"Topic8\", \"Topic8\", \"Topic8\", \"Topic8\", \"Topic8\", \"Topic8\", \"Topic8\", \"Topic8\", \"Topic8\", \"Topic8\", \"Topic8\", \"Topic8\", \"Topic8\", \"Topic8\", \"Topic8\", \"Topic8\", \"Topic8\", \"Topic8\", \"Topic8\", \"Topic8\", \"Topic8\", \"Topic8\", \"Topic8\", \"Topic8\", \"Topic8\", \"Topic8\", \"Topic8\", \"Topic8\", \"Topic8\", \"Topic8\", \"Topic8\", \"Topic8\", \"Topic8\", \"Topic8\", \"Topic8\", \"Topic8\", \"Topic8\", \"Topic8\", \"Topic8\", \"Topic8\", \"Topic8\", \"Topic8\", \"Topic8\", \"Topic8\", \"Topic8\", \"Topic8\", \"Topic8\", \"Topic8\", \"Topic8\", \"Topic8\", \"Topic8\", \"Topic9\", \"Topic9\", \"Topic9\", \"Topic9\", \"Topic9\", \"Topic9\", \"Topic9\", \"Topic9\", \"Topic9\", \"Topic9\", \"Topic9\", \"Topic9\", \"Topic9\", \"Topic9\", \"Topic9\", \"Topic9\", \"Topic9\", \"Topic9\", \"Topic9\", \"Topic9\", \"Topic9\", \"Topic9\", \"Topic9\", \"Topic9\", \"Topic9\", \"Topic9\", \"Topic9\", \"Topic9\", \"Topic9\", \"Topic9\", \"Topic9\", \"Topic9\", \"Topic9\", \"Topic9\", \"Topic9\", \"Topic9\", \"Topic9\", \"Topic9\", \"Topic9\", \"Topic9\", \"Topic9\", \"Topic9\", \"Topic9\", \"Topic10\", \"Topic10\", \"Topic10\", \"Topic10\", \"Topic10\", \"Topic10\", \"Topic10\", \"Topic10\", \"Topic10\", \"Topic10\", \"Topic10\", \"Topic10\", \"Topic10\", \"Topic10\", \"Topic10\", \"Topic10\", \"Topic10\", \"Topic10\", \"Topic10\", \"Topic10\", \"Topic10\", \"Topic10\", \"Topic10\", \"Topic10\", \"Topic10\", \"Topic10\", \"Topic10\", \"Topic10\", \"Topic10\", \"Topic10\", \"Topic10\", \"Topic10\", \"Topic10\", \"Topic10\", \"Topic10\", \"Topic10\", \"Topic10\", \"Topic10\", \"Topic11\", \"Topic11\", \"Topic11\", \"Topic11\", \"Topic11\", \"Topic11\", \"Topic11\", \"Topic11\", \"Topic11\", \"Topic11\", \"Topic11\", \"Topic11\", \"Topic11\", \"Topic11\", \"Topic11\", \"Topic11\", \"Topic11\", \"Topic11\", \"Topic11\", \"Topic11\", \"Topic11\", \"Topic11\", \"Topic11\", \"Topic11\", \"Topic11\", \"Topic11\", \"Topic11\", \"Topic11\", \"Topic11\", \"Topic11\", \"Topic11\", \"Topic11\", \"Topic11\", \"Topic11\", \"Topic11\", \"Topic11\", \"Topic11\", \"Topic11\", \"Topic11\", \"Topic11\", \"Topic11\", \"Topic11\", \"Topic11\", \"Topic11\", \"Topic11\", \"Topic11\", \"Topic11\", \"Topic11\", \"Topic11\", \"Topic11\", \"Topic11\", \"Topic11\", \"Topic11\", \"Topic11\", \"Topic11\", \"Topic12\", \"Topic12\", \"Topic12\", \"Topic12\", \"Topic12\", \"Topic12\", \"Topic12\", \"Topic12\", \"Topic12\", \"Topic12\", \"Topic12\", \"Topic12\", \"Topic12\", \"Topic12\", \"Topic12\", \"Topic12\", \"Topic12\", \"Topic12\", \"Topic12\", \"Topic12\", \"Topic12\", \"Topic12\", \"Topic12\", \"Topic12\", \"Topic12\", \"Topic12\", \"Topic12\", \"Topic12\", \"Topic12\", \"Topic12\", \"Topic12\", \"Topic12\", \"Topic12\", \"Topic12\", \"Topic12\", \"Topic12\", \"Topic12\", \"Topic12\", \"Topic12\", \"Topic12\", \"Topic12\", \"Topic12\", \"Topic12\", \"Topic12\", \"Topic12\", \"Topic12\", \"Topic12\", \"Topic12\", \"Topic12\", \"Topic12\", \"Topic12\", \"Topic12\", \"Topic12\", \"Topic12\", \"Topic13\", \"Topic13\", \"Topic13\", \"Topic13\", \"Topic13\", \"Topic13\", \"Topic13\", \"Topic13\", \"Topic13\", \"Topic13\", \"Topic13\", \"Topic13\", \"Topic13\", \"Topic13\", \"Topic13\", \"Topic13\", \"Topic13\", \"Topic13\", \"Topic13\", \"Topic13\", \"Topic13\", \"Topic13\", \"Topic13\", \"Topic13\", \"Topic13\", \"Topic13\", \"Topic13\", \"Topic13\", \"Topic13\", \"Topic13\", \"Topic13\", \"Topic13\", \"Topic13\", \"Topic13\", \"Topic13\", \"Topic13\", \"Topic13\", \"Topic13\", \"Topic13\", \"Topic13\", \"Topic13\", \"Topic13\", \"Topic13\", \"Topic13\", \"Topic13\", \"Topic13\", \"Topic14\", \"Topic14\", \"Topic14\", \"Topic14\", \"Topic14\", \"Topic14\", \"Topic14\", \"Topic14\", \"Topic14\", \"Topic14\", \"Topic14\", \"Topic14\", \"Topic14\", \"Topic14\", \"Topic14\", \"Topic14\", \"Topic14\", \"Topic14\", \"Topic14\", \"Topic14\", \"Topic14\", \"Topic14\", \"Topic14\", \"Topic14\", \"Topic14\", \"Topic14\", \"Topic14\", \"Topic14\", \"Topic14\", \"Topic14\", \"Topic14\", \"Topic14\", \"Topic14\", \"Topic14\", \"Topic14\", \"Topic15\", \"Topic15\", \"Topic15\", \"Topic15\", \"Topic15\", \"Topic15\", \"Topic15\", \"Topic15\", \"Topic15\", \"Topic15\", \"Topic15\", \"Topic15\", \"Topic15\", \"Topic15\", \"Topic15\", \"Topic15\", \"Topic15\", \"Topic15\", \"Topic15\", \"Topic15\", \"Topic15\", \"Topic15\", \"Topic15\", \"Topic15\", \"Topic15\", \"Topic15\", \"Topic15\", \"Topic15\", \"Topic15\", \"Topic15\", \"Topic15\", \"Topic15\", \"Topic15\", \"Topic15\", \"Topic15\", \"Topic15\", \"Topic15\", \"Topic15\", \"Topic15\", \"Topic15\", \"Topic15\", \"Topic15\", \"Topic15\", \"Topic15\", \"Topic16\", \"Topic16\", \"Topic16\", \"Topic16\", \"Topic16\", \"Topic16\", \"Topic16\", \"Topic16\", \"Topic16\", \"Topic16\", \"Topic16\", \"Topic16\", \"Topic16\", \"Topic16\", \"Topic16\", \"Topic16\", \"Topic16\", \"Topic16\", \"Topic16\", \"Topic16\", \"Topic16\", \"Topic16\", \"Topic16\", \"Topic16\", \"Topic16\", \"Topic16\", \"Topic16\", \"Topic16\", \"Topic16\", \"Topic16\", \"Topic16\", \"Topic16\", \"Topic16\", \"Topic16\", \"Topic16\", \"Topic16\", \"Topic16\", \"Topic16\", \"Topic16\", \"Topic16\", \"Topic16\", \"Topic16\", \"Topic16\", \"Topic16\", \"Topic17\", \"Topic17\", \"Topic17\", \"Topic17\", \"Topic17\", \"Topic17\", \"Topic17\", \"Topic17\", \"Topic17\", \"Topic17\", \"Topic17\", \"Topic17\", \"Topic17\", \"Topic17\", \"Topic17\", \"Topic17\", \"Topic17\", \"Topic17\", \"Topic17\", \"Topic17\", \"Topic17\", \"Topic17\", \"Topic17\", \"Topic17\", \"Topic17\", \"Topic17\", \"Topic17\", \"Topic17\", \"Topic17\", \"Topic17\", \"Topic17\", \"Topic17\", \"Topic17\", \"Topic17\", \"Topic17\", \"Topic17\", \"Topic17\", \"Topic18\", \"Topic18\", \"Topic18\", \"Topic18\", \"Topic18\", \"Topic18\", \"Topic18\", \"Topic18\", \"Topic18\", \"Topic18\", \"Topic18\", \"Topic18\", \"Topic18\", \"Topic18\", \"Topic18\", \"Topic18\", \"Topic18\", \"Topic18\", \"Topic18\", \"Topic18\", \"Topic18\", \"Topic18\", \"Topic18\", \"Topic18\", \"Topic18\", \"Topic18\", \"Topic18\", \"Topic18\", \"Topic18\", \"Topic18\", \"Topic18\", \"Topic18\", \"Topic18\", \"Topic18\", \"Topic18\", \"Topic18\", \"Topic18\", \"Topic18\", \"Topic18\", \"Topic18\", \"Topic18\", \"Topic19\", \"Topic19\", \"Topic19\", \"Topic19\", \"Topic19\", \"Topic19\", \"Topic19\", \"Topic19\", \"Topic19\", \"Topic19\", \"Topic19\", \"Topic19\", \"Topic19\", \"Topic19\", \"Topic19\", \"Topic19\", \"Topic19\", \"Topic19\", \"Topic19\", \"Topic19\", \"Topic19\", \"Topic19\", \"Topic19\", \"Topic19\", \"Topic19\", \"Topic19\", \"Topic19\", \"Topic19\", \"Topic19\", \"Topic19\", \"Topic19\", \"Topic19\", \"Topic19\", \"Topic19\", \"Topic19\", \"Topic19\", \"Topic19\", \"Topic20\", \"Topic20\", \"Topic20\", \"Topic20\", \"Topic20\", \"Topic20\", \"Topic20\", \"Topic20\", \"Topic20\", \"Topic20\", \"Topic20\", \"Topic20\", \"Topic20\", \"Topic20\", \"Topic20\", \"Topic20\", \"Topic20\", \"Topic20\", \"Topic20\", \"Topic20\", \"Topic20\", \"Topic20\", \"Topic20\", \"Topic20\", \"Topic20\", \"Topic20\", \"Topic20\", \"Topic20\", \"Topic20\", \"Topic20\", \"Topic20\"], \"logprob\": [30.0, 29.0, 28.0, 27.0, 26.0, 25.0, 24.0, 23.0, 22.0, 21.0, 20.0, 19.0, 18.0, 17.0, 16.0, 15.0, 14.0, 13.0, 12.0, 11.0, 10.0, 9.0, 8.0, 7.0, 6.0, 5.0, 4.0, 3.0, 2.0, 1.0, -4.4770002365112305, -4.636600017547607, -4.839700222015381, -4.943999767303467, -5.083799839019775, -5.159299850463867, -5.341400146484375, -5.402599811553955, -5.4618000984191895, -5.5391998291015625, -5.693399906158447, -5.757500171661377, -6.042300224304199, -6.0467000007629395, -6.0553998947143555, -6.062600135803223, -6.085700035095215, -6.150300025939941, -6.184100151062012, -6.194300174713135, -6.23360013961792, -6.260900020599365, -6.2906999588012695, -6.293399810791016, -6.349699974060059, -6.350500106811523, -6.387700080871582, -6.4120001792907715, -6.434500217437744, -6.490099906921387, -3.959399938583374, -5.166900157928467, -4.36359977722168, -5.197999954223633, -5.711400032043457, -4.110000133514404, -3.902600049972534, -5.938499927520752, -5.175300121307373, -4.098999977111816, -5.616600036621094, -2.908900022506714, -5.478499889373779, -4.045400142669678, -5.3277997970581055, -5.316800117492676, -4.651500225067139, -4.66480016708374, -3.1774001121520996, -4.337100028991699, -4.883500099182129, -4.6234002113342285, -5.061800003051758, -4.72629976272583, -5.209400177001953, -4.594200134277344, -4.738500118255615, -4.912199974060059, -4.978600025177002, -4.980100154876709, -4.593200206756592, -4.985899925231934, -5.128399848937988, -4.230199813842773, -4.3414998054504395, -4.435299873352051, -4.571800231933594, -4.957099914550781, -5.0121002197265625, -5.085299968719482, -5.08650016784668, -5.131800174713135, -5.265100002288818, -5.337299823760986, -5.3597002029418945, -5.365499973297119, -5.502399921417236, -5.571599960327148, -5.578999996185303, -5.582900047302246, -5.627299785614014, -5.628200054168701, -5.687699794769287, -5.717899799346924, -5.751100063323975, -5.763400077819824, -5.787199974060059, -5.799300193786621, -5.814499855041504, -5.817399978637695, -5.823200225830078, -5.830100059509277, -5.867199897766113, -5.184800148010254, -5.30109977722168, -5.418000221252441, -5.3790998458862305, -5.359399795532227, -5.139200210571289, -5.266600131988525, -5.313499927520752, -4.2403998374938965, -5.0625, -4.518700122833252, -4.9832000732421875, -4.2058000564575195, -4.851200103759766, -5.377500057220459, -5.251399993896484, -4.073500156402588, -5.076099872589111, -4.756800174713135, -5.089600086212158, -5.120999813079834, -5.145500183105469, -5.002399921417236, -5.224100112915039, -5.17519998550415, -5.289400100708008, -0.5080999732017517, -2.59879994392395, -2.83489990234375, -3.9358999729156494, -4.250800132751465, -5.0777997970581055, -5.270400047302246, -5.360799789428711, -5.635200023651123, -5.739200115203857, -5.775199890136719, -5.945700168609619, -5.9695000648498535, -5.972799777984619, -6.617099761962891, -6.6956000328063965, -6.735300064086914, -6.753799915313721, -7.079100131988525, -7.268499851226807, -7.357699871063232, -7.395999908447266, -7.462299823760986, -7.877500057220459, -8.238699913024902, -8.244099617004395, -8.687100410461426, -3.1410999298095703, -7.631499767303467, -5.067200183868408, -4.129700183868408, -4.868800163269043, -4.407100200653076, -5.07889986038208, -4.949900150299072, -4.851200103759766, -4.36329984664917, -5.227099895477295, -5.728300094604492, -5.345099925994873, -5.323699951171875, -5.703700065612793, -5.668900012969971, -6.207499980926514, -4.1468000411987305, -4.272900104522705, -4.44789981842041, -4.498899936676025, -4.57919979095459, -4.594699859619141, -4.6082000732421875, -5.140100002288818, -5.19379997253418, -5.224800109863281, -5.2617998123168945, -5.289599895477295, -5.326399803161621, -5.331999778747559, -5.351099967956543, -5.3927001953125, -5.405200004577637, -5.470600128173828, -5.47760009765625, -5.486700057983398, -5.524799823760986, -5.5289998054504395, -5.530700206756592, -5.554800033569336, -5.569799900054932, -5.743500232696533, -5.862599849700928, -5.9039998054504395, -6.1483001708984375, -6.173900127410889, -5.847300052642822, -4.902100086212158, -4.902900218963623, -4.265399932861328, -3.9820001125335693, -4.275300025939941, -4.854499816894531, -4.862800121307373, -5.100900173187256, -4.85699987411499, -4.455699920654297, -4.53980016708374, -4.769700050354004, -4.481400012969971, -3.4688000679016113, -4.656199932098389, -4.7484002113342285, -4.761300086975098, -4.662199974060059, -4.871799945831299, -4.740799903869629, -4.72189998626709, -4.851099967956543, -4.779300212860107, -4.799699783325195, -2.3814001083374023, -3.0190000534057617, -3.101900100708008, -3.339099884033203, -6.307000160217285, -6.543700218200684, -6.6350998878479, -6.672299861907959, -6.724899768829346, -6.7916998863220215, -2.797300100326538, -7.043499946594238, -7.101500034332275, -7.518899917602539, -7.797999858856201, -7.800600051879883, -3.4979000091552734, -8.031700134277344, -8.061200141906738, -2.343400001525879, -8.303899765014648, -8.44279956817627, -5.7820000648498535, -8.598699569702148, -2.4921998977661133, -2.711699962615967, -2.511199951171875, -3.7493999004364014, -5.940000057220459, -3.944499969482422, -3.2695999145507812, -4.47730016708374, -3.965100049972534, -4.306000232696533, -2.6756999492645264, -3.3633999824523926, -3.9131999015808105, -5.138599872589111, -4.0040998458862305, -3.412400007247925, -5.899899959564209, -4.612599849700928, -6.040299892425537, -3.237499952316284, -3.296099901199341, -3.5237998962402344, -3.705199956893921, -3.9349000453948975, -4.298699855804443, -4.301000118255615, -4.309100151062012, -4.386899948120117, -4.875699996948242, -4.892000198364258, -4.970799922943115, -4.991799831390381, -5.132699966430664, -5.1819000244140625, -5.20389986038208, -5.467599868774414, -5.503200054168701, -5.515500068664551, -5.542399883270264, -5.574900150299072, -5.6392998695373535, -5.735899925231934, -5.763000011444092, -5.782800197601318, -5.786499977111816, -5.796000003814697, -5.802299976348877, -5.833399772644043, -5.874199867248535, -4.610799789428711, -4.164700031280518, -5.195199966430664, -3.5671000480651855, -4.7565999031066895, -3.9493000507354736, -4.383600234985352, -4.243599891662598, -3.642699956893921, -4.706699848175049, -3.8722000122070312, -4.5096001625061035, -4.7565999031066895, -4.407800197601318, -4.344399929046631, -4.351799964904785, -3.9423999786376953, -4.51039981842041, -4.1722002029418945, -4.414999961853027, -4.1620001792907715, -4.637700080871582, -4.693600177764893, -4.652699947357178, -3.131999969482422, -4.289100170135498, -4.43779993057251, -4.450300216674805, -4.533699989318848, -4.541999816894531, -4.56220006942749, -4.564199924468994, -4.650700092315674, -4.724699974060059, -4.729300022125244, -4.760900020599365, -4.987299919128418, -5.011000156402588, -5.066400051116943, -5.066800117492676, -5.0746002197265625, -5.094099998474121, -5.096799850463867, -5.098599910736084, -5.113699913024902, -5.119100093841553, -5.120500087738037, -5.162199974060059, -5.1880998611450195, -5.257500171661377, -5.281599998474121, -5.285399913787842, -5.307300090789795, -5.3592000007629395, -4.746099948883057, -4.86870002746582, -4.11460018157959, -4.099899768829346, -4.553599834442139, -4.835400104522705, -4.498899936676025, -4.065999984741211, -4.923500061035156, -4.95989990234375, -4.922500133514404, -4.973499774932861, -4.769400119781494, -4.811800003051758, -5.043099880218506, -5.059700012207031, -3.626199960708618, -4.281799793243408, -4.6890997886657715, -4.735599994659424, -4.860300064086914, -4.862199783325195, -4.871500015258789, -5.077199935913086, -5.087500095367432, -5.094900131225586, -5.132599830627441, -5.176300048828125, -5.2083001136779785, -5.240600109100342, -5.273099899291992, -5.274499893188477, -5.38640022277832, -5.420300006866455, -5.429699897766113, -5.561600208282471, -5.5971999168396, -5.622600078582764, -5.680799961090088, -5.717599868774414, -5.785200119018555, -5.8140997886657715, -5.815999984741211, -5.856900215148926, -5.897299766540527, -5.9004998207092285, -3.7702999114990234, -4.771599769592285, -4.884200096130371, -5.158199787139893, -4.110499858856201, -5.001699924468994, -4.808800220489502, -3.6261000633239746, -3.9526000022888184, -5.0046000480651855, -3.919300079345703, -3.910900115966797, -4.336599826812744, -4.381999969482422, -3.6875998973846436, -3.9660000801086426, -3.843100070953369, -4.353799819946289, -4.907899856567383, -4.746200084686279, -4.738800048828125, -4.8078999519348145, -4.782299995422363, -4.815499782562256, -4.959000110626221, -3.481100082397461, -4.076099872589111, -4.291100025177002, -4.3078999519348145, -4.328100204467773, -4.334000110626221, -4.433800220489502, -4.62529993057251, -4.627299785614014, -4.628399848937988, -4.641200065612793, -4.642099857330322, -4.667300224304199, -4.745200157165527, -4.825099945068359, -4.860300064086914, -4.861000061035156, -4.875500202178955, -4.882299900054932, -4.9079999923706055, -4.975299835205078, -5.013000011444092, -5.06790018081665, -5.225500106811523, -5.2307000160217285, -5.232399940490723, -5.252500057220459, -5.273099899291992, -5.303800106048584, -5.331099987030029, -4.891600131988525, -4.5467000007629395, -4.121799945831299, -4.725900173187256, -4.848400115966797, -4.4741997718811035, -4.5258002281188965, -4.264699935913086, -4.332200050354004, -4.491399765014648, -4.606200218200684, -4.832399845123291, -4.774099826812744, -2.883699893951416, -3.603300094604492, -3.765899896621704, -3.7941999435424805, -4.612199783325195, -4.80109977722168, -5.090099811553955, -5.165299892425537, -5.232100009918213, -5.469600200653076, -5.605199813842773, -5.617700099945068, -5.854400157928467, -5.892899990081787, -5.900000095367432, -5.992099761962891, -6.036099910736084, -6.08620023727417, -6.088399887084961, -6.178400039672852, -6.19920015335083, -6.244699954986572, -6.289299964904785, -6.295100212097168, -6.330399990081787, -2.8394999504089355, -6.401800155639648, -6.408199787139893, -6.713399887084961, -6.714000225067139, -1.9147000312805176, -2.4509999752044678, -1.978700041770935, -2.1577000617980957, -2.271699905395508, -2.7792999744415283, -4.046899795532227, -5.190400123596191, -2.411600112915039, -3.5703999996185303, -3.8694000244140625, -3.9626998901367188, -4.177299976348877, -4.299300193786621, -4.562099933624268, -4.63539981842041, -4.692999839782715, -4.826000213623047, -4.9359002113342285, -4.9807000160217285, -5.003799915313721, -5.201099872589111, -5.228099822998047, -5.446800231933594, -5.448999881744385, -5.526700019836426, -5.562399864196777, -5.571499824523926, -5.647799968719482, -5.714099884033203, -5.7729997634887695, -5.787799835205078, -5.840000152587891, -5.872099876403809, -5.883800029754639, -5.885900020599365, -5.912399768829346, -4.636099815368652, -4.372099876403809, -3.153899908065796, -4.147500038146973, -3.5773000717163086, -5.40939998626709, -3.967400074005127, -4.8927998542785645, -4.338200092315674, -4.0644001960754395, -3.8864998817443848, -4.719399929046631, -4.364699840545654, -4.88730001449585, -4.615200042724609, -5.129799842834473, -4.151199817657471, -3.7455999851226807, -4.36329984664917, -3.9379000663757324, -3.7335000038146973, -3.753200054168701, -4.5218000411987305, -4.557300090789795, -4.248799800872803, -4.3668999671936035, -3.226900100708008, -3.775599956512451, -4.095200061798096, -4.158299922943115, -4.169899940490723, -4.460599899291992, -4.694699764251709, -4.719099998474121, -4.731500148773193, -4.743100166320801, -4.765200138092041, -4.843299865722656, -4.862599849700928, -4.867400169372559, -4.8917999267578125, -4.909299850463867, -4.984099864959717, -5.1743998527526855, -5.196100234985352, -5.220900058746338, -5.253600120544434, -5.323299884796143, -5.342299938201904, -5.4029998779296875, -5.431000232696533, -5.4359002113342285, -5.463799953460693, -5.532800197601318, -5.564300060272217, -5.582399845123291, -3.9964001178741455, -4.283899784088135, -4.539400100708008, -4.845099925994873, -2.8903000354766846, -3.5195000171661377, -3.8225998878479004, -4.5817999839782715, -4.397799968719482, -4.887899875640869, -3.9565000534057617, -4.090700149536133, -4.111299991607666, -3.830399990081787, -3.5813000202178955, -4.526100158691406, -4.240499973297119, -4.495200157165527, -4.184599876403809, -4.485899925231934, -4.401199817657471, -3.9565000534057617, -4.573800086975098, -4.7256999015808105, -2.922600030899048, -3.331899881362915, -3.3935999870300293, -3.6528000831604004, -3.6556999683380127, -3.757499933242798, -3.863100051879883, -3.938199996948242, -3.9570000171661377, -4.043900012969971, -4.069300174713135, -4.150700092315674, -4.277699947357178, -4.313300132751465, -4.419300079345703, -4.76230001449585, -4.786600112915039, -4.879700183868408, -4.904200077056885, -4.988699913024902, -5.165999889373779, -5.188399791717529, -5.305300235748291, -5.433199882507324, -5.543700218200684, -5.5792999267578125, -5.631499767303467, -5.652699947357178, -5.723800182342529, -5.765600204467773, -3.7091000080108643, -3.521399974822998, -3.8427999019622803, -4.766300201416016, -4.2195000648498535, -3.182300090789795, -3.968100070953369, -3.308500051498413, -3.7230000495910645, -4.427700042724609, -4.027299880981445, -4.103300094604492, -3.6958999633789062, -4.308700084686279, -4.103799819946289, -4.268899917602539, -0.9333000183105469, -2.210700035095215, -4.657800197601318, -4.982600212097168, -5.220399856567383, -5.298500061035156, -5.338799953460693, -5.587100028991699, -5.848499774932861, -6.004300117492676, -6.067999839782715, -6.299099922180176, -6.4604997634887695, -6.4756999015808105, -6.500800132751465, -6.624199867248535, -6.886000156402588, -6.946800231933594, -7.065299987792969, -7.578499794006348, -1.6994999647140503, -2.3287999629974365, -3.9655001163482666, -5.805600166320801, -6.99459981918335, -7.193299770355225, -3.460599899291992, -6.383800029754639, -3.9528000354766846, -12.828800201416016, -5.554299831390381, -4.5457000732421875, -5.033199787139893, -5.853700160980225, -6.327000141143799, -3.345099925994873, -3.4440999031066895, -3.5467000007629395, -3.5513999462127686, -3.601900100708008, -3.6275999546051025, -3.7314999103546143, -3.867300033569336, -4.122900009155273, -4.142300128936768, -4.241600036621094, -4.279399871826172, -4.367099761962891, -4.432300090789795, -4.437600135803223, -4.4653000831604, -4.682499885559082, -4.687099933624268, -4.849400043487549, -4.8516998291015625, -4.9770002365112305, -5.028500080108643, -5.126399993896484, -5.215000152587891, -5.276800155639648, -5.285900115966797, -5.2982001304626465, -5.329500198364258, -5.353600025177002, -5.363500118255615, -3.240299940109253, -4.198999881744385, -3.1219000816345215, -3.9927000999450684, -4.4816999435424805, -3.34060001373291, -4.208000183105469, -4.649499893188477, -3.991300106048584, -4.1493000984191895, -4.234000205993652, -4.346399784088135, -3.9244000911712646, -4.342700004577637, -3.0469000339508057, -3.047100067138672, -3.5439999103546143, -3.6782000064849854, -3.7211999893188477, -3.8533999919891357, -3.949199914932251, -4.012899875640869, -4.0980000495910645, -4.099400043487549, -4.256999969482422, -4.339900016784668, -4.400700092315674, -4.478000164031982, -4.478799819946289, -4.59119987487793, -4.649199962615967, -4.723499774932861, -4.79449987411499, -4.8582000732421875, -4.866000175476074, -4.883500099182129, -4.892000198364258, -5.043900012969971, -5.0903000831604, -5.161399841308594, -5.201700210571289, -5.239099979400635, -5.24399995803833, -5.393400192260742, -4.1020002365112305, -3.9256999492645264, -3.8129000663757324, -4.180699825286865, -4.155700206756592, -3.6816999912261963, -4.4369001388549805, -4.103000164031982, -4.060400009155273, -4.024199962615967, -4.53879976272583, -4.475599765777588, -4.549499988555908, -4.430500030517578, -2.8884999752044678, -2.9193999767303467, -3.083400011062622, -3.5717999935150146, -3.8343000411987305, -3.8891000747680664, -3.9149999618530273, -3.979599952697754, -4.006199836730957, -4.093699932098389, -4.191299915313721, -4.218999862670898, -4.2733001708984375, -4.311100006103516, -4.311600208282471, -4.323999881744385, -4.379499912261963, -4.490300178527832, -4.520899772644043, -4.5335001945495605, -4.544099807739258, -4.6072001457214355, -4.6493000984191895, -4.751699924468994, -4.893499851226807, -4.900000095367432, -4.906000137329102, -4.907700061798096, -4.937900066375732, -4.944200038909912, -2.0618999004364014, -4.257900238037109, -4.193900108337402, -4.59689998626709, -4.173500061035156, -4.666800022125244, -4.705999851226807, -2.602299928665161, -2.8101000785827637, -2.9514000415802, -3.4114999771118164, -3.547499895095825, -3.630000114440918, -3.6429998874664307, -3.6610000133514404, -3.7746999263763428, -3.8041999340057373, -3.8073999881744385, -3.8362998962402344, -3.884700059890747, -4.148399829864502, -4.215400218963623, -4.457300186157227, -4.469099998474121, -4.489799976348877, -4.666100025177002, -4.670400142669678, -4.69950008392334, -4.800899982452393, -4.874100208282471, -4.9274001121521, -4.984300136566162, -5.033699989318848, -5.138800144195557, -5.2657999992370605, -5.3572001457214355, -5.384799957275391, -4.018599987030029, -4.666600227355957, -3.722399950027466, -3.6947999000549316, -3.677799940109253, -3.648200035095215, -4.379700183868408, -4.607999801635742, -4.169300079345703, -4.1855998039245605, -4.651199817657471, -2.9423999786376953, -3.0583999156951904, -3.314500093460083, -3.3977999687194824, -3.4212000370025635, -3.467400074005127, -3.6089000701904297, -3.613300085067749, -3.7392001152038574, -3.7495999336242676, -3.7973999977111816, -3.877500057220459, -3.881700038909912, -3.889400005340576, -3.96370005607605, -3.9979000091552734, -4.06689977645874, -4.191199779510498, -4.195099830627441, -4.286499977111816, -4.4278998374938965, -4.454800128936768, -4.603300094604492, -4.664100170135498, -4.682799816131592, -4.796599864959717, -4.967800140380859, -5.053999900817871, -5.0792999267578125, -5.084099769592285, -3.289400100708008, -3.811800003051758, -4.091599941253662, -3.365000009536743, -4.4847002029418945, -4.591700077056885, -4.657899856567383, -2.5571000576019287, -2.8529999256134033, -2.9723000526428223, -3.115799903869629, -3.2249999046325684, -3.271199941635132, -3.545099973678589, -3.8408000469207764, -4.024400234222412, -4.046599864959717, -4.128300189971924, -4.132199764251709, -4.147299766540527, -4.164299964904785, -4.262599945068359, -4.302199840545654, -4.350800037384033, -4.403299808502197, -4.425600051879883, -4.431300163269043, -4.444900035858154, -4.464600086212158, -4.624000072479248, -4.646699905395508, -4.688899993896484, -4.762199878692627, -4.77400016784668, -4.845200061798096, -4.889699935913086, -4.909299850463867, -3.111599922180176], \"loglift\": [30.0, 29.0, 28.0, 27.0, 26.0, 25.0, 24.0, 23.0, 22.0, 21.0, 20.0, 19.0, 18.0, 17.0, 16.0, 15.0, 14.0, 13.0, 12.0, 11.0, 10.0, 9.0, 8.0, 7.0, 6.0, 5.0, 4.0, 3.0, 2.0, 1.0, 1.4795000553131104, 1.4794000387191772, 1.4793000221252441, 1.479200005531311, 1.479099988937378, 1.4789999723434448, 1.4788000583648682, 1.478700041770935, 1.478600025177002, 1.4785000085830688, 1.4781999588012695, 1.4780999422073364, 1.4774999618530273, 1.4774999618530273, 1.4774999618530273, 1.4773999452590942, 1.4773999452590942, 1.4772000312805176, 1.4771000146865845, 1.4771000146865845, 1.4769999980926514, 1.4768999814987183, 1.4767999649047852, 1.4767999649047852, 1.4766000509262085, 1.4766000509262085, 1.4764000177383423, 1.4764000177383423, 1.4763000011444092, 1.476099967956543, 1.4510999917984009, 1.4474999904632568, 1.4220999479293823, 1.4452999830245972, 1.4488999843597412, 1.3379000425338745, 1.3141000270843506, 1.4541000127792358, 1.396399974822998, 1.2793999910354614, 1.4061000347137451, 1.0489000082015991, 1.381700038909912, 1.1506999731063843, 1.357200026512146, 1.3460999727249146, 1.2279000282287598, 1.2247999906539917, 0.9107000231742859, 1.1203999519348145, 1.226199984550476, 1.1358000040054321, 1.2592999935150146, 1.1332999467849731, 1.3035000562667847, 1.0095000267028809, 0.9904000163078308, 1.0852999687194824, 0.9728000164031982, 0.8964999914169312, 0.10740000009536743, 0.8202999830245972, 0.6279000043869019, 2.336400032043457, 2.3362998962402344, 2.336199998855591, 2.3359999656677246, 2.335400104522705, 2.3352999687194824, 2.335099935531616, 2.335099935531616, 2.3350000381469727, 2.334700107574463, 2.3345000743865967, 2.334399938583374, 2.334399938583374, 2.333899974822998, 2.333699941635132, 2.3336000442504883, 2.3336000442504883, 2.3334999084472656, 2.3334999084472656, 2.333199977874756, 2.3331000804901123, 2.332900047302246, 2.332900047302246, 2.3327999114990234, 2.33270001411438, 2.3326001167297363, 2.3326001167297363, 2.3326001167297363, 2.3326001167297363, 2.33240008354187, 2.2887001037597656, 2.292799949645996, 2.2964999675750732, 2.2843000888824463, 2.2690999507904053, 2.201200008392334, 2.1182000637054443, 2.105600118637085, 1.5160000324249268, 1.9519000053405762, 1.4972000122070312, 1.8188999891281128, 1.1375999450683594, 1.6109999418258667, 2.109800100326538, 1.9402999877929688, 0.014600000344216824, 1.6207000017166138, 0.8468999862670898, 1.5226999521255493, 1.3248000144958496, 1.2683000564575195, 0.45509999990463257, 1.6050000190734863, 1.2813999652862549, 1.23580002784729, 2.375699996948242, 2.375499963760376, 2.375499963760376, 2.375, 2.3747000694274902, 2.373500108718872, 2.372999906539917, 2.3726999759674072, 2.371799945831299, 2.3714001178741455, 2.3712000846862793, 2.3703999519348145, 2.370300054550171, 2.370300054550171, 2.3654000759124756, 2.364500045776367, 2.3640999794006348, 2.3638999462127686, 2.359299898147583, 2.3559999465942383, 2.354099988937378, 2.353300094604492, 2.351799964904785, 2.3396999835968018, 2.32450008392334, 2.324199914932251, 2.296600103378296, 2.087599992752075, 1.7532999515533447, 0.9977999925613403, 0.8683000206947327, 0.7835000157356262, 0.5406000018119812, 0.70660001039505, 0.28360000252723694, 0.13840000331401825, -0.40540000796318054, -0.12809999287128448, 0.4429999887943268, -0.3723999857902527, -0.43209999799728394, -0.4284999966621399, -0.9682999849319458, 0.5834000110626221, 2.5569000244140625, 2.5566999912261963, 2.55649995803833, 2.5564000606536865, 2.556299924850464, 2.5562000274658203, 2.5562000274658203, 2.555000066757202, 2.554800033569336, 2.5546998977661133, 2.5546000003814697, 2.554500102996826, 2.5543999671936035, 2.55430006980896, 2.55430006980896, 2.5541000366210938, 2.5541000366210938, 2.553800106048584, 2.553800106048584, 2.5536999702453613, 2.5536000728607178, 2.553499937057495, 2.553499937057495, 2.5534000396728516, 2.5534000396728516, 2.552500009536743, 2.551800012588501, 2.551500082015991, 2.5497000217437744, 2.549499988555908, 2.5127999782562256, 2.394700050354004, 2.3355000019073486, 2.2039999961853027, 2.0550999641418457, 2.081199884414673, 2.2435998916625977, 2.1912999153137207, 2.2881999015808105, 2.0897998809814453, 1.7782000303268433, 1.8004000186920166, 1.9833999872207642, 1.6129000186920166, 0.6193000078201294, 1.7797000408172607, 1.75409996509552, 1.7395000457763672, 1.555899977684021, 1.829699993133545, 1.4910999536514282, 1.2158000469207764, 1.5597000122070312, 1.1720999479293823, 0.657800018787384, 2.6103999614715576, 2.6101999282836914, 2.6101999282836914, 2.610100030899048, 2.600399971008301, 2.5977001190185547, 2.5964999198913574, 2.5959999561309814, 2.5952000617980957, 2.594099998474121, 2.594099998474121, 2.589400053024292, 2.588200092315674, 2.5768001079559326, 2.5660998821258545, 2.565999984741211, 2.5624001026153564, 2.5546998977661133, 2.553100109100342, 2.5481998920440674, 2.537899971008301, 2.5274999141693115, 2.525700092315674, 2.5141000747680664, 2.497499942779541, 2.4579999446868896, 2.436500072479248, 2.4219000339508057, 2.408900022506714, 2.3917999267578125, 2.382699966430664, 2.3136000633239746, 2.2679998874664307, 2.2558999061584473, 1.282099962234497, 1.3372000455856323, 1.3619999885559082, 1.676800012588501, 1.2245999574661255, 0.6757000088691711, 1.8889000415802002, 0.36000001430511475, 1.6895999908447266, 2.8234000205993652, 2.8232998847961426, 2.823199987411499, 2.822999954223633, 2.8227999210357666, 2.8222999572753906, 2.8222999572753906, 2.8222999572753906, 2.8220999240875244, 2.821000099182129, 2.8208999633789062, 2.82069993019104, 2.8206000328063965, 2.8201000690460205, 2.8199000358581543, 2.8197999000549316, 2.81850004196167, 2.8183000087738037, 2.8183000087738037, 2.8180999755859375, 2.8178999423980713, 2.817500114440918, 2.8169000148773193, 2.816699981689453, 2.816499948501587, 2.816499948501587, 2.8164000511169434, 2.8164000511169434, 2.8160998821258545, 2.8157999515533447, 2.7755000591278076, 2.717900037765503, 2.7576000690460205, 2.5495998859405518, 2.6958000659942627, 2.5634000301361084, 2.61680006980896, 2.5813000202178955, 2.450900077819824, 2.646399974822998, 2.438999891281128, 2.4532999992370605, 2.487799882888794, 2.309799909591675, 2.138400077819824, 1.9917999505996704, 1.4661999940872192, 2.086400032043457, 1.6339000463485718, 1.8236000537872314, 1.1132999658584595, 1.975000023841858, 2.1679000854492188, 1.5125000476837158, 2.9395999908447266, 2.9384000301361084, 2.937999963760376, 2.937999963760376, 2.9377999305725098, 2.9377999305725098, 2.9377999305725098, 2.9377999305725098, 2.9375, 2.937299966812134, 2.937299966812134, 2.9372000694274902, 2.9363999366760254, 2.9363999366760254, 2.9361000061035156, 2.9361000061035156, 2.9361000061035156, 2.936000108718872, 2.936000108718872, 2.936000108718872, 2.9358999729156494, 2.9358999729156494, 2.9358999729156494, 2.935699939727783, 2.9356000423431396, 2.93530011177063, 2.9351000785827637, 2.9351000785827637, 2.934999942779541, 2.9347000122070312, 2.8461999893188477, 2.8096001148223877, 2.5109000205993652, 2.345900058746338, 2.550299882888794, 2.7051000595092773, 2.476599931716919, 1.8798999786376953, 2.4948999881744385, 2.572999954223633, 2.425299882888794, 2.5315001010894775, 1.5418000221252441, 1.629699945449829, 1.8753000497817993, 2.466399908065796, 2.954699993133545, 2.9537999629974365, 2.9528000354766846, 2.952699899673462, 2.9523000717163086, 2.9523000717163086, 2.952199935913086, 2.9514999389648438, 2.9514000415802, 2.9514000415802, 2.951200008392334, 2.9509999752044678, 2.950900077819824, 2.950700044631958, 2.950500011444092, 2.950500011444092, 2.949899911880493, 2.949700117111206, 2.949700117111206, 2.9488000869750977, 2.9486000537872314, 2.9484000205993652, 2.947999954223633, 2.947700023651123, 2.9470999240875244, 2.946899890899658, 2.9467999935150146, 2.946500062942505, 2.9460999965667725, 2.9460999965667725, 2.843100070953369, 2.8915998935699463, 2.8926000595092773, 2.8968000411987305, 2.6698999404907227, 2.80649995803833, 2.7472000122070312, 2.3898000717163086, 2.461199998855591, 2.6946001052856445, 2.1749000549316406, 2.0622000694274902, 2.2669999599456787, 2.264400005340576, 1.7209999561309814, 1.9186999797821045, 1.5003000497817993, 1.8770999908447266, 2.5650999546051025, 2.2932000160217285, 1.6970000267028809, 1.8756999969482422, 1.4495999813079834, 0.9907000064849854, 1.7380000352859497, 3.1846001148223877, 3.1837000846862793, 3.183300018310547, 3.183199882507324, 3.183199882507324, 3.1830999851226807, 3.1828999519348145, 3.182300090789795, 3.182300090789795, 3.182300090789795, 3.1821999549865723, 3.1821999549865723, 3.1821999549865723, 3.1819000244140625, 3.1816000938415527, 3.1814000606536865, 3.1814000606536865, 3.181299924850464, 3.181299924850464, 3.1812000274658203, 3.1809000968933105, 3.1807000637054443, 3.1803998947143555, 3.179500102996826, 3.179500102996826, 3.179500102996826, 3.1793999671936035, 3.1791999340057373, 3.178999900817871, 3.1789000034332275, 3.113800048828125, 3.015199899673462, 2.8373000621795654, 2.9911999702453613, 2.9786999225616455, 2.496500015258789, 2.303299903869629, 1.8287999629974365, 1.9063999652862549, 2.1214001178741455, 0.9973999857902527, 2.5585999488830566, 1.7086999416351318, 3.269200086593628, 3.2685000896453857, 3.2683000564575195, 3.2683000564575195, 3.266200065612793, 3.265500068664551, 3.2639999389648438, 3.2636001110076904, 3.263200044631958, 3.261399984359741, 3.2600998878479004, 3.259999990463257, 3.2574000358581543, 3.2569000720977783, 3.2567999362945557, 3.2555999755859375, 3.2548999786376953, 3.254199981689453, 3.254199981689453, 3.252700090408325, 3.2523000240325928, 3.251499891281128, 3.250699996948242, 3.2506000995635986, 3.2499001026153564, 3.2488999366760254, 3.2483999729156494, 3.248300075531006, 3.2407000064849854, 3.2407000064849854, 3.184299945831299, 3.1298999786376953, 3.0192999839782715, 2.815000057220459, 2.428800106048584, 2.4958999156951904, 2.7685999870300293, 2.598400115966797, 3.522200107574463, 3.5211000442504883, 3.5204999446868896, 3.5202999114990234, 3.519700050354004, 3.5192999839782715, 3.518199920654297, 3.517899990081787, 3.5176000595092773, 3.516900062561035, 3.516200065612793, 3.515899896621704, 3.5157999992370605, 3.51419997215271, 3.5139999389648438, 3.511899948120117, 3.511899948120117, 3.510999917984009, 3.5106000900268555, 3.510499954223633, 3.509500026702881, 3.5085999965667725, 3.507699966430664, 3.507499933242798, 3.506700038909912, 3.506200075149536, 3.50600004196167, 3.5058999061584473, 3.505500078201294, 3.505500078201294, 3.2887001037597656, 3.064199924468994, 3.206899881362915, 3.1061999797821045, 3.4191999435424805, 3.0439000129699707, 3.2207999229431152, 3.0209999084472656, 2.8963000774383545, 2.8104000091552734, 3.1370999813079834, 2.967600107192993, 3.1958000659942627, 2.9526000022888184, 3.290299892425537, 2.550299882888794, 2.0136001110076904, 2.530400037765503, 1.9217000007629395, 1.6098999977111816, 1.4428999423980713, 2.5820000171661377, 2.460900068283081, 1.5075000524520874, 1.0116000175476074, 3.638000011444092, 3.63700008392334, 3.636199951171875, 3.635999917984009, 3.6359000205993652, 3.6347999572753906, 3.6335999965667725, 3.633500099182129, 3.6333999633789062, 3.6333000659942627, 3.63319993019104, 3.632699966430664, 3.6326000690460205, 3.632499933242798, 3.6324000358581543, 3.632200002670288, 3.631700038909912, 3.6301000118255615, 3.6298999786376953, 3.629699945449829, 3.6294000148773193, 3.6285998821258545, 3.6284000873565674, 3.6277999877929688, 3.6273999214172363, 3.6273999214172363, 3.627000093460083, 3.626199960708618, 3.6257998943328857, 3.625499963760376, 3.4423999786376953, 3.4377999305725098, 3.4544999599456787, 3.5034000873565674, 3.087100028991699, 3.16759991645813, 3.2428998947143555, 3.4223999977111816, 3.2644999027252197, 3.4475998878479004, 2.9049999713897705, 2.966200113296509, 2.9674999713897705, 2.6703999042510986, 2.3206000328063965, 3.1263999938964844, 2.662600040435791, 2.917099952697754, 2.2778000831604004, 2.872299909591675, 2.5553998947143555, 1.4521000385284424, 2.8666000366210938, 2.0927999019622803, 3.6526999473571777, 3.6521999835968018, 3.652100086212158, 3.651599884033203, 3.651599884033203, 3.651400089263916, 3.65120005607605, 3.6510000228881836, 3.650899887084961, 3.650700092315674, 3.650599956512451, 3.6503000259399414, 3.649899959564209, 3.6496999263763428, 3.6493000984191895, 3.6475000381469727, 3.6473000049591064, 3.646699905395508, 3.6466000080108643, 3.645900011062622, 3.644399881362915, 3.644200086593628, 3.6431000232696533, 3.6415998935699463, 3.640199899673462, 3.639699935913086, 3.6389999389648438, 3.638700008392334, 3.6375999450683594, 3.636899948120117, 3.5703001022338867, 3.4732000827789307, 3.391200065612793, 3.503000020980835, 3.3046000003814697, 2.795099973678589, 3.0622000694274902, 2.576200008392334, 2.7184998989105225, 2.984600067138672, 2.598299980163574, 2.5936999320983887, 1.7127000093460083, 2.6282999515533447, 1.625100016593933, 1.896299958229065, 3.665800094604492, 3.6654000282287598, 3.6603000164031982, 3.658099889755249, 3.656100034713745, 3.6552999019622803, 3.6547999382019043, 3.651700019836426, 3.6475000381469727, 3.644399881362915, 3.6429998874664307, 3.637200117111206, 3.632200002670288, 3.631700038909912, 3.6308999061584473, 3.626300096511841, 3.614799976348877, 3.6117000579833984, 3.6050000190734863, 3.566200017929077, 3.533900022506714, 3.456700086593628, 2.752000093460083, 2.426500082015991, 2.2290000915527344, 1.8214000463485718, 1.7092000246047974, 1.6334999799728394, 1.628000020980835, 0.6212000250816345, 0.5060999989509583, -0.4575999975204468, -0.060499999672174454, -0.46239998936653137, -0.2386000007390976, 3.8155999183654785, 3.8153998851776123, 3.815200090408325, 3.815200090408325, 3.8150999546051025, 3.815000057220459, 3.8148000240325928, 3.8143999576568604, 3.813499927520752, 3.813499927520752, 3.8131000995635986, 3.8129000663757324, 3.8125, 3.8122000694274902, 3.8120999336242676, 3.812000036239624, 3.810699939727783, 3.8106000423431396, 3.809499979019165, 3.8094000816345215, 3.8083999156951904, 3.8078999519348145, 3.8069000244140625, 3.805999994277954, 3.805299997329712, 3.8050999641418457, 3.805000066757202, 3.8046000003814697, 3.80430006980896, 3.8041999340057373, 3.392699956893921, 3.348400115966797, 2.754699945449829, 3.125200033187866, 3.3297998905181885, 2.605299949645996, 2.996999979019165, 3.296099901199341, 2.571500062942505, 2.669100046157837, 2.741499900817871, 2.751699924468994, 1.4842000007629395, 2.0987000465393066, 4.132900238037109, 4.132900238037109, 4.131700038909912, 4.13129997253418, 4.131100177764893, 4.1305999755859375, 4.130199909210205, 4.130000114440918, 4.129499912261963, 4.129499912261963, 4.128699779510498, 4.1280999183654785, 4.127699851989746, 4.127200126647949, 4.127200126647949, 4.126299858093262, 4.125800132751465, 4.125100135803223, 4.1244001388549805, 4.123700141906738, 4.123700141906738, 4.123499870300293, 4.1234002113342285, 4.121500015258789, 4.1209001541137695, 4.119900226593018, 4.11929988861084, 4.11870002746582, 4.118599891662598, 4.116099834442139, 3.94950008392334, 3.891700029373169, 3.7179999351501465, 3.815500020980835, 3.7869999408721924, 3.5724000930786133, 3.796299934387207, 3.3501999378204346, 3.043299913406372, 2.990299940109253, 3.5868000984191895, 3.1661999225616455, 2.489799976348877, 0.9128999710083008, 4.292600154876709, 4.292500019073486, 4.292200088500977, 4.290800094604492, 4.28980016708374, 4.2895002365112305, 4.289400100708008, 4.289000034332275, 4.288899898529053, 4.288400173187256, 4.287799835205078, 4.287600040435791, 4.287199974060059, 4.286900043487549, 4.286900043487549, 4.286799907684326, 4.286399841308594, 4.2855000495910645, 4.285200119018555, 4.285099983215332, 4.284999847412109, 4.28439998626709, 4.283999919891357, 4.282800197601318, 4.281099796295166, 4.281000137329102, 4.280900001525879, 4.280900001525879, 4.2804999351501465, 4.280399799346924, 4.003200054168701, 3.787899971008301, 3.4714999198913574, 3.5445001125335693, 2.439199924468994, 3.410599946975708, 3.235599994659424, 4.507299900054932, 4.506899833679199, 4.5065999031066895, 4.505199909210205, 4.5046000480651855, 4.504300117492676, 4.504199981689453, 4.5040998458862305, 4.503499984741211, 4.503399848937988, 4.503300189971924, 4.503200054168701, 4.502900123596191, 4.501100063323975, 4.500500202178955, 4.498300075531006, 4.4980998039245605, 4.497900009155273, 4.495800018310547, 4.495699882507324, 4.495299816131592, 4.493899822235107, 4.492800235748291, 4.4918999671936035, 4.490900039672852, 4.489999771118164, 4.4878997802734375, 4.485099792480469, 4.482900142669678, 4.482100009918213, 4.443600177764893, 4.4217000007629395, 4.307700157165527, 4.230000019073486, 4.036099910736084, 4.005899906158447, 3.8870999813079834, 4.078999996185303, 3.2716000080108643, 2.7850000858306885, 2.7197000980377197, 4.616499900817871, 4.616099834442139, 4.615300178527832, 4.614999771118164, 4.6149001121521, 4.614699840545654, 4.613999843597412, 4.613999843597412, 4.61329984664917, 4.6132001876831055, 4.6128997802734375, 4.612400054931641, 4.612400054931641, 4.612299919128418, 4.611800193786621, 4.611499786376953, 4.611000061035156, 4.609899997711182, 4.609899997711182, 4.609000205993652, 4.607500076293945, 4.6072001457214355, 4.605299949645996, 4.604400157928467, 4.6041998863220215, 4.602399826049805, 4.599299907684326, 4.597499847412109, 4.5970001220703125, 4.59689998626709, 4.3780999183654785, 4.35890007019043, 4.149700164794922, 3.6614999771118164, 3.8153998851776123, 3.180000066757202, 4.093100070953369, 4.767300128936768, 4.766600131988525, 4.766200065612793, 4.765699863433838, 4.7652997970581055, 4.765100002288818, 4.763800144195557, 4.761899948120117, 4.76039981842041, 4.760200023651123, 4.759399890899658, 4.759300231933594, 4.759200096130371, 4.758999824523926, 4.757900238037109, 4.757500171661377, 4.756899833679199, 4.756199836730957, 4.755899906158447, 4.755899906158447, 4.75570011138916, 4.75540018081665, 4.752999782562256, 4.752600193023682, 4.7519001960754395, 4.7505998611450195, 4.750400066375732, 4.749000072479248, 4.7480998039245605, 4.747700214385986, 4.429699897766113]}, \"token.table\": {\"Topic\": [6, 14, 10, 13, 2, 7, 9, 16, 11, 16, 16, 16, 3, 5, 10, 3, 14, 14, 6, 4, 6, 20, 9, 5, 6, 9, 13, 9, 9, 7, 4, 4, 4, 4, 4, 13, 5, 20, 3, 5, 6, 9, 10, 4, 6, 15, 5, 9, 17, 1, 10, 9, 20, 9, 16, 3, 5, 17, 5, 10, 5, 10, 11, 3, 20, 14, 10, 17, 13, 13, 1, 2, 5, 9, 13, 16, 14, 14, 18, 2, 5, 19, 4, 16, 5, 8, 16, 1, 3, 5, 2, 3, 3, 5, 2, 3, 5, 18, 3, 13, 3, 3, 3, 13, 14, 13, 3, 12, 5, 9, 11, 5, 20, 2, 8, 16, 9, 14, 10, 7, 2, 9, 2, 7, 9, 16, 11, 5, 6, 3, 3, 5, 3, 6, 6, 1, 11, 3, 13, 18, 15, 4, 3, 16, 9, 12, 1, 4, 17, 5, 10, 13, 10, 20, 14, 3, 15, 16, 9, 16, 9, 14, 7, 5, 2, 6, 17, 13, 3, 5, 17, 14, 9, 14, 16, 16, 3, 5, 8, 17, 7, 2, 3, 9, 5, 10, 5, 18, 16, 3, 5, 16, 2, 19, 1, 3, 14, 1, 16, 8, 1, 11, 2, 18, 2, 8, 2, 12, 17, 4, 6, 1, 7, 18, 19, 17, 1, 2, 1, 2, 4, 8, 11, 17, 12, 4, 4, 20, 19, 1, 13, 6, 6, 11, 5, 1, 6, 18, 19, 10, 9, 17, 1, 4, 2, 16, 4, 12, 2, 7, 16, 2, 6, 9, 13, 17, 11, 3, 10, 14, 1, 8, 11, 20, 15, 6, 4, 4, 11, 12, 10, 15, 20, 12, 1, 4, 7, 13, 15, 3, 5, 9, 11, 1, 7, 20, 12, 11, 4, 18, 12, 19, 20, 11, 18, 16, 20, 19, 1, 6, 7, 12, 15, 18, 1, 18, 5, 14, 15, 12, 19, 15, 3, 12, 13, 1, 2, 3, 1, 2, 4, 6, 8, 12, 15, 4, 19, 1, 12, 15, 2, 7, 13, 4, 18, 2, 8, 2, 16, 2, 4, 8, 19, 17, 17, 3, 20, 4, 6, 15, 6, 1, 2, 11, 16, 1, 7, 13, 20, 18, 18, 1, 9, 12, 11, 7, 8, 4, 11, 2, 7, 12, 13, 3, 10, 12, 6, 7, 4, 8, 18, 1, 12, 11, 15, 2, 8, 1, 2, 7, 9, 1, 7, 1, 4, 6, 9, 15, 12, 1, 3, 5, 10, 14, 6, 7, 9, 13, 18, 1, 2, 9, 7, 12, 8, 11, 16, 6, 11, 15, 8, 8, 7, 12, 13, 4, 9, 4, 9, 1, 2, 19, 1, 4, 13, 2, 18, 18, 2, 1, 9, 15, 10, 19, 1, 4, 8, 13, 1, 8, 17, 14, 15, 12, 13, 6, 12, 8, 3, 3, 5, 6, 10, 11, 11, 17, 7, 12, 20, 12, 6, 8, 12, 19, 6, 11, 8, 8, 12, 17, 11, 6, 14, 18, 15, 2, 4, 2, 8, 1, 4, 8, 18, 4, 6, 8, 11, 20, 8, 7, 19, 11, 17, 17, 6, 12, 19, 10, 7, 1, 2, 4, 8, 11, 7, 9, 11, 8, 1, 1, 13, 13, 19, 6, 7, 9, 6, 1, 2, 4, 6, 2, 2, 17, 15, 8, 7, 1, 2, 4, 6, 9, 13, 15, 15, 19, 7, 2, 7, 8, 16, 12, 18, 8, 9, 12, 15, 18, 3, 10, 1, 14, 11, 16, 1, 2, 16, 1, 2, 4, 8, 15, 1, 2, 8, 1, 4, 11, 9, 8, 16, 2, 20, 6, 16, 2, 19, 2, 4, 8, 9, 1, 2, 1, 10, 14, 1, 13, 13, 1, 2, 12, 11, 10, 19, 1, 2, 6, 11, 8, 6, 10, 1, 2, 7, 8, 9, 12, 13, 1, 7, 6, 13, 12, 1, 2, 16, 19, 19, 2, 11, 13, 14, 13, 6, 9, 14, 2, 4, 6, 9, 13, 15, 4, 12, 6, 4, 6, 7, 9, 18, 15, 7, 12, 15, 19, 13, 6, 4, 20, 2, 4, 7, 8, 9, 11, 16, 5, 10, 7, 19, 2, 16, 1, 4, 6, 8, 11, 9, 11, 2, 16, 4, 7, 9, 8, 20, 4, 20, 7, 8, 8, 9, 14, 1, 2, 4, 9, 13, 18, 1, 8, 19, 1, 2, 4, 8, 1, 4, 6, 8, 1, 4, 15, 15, 1, 4, 6, 9, 7, 1, 2, 4, 8, 1, 12, 12, 4, 1, 4, 6, 3, 8, 1, 4, 1, 11, 1, 9, 12, 10, 1, 3, 5, 10, 13, 1, 13, 15, 6, 6, 1, 2, 11, 6, 15, 6, 16, 7, 4, 8, 11, 19, 1, 2, 3, 13, 1, 2, 4, 8, 11, 4, 10, 18, 2, 13, 15, 6, 7, 11, 15, 14, 12, 2, 1, 2, 7, 16, 4, 9, 7, 9, 17, 13, 15, 1, 8, 4, 13, 17, 12, 20, 6, 17, 20, 6, 16, 5, 16, 1, 4, 6, 8, 19, 9, 15, 1, 4, 6, 7, 8, 9, 12, 19, 1, 2, 6, 13, 14, 1, 2, 4, 6, 7, 15, 5, 14, 6, 9, 11, 2, 17, 4, 16, 19, 1, 4, 9, 13, 7, 20, 12, 1, 14, 1, 2, 12, 1, 2, 6, 7, 11, 15, 9, 2, 7, 15, 2, 4, 15, 18, 18, 3, 5, 13, 4, 6, 9, 16, 19, 2, 18, 10, 13, 8, 18, 1, 2, 4, 8, 11, 16, 7, 4, 7, 11, 7, 2, 1, 9, 15, 11, 1, 2, 6, 7, 8, 15, 9, 1, 1, 2, 4, 8, 19, 2, 16, 13, 10, 1, 4, 6, 1, 2, 8, 12, 2, 10, 10, 18, 18, 1, 4, 8, 10, 1, 18, 8, 7, 8, 1, 8, 13, 15, 9, 17, 11, 4, 7, 13, 8, 17, 18, 6, 9, 15, 13, 7, 7, 11, 19, 8, 8, 8, 18, 2, 8, 4, 6, 8, 9, 12, 4, 6, 7, 8, 9, 7, 10, 18, 20, 3, 1, 1, 4, 8, 11, 15, 3, 14, 19, 1, 2, 9, 19, 11, 1, 4, 11, 1, 12, 1, 4, 8, 8, 5, 11, 11, 1, 7, 17, 4, 8, 16, 1, 2, 12, 7, 12, 1, 2, 9, 4, 6, 9, 8, 9, 13, 12, 11, 16, 18, 4, 10, 15, 17, 1, 2, 8, 9, 3, 15, 10, 15, 3, 5, 5, 1, 6, 12, 13, 15, 16, 3, 1, 2, 4, 5, 8, 9, 13, 14, 2, 19, 7, 6, 9, 1, 2, 11, 1, 17, 11, 18, 9, 11, 20, 6, 7, 1, 2, 4, 7, 15, 18, 7, 7, 1, 2, 1, 2, 1, 7, 12, 1, 4, 6, 7, 9, 16, 8, 11, 15, 2, 17, 1, 7, 20, 1, 2, 4, 6, 12, 13, 15, 10, 3, 2, 8, 9, 18, 9, 1, 16, 13, 13, 16, 12, 11, 1, 4, 6, 9, 16, 16, 9, 7, 17, 4, 8, 12, 13, 1, 7, 2, 8, 12, 13, 5, 2, 15, 15, 2, 9, 12, 17, 20, 12, 15, 2, 6, 8, 9, 13, 1, 6, 8, 9, 15, 19, 6, 7, 8, 9, 12, 13, 1, 3, 5, 8, 10, 11, 14, 1, 2, 4, 7, 16, 11, 17, 8, 1, 1, 2, 4, 6, 20, 10, 8, 17, 1, 2, 7, 16, 1, 6, 12, 1, 4, 11, 1, 4, 8, 11, 17, 19, 1, 2, 4, 12, 20, 19, 1, 16, 15, 7, 12, 10, 2, 17, 19, 16, 15, 1, 4, 8, 11, 11, 1, 2, 4, 6, 8, 11, 15, 16, 1, 4, 12, 7, 11, 14, 8, 6, 9, 9, 1, 4, 6, 7, 8, 12, 13, 15, 18, 3, 10, 4, 18, 1, 17, 6, 13, 17, 13, 2, 4, 16, 11, 17, 18, 2, 6, 18, 5, 10, 14, 20, 2, 19, 14, 1, 4, 6, 8, 2, 8, 16, 5, 7, 19, 8, 12, 1, 2, 4, 8, 11, 2, 1, 4, 4, 1, 11, 1, 6, 3, 15, 2, 2, 16, 1, 2, 4, 8, 1, 4, 6, 12, 13, 2, 7, 11, 16, 1, 1, 20, 1, 2, 4, 6, 15, 4, 8, 14, 3, 17, 1, 2, 7, 9, 16, 7, 3, 14], \"Freq\": [0.9929749369621277, 0.9846770167350769, 0.9869588017463684, 0.9952998161315918, 0.05717196315526962, 0.40564870834350586, 0.5336049795150757, 0.0013612372567877173, 0.9813882112503052, 0.9872461557388306, 0.9898116588592529, 0.9970062971115112, 0.20357131958007812, 0.7961050271987915, 0.9952625036239624, 0.9966344833374023, 0.9703188538551331, 0.9374126195907593, 0.9926577806472778, 0.9987033009529114, 0.9953029155731201, 0.984347403049469, 0.9936578869819641, 0.7098150253295898, 0.20653051137924194, 0.06029151752591133, 0.02266276814043522, 0.9951378703117371, 0.9971946477890015, 0.9956791400909424, 0.9961857795715332, 0.9960542321205139, 0.9970784187316895, 0.9978858828544617, 0.9944990873336792, 0.9897007942199707, 0.9440584182739258, 0.988784909248352, 0.03980553150177002, 0.7016467452049255, 0.057628899812698364, 0.20080998539924622, 0.9837204217910767, 0.9964076280593872, 0.9918638467788696, 0.9895542860031128, 0.976250171661377, 0.992011547088623, 0.991824209690094, 0.9957758188247681, 0.9867774248123169, 0.9971091747283936, 0.9841891527175903, 0.9967591762542725, 0.9826700687408447, 0.7497286200523376, 0.2501183748245239, 0.9962989687919617, 0.9570290446281433, 0.9986164569854736, 0.9874358773231506, 0.9847346544265747, 0.9994930028915405, 0.9947967529296875, 0.9983718395233154, 0.9676564335823059, 0.9840844869613647, 0.9950318336486816, 0.9926310777664185, 0.9962480664253235, 0.04966714605689049, 0.0019102749647572637, 0.3973371684551239, 0.212040513753891, 0.2808104157447815, 0.05348769575357437, 0.9873395562171936, 0.9868441224098206, 0.9966284036636353, 0.9991685152053833, 0.9995745420455933, 0.9787985682487488, 0.9987709522247314, 0.9970325231552124, 0.999565601348877, 0.9891479015350342, 0.9873700141906738, 0.08963123708963394, 0.1665647178888321, 0.7431923151016235, 0.9338120818138123, 0.06386514753103256, 0.9871333837509155, 0.958162784576416, 0.9962155818939209, 0.10679243505001068, 0.8930609822273254, 0.9944762587547302, 0.13431735336780548, 0.8615967035293579, 0.9990155696868896, 0.9951035380363464, 0.9992940425872803, 0.7070509195327759, 0.29039591550827026, 0.9984402656555176, 0.9842373728752136, 0.9902448654174805, 0.9307757616043091, 0.9943856000900269, 0.9872511029243469, 0.9605095386505127, 0.991010308265686, 0.9592792391777039, 0.03761879354715347, 0.9878791570663452, 0.9971993565559387, 0.9459068775177002, 0.9844600558280945, 0.9966744780540466, 0.15501385927200317, 0.8428878784179688, 0.08375748246908188, 0.6772098541259766, 0.07865031808614731, 0.15934349596500397, 0.992125391960144, 0.8159399032592773, 0.17737823724746704, 0.9968289732933044, 0.07489258795976639, 0.9191363453865051, 0.5397515892982483, 0.4497929811477661, 0.9925517439842224, 0.27464985847473145, 0.7206159234046936, 0.9998725056648254, 0.9823698997497559, 0.9877971410751343, 0.9959180951118469, 0.9971527457237244, 0.9897228479385376, 0.9823732972145081, 0.9966935515403748, 0.9856036901473999, 0.03946179524064064, 0.9542580246925354, 0.9936145544052124, 0.9997523427009583, 0.9984372854232788, 0.9976540207862854, 0.9829504489898682, 0.9870111346244812, 0.9941427111625671, 0.9969239234924316, 0.9909975528717041, 0.9830870628356934, 0.9953356981277466, 0.9887718558311462, 0.9974920749664307, 0.929467499256134, 0.9968369603157043, 0.9270787239074707, 0.9962050914764404, 0.9957641959190369, 0.993005096912384, 0.9913921356201172, 0.1447119414806366, 0.8280739188194275, 0.026530522853136063, 0.9761074781417847, 0.9918363690376282, 0.9716053009033203, 0.9960057139396667, 0.9959794282913208, 0.05879158154129982, 0.803642988204956, 0.13702231645584106, 0.9857315421104431, 0.9971266388893127, 0.995315432548523, 0.9466077089309692, 0.9980705976486206, 0.4862588942050934, 0.5105718374252319, 0.987374484539032, 0.9762032628059387, 0.9936419129371643, 0.06037088483572006, 0.9395498633384705, 0.9846572875976562, 0.9954216480255127, 0.9835518002510071, 0.9975917339324951, 0.9417780041694641, 0.9994322657585144, 0.2906898260116577, 0.7066362500190735, 0.9922428727149963, 0.26901090145111084, 0.729610025882721, 0.9971070885658264, 0.9712548851966858, 0.6724288463592529, 0.3256205916404724, 0.4732227623462677, 0.11086933314800262, 0.4137319028377533, 0.2140696793794632, 0.7844069600105286, 0.9986333847045898, 0.07430875301361084, 0.9139976501464844, 0.9961447715759277, 0.9940114617347717, 0.1255163550376892, 0.8721445202827454, 0.30095964670181274, 0.0018751380266621709, 0.15376132726669312, 0.1959519237279892, 0.3459629714488983, 0.9920312762260437, 0.9937013387680054, 0.9973211884498596, 0.9953926205635071, 0.9837586283683777, 0.9944731593132019, 0.9963610172271729, 0.983216404914856, 0.9986894726753235, 0.3165495991706848, 0.6807984709739685, 0.976692259311676, 0.16120079159736633, 0.8374577760696411, 0.7567037343978882, 0.2390812486410141, 0.9830578565597534, 0.649186372756958, 0.34701964259147644, 0.9968887567520142, 0.998349666595459, 0.9973317980766296, 0.9943820238113403, 0.9908300638198853, 0.9910029768943787, 0.26945286989212036, 0.1590602844953537, 0.5697681903839111, 0.9970743656158447, 0.4281468093395233, 0.34501758217811584, 0.07000356912612915, 0.15625795722007751, 0.9928510785102844, 0.9999814629554749, 0.979432225227356, 0.019980860874056816, 0.9659847021102905, 0.03286539018154144, 0.9890099167823792, 0.9893154501914978, 0.9877167344093323, 0.9920008778572083, 0.998324990272522, 0.3669194281101227, 0.6323146820068359, 0.996613085269928, 0.9949562549591064, 0.9968222975730896, 0.9892717003822327, 0.9955022931098938, 0.14852136373519897, 0.009480087086558342, 0.2696557939052582, 0.3923702538013458, 0.17906831204891205, 0.9808355569839478, 0.9805096387863159, 0.9977902770042419, 0.995161771774292, 0.08655648678541183, 0.9105076789855957, 0.9833617806434631, 0.9972931742668152, 0.9952875971794128, 0.9984738230705261, 0.9802858829498291, 0.9882604479789734, 0.9961697459220886, 0.9924867153167725, 0.3740970492362976, 0.6241217255592346, 0.9881627559661865, 0.9891960024833679, 0.9922491312026978, 0.16277803480625153, 0.24647052586078644, 0.048372719436883926, 0.21268640458583832, 0.3171100616455078, 0.011517314240336418, 0.9975963830947876, 0.991858720779419, 0.8584069609642029, 0.14129608869552612, 0.9939546585083008, 0.9907634258270264, 0.992734432220459, 0.9934734106063843, 0.9954709410667419, 0.9988933801651001, 0.9988752603530884, 0.19479882717132568, 0.8035451173782349, 0.9945856332778931, 0.2730500102043152, 0.1134864091873169, 0.151884064078331, 0.02133203111588955, 0.34003257751464844, 0.07210226356983185, 0.0281582809984684, 0.9967407584190369, 0.998137891292572, 0.4713060259819031, 0.026931772008538246, 0.5003094673156738, 0.9986187815666199, 0.6508299112319946, 0.34820666909217834, 0.9956757426261902, 0.9949480891227722, 0.052883557975292206, 0.9439714550971985, 0.2126665860414505, 0.7839474081993103, 0.2762266993522644, 0.7019407749176025, 0.021123217418789864, 0.9833847880363464, 0.9968605041503906, 0.9921346306800842, 0.9786396622657776, 0.9921979904174805, 0.2832905650138855, 0.7146915197372437, 0.9880316853523254, 0.9990512728691101, 0.7086469531059265, 0.05936448648571968, 0.2212192267179489, 0.010382129810750484, 0.3754584789276123, 0.6231675744056702, 0.989353597164154, 0.9770380854606628, 0.9801757335662842, 0.9865819811820984, 0.10223016142845154, 0.22313697636127472, 0.6723598837852478, 0.9930245280265808, 0.22601041197776794, 0.7706584334373474, 0.4321141242980957, 0.56532222032547, 0.32605841755867004, 0.21022188663482666, 0.46191611886024475, 0.9966898560523987, 0.9975624084472656, 0.9720236659049988, 0.9938647747039795, 0.8997509479522705, 0.09906266629695892, 0.8498163819313049, 0.1003427505493164, 0.04955197498202324, 0.4881027638912201, 0.5110136866569519, 0.7923347353935242, 0.20189297199249268, 0.9980922937393188, 0.9948137998580933, 0.07299762219190598, 0.27634814381599426, 0.5970162749290466, 0.05083763226866722, 0.9980140328407288, 0.9960480332374573, 0.3277270495891571, 0.09040746092796326, 0.056504666805267334, 0.08362690359354019, 0.4407363831996918, 0.9949735403060913, 0.1719144582748413, 0.0640132799744606, 0.10535519570112228, 0.6345559358596802, 0.024126218631863594, 0.06883734464645386, 0.08045923709869385, 0.5015292167663574, 0.16896440088748932, 0.17879830300807953, 0.5145609378814697, 0.4833754301071167, 0.0010753624374046922, 0.16800805926322937, 0.8260396122932434, 0.2726975381374359, 0.3901515305042267, 0.3360205590724945, 0.9933760166168213, 0.40290480852127075, 0.5948771238327026, 0.9938886761665344, 0.9902825951576233, 0.4531199634075165, 0.46497485041618347, 0.08034975826740265, 0.17351648211479187, 0.8242033123970032, 0.06542447954416275, 0.9310406446456909, 0.9990697503089905, 0.997888445854187, 0.9879669547080994, 0.37834545969963074, 0.563202440738678, 0.057543035596609116, 0.9943876266479492, 0.9936709403991699, 0.9985225200653076, 0.9966278672218323, 0.2925252914428711, 0.7061259746551514, 0.9975700378417969, 0.9714027643203735, 0.9927692413330078, 0.8842206001281738, 0.1122073233127594, 0.002687600441277027, 0.988433837890625, 0.9715040326118469, 0.028175871819257736, 0.9950295090675354, 0.983102560043335, 0.997542679309845, 0.575859546661377, 0.4238643944263458, 0.5186498761177063, 0.48017197847366333, 0.9957348704338074, 0.9650721549987793, 0.06054190918803215, 0.286958783864975, 0.18080537021160126, 0.46120136976242065, 0.01033642329275608, 0.9950879812240601, 0.9980310797691345, 0.1641722172498703, 0.8308109045028687, 0.9894229173660278, 0.9924255609512329, 0.9992377161979675, 0.8122705221176147, 0.1862122118473053, 0.9876935482025146, 0.9984245300292969, 0.9871395230293274, 0.9971665143966675, 0.9966306686401367, 0.996202290058136, 0.9926536083221436, 0.9864912629127502, 0.5976431369781494, 0.40120527148246765, 0.9944844245910645, 0.9974425435066223, 0.23367615044116974, 0.763523280620575, 0.4315180480480194, 0.5677869319915771, 0.23745575547218323, 0.6259403228759766, 0.13531485199928284, 0.9836902022361755, 0.4829105734825134, 0.07376851886510849, 0.06420592963695526, 0.3784051835536957, 0.9912509918212891, 0.9888213276863098, 0.5473238229751587, 0.4493460953235626, 0.9979757070541382, 0.9937828779220581, 0.9840845465660095, 0.12056532502174377, 0.872325599193573, 0.9920606017112732, 0.9992596507072449, 0.9977607727050781, 0.09620523452758789, 0.3321371078491211, 0.23879513144493103, 0.17809420824050903, 0.15404289960861206, 0.9941045641899109, 0.994546115398407, 0.9987449645996094, 0.995917797088623, 0.9970693588256836, 0.2923179864883423, 0.7059168219566345, 0.9861481785774231, 0.9925636649131775, 0.9940993189811707, 0.7903021574020386, 0.20705915987491608, 0.9992172718048096, 0.4343743920326233, 0.11774250864982605, 0.26126107573509216, 0.18616046011447906, 0.9967362880706787, 0.9964656233787537, 0.9882859587669373, 0.9965299963951111, 0.9948871731758118, 0.9963449835777283, 0.050942521542310715, 0.17969834804534912, 0.44784635305404663, 0.116440050303936, 0.07669369131326675, 0.008397119119763374, 0.11979889869689941, 0.9962705373764038, 0.99573814868927, 0.9946372509002686, 0.2461114078760147, 0.044051069766283035, 0.515205979347229, 0.19344164431095123, 0.996699333190918, 0.9837360382080078, 0.9934539794921875, 0.9974696636199951, 0.9913710355758667, 0.9976136088371277, 0.9874944090843201, 0.08171211928129196, 0.9180920124053955, 0.9989368915557861, 0.9833893179893494, 0.9815060496330261, 0.9864414930343628, 0.999363362789154, 0.9944987297058105, 0.9950881600379944, 0.4085860550403595, 0.18641740083694458, 0.3687489330768585, 0.021450769156217575, 0.014811244793236256, 0.9436482191085815, 0.05576600134372711, 0.9960578083992004, 0.8675594925880432, 0.10881055891513824, 0.023400120437145233, 0.9978327751159668, 0.8937892317771912, 0.10570355504751205, 0.9979342222213745, 0.9973600506782532, 0.9961451292037964, 0.995049238204956, 0.21179020404815674, 0.7861365079879761, 0.21105852723121643, 0.45930105447769165, 0.2838553786277771, 0.04503978416323662, 0.9971036314964294, 0.9982549548149109, 0.9967809319496155, 0.8692694902420044, 0.1302901953458786, 0.6397156119346619, 0.35875943303108215, 0.9977745413780212, 0.9196289777755737, 0.07918527722358704, 0.9951969385147095, 0.9859593510627747, 0.9805857539176941, 0.992480993270874, 0.4708399474620819, 0.056347984820604324, 0.43502554297447205, 0.03724697232246399, 0.988939106464386, 0.9523558020591736, 0.04470517858862877, 0.2755279242992401, 0.09612739086151123, 0.04974033683538437, 0.07600770890712738, 0.08103762567043304, 0.37947964668273926, 0.0413571335375309, 0.9956648349761963, 0.9956072568893433, 0.9917633533477783, 0.9896356463432312, 0.9933375120162964, 0.24896469712257385, 0.476020485162735, 0.03585091605782509, 0.23701438307762146, 0.9915408492088318, 0.3929121196269989, 0.6051901578903198, 0.9868951439857483, 0.9919705986976624, 0.9940526485443115, 0.6902226209640503, 0.3087370991706848, 0.9926264882087708, 0.10361554473638535, 0.11092452704906464, 0.3675987422466278, 0.27817121148109436, 0.11178440600633621, 0.027086222544312477, 0.9966521263122559, 0.993596613407135, 0.9984992146492004, 0.08507616817951202, 0.5038704872131348, 0.18167878687381744, 0.2283334583044052, 0.9969608187675476, 0.9916968941688538, 0.9955587387084961, 0.37243008613586426, 0.6254915595054626, 0.9926434755325317, 0.9960876107215881, 0.9974414110183716, 0.9963743090629578, 0.9818406701087952, 0.08791958540678024, 0.2831527888774872, 0.059475015848875046, 0.5010123252868652, 0.06723262369632721, 0.16600292921066284, 0.8300146460533142, 0.39271026849746704, 0.6055240631103516, 0.9995271563529968, 0.9942721128463745, 0.68000727891922, 0.3185198903083801, 0.7194498181343079, 0.08155583590269089, 0.07033812254667282, 0.0034865878988057375, 0.12491080164909363, 0.011532265692949295, 0.9831256866455078, 0.41714340448379517, 0.5788928866386414, 0.3043234348297119, 0.6933554410934448, 0.9972149133682251, 0.9989694356918335, 0.984971821308136, 0.9950096011161804, 0.9783087968826294, 0.9953025579452515, 0.9947608113288879, 0.4901464581489563, 0.34517356753349304, 0.15877984464168549, 0.5162925720214844, 0.07737718522548676, 0.14541573822498322, 0.05069539695978165, 0.042690861970186234, 0.16676117479801178, 0.12602432072162628, 0.8615105748176575, 0.01032986305654049, 0.05589568242430687, 0.5952134728431702, 0.3308420181274414, 0.016617635264992714, 0.8470712304115295, 0.04688757285475731, 0.07334887981414795, 0.032496336847543716, 0.2685427665710449, 0.07654425501823425, 0.653815507888794, 0.9921925663948059, 0.13064663112163544, 0.05372913181781769, 0.770871639251709, 0.04411444440484047, 0.995397686958313, 0.8747863173484802, 0.07426811009645462, 0.041406113654375076, 0.009201359003782272, 0.1910061091184616, 0.8042362332344055, 0.9889612197875977, 0.9977096915245056, 0.7746623754501343, 0.05398978292942047, 0.17076542973518372, 0.9917410612106323, 0.9985728859901428, 0.9679110050201416, 0.03130371868610382, 0.2050219178199768, 0.7915628552436829, 0.3956619203090668, 0.09258099645376205, 0.5096827149391174, 0.9929600358009338, 0.2534199357032776, 0.03527930751442909, 0.27983325719833374, 0.43129414319992065, 0.990537703037262, 0.06226733699440956, 0.8351148962974548, 0.10164227336645126, 0.998878002166748, 0.9919005036354065, 0.020396139472723007, 0.4881476163864136, 0.49018722772598267, 0.9968587160110474, 0.9957154393196106, 0.9934075474739075, 0.9911172986030579, 0.9949072599411011, 0.19767509400844574, 0.22719800472259521, 0.5737712383270264, 0.9812073111534119, 0.9693374633789062, 0.029177382588386536, 0.22919318079948425, 0.7690187096595764, 0.4018753170967102, 0.025624357163906097, 0.34422051906585693, 0.22165068984031677, 0.005979016423225403, 0.9958745241165161, 0.9861999154090881, 0.9939533472061157, 0.9981107115745544, 0.9973775744438171, 0.9895052909851074, 0.9942989349365234, 0.6288660764694214, 0.02874816209077835, 0.3413844406604767, 0.9399104714393616, 0.9948593378067017, 0.9969547390937805, 0.40700435638427734, 0.005793656688183546, 0.12890885770320892, 0.45625045895576477, 0.9947164058685303, 0.9959198832511902, 0.9970039129257202, 0.9948346018791199, 0.986495852470398, 0.920324444770813, 0.07791106402873993, 0.9286414384841919, 0.06969519704580307, 0.9955686926841736, 0.9968277812004089, 0.995210587978363, 0.9900574088096619, 0.985950767993927, 0.9972200393676758, 0.9878242015838623, 0.9860478043556213, 0.9941056370735168, 0.9908329844474792, 0.9995105266571045, 0.9942402243614197, 0.5170008540153503, 0.038224026560783386, 0.30411815643310547, 0.14006175100803375, 0.976571798324585, 0.38342583179473877, 0.613481342792511, 0.2738712430000305, 0.0700029581785202, 0.17439334094524384, 0.07767872512340546, 0.06631859391927719, 0.0700029581785202, 0.2674235999584198, 0.9976803064346313, 0.9969685077667236, 0.9968836903572083, 0.9978232979774475, 0.7486244440078735, 0.2381986826658249, 0.15562652051448822, 0.0943385437130928, 0.01187253836542368, 0.09369678795337677, 0.3462288975715637, 0.29745522141456604, 0.9836769700050354, 0.016032202169299126, 0.995483934879303, 0.09170371294021606, 0.8998426795005798, 0.39300575852394104, 0.6026087999343872, 0.9962162971496582, 0.9933356046676636, 0.988951563835144, 0.2211129069328308, 0.05219403654336929, 0.17176581919193268, 0.5532567501068115, 0.28474703431129456, 0.71186763048172, 0.9889166951179504, 0.8657659888267517, 0.129864901304245, 0.5851128697395325, 0.15810954570770264, 0.2565246820449829, 0.21732719242572784, 0.1015547588467598, 0.04671518877148628, 0.24779361486434937, 0.04062190279364586, 0.34427064657211304, 0.9963124394416809, 0.3633749186992645, 0.5516740083694458, 0.08409986644983292, 0.9490323662757874, 0.048255883157253265, 0.4574744999408722, 0.5358986854553223, 0.9960665702819824, 0.1596415936946869, 0.8401878476142883, 0.9973381161689758, 0.020990045741200447, 0.3463357388973236, 0.25013136863708496, 0.37956997752189636, 0.9908326268196106, 0.9960194826126099, 0.9879356026649475, 0.9985803365707397, 0.997712254524231, 0.9935871362686157, 0.9890798330307007, 0.23746880888938904, 0.30122706294059753, 0.040222156792879105, 0.2332533895969391, 0.14771543443202972, 0.03987087309360504, 0.9972059726715088, 0.264665424823761, 0.19916293025016785, 0.5346418619155884, 0.9980636239051819, 0.9985219240188599, 0.9973034858703613, 0.9961864948272705, 0.9938676953315735, 0.9962886571884155, 0.361729234457016, 0.44294649362564087, 0.0737202912569046, 0.09121324121952057, 0.01686820201575756, 0.01311971340328455, 0.9959903359413147, 0.9990972876548767, 0.3708270788192749, 0.0007029897533357143, 0.6049226522445679, 0.02319866232573986, 0.994278609752655, 0.2692762315273285, 0.7255498170852661, 0.9975766539573669, 0.9973136186599731, 0.27601462602615356, 0.45831263065338135, 0.2648884356021881, 0.17439483106136322, 0.13938120007514954, 0.061273861676454544, 0.6241853833198547, 0.9953569173812866, 0.9928613901138306, 0.993817925453186, 0.9846886396408081, 0.9955750703811646, 0.9747560024261475, 0.02317601628601551, 0.9948801398277283, 0.9832708835601807, 0.9984012246131897, 0.9947474598884583, 0.990941047668457, 0.05805283784866333, 0.9388545155525208, 0.5580238103866577, 0.020656460896134377, 0.07574035227298737, 0.3454717993736267, 0.5218090415000916, 0.4727993607521057, 0.9893948435783386, 0.29659754037857056, 0.6407625675201416, 0.06015893444418907, 0.18239454925060272, 0.21072769165039062, 0.6038499474525452, 0.6887513995170593, 0.2573520243167877, 0.0535530224442482, 0.9897610545158386, 0.9938713908195496, 0.296248197555542, 0.0764511451125145, 0.6243510246276855, 0.9928173422813416, 0.9968643188476562, 0.99273681640625, 0.9770318269729614, 0.32059285044670105, 0.6766430139541626, 0.10343901067972183, 0.208116814494133, 0.5023295879364014, 0.17962463200092316, 0.005574557464569807, 0.9923366904258728, 0.11308633536100388, 0.07539089024066925, 0.7516915202140808, 0.05913010984659195, 0.9971859455108643, 0.9950850009918213, 0.982904314994812, 0.9963827729225159, 0.9997915625572205, 0.9960571527481079, 0.41837337613105774, 0.46882566809654236, 0.10090461373329163, 0.011423164047300816, 0.9878515005111694, 0.12336737662553787, 0.8763175010681152, 0.9919688701629639, 0.2250010222196579, 0.15598811209201813, 0.23445485532283783, 0.38382527232170105, 0.9877468347549438, 0.3782965838909149, 0.6206579804420471, 0.9956594705581665, 0.996757984161377, 0.9880409836769104, 0.15258817374706268, 0.3885416090488434, 0.4581367075443268, 0.9960089921951294, 0.9921566247940063, 0.9831344485282898, 0.9818120002746582, 0.2919279634952545, 0.2668544054031372, 0.43878743052482605, 0.9983730316162109, 0.9381555318832397, 0.05896977707743645, 0.18564185500144958, 0.2139301300048828, 0.5993579626083374, 0.31065475940704346, 0.6873682737350464, 0.10399112105369568, 0.4803768992424011, 0.41363632678985596, 0.06513427197933197, 0.8800364136695862, 0.052107419818639755, 0.1831538826227188, 0.8126137852668762, 0.9913145303726196, 0.9942882657051086, 0.9948152303695679, 0.055620238184928894, 0.9375982880592346, 0.9965248703956604, 0.9848052859306335, 0.9960334897041321, 0.9946525692939758, 0.44478848576545715, 0.14540527760982513, 0.40917903184890747, 0.9936525225639343, 0.9781026244163513, 0.9937520027160645, 0.9775493144989014, 0.994318962097168, 0.995552122592926, 0.9736232757568359, 0.9002915620803833, 0.46347299218177795, 0.26929378509521484, 0.006792276632040739, 0.17260372638702393, 0.08710096031427383, 0.9947104454040527, 0.939659059047699, 0.5659041404724121, 0.09801329672336578, 0.14386630058288574, 0.14446699619293213, 0.01091261487454176, 0.005306133534759283, 0.015317706391215324, 0.016168691217899323, 0.9519948363304138, 0.045825839042663574, 0.997421145439148, 0.9958897233009338, 0.9958016276359558, 0.4265713691711426, 0.43984365463256836, 0.1332537829875946, 0.9967966675758362, 0.9926485419273376, 0.17794543504714966, 0.8175174593925476, 0.2551174461841583, 0.7401209473609924, 0.9831153154373169, 0.9984931945800781, 0.9981878995895386, 0.5735909938812256, 0.005939551629126072, 0.07466864585876465, 0.3444939851760864, 0.9979232549667358, 0.9817766547203064, 0.9948177933692932, 0.9974483847618103, 0.8383042812347412, 0.16121236979961395, 0.20084092020988464, 0.7958696484565735, 0.3658669888973236, 0.29445680975914, 0.33853715658187866, 0.00739741837605834, 0.013870159164071083, 0.6805624961853027, 0.24688883125782013, 0.0013870159164071083, 0.04947023466229439, 0.3394826054573059, 0.6595087051391602, 0.9977641701698303, 0.9970297813415527, 0.9972073435783386, 0.11972679197788239, 0.8779964447021484, 0.9965631365776062, 0.08562842011451721, 0.11060336977243423, 0.1546068638563156, 0.23547814786434174, 0.022596387192606926, 0.10227838903665543, 0.2878066301345825, 0.9932194352149963, 0.9893021583557129, 0.9947400093078613, 0.9923308491706848, 0.9943166971206665, 0.9970222115516663, 0.9962680339813232, 0.9962852001190186, 0.9897528290748596, 0.9943886995315552, 0.9985023736953735, 0.9983423352241516, 0.9891347289085388, 0.9879346489906311, 0.9979104995727539, 0.30327358841896057, 0.478594034910202, 0.19131457805633545, 0.026451855897903442, 0.9851053953170776, 0.9991208910942078, 0.9972876310348511, 0.9858985543251038, 0.9956136345863342, 0.9929669499397278, 0.48526835441589355, 0.5116869807243347, 0.9966745376586914, 0.9986329674720764, 0.3432404100894928, 0.6101482510566711, 0.0404716320335865, 0.005635290406644344, 0.9862149953842163, 0.9944430589675903, 0.9914774894714355, 0.987921416759491, 0.7924089431762695, 0.20440231263637543, 0.8209699392318726, 0.17704395949840546, 0.9928054809570312, 0.816545307636261, 0.17998097836971283, 0.1611655056476593, 0.12648431956768036, 0.29581010341644287, 0.06868235021829605, 0.346131831407547, 0.8017637729644775, 0.04762953147292137, 0.14989294111728668, 0.994739830493927, 0.225608691573143, 0.7718192338943481, 0.09416589140892029, 0.06277726590633392, 0.3546311855316162, 0.076057069003582, 0.07152986526489258, 0.34044593572616577, 0.6497729420661926, 0.061962660402059555, 0.264901340007782, 0.008481414057314396, 0.002812489401549101, 0.011689409613609314, 0.0003515611751936376, 0.5807064771652222, 0.34810304641723633, 0.039569318294525146, 0.028340186923742294, 0.002673602430149913, 0.9934697151184082, 0.99111407995224, 0.9953344464302063, 0.9989762306213379, 0.7759202122688293, 0.1356821060180664, 0.08050219714641571, 0.007558891549706459, 0.9961535930633545, 0.9889605045318604, 0.9966042637825012, 0.9986069202423096, 0.13272546231746674, 0.18764634430408478, 0.665152907371521, 0.013730219565331936, 0.23940058052539825, 0.7600682973861694, 0.9919521808624268, 0.7069373726844788, 0.0909423977136612, 0.2016036957502365, 0.8182573318481445, 0.0927770659327507, 0.0074585480615496635, 0.08113445341587067, 0.9944632649421692, 0.9907354712486267, 0.6979365348815918, 0.15218757092952728, 0.149628147482872, 0.987237274646759, 0.9952624440193176, 0.986684262752533, 0.28122836351394653, 0.7141304612159729, 0.992764413356781, 0.9977026581764221, 0.9975202679634094, 0.9878184199333191, 0.9960673451423645, 0.9894322156906128, 0.9962549209594727, 0.9886383414268494, 0.986503541469574, 0.2640840709209442, 0.3319677710533142, 0.0322861410677433, 0.3708766996860504, 0.996858537197113, 0.6740288734436035, 0.009797913022339344, 0.09088408946990967, 0.1391979306936264, 0.00844647642225027, 0.052030298858881, 0.025677289813756943, 0.9974538683891296, 0.2866241931915283, 0.33592689037323, 0.3768731951713562, 0.9964597225189209, 0.9947850704193115, 0.9738267660140991, 0.9919661283493042, 0.9358031153678894, 0.05968131870031357, 0.994784951210022, 0.018748322501778603, 0.065244160592556, 0.25722697377204895, 0.01481117494404316, 0.290973961353302, 0.11230245232582092, 0.14361214637756348, 0.09692882746458054, 0.9973351359367371, 0.22145713865756989, 0.7782707214355469, 0.7082049250602722, 0.2904355525970459, 0.9995273351669312, 0.9926830530166626, 0.8133123517036438, 0.18605786561965942, 0.990166962146759, 0.9977150559425354, 0.19747892022132874, 0.8004323244094849, 0.9985355138778687, 0.9844930768013, 0.9888613820075989, 0.9933621287345886, 0.054719697684049606, 0.28852203488349915, 0.6516618728637695, 0.9529663324356079, 0.003957202658057213, 0.04244999215006828, 0.9958831667900085, 0.4030416011810303, 0.5886528491973877, 0.9503129720687866, 0.777239203453064, 0.02491728775203228, 0.09996935725212097, 0.09756769239902496, 0.11742239445447922, 0.22075410187244415, 0.6591310501098633, 0.9837192296981812, 0.9967701435089111, 0.9932751059532166, 0.9965607523918152, 0.9933056831359863, 0.6019905209541321, 0.00742003321647644, 0.25002285838127136, 0.048714131116867065, 0.0912986695766449, 0.9979003667831421, 0.906164824962616, 0.09205738455057144, 0.9905409216880798, 0.9994091987609863, 0.9944380521774292, 0.9990182518959045, 0.9985895156860352, 0.9827551245689392, 0.9981825351715088, 0.9966046214103699, 0.9570128321647644, 0.041681744158267975, 0.09952559322118759, 0.16553747653961182, 0.7301928997039795, 0.004062269348651171, 0.612858235836029, 0.12241668999195099, 0.1239662691950798, 0.009039207361638546, 0.1314558982849121, 0.310048371553421, 0.052140265703201294, 0.6191656589508057, 0.017690446227788925, 0.9961941242218018, 0.9974944591522217, 0.9769341349601746, 0.05644064396619797, 0.1424986571073532, 0.4409075975418091, 0.31349703669548035, 0.045823097229003906, 0.6929271817207336, 0.3051600754261017, 0.9998747706413269, 0.25228726863861084, 0.7474642395973206, 0.6245609521865845, 0.22535233199596405, 0.023241596296429634, 0.11210652440786362, 0.014355103485286236, 0.9976775050163269, 0.18830718100070953, 0.811169445514679], \"Term\": [\"ATI\", \"Access\", \"Adobe\", \"Apple\", \"April\", \"April\", \"April\", \"April\", \"Arabs\", \"Argic\", \"Armenia\", \"Armenians\", \"B\", \"B\", \"BC\", \"BJ\", \"BK\", \"BMP\", \"Bay\", \"Bible\", \"Bill\", \"Black\", \"Box\", \"C\", \"C\", \"C\", \"C\", \"California\", \"Center\", \"Chicago\", \"Christ\", \"Christian\", \"Christianity\", \"Christians\", \"Clipper\", \"Code\", \"Commander\", \"Control\", \"D\", \"D\", \"D\", \"D\", \"DE\", \"DES\", \"Dave\", \"Digital\", \"Director\", \"Division\", \"DoD\", \"Don\", \"Doug\", \"Dr\", \"Duo\", \"Earth\", \"European\", \"F\", \"F\", \"FAQ\", \"FO\", \"G\", \"GN\", \"GT\", \"God\", \"Graphics\", \"H\", \"HQ\", \"Hill\", \"Honda\", \"IBM\", \"IDE\", \"II\", \"II\", \"II\", \"II\", \"II\", \"II\", \"IP\", \"IV\", \"Iran\", \"Israel\", \"J\", \"Jason\", \"Jesus\", \"Jews\", \"K\", \"Koresh\", \"Kurds\", \"L\", \"L\", \"L\", \"LA\", \"LA\", \"LX\", \"Library\", \"Lord\", \"M\", \"M\", \"MA\", \"MB\", \"MB\", \"MD\", \"MO\", \"MR\", \"MS\", \"MS\", \"Mac\", \"Magazine\", \"Mail\", \"Major\", \"Medical\", \"Microsoft\", \"Militia\", \"Montreal\", \"Mr\", \"Mr\", \"Muslims\", \"NASA\", \"NCD\", \"NL\", \"NSA\", \"National\", \"National\", \"New\", \"New\", \"New\", \"New\", \"Northern\", \"O\", \"O\", \"Office\", \"P\", \"P\", \"PO\", \"PO\", \"PS\", \"Paul\", \"Paul\", \"Q\", \"Quadra\", \"Qur\", \"R\", \"RSA\", \"RT\", \"Republic\", \"Research\", \"Road\", \"Robert\", \"Robert\", \"Ron\", \"S\", \"SC\", \"SCSI\", \"SF\", \"SR\", \"SS\", \"ST\", \"Sam\", \"Serdar\", \"Society\", \"Soviet\", \"Space\", \"Sparc\", \"St\", \"Stanford\", \"States\", \"Sun\", \"Sunday\", \"System\", \"T\", \"T\", \"T\", \"TC\", \"Technology\", \"Thanx\", \"Turkey\", \"Turks\", \"U\", \"U\", \"U\", \"UNIX\", \"USA\", \"United\", \"Univ\", \"University\", \"V\", \"V\", \"VW\", \"Virginia\", \"Volume\", \"W\", \"W\", \"WWII\", \"Washington\", \"Window\", \"Windows\", \"Workshop\", \"X\", \"York\", \"York\", \"abuse\", \"accept\", \"accept\", \"account\", \"accuracy\", \"act\", \"act\", \"addition\", \"addition\", \"addition\", \"address\", \"address\", \"advance\", \"advantage\", \"advantage\", \"advice\", \"affect\", \"age\", \"age\", \"agree\", \"agree\", \"agree\", \"agree\", \"agree\", \"ah\", \"air\", \"algorithm\", \"alt\", \"angle\", \"anti\", \"anybody\", \"app\", \"application\", \"apply\", \"apply\", \"appoint\", \"appreciate\", \"appreciate\", \"appropriate\", \"appropriate\", \"arbitrary\", \"archive\", \"archive\", \"aren\", \"argument\", \"arm\", \"armenian\", \"aspect\", \"assembly\", \"attack\", \"attack\", \"attack\", \"authority\", \"available\", \"available\", \"available\", \"available\", \"aware\", \"ax\", \"b\", \"b\", \"bad\", \"bad\", \"ban\", \"band\", \"bar\", \"baseball\", \"belief\", \"believe\", \"believe\", \"belt\", \"benefit\", \"bike\", \"bill\", \"bio\", \"bit\", \"bit\", \"bit\", \"bit\", \"bit\", \"bizarre\", \"bj\", \"black\", \"blind\", \"block\", \"block\", \"blue\", \"board\", \"bomb\", \"book\", \"boost\", \"boot\", \"box\", \"boy\", \"break\", \"break\", \"british\", \"brother\", \"buffer\", \"build\", \"build\", \"build\", \"build\", \"build\", \"build\", \"bus\", \"buyer\", \"c\", \"c\", \"cable\", \"canadian\", \"cap\", \"capacity\", \"capture\", \"car\", \"card\", \"carry\", \"carry\", \"cartridge\", \"case\", \"case\", \"case\", \"case\", \"case\", \"case\", \"case\", \"cd\", \"character\", \"check\", \"check\", \"check\", \"child\", \"chip\", \"chip\", \"christian\", \"circuit\", \"citizen\", \"citizen\", \"civilian\", \"civilian\", \"claim\", \"claim\", \"claim\", \"click\", \"clipper\", \"club\", \"clutch\", \"co\", \"code\", \"code\", \"collection\", \"com\", \"come\", \"come\", \"come\", \"come\", \"company\", \"company\", \"compiler\", \"compound\", \"compress\", \"compression\", \"computer\", \"computer\", \"computer\", \"concept\", \"concern\", \"concern\", \"conclusion\", \"conclusion\", \"condition\", \"condition\", \"condition\", \"controller\", \"convert\", \"converter\", \"cool\", \"copy\", \"copy\", \"correct\", \"correct\", \"correct\", \"cost\", \"cost\", \"count\", \"count\", \"country\", \"court\", \"cover\", \"cover\", \"cover\", \"cover\", \"cpu\", \"criminal\", \"current\", \"current\", \"current\", \"current\", \"current\", \"cycle\", \"d\", \"d\", \"d\", \"d\", \"d\", \"datum\", \"datum\", \"datum\", \"datum\", \"datum\", \"day\", \"day\", \"day\", \"dealer\", \"dealer\", \"death\", \"death\", \"death\", \"default\", \"define\", \"define\", \"deny\", \"description\", \"design\", \"design\", \"design\", \"develop\", \"develop\", \"development\", \"development\", \"didn\", \"die\", \"diet\", \"different\", \"different\", \"different\", \"direct\", \"directory\", \"discussion\", \"disease\", \"disk\", \"disk\", \"display\", \"distinguish\", \"doctor\", \"doesn\", \"doesn\", \"doesn\", \"domain\", \"don\", \"don\", \"door\", \"download\", \"draw\", \"drive\", \"drive\", \"driver\", \"driver\", \"drug\", \"dt\", \"e\", \"e\", \"e\", \"e\", \"e\", \"earth\", \"easy\", \"eat\", \"eat\", \"edit\", \"edition\", \"edu\", \"effect\", \"effect\", \"electrical\", \"email\", \"enable\", \"encryption\", \"enforcement\", \"engine\", \"ensure\", \"entity\", \"entry\", \"entry\", \"environment\", \"error\", \"event\", \"event\", \"evidence\", \"evidence\", \"example\", \"example\", \"example\", \"exe\", \"exist\", \"exist\", \"exist\", \"exist\", \"expand\", \"expansion\", \"expensive\", \"expensive\", \"explain\", \"export\", \"extension\", \"external\", \"external\", \"extra\", \"f\", \"face\", \"fact\", \"fact\", \"fact\", \"fact\", \"fact\", \"factor\", \"failure\", \"faith\", \"family\", \"fan\", \"fast\", \"fast\", \"faster\", \"father\", \"fax\", \"field\", \"field\", \"file\", \"find\", \"find\", \"find\", \"find\", \"fire\", \"firearm\", \"fish\", \"fix\", \"flame\", \"floppy\", \"follow\", \"follow\", \"follow\", \"follow\", \"follow\", \"follow\", \"follow\", \"following\", \"font\", \"foot\", \"force\", \"force\", \"force\", \"force\", \"format\", \"forum\", \"freedom\", \"ftp\", \"fuel\", \"function\", \"funny\", \"g\", \"g\", \"game\", \"garage\", \"generation\", \"genocide\", \"get\", \"gift\", \"girl\", \"give\", \"give\", \"give\", \"give\", \"give\", \"go\", \"go\", \"goal\", \"good\", \"good\", \"good\", \"gov\", \"government\", \"government\", \"grant\", \"graphic\", \"greatly\", \"greek\", \"ground\", \"ground\", \"group\", \"group\", \"group\", \"group\", \"guess\", \"gun\", \"guy\", \"h\", \"h\", \"hard\", \"hard\", \"hardware\", \"hear\", \"hear\", \"heat\", \"heaven\", \"height\", \"hello\", \"help\", \"help\", \"help\", \"help\", \"hey\", \"hi\", \"hi\", \"high\", \"high\", \"high\", \"high\", \"high\", \"high\", \"high\", \"hit\", \"hole\", \"homosexual\", \"horse\", \"hot\", \"house\", \"house\", \"house\", \"house\", \"hp\", \"human\", \"human\", \"ibm\", \"icon\", \"ie\", \"image\", \"image\", \"implementation\", \"include\", \"include\", \"include\", \"include\", \"include\", \"include\", \"individual\", \"industry\", \"info\", \"information\", \"information\", \"information\", \"information\", \"input\", \"insert\", \"insist\", \"instal\", \"instal\", \"insurance\", \"interface\", \"internal\", \"interpretation\", \"introduce\", \"issue\", \"issue\", \"issue\", \"issue\", \"issue\", \"jewish\", \"jewish\", \"k\", \"k\", \"key\", \"kid\", \"kill\", \"kill\", \"know\", \"know\", \"know\", \"know\", \"know\", \"knowledge\", \"knowledge\", \"land\", \"land\", \"later\", \"later\", \"launch\", \"law\", \"lawyer\", \"learn\", \"leather\", \"left\", \"legal\", \"length\", \"length\", \"length\", \"level\", \"level\", \"level\", \"level\", \"level\", \"level\", \"license\", \"license\", \"license\", \"life\", \"life\", \"life\", \"life\", \"like\", \"like\", \"like\", \"like\", \"line\", \"line\", \"line\", \"link\", \"list\", \"list\", \"list\", \"list\", \"listen\", \"little\", \"little\", \"little\", \"little\", \"load\", \"load\", \"locate\", \"logic\", \"look\", \"look\", \"look\", \"loop\", \"lose\", \"lot\", \"lot\", \"love\", \"love\", \"low\", \"low\", \"low\", \"luck\", \"m\", \"m\", \"m\", \"m\", \"mac\", \"machine\", \"machine\", \"machine\", \"mail\", \"mailing\", \"man\", \"man\", \"man\", \"manager\", \"manual\", \"map\", \"massacre\", \"master\", \"matter\", \"matter\", \"matter\", \"maximum\", \"maybe\", \"maybe\", \"mb\", \"mb\", \"mean\", \"mean\", \"mean\", \"mean\", \"mean\", \"meaning\", \"medicine\", \"medium\", \"member\", \"memory\", \"menu\", \"merely\", \"message\", \"message\", \"message\", \"mi\", \"mile\", \"military\", \"million\", \"million\", \"million\", \"million\", \"minor\", \"mirror\", \"miss\", \"mission\", \"mit\", \"mode\", \"mode\", \"money\", \"money\", \"moral\", \"motherboard\", \"motif\", \"motor\", \"motto\", \"mouse\", \"movie\", \"mph\", \"multiple\", \"muslim\", \"n\", \"national\", \"need\", \"need\", \"need\", \"need\", \"netter\", \"network\", \"network\", \"new\", \"new\", \"new\", \"new\", \"new\", \"new\", \"new\", \"newsgroup\", \"nice\", \"night\", \"notice\", \"ns\", \"ns\", \"number\", \"number\", \"number\", \"number\", \"number\", \"number\", \"o\", \"o\", \"object\", \"observation\", \"observation\", \"obtain\", \"obtain\", \"obviously\", \"occupy\", \"odd\", \"offer\", \"offer\", \"offer\", \"offer\", \"oh\", \"oh\", \"oil\", \"ok\", \"ok\", \"old\", \"old\", \"old\", \"open\", \"open\", \"open\", \"open\", \"open\", \"open\", \"orbit\", \"order\", \"order\", \"order\", \"organization\", \"organization\", \"output\", \"output\", \"owner\", \"p\", \"p\", \"package\", \"page\", \"page\", \"page\", \"page\", \"panel\", \"party\", \"path\", \"patient\", \"pc\", \"peace\", \"penalty\", \"people\", \"people\", \"people\", \"people\", \"people\", \"people\", \"period\", \"person\", \"person\", \"person\", \"phone\", \"physical\", \"pick\", \"picture\", \"piece\", \"pin\", \"place\", \"place\", \"place\", \"place\", \"place\", \"place\", \"plane\", \"play\", \"point\", \"point\", \"point\", \"point\", \"pointer\", \"population\", \"population\", \"port\", \"possibly\", \"post\", \"post\", \"post\", \"power\", \"power\", \"power\", \"power\", \"practice\", \"preach\", \"prefer\", \"preferably\", \"prepare\", \"pretty\", \"pretty\", \"prevent\", \"prevention\", \"price\", \"printer\", \"privacy\", \"private\", \"private\", \"problem\", \"problem\", \"problem\", \"problem\", \"procedure\", \"procedure\", \"processor\", \"produce\", \"produce\", \"produce\", \"product\", \"product\", \"product\", \"program\", \"program\", \"program\", \"progress\", \"proof\", \"proper\", \"proper\", \"proper\", \"proposal\", \"protect\", \"protection\", \"protest\", \"prove\", \"prove\", \"provide\", \"provide\", \"provide\", \"provide\", \"provide\", \"pub\", \"public\", \"public\", \"public\", \"public\", \"publish\", \"pull\", \"punishment\", \"purchase\", \"q\", \"quality\", \"question\", \"question\", \"question\", \"question\", \"quick\", \"r\", \"r\", \"ram\", \"rate\", \"rate\", \"rate\", \"rate\", \"rational\", \"read\", \"read\", \"reality\", \"realize\", \"rear\", \"reason\", \"reason\", \"reason\", \"reduce\", \"regularly\", \"related\", \"relation\", \"release\", \"release\", \"release\", \"religion\", \"religious\", \"religious\", \"remove\", \"remove\", \"remove\", \"replace\", \"replace\", \"report\", \"report\", \"report\", \"request\", \"request\", \"request\", \"research\", \"research\", \"resolution\", \"resource\", \"respect\", \"responsible\", \"responsible\", \"revelation\", \"rich\", \"ride\", \"rider\", \"right\", \"right\", \"right\", \"rocket\", \"rod\", \"rom\", \"rotate\", \"route\", \"rs\", \"ruin\", \"ruler\", \"run\", \"run\", \"run\", \"run\", \"run\", \"russian\", \"rv\", \"s\", \"s\", \"s\", \"s\", \"s\", \"s\", \"s\", \"s\", \"safety\", \"safety\", \"sale\", \"sample\", \"satellite\", \"say\", \"say\", \"say\", \"scan\", \"scheme\", \"school\", \"school\", \"science\", \"science\", \"scope\", \"screen\", \"season\", \"second\", \"second\", \"second\", \"second\", \"section\", \"secular\", \"secure\", \"security\", \"see\", \"see\", \"self\", \"self\", \"sell\", \"sell\", \"sell\", \"send\", \"send\", \"send\", \"send\", \"send\", \"send\", \"sense\", \"sense\", \"serial\", \"serve\", \"server\", \"service\", \"service\", \"session\", \"set\", \"set\", \"set\", \"set\", \"set\", \"set\", \"set\", \"shape\", \"shareware\", \"shoot\", \"shouldn\", \"shuttle\", \"signal\", \"sink\", \"size\", \"slaughter\", \"slow\", \"software\", \"soldier\", \"solid\", \"soul\", \"sound\", \"source\", \"source\", \"source\", \"source\", \"soviet\", \"space\", \"speak\", \"spec\", \"specific\", \"specifically\", \"speed\", \"speed\", \"spend\", \"st\", \"state\", \"state\", \"state\", \"state\", \"std\", \"step\", \"stream\", \"strip\", \"study\", \"study\", \"stuff\", \"stuff\", \"suck\", \"supply\", \"supply\", \"support\", \"support\", \"support\", \"support\", \"support\", \"sure\", \"sure\", \"sure\", \"surface\", \"switch\", \"switch\", \"system\", \"system\", \"system\", \"system\", \"system\", \"system\", \"t\", \"t\", \"t\", \"t\", \"t\", \"t\", \"t\", \"take\", \"take\", \"take\", \"take\", \"take\", \"tank\", \"tap\", \"tax\", \"team\", \"tell\", \"tell\", \"tell\", \"tell\", \"telnet\", \"terminal\", \"terrorist\", \"test\", \"th\", \"th\", \"th\", \"th\", \"thank\", \"thank\", \"thermal\", \"thing\", \"thing\", \"thing\", \"think\", \"think\", \"think\", \"think\", \"thought\", \"ticket\", \"time\", \"time\", \"time\", \"tire\", \"topic\", \"touch\", \"town\", \"town\", \"trace\", \"trade\", \"transfer\", \"translate\", \"trap\", \"travel\", \"treatment\", \"troop\", \"truck\", \"true\", \"true\", \"true\", \"true\", \"truth\", \"try\", \"try\", \"try\", \"try\", \"try\", \"try\", \"try\", \"turkish\", \"type\", \"type\", \"type\", \"unit\", \"universe\", \"unix\", \"unlikely\", \"update\", \"update\", \"upgrade\", \"use\", \"use\", \"use\", \"use\", \"use\", \"use\", \"use\", \"use\", \"user\", \"v\", \"v\", \"value\", \"value\", \"ve\", \"vendor\", \"version\", \"version\", \"versus\", \"video\", \"view\", \"view\", \"village\", \"violate\", \"violence\", \"voltage\", \"volume\", \"volume\", \"volume\", \"w\", \"w\", \"w\", \"wait\", \"wall\", \"wall\", \"wallpaper\", \"want\", \"want\", \"want\", \"want\", \"war\", \"war\", \"war\", \"warning\", \"warranty\", \"waste\", \"watch\", \"water\", \"way\", \"way\", \"way\", \"way\", \"way\", \"weapon\", \"well\", \"well\", \"widget\", \"will\", \"willing\", \"win\", \"window\", \"wipe\", \"wire\", \"withdraw\", \"woman\", \"woman\", \"word\", \"word\", \"word\", \"word\", \"work\", \"work\", \"work\", \"work\", \"work\", \"world\", \"world\", \"world\", \"world\", \"worth\", \"wouldn\", \"wow\", \"write\", \"write\", \"write\", \"write\", \"write\", \"wrong\", \"wrong\", \"x\", \"y\", \"y\", \"year\", \"year\", \"year\", \"year\", \"year\", \"young\", \"z\", \"z\"]}, \"R\": 30, \"lambda.step\": 0.01, \"plot.opts\": {\"xlab\": \"PC1\", \"ylab\": \"PC2\"}, \"topic.order\": [7, 14, 17, 16, 15, 19, 13, 20, 9, 18, 2, 3, 10, 1, 12, 4, 6, 11, 5, 8]};\n",
       "\n",
       "function LDAvis_load_lib(url, callback){\n",
       "  var s = document.createElement('script');\n",
       "  s.src = url;\n",
       "  s.async = true;\n",
       "  s.onreadystatechange = s.onload = callback;\n",
       "  s.onerror = function(){console.warn(\"failed to load library \" + url);};\n",
       "  document.getElementsByTagName(\"head\")[0].appendChild(s);\n",
       "}\n",
       "\n",
       "if(typeof(LDAvis) !== \"undefined\"){\n",
       "   // already loaded: just create the visualization\n",
       "   !function(LDAvis){\n",
       "       new LDAvis(\"#\" + \"ldavis_el2617620902370540246393182441\", ldavis_el2617620902370540246393182441_data);\n",
       "   }(LDAvis);\n",
       "}else if(typeof define === \"function\" && define.amd){\n",
       "   // require.js is available: use it to load d3/LDAvis\n",
       "   require.config({paths: {d3: \"https://cdnjs.cloudflare.com/ajax/libs/d3/3.5.5/d3.min\"}});\n",
       "   require([\"d3\"], function(d3){\n",
       "      window.d3 = d3;\n",
       "      LDAvis_load_lib(\"https://cdn.rawgit.com/bmabey/pyLDAvis/files/ldavis.v1.0.0.js\", function(){\n",
       "        new LDAvis(\"#\" + \"ldavis_el2617620902370540246393182441\", ldavis_el2617620902370540246393182441_data);\n",
       "      });\n",
       "    });\n",
       "}else{\n",
       "    // require.js not available: dynamically load d3 & LDAvis\n",
       "    LDAvis_load_lib(\"https://cdnjs.cloudflare.com/ajax/libs/d3/3.5.5/d3.min.js\", function(){\n",
       "         LDAvis_load_lib(\"https://cdn.rawgit.com/bmabey/pyLDAvis/files/ldavis.v1.0.0.js\", function(){\n",
       "                 new LDAvis(\"#\" + \"ldavis_el2617620902370540246393182441\", ldavis_el2617620902370540246393182441_data);\n",
       "            })\n",
       "         });\n",
       "}\n",
       "</script>"
      ],
      "text/plain": [
       "<IPython.core.display.HTML object>"
      ]
     },
     "execution_count": 48,
     "metadata": {},
     "output_type": "execute_result"
    }
   ],
   "source": [
    "pyLDAvis.enable_notebook()\n",
    "vis = pyLDAvis.gensim.prepare(lda, corpus, id2word)\n",
    "pyLDAvis.display(vis)"
   ]
  },
  {
   "cell_type": "code",
   "execution_count": 49,
   "metadata": {
    "colab": {},
    "colab_type": "code",
    "id": "rjtXk8J3LaXC"
   },
   "outputs": [],
   "source": [
    "def compute_coherence_values(dictionary, corpus, texts, limit, start=2, step=3):\n",
    "    \"\"\"\n",
    "    Compute c_v coherence for various number of topics\n",
    "\n",
    "    Parameters:\n",
    "    ----------\n",
    "    dictionary : Gensim dictionary\n",
    "    corpus : Gensim corpus\n",
    "    texts : List of input texts\n",
    "    limit : Max num of topics\n",
    "\n",
    "    Returns:\n",
    "    -------\n",
    "    model_list : List of LDA topic models\n",
    "    coherence_values : Coherence values corresponding to the LDA model with respective number of topics\n",
    "    \"\"\"\n",
    "    coherence_values = []\n",
    "    model_list = []\n",
    "    for num_topics in range(start, limit, step):\n",
    "        model = gensim.models.ldamulticore.LdaMulticore(corpus=corpus,\n",
    "                                                        id2word=id2word,\n",
    "                                                        num_topics=num_topics, \n",
    "                                                        chunksize=100,\n",
    "                                                        passes=10,\n",
    "                                                        per_word_topics=True,\n",
    "                                                        workers=12)\n",
    "        model_list.append(model)\n",
    "        coherencemodel = CoherenceModel(model=model, texts=texts, dictionary=dictionary, coherence='c_v')\n",
    "        coherence_values.append(coherencemodel.get_coherence())\n",
    "\n",
    "    return model_list, coherence_values"
   ]
  },
  {
   "cell_type": "code",
   "execution_count": 50,
   "metadata": {
    "colab": {},
    "colab_type": "code",
    "id": "pRA9EjvQ3L0c"
   },
   "outputs": [
    {
     "name": "stdout",
     "output_type": "stream",
     "text": [
      "Wall time: 16min 54s\n"
     ]
    }
   ],
   "source": [
    "%%time\n",
    "model_list, coherence_values = compute_coherence_values(dictionary=id2word, \n",
    "                                                        corpus=corpus, \n",
    "                                                        texts=df['lemmas'], \n",
    "                                                        start=10, \n",
    "                                                        limit=41, \n",
    "                                                        step=5)"
   ]
  },
  {
   "cell_type": "code",
   "execution_count": 51,
   "metadata": {
    "colab": {},
    "colab_type": "code",
    "id": "2e9X-Ql-3L0e"
   },
   "outputs": [],
   "source": [
    "# coherence_values = [0.5054, 0.5332, 0.5452, 0.564, 0.5678, 0.5518, 0.519]"
   ]
  },
  {
   "cell_type": "code",
   "execution_count": 52,
   "metadata": {
    "colab": {},
    "colab_type": "code",
    "id": "ybEBYQNF3L0g"
   },
   "outputs": [
    {
     "data": {
      "image/png": "[encoded data removed]",
      "text/plain": [
       "<Figure size 432x288 with 1 Axes>"
      ]
     },
     "metadata": {
      "needs_background": "light"
     },
     "output_type": "display_data"
    }
   ],
   "source": [
    "start=10; limit=41; step=5;\n",
    "x = range(start, limit, step)\n",
    "plt.plot(x, coherence_values)\n",
    "plt.xlabel(\"Num Topics\")\n",
    "plt.ylabel(\"Coherence score\")\n",
    "plt.legend((\"coherence_values\"), loc='best')\n",
    "plt.show()"
   ]
  },
  {
   "cell_type": "code",
   "execution_count": 53,
   "metadata": {
    "colab": {},
    "colab_type": "code",
    "id": "DmvQ2zKZ3L0i"
   },
   "outputs": [
    {
     "name": "stdout",
     "output_type": "stream",
     "text": [
      "Num Topics = 10  has Coherence Value of 0.5787\n",
      "Num Topics = 15  has Coherence Value of 0.7057\n",
      "Num Topics = 20  has Coherence Value of 0.5802\n",
      "Num Topics = 25  has Coherence Value of 0.6054\n",
      "Num Topics = 30  has Coherence Value of 0.5839\n",
      "Num Topics = 35  has Coherence Value of 0.6177\n",
      "Num Topics = 40  has Coherence Value of 0.5878\n"
     ]
    }
   ],
   "source": [
    "# Print the coherence scores\n",
    "for m, cv in zip(x, coherence_values):\n",
    "    print(\"Num Topics =\", m, \" has Coherence Value of\", round(cv, 4))"
   ]
  },
  {
   "cell_type": "code",
   "execution_count": 54,
   "metadata": {
    "colab": {},
    "colab_type": "code",
    "id": "Yol5vG3R3L0k"
   },
   "outputs": [],
   "source": [
    "# Select the model and print the topics\n",
    "# optimal_model = model_list[4]\n",
    "# optimal_model =  models.LdaModel.load('optimal_model.model')\n",
    "# model_topics = optimal_model.show_topics(formatted=False)\n",
    "# pprint(optimal_model.print_topics(num_words=10))"
   ]
  },
  {
   "cell_type": "code",
   "execution_count": null,
   "metadata": {
    "colab": {},
    "colab_type": "code",
    "id": "8HwVEUDI3L0m"
   },
   "outputs": [],
   "source": []
  }
 ],
 "metadata": {
  "colab": {
   "collapsed_sections": [],
   "name": "DSPT6_LS_DS_414_Topic_Modeling.ipynb",
   "provenance": []
  },
  "kernelspec": {
   "display_name": "U4-S1-NLP",
   "language": "python",
   "name": "u4-s1-nlp"
  },
  "language_info": {
   "codemirror_mode": {
    "name": "ipython",
    "version": 3
   },
   "file_extension": ".py",
   "mimetype": "text/x-python",
   "name": "python",
   "nbconvert_exporter": "python",
   "pygments_lexer": "ipython3",
   "version": "3.7.6"
  }
 },
 "nbformat": 4,
 "nbformat_minor": 4
}
